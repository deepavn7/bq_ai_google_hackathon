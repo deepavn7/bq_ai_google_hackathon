{
  "cells": [
    {
      "cell_type": "markdown",
      "source": [
        "# 🌍 ESG & 💲Financial Intelligence Platform\n",
        "## AI-Powered Analysis of Corporate Reports (ESG And Annual)\n",
        "\n",
        "**🎯 What this does:**\n",
        "- Automatically processes PDF reports from Google Cloud Storage\n",
        "- Uses Gemini 2.5 Pro to extract financial & ESG metrics\n",
        "- Generates forecasts using Google's TimesFM 2.0 model\n",
        "- Analyzes companies: Amgen, Novartis, Target\n",
        "\n",
        "**📊 Features:**\n",
        "- ✅ Automated PDF processing from Cloud Storage\n",
        "- ✅ AI-powered data extraction (Financial + ESG metrics)\n",
        "- ✅ Revenue forecasting with TimesFM 2.0\n",
        "- ✅ Multi-company comparative analysis\n",
        "\n"
      ],
      "metadata": {
        "id": "B4mF9BKbVXq9"
      },
      "id": "B4mF9BKbVXq9"
    },
    {
      "cell_type": "markdown",
      "source": [
        "# 🔑Setup & Authentication"
      ],
      "metadata": {
        "id": "KdGXBO2wqGdM"
      },
      "id": "KdGXBO2wqGdM"
    },
    {
      "cell_type": "code",
      "source": [
        "\n",
        "print(\"🌟 Welcome to the ESG & Financial Intelligence Platform!\")\n",
        "print(\"🔧 Setting up environment...\")\n",
        "\n",
        "# Authenticate with Google Cloud\n",
        "from google.colab import auth\n",
        "auth.authenticate_user()\n",
        "\n",
        "# Install required packages\n",
        "!pip install -q bigframes google-cloud-bigquery plotly seaborn\n",
        "\n",
        "# Import libraries\n",
        "import bigframes.pandas as bpd\n",
        "from google.cloud import bigquery\n",
        "import pandas as pd\n",
        "import plotly.express as px\n",
        "import plotly.graph_objects as go\n",
        "from plotly.subplots import make_subplots\n",
        "import seaborn as sns\n",
        "import matplotlib.pyplot as plt\n",
        "\n",
        "print(\"✅ Authentication complete!\")\n",
        "print(\"✅ Libraries installed!\")"
      ],
      "metadata": {
        "id": "MsdBozKaVcBV",
        "colab": {
          "base_uri": "https://localhost:8080/"
        },
        "outputId": "d456ffca-360d-40f6-f34c-9e5eb85d5ef1"
      },
      "id": "MsdBozKaVcBV",
      "execution_count": 1,
      "outputs": [
        {
          "output_type": "stream",
          "name": "stdout",
          "text": [
            "🌟 Welcome to the ESG & Financial Intelligence Platform!\n",
            "🔧 Setting up environment...\n",
            "\u001b[2K   \u001b[90m━━━━━━━━━━━━━━━━━━━━━━━━━━━━━━━━━━━━━━━━\u001b[0m \u001b[32m1.6/1.6 MB\u001b[0m \u001b[31m23.3 MB/s\u001b[0m eta \u001b[36m0:00:00\u001b[0m\n",
            "\u001b[?25h✅ Authentication complete!\n",
            "✅ Libraries installed!\n"
          ]
        }
      ]
    },
    {
      "cell_type": "markdown",
      "source": [
        "# 🚀 Intializing Parameters"
      ],
      "metadata": {
        "id": "G8ZIpU_YqTKm"
      },
      "id": "G8ZIpU_YqTKm"
    },
    {
      "cell_type": "code",
      "source": [
        "# Replace the below with other company names from this list:\n",
        "# novartis, amgen, target, bankofmontreal, lloyd, wellsfargo\n",
        "\n",
        "company1 = \"bankofmontreal\"\n",
        "company2 =\"none\"\n",
        "company3 = \"none\"\n",
        "\n",
        "DATA_FILES_PATH=\"gs://report_insights/bankofmontreal\"\n",
        "\n",
        "PROJECT_ID = \"intellitrend-project-dev\"   # update if needed\n",
        "PROJECT_LOCATION=\"US\" # Others are EU, ASIA\n",
        "CLOUD_RES_CONN = \"ghack_conn\" #must be all small case\n",
        "\n",
        "\n",
        "DATASET_ID = \"db_reports_insights_annual_esg\" #Name of dataset to be created in BQ\n",
        "OBJ_TABLE_ID = \"all_reports_obj_table_metadata\" #Objec table name. That holds the metadata of the source files in GCS\n",
        "RAW_TABLE_ID=\"all_reports_ai_text_raw\"   # the output text that gets extracted based on prmpt - using ML.GENERATE_TEXT\n",
        "\n",
        "CURATED_TABLE_ID=\"all_reports_ai_text_curated\" # response_text extracted from JSON output\n",
        "CURATED2_TABLE_ID=\"all_reports_ai_text_curated2\" # the output text that gets extracted based on prmpt - using AI.GENERATE (An alternate way - for comparison)\n",
        "\n",
        "FINAL_TABLE_ID=\"all_reports_ai_text_final\" # output metrics info from the curated table - using AI.GENERATE_TABLE\n",
        "\n",
        "METRICS_TABLE_ID = \"all_reports_metrics\"  # format the output final table\n",
        "FORECAST_TABLE_ID=\"all_reports_forecast\" # forecast table from the formatted-output\n",
        "\n",
        "QUALIFIED_CLOUD_RES_CONN = f\"{PROJECT_ID}.{PROJECT_LOCATION}.{CLOUD_RES_CONN}\"\n",
        "\n",
        "QUALIFIED_OBJ_TABLE_ID= f\"{PROJECT_ID}.{DATASET_ID}.{OBJ_TABLE_ID}\"\n",
        "QUALIFIED_RAW_TABLE_ID= f\"{PROJECT_ID}.{DATASET_ID}.{RAW_TABLE_ID}\"\n",
        "\n",
        "QUALIFIED_CURATED_TABLE_ID= f\"{PROJECT_ID}.{DATASET_ID}.{CURATED_TABLE_ID}\"\n",
        "QUALIFIED_CURATED2_TABLE_ID= f\"{PROJECT_ID}.{DATASET_ID}.{CURATED2_TABLE_ID}\"\n",
        "\n",
        "QUALIFIED_METRICS_TABLE_ID= f\"{PROJECT_ID}.{DATASET_ID}.{METRICS_TABLE_ID}\"\n",
        "\n",
        "QUALIFIED_FINAL_TABLE_ID= f\"{PROJECT_ID}.{DATASET_ID}.{FINAL_TABLE_ID}\"\n",
        "QUALIFIED_FORECAST_TABLE_ID= f\"{PROJECT_ID}.{DATASET_ID}.{FORECAST_TABLE_ID}\"\n",
        "\n",
        "MODEL_ENDPOINT=\"gemini-2.5-pro\"\n",
        "MODEL_NAME=\"gemini_model_25pro\"\n",
        "QUALIFIED_MODEL_ID=f\"{PROJECT_ID}.{DATASET_ID}.{MODEL_NAME}\"\n",
        "\n",
        "\n",
        "\n",
        "\n",
        "# --- Bigframes setup ---\n",
        "bpd.options.bigquery.project = PROJECT_ID\n",
        "bpd.options.bigquery.location = PROJECT_LOCATION"
      ],
      "metadata": {
        "id": "j9wXa542JAad"
      },
      "id": "j9wXa542JAad",
      "execution_count": 2,
      "outputs": []
    },
    {
      "cell_type": "markdown",
      "source": [
        "# 🏗️ Project Configuration"
      ],
      "metadata": {
        "id": "xEZ9AjxmqYPW"
      },
      "id": "xEZ9AjxmqYPW"
    },
    {
      "cell_type": "code",
      "source": [
        "\n",
        "from google.colab import userdata\n",
        "\n",
        "# Configure BigFrames\n",
        "bpd.options.bigquery.project = PROJECT_ID\n",
        "bpd.options.bigquery.location = PROJECT_LOCATION\n",
        "\n",
        "# Initialize BigQuery client\n",
        "client = bigquery.Client(project=PROJECT_ID)\n",
        "\n",
        "print(f\"✅ Project configured: {PROJECT_ID}\")\n",
        "print(\"✅ BigFrames ready for action!\")"
      ],
      "metadata": {
        "id": "Jq2mXY6ZWC29",
        "colab": {
          "base_uri": "https://localhost:8080/"
        },
        "outputId": "8159799a-9639-4859-b9c9-4231a36e5709"
      },
      "id": "Jq2mXY6ZWC29",
      "execution_count": 3,
      "outputs": [
        {
          "output_type": "stream",
          "name": "stdout",
          "text": [
            "✅ Project configured: intellitrend-project-dev\n",
            "✅ BigFrames ready for action!\n"
          ]
        }
      ]
    },
    {
      "cell_type": "markdown",
      "source": [
        "# 🔗Create Cloud Resource Connection"
      ],
      "metadata": {
        "id": "ibVYprE2qbYa"
      },
      "id": "ibVYprE2qbYa"
    },
    {
      "cell_type": "code",
      "source": [
        "!bq mk \\\n",
        "  --connection \\\n",
        "  --project_id={PROJECT_ID} \\\n",
        "  --connection_type=CLOUD_RESOURCE \\\n",
        "  --location={PROJECT_LOCATION} \\\n",
        "  {CLOUD_RES_CONN}"
      ],
      "metadata": {
        "id": "-5dp4Ss5BmI_",
        "colab": {
          "base_uri": "https://localhost:8080/"
        },
        "outputId": "e9b5bfa5-2f2b-40f8-c08f-fe4384b705a6"
      },
      "id": "-5dp4Ss5BmI_",
      "execution_count": 27,
      "outputs": [
        {
          "output_type": "stream",
          "name": "stdout",
          "text": [
            "BigQuery error in mk operation: Already Exists: Connection\n",
            "projects/573553606303/locations/us/connections/ghack_conn\n"
          ]
        }
      ]
    },
    {
      "cell_type": "markdown",
      "source": [
        "# 🆔Fetch Service Account associated with the Cloud Res Connection"
      ],
      "metadata": {
        "id": "TJA-cM8fqkea"
      },
      "id": "TJA-cM8fqkea"
    },
    {
      "cell_type": "code",
      "source": [
        "SERVICE_ACCT = !bq show --format=prettyjson \\\n",
        "  --connection \\\n",
        "  --project_id={PROJECT_ID} \\\n",
        "  --location={PROJECT_LOCATION} \\\n",
        "  {CLOUD_RES_CONN} | grep \"serviceAccountId\" | cut -d '\"' -f 4\n",
        "\n",
        "SERVICE_ACCT_EMAIL = SERVICE_ACCT[0]  # first (and only) line\n",
        "print(SERVICE_ACCT_EMAIL)"
      ],
      "metadata": {
        "id": "Br8HeQf8COGv",
        "colab": {
          "base_uri": "https://localhost:8080/"
        },
        "outputId": "76ff64e6-ed61-4667-ca1c-7e2522034f1f"
      },
      "id": "Br8HeQf8COGv",
      "execution_count": 28,
      "outputs": [
        {
          "output_type": "stream",
          "name": "stdout",
          "text": [
            "bqcx-573553606303-2s0n@gcp-sa-bigquery-condel.iam.gserviceaccount.com\n"
          ]
        }
      ]
    },
    {
      "cell_type": "markdown",
      "source": [
        "# 👥Give the below roles to the Conn Service Account:\n",
        "  * objectViewer and  \n",
        "  * aiplatformUser\n",
        "\n"
      ],
      "metadata": {
        "id": "wLTg-1olqrA5"
      },
      "id": "wLTg-1olqrA5"
    },
    {
      "cell_type": "code",
      "source": [
        "import time\n",
        "\n",
        "# Use $SERVICE_ACCT_EMAIL so the Python variable expands in the shell\n",
        "!gcloud projects add-iam-policy-binding {PROJECT_ID} \\\n",
        "    --member=\"serviceAccount:$SERVICE_ACCT_EMAIL\" \\\n",
        "    --role=\"roles/storage.objectViewer\" \\\n",
        "    --format=none\n",
        "\n",
        "!gcloud projects add-iam-policy-binding {PROJECT_ID} \\\n",
        "    --member=\"serviceAccount:$SERVICE_ACCT_EMAIL\" \\\n",
        "    --role=\"roles/aiplatform.user\" \\\n",
        "    --format=none\n",
        "\n",
        "!gcloud projects add-iam-policy-binding {PROJECT_ID} \\\n",
        "    --member=\"serviceAccount:$SERVICE_ACCT_EMAIL\" \\\n",
        "    --role=\"roles/bigquery.connectionUser\" \\\n",
        "    --format=none\n",
        "\n",
        "\n",
        "!gcloud projects add-iam-policy-binding {PROJECT_ID} \\\n",
        "    --member=\"serviceAccount:$SERVICE_ACCT_EMAIL\" \\\n",
        "    --role=\"roles/run.invoker\" \\\n",
        "    --format=none\n",
        "\n",
        "\n",
        "# Wait ~60 seconds for IAM updates to propagate\n",
        "# time.sleep(60)"
      ],
      "metadata": {
        "id": "TOoTQl_iDVNQ",
        "outputId": "eebe9cbd-7e47-46d4-917d-22a5b18010a5",
        "colab": {
          "base_uri": "https://localhost:8080/"
        }
      },
      "id": "TOoTQl_iDVNQ",
      "execution_count": 29,
      "outputs": [
        {
          "output_type": "stream",
          "name": "stdout",
          "text": [
            "Updated IAM policy for project [intellitrend-project-dev].\n",
            "Updated IAM policy for project [intellitrend-project-dev].\n",
            "Updated IAM policy for project [intellitrend-project-dev].\n",
            "Updated IAM policy for project [intellitrend-project-dev].\n"
          ]
        }
      ]
    },
    {
      "cell_type": "markdown",
      "source": [
        "#✦ Create the Gemini Model"
      ],
      "metadata": {
        "id": "zoGn5y3prEO1"
      },
      "id": "zoGn5y3prEO1"
    },
    {
      "cell_type": "code",
      "source": [
        "# 🤖 Step 0a: Create Gemini 2.5 Pro Model\n",
        "print(\"🤖 Creating Gemini 2.5 Pro model...\")\n",
        "\n",
        "create_model_sql = f\"\"\"\n",
        "CREATE OR REPLACE MODEL `{QUALIFIED_MODEL_ID}`\n",
        "REMOTE WITH CONNECTION `{QUALIFIED_CLOUD_RES_CONN}`\n",
        "OPTIONS (ENDPOINT = '{MODEL_ENDPOINT}');\n",
        "\"\"\"\n",
        "\n",
        "try:\n",
        "    job = client.query(create_model_sql)\n",
        "    job.result()\n",
        "    print(\"🎉 Gemini 2.5 Pro model created successfully!\")\n",
        "except Exception as e:\n",
        "    print(f\"⚠️  Model creation issue: {e}\")"
      ],
      "metadata": {
        "id": "8H-B2sKyNRYI",
        "colab": {
          "base_uri": "https://localhost:8080/"
        },
        "outputId": "feaef927-e64e-498f-92e2-7f4a5082a954"
      },
      "id": "8H-B2sKyNRYI",
      "execution_count": 30,
      "outputs": [
        {
          "output_type": "stream",
          "name": "stdout",
          "text": [
            "🤖 Creating Gemini 2.5 Pro model...\n",
            "🎉 Gemini 2.5 Pro model created successfully!\n"
          ]
        }
      ]
    },
    {
      "cell_type": "markdown",
      "source": [
        "# 𝄜 Create **Object Table** for PDF Reports"
      ],
      "metadata": {
        "id": "uN-WN3hwrJQO"
      },
      "id": "uN-WN3hwrJQO"
    },
    {
      "cell_type": "code",
      "source": [
        "print(f\"📁 Creating external table(Object Table): '{OBJ_TABLE_ID}' for PDF reports...\")\n",
        "\n",
        "create_external_table_sql = f\"\"\"\n",
        "CREATE OR REPLACE EXTERNAL TABLE `{QUALIFIED_OBJ_TABLE_ID}`\n",
        "WITH CONNECTION `{QUALIFIED_CLOUD_RES_CONN}`\n",
        "OPTIONS (\n",
        "  object_metadata = 'SIMPLE',\n",
        "  uris = ['{DATA_FILES_PATH}/*']\n",
        ");\n",
        "\"\"\"\n",
        "\n",
        "try:\n",
        "    job = client.query(create_external_table_sql)\n",
        "    job.result()\n",
        "    print(\"✅ External table created successfully!\")\n",
        "\n",
        "    # Check what files we have\n",
        "    check_files_sql = f\"SELECT uri, size FROM `{QUALIFIED_OBJ_TABLE_ID}`  \"\n",
        "    files_df = bpd.read_gbq(check_files_sql)\n",
        "    print(f\"📄 Found {len(files_df)} files in storage\")\n",
        "    print(\"Sample files:\")\n",
        "    print(files_df.head())\n",
        "\n",
        "\n",
        "except Exception as e:\n",
        "    print(f\"⚠️  Note: {e}\")\n",
        "    print(\"   Make sure your GCS bucket and connection are set up correctly\")\n",
        "\n"
      ],
      "metadata": {
        "colab": {
          "base_uri": "https://localhost:8080/",
          "height": 260
        },
        "id": "7YQ_Q-LjIF0U",
        "outputId": "7daba20c-3da9-4126-f39b-ef20cb0d624d"
      },
      "id": "7YQ_Q-LjIF0U",
      "execution_count": 47,
      "outputs": [
        {
          "output_type": "stream",
          "name": "stdout",
          "text": [
            "📁 Creating external table(Object Table): 'all_reports_obj_table_metadata' for PDF reports...\n",
            "✅ External table created successfully!\n",
            "📄 Found 137 files in storage\n",
            "Sample files:\n"
          ]
        },
        {
          "output_type": "display_data",
          "data": {
            "text/plain": [
              "<IPython.core.display.HTML object>"
            ],
            "text/html": [
              "Load job 2c93ffe4-02ca-4a8b-a1cc-00b6debd1b67 is DONE. <a target=\"_blank\" href=\"https://console.cloud.google.com/bigquery?project=intellitrend-project-dev&j=bq:US:2c93ffe4-02ca-4a8b-a1cc-00b6debd1b67&page=queryresults\">Open Job</a>"
            ]
          },
          "metadata": {}
        },
        {
          "output_type": "display_data",
          "data": {
            "text/plain": [
              "<IPython.core.display.HTML object>"
            ],
            "text/html": [
              "Query job 84d894e5-88d1-483d-a4d6-ffa25a484573 is DONE. 12.4 kB processed. <a target=\"_blank\" href=\"https://console.cloud.google.com/bigquery?project=intellitrend-project-dev&j=bq:US:84d894e5-88d1-483d-a4d6-ffa25a484573&page=queryresults\">Open Job</a>"
            ]
          },
          "metadata": {}
        },
        {
          "output_type": "stream",
          "name": "stdout",
          "text": [
            "                                                 uri      size\n",
            "0  gs://report_insights/amgen/amgen_annualreport_...  12663856\n",
            "1  gs://report_insights/amgen/amgen_annualreport_...   3651904\n",
            "2  gs://report_insights/amgen/amgen_annualreport_...   3777808\n",
            "3  gs://report_insights/amgen/amgen_annualreport_...  12725236\n",
            "4  gs://report_insights/amgen/amgen_annualreport_...   8154936\n",
            "\n",
            "[5 rows x 2 columns]\n"
          ]
        }
      ]
    },
    {
      "cell_type": "code",
      "source": [
        "\n",
        "print(f\"֎ Processing PDFs with {MODEL_NAME}...\")\n",
        "print(f\"This analyzes {company1}, {company2}, and {company3} reports...\")\n",
        "\n",
        "generate_text_sql = f\"\"\"\n",
        "CREATE OR REPLACE TABLE `{QUALIFIED_RAW_TABLE_ID}` AS\n",
        "SELECT\n",
        "  *\n",
        "FROM\n",
        "  ML.GENERATE_TEXT(\n",
        "    MODEL `{QUALIFIED_MODEL_ID}`,\n",
        "    (\n",
        "      SELECT *\n",
        "      FROM `{QUALIFIED_OBJ_TABLE_ID}`\n",
        "      WHERE uri LIKE '%{company1}%'\n",
        "         OR uri LIKE '%{company2}%'\n",
        "         OR uri LIKE '%{company3}%'\n",
        "    ),\n",
        "    STRUCT(\n",
        "      '''\n",
        "        You are an expert ESG and Financial analyst. Use only the information provided in the document to answer.\n",
        "        Fetch Financial and Sustainability Details including tabular and image data for each PDF.\n",
        "        Ensure you fetch complete detailed information and metrics to answer any questions from the below sections:\n",
        "        - Investor questions related to Financial Performance:\n",
        "          - Balance Sheet & Liquidity\n",
        "          - Business Strategy\n",
        "          - Risk Factors\n",
        "          - Governance & Leadership\n",
        "          - Shareholder Value\n",
        "        - Investor questions related to  ESG/Climate/Sustainability:\n",
        "          - Environmental\n",
        "          - Social\n",
        "          - Governance (ESG-specific)\n",
        "          - Risk & Opportunity\n",
        "      ''' AS prompt,\n",
        "\n",
        "      0 AS temperature,\n",
        "      8092 AS max_output_tokens\n",
        "    )\n",
        "  );\n",
        "\n",
        "\"\"\"\n",
        "#print(\"\\n\\n the SQL \\n\\n\", generate_text_sql)\n",
        "try:\n",
        "    print(\"⏳ Processing... This may take 2-3 minutes\")\n",
        "    job = client.query(generate_text_sql)\n",
        "    job.result()\n",
        "\n",
        "    # Check results\n",
        "    check_sql = f\"SELECT COUNT(*) as processed_files FROM `{QUALIFIED_RAW_TABLE_ID}`\"\n",
        "    result = client.query(check_sql).result()\n",
        "    count = list(result)[0][0]\n",
        "    print(f\"✅ Successfully processed {count} files!\")\n",
        "\n",
        "except Exception as e:\n",
        "    print(f\"⚠️  Processing issue: {e}\")"
      ],
      "metadata": {
        "id": "GEgAVAEueQF5",
        "outputId": "da540c43-4253-472b-938d-3b00737b815d",
        "colab": {
          "base_uri": "https://localhost:8080/"
        }
      },
      "id": "GEgAVAEueQF5",
      "execution_count": 6,
      "outputs": [
        {
          "output_type": "stream",
          "name": "stdout",
          "text": [
            "֎ Processing PDFs with gemini_model_25pro...\n",
            "This analyzes bankofmontreal, wellsfargo, and jpmorganchase reports...\n",
            "⏳ Processing... This may take 2-3 minutes\n",
            "✅ Successfully processed 32 files!\n"
          ]
        }
      ]
    },
    {
      "cell_type": "markdown",
      "source": [
        "#  ֎ Extract Financial & ESG Data - Using ML.GENERATE_TEXT"
      ],
      "metadata": {
        "id": "vyuEomOKrU84"
      },
      "id": "vyuEomOKrU84"
    },
    {
      "cell_type": "code",
      "source": [
        "\n",
        "print(f\"֎ Processing PDFs with {MODEL_NAME}...\")\n",
        "print(f\"This analyzes {company1}, {company2}, and {company3} reports...\")\n",
        "\n",
        "generate_text_sql = f\"\"\"\n",
        "CREATE OR REPLACE TABLE `{QUALIFIED_RAW_TABLE_ID}` AS (\n",
        "SELECT\n",
        "  *\n",
        "FROM\n",
        "  ML.GENERATE_TEXT(\n",
        "    MODEL `{QUALIFIED_MODEL_ID}`,\n",
        "    TABLE `{QUALIFIED_OBJ_TABLE_ID}`,\n",
        "    STRUCT(\n",
        "      '''\n",
        "        You are an expert ESG and Financial analyst. Use only the information provided in the document to answer.\n",
        "        Fetch Financial and Sustainability Details including tabular and image data for each PDF.\n",
        "        Read the filename. If it is a sustainability report, please get only ESG details. If it is an annual report, get just the financials as below.\n",
        "        Ensure you fetch details so it has answers for the below and only if company name is like {company1} or {company2} or {company3}:\n",
        "        Financial Performance\n",
        "        What is the total revenue this year?\n",
        "        How has revenue changed compared to last year?\n",
        "        What is the net profit or loss?\n",
        "        How have the earnings per share (EPS) changed?\n",
        "        Are gross margins improving or declining?\n",
        "        Are operating margins stable or volatile?\n",
        "        How has net margin shifted year over year?\n",
        "        Is cash flow from operations positive and consistent?\n",
        "        How much free cash flow is available?\n",
        "        How are working capital levels trending?\n",
        "        Balance Sheet & Liquidity\n",
        "        What is the total debt level?\n",
        "        Is the debt-to-equity ratio rising or falling?\n",
        "        Does the company have enough liquidity to cover short-term liabilities?\n",
        "        What is the current ratio and quick ratio?\n",
        "        How much cash and equivalents are available?\n",
        "        Are interest expenses sustainable?\n",
        "        How sensitive is the company to interest rate changes?\n",
        "        What is the level of contingent liabilities?\n",
        "        Business Strategy\n",
        "        What are the company’s core growth initiatives?\n",
        "        Is management investing in new markets or products?\n",
        "        How much is spent on research and development (R&D)?\n",
        "        Are acquisitions or divestitures planned?\n",
        "        Is the company expanding geographically?\n",
        "        What is the company’s competitive advantage?\n",
        "        Is the advantage sustainable against competitors?\n",
        "        Is digital transformation a core part of the strategy?\n",
        "        Risk Factors\n",
        "        What macroeconomic risks affect the business?\n",
        "        What industry-specific risks are highlighted?\n",
        "        What operational risks are disclosed?\n",
        "        Are supply chain risks material?\n",
        "        Are legal or regulatory risks mentioned?\n",
        "        How is foreign exchange risk managed?\n",
        "        How dependent is revenue on a few customers?\n",
        "        Are raw material price risks significant?\n",
        "        Governance & Leadership\n",
        "        Is the board majority independent?\n",
        "        How many women or minorities are on the board?\n",
        "        Is executive compensation performance-linked?\n",
        "        Does management own significant equity?\n",
        "        Are shareholder rights well protected?\n",
        "        Is succession planning disclosed?\n",
        "        Has management delivered on past promises?\n",
        "        Is the auditor independent and credible?\n",
        "        Shareholder Value\n",
        "        Is the company paying dividends?\n",
        "        Is the dividend payout sustainable?\n",
        "        Is the dividend policy clear?\n",
        "        Are share buybacks taking place?\n",
        "        Is return on equity (ROE) improving?\n",
        "        Is return on assets (ROA) stable?\n",
        "        Has shareholder equity grown consistently?\n",
        "        What is the earnings guidance for next year?\n",
        "        Investor Questions – Sustainability Reports\n",
        "        Environmental\n",
        "        What is the total Scope 1 emissions?\n",
        "        What is the total Scope 2 emissions?\n",
        "        What is the total Scope 3 emissions?\n",
        "        Are science-based targets disclosed?\n",
        "        Has the company committed to net-zero?\n",
        "        What percentage of energy is renewable?\n",
        "        Is energy efficiency improving year over year?\n",
        "        What is the total water withdrawal?\n",
        "        What is water recycled or reused?\n",
        "        Is the company exposed to water stress?\n",
        "        How much total waste is generated?\n",
        "        How much waste is recycled or diverted from landfill?\n",
        "        Are hazardous waste levels disclosed?\n",
        "        How sustainable are raw material sourcing practices?\n",
        "        Are biodiversity risks addressed?\n",
        "        Social\n",
        "        What is the total workforce size?\n",
        "        What percentage of employees are women?\n",
        "        What percentage of leadership roles are held by women?\n",
        "        What is minority representation in the workforce?\n",
        "        What is the employee turnover rate?\n",
        "        How many workplace injuries occurred?\n",
        "        What is the lost-time injury frequency rate?\n",
        "        Are labor rights respected across the supply chain?\n",
        "        Is child labor risk disclosed in supply chains?\n",
        "        Are employee training hours increasing per year?\n",
        "        Are wages above local living wage levels?\n",
        "        Is there employee engagement survey data?\n",
        "        What community development initiatives exist?\n",
        "        What philanthropic contributions were made?\n",
        "        Is there disclosure on data privacy and cybersecurity?\n",
        "        Governance (ESG-specific)\n",
        "        Is there a dedicated board ESG committee?\n",
        "        How often does the board review ESG matters?\n",
        "        Is ESG risk included in enterprise risk management?\n",
        "        Is executive compensation tied to ESG goals?\n",
        "        Are ESG targets linked to management incentives?\n",
        "        Is ESG performance externally assured?\n",
        "        Are ESG disclosures aligned with GRI or SASB?\n",
        "        Does the company report under TCFD or ISSB?\n",
        "        Is CDP reporting publicly available?\n",
        "        Are stakeholder engagement practices disclosed?\n",
        "        Risk & Opportunity\n",
        "        What are the identified physical climate risks?\n",
        "        What are the identified transition risks?\n",
        "        Is there disclosure on carbon pricing exposure?\n",
        "        How dependent is revenue on carbon-intensive activities?\n",
        "        What sustainability-linked opportunities are identified?\n",
        "        Are green products or services generating revenue?\n",
        "        Is access to sustainable finance increasing?\n",
        "        Are suppliers evaluated for ESG performance?\n",
        "        Are ESG clauses included in supplier contracts?\n",
        "        Is there disclosure on product lifecycle impacts?\n",
        "      ''' AS prompt,\n",
        "\n",
        "      0 AS temperature,\n",
        "      8092 AS max_output_tokens\n",
        "    )\n",
        "  )\n",
        "WHERE uri like '%{company1}%' or uri like '%{company2}%' or  uri like '%{company3}%'\n",
        ");\n",
        "\"\"\"\n",
        "#print(\"\\n\\n the SQL \\n\\n\", generate_text_sql)\n",
        "try:\n",
        "    print(\"⏳ Processing... This may take 2-3 minutes\")\n",
        "    job = client.query(generate_text_sql)\n",
        "    job.result()\n",
        "\n",
        "    # Check results\n",
        "    check_sql = f\"SELECT COUNT(*) as processed_files FROM `{QUALIFIED_RAW_TABLE_ID}`\"\n",
        "    result = client.query(check_sql).result()\n",
        "    count = list(result)[0][0]\n",
        "    print(f\"✅ Successfully processed {count} files!\")\n",
        "\n",
        "except Exception as e:\n",
        "    print(f\"⚠️  Processing issue: {e}\")"
      ],
      "metadata": {
        "id": "BHfkpWRwZ7Lw",
        "outputId": "f7ddefe5-4f2b-4c26-a1e2-15a9c7c2bfd4",
        "colab": {
          "base_uri": "https://localhost:8080/"
        }
      },
      "id": "BHfkpWRwZ7Lw",
      "execution_count": 48,
      "outputs": [
        {
          "output_type": "stream",
          "name": "stdout",
          "text": [
            "֎ Processing PDFs with gemini_model_25pro...\n",
            "This analyzes bankofmontreal, wellsfargo, and jpmorganchase reports...\n",
            "⏳ Processing... This may take 2-3 minutes\n",
            "✅ Successfully processed 32 files!\n"
          ]
        }
      ]
    },
    {
      "cell_type": "markdown",
      "source": [
        "### *Alternate Method to ML.GENERATE_TEXT:*\n",
        "# ֎Extract Financial & ESG Data - using AI.GENERATE"
      ],
      "metadata": {
        "id": "hNh4AXmOv2UI"
      },
      "id": "hNh4AXmOv2UI"
    },
    {
      "cell_type": "code",
      "source": [
        "\n",
        "print(f\"🧠 Processing PDFs with {MODEL_NAME}...\")\n",
        "print(f\"This analyzes {company1}, {company2}, and {company3} reports...\")\n",
        "\n",
        "generate_text_sql2 = f\"\"\"\n",
        "CREATE OR REPLACE TABLE `{QUALIFIED_CURATED2_TABLE_ID}` AS\n",
        "SELECT\n",
        "  uri,\n",
        "  AI.GENERATE(\n",
        "    CONCAT(\n",
        " \"You are an expert ESG and Financial analyst. Use only the information provided in the document to answer.\\n\",\n",
        "\"Fetch Financial and Sustainability Details including tabular and image data for each PDF.\\n\",\n",
        "\"Ensure you fetch details so it has answers for the below: fetch as-it-is. Donot format\",\n",
        "\"Read the filename. If its a sustainability report, please get only ESG details. And if its an annual report, get just the financials as below:\",\n",
        "\"Financial Performance\\n\",\n",
        "\"What is the total revenue this year?\\n\",\n",
        "\"How has revenue changed compared to last year?\\n\",\n",
        "\"What is the net profit or loss?\\n\",\n",
        "\"How have the earnings per share (EPS) changed?\\n\",\n",
        "\"Are gross margins improving or declining?\\n\",\n",
        "\"Are operating margins stable or volatile?\\n\",\n",
        "\"How has net margin shifted year over year?\\n\",\n",
        "\"Is cash flow from operations positive and consistent?\\n\",\n",
        "\"How much free cash flow is available?\\n\",\n",
        "\"How are working capital levels trending?\\n\\n\",\n",
        "\n",
        "\"Balance Sheet & Liquidity\\n\",\n",
        "\"What is the total debt level?\\n\",\n",
        "\"Is the debt-to-equity ratio rising or falling?\\n\",\n",
        "\"Does the company have enough liquidity to cover short-term liabilities?\\n\",\n",
        "\"What is the current ratio and quick ratio?\\n\",\n",
        "\"How much cash and equivalents are available?\\n\",\n",
        "\"Are interest expenses sustainable?\\n\",\n",
        "\"How sensitive is the company to interest rate changes?\\n\",\n",
        "\"What is the level of contingent liabilities?\\n\\n\",\n",
        "\n",
        "\"Business Strategy\\n\",\n",
        "\"What are the company’s core growth initiatives?\\n\",\n",
        "\"Is management investing in new markets or products?\\n\",\n",
        "\"How much is spent on research and development (R&D)?\\n\",\n",
        "\"Are acquisitions or divestitures planned?\\n\",\n",
        "\"Is the company expanding geographically?\\n\",\n",
        "\"What is the company’s competitive advantage?\\n\",\n",
        "\"Is the advantage sustainable against competitors?\\n\",\n",
        "\"Is digital transformation a core part of the strategy?\\n\\n\",\n",
        "\n",
        "\"Risk Factors\\n\",\n",
        "\"What macroeconomic risks affect the business?\\n\",\n",
        "\"What industry-specific risks are highlighted?\\n\",\n",
        "\"What operational risks are disclosed?\\n\",\n",
        "\"Are supply chain risks material?\\n\",\n",
        "\"Are legal or regulatory risks mentioned?\\n\",\n",
        "\"How is foreign exchange risk managed?\\n\",\n",
        "\"How dependent is revenue on a few customers?\\n\",\n",
        "\"Are raw material price risks significant?\\n\\n\",\n",
        "\n",
        "\"Governance & Leadership\\n\",\n",
        "\"Is the board majority independent?\\n\",\n",
        "\"How many women or minorities are on the board?\\n\",\n",
        "\"Is executive compensation performance-linked?\\n\",\n",
        "\"Does management own significant equity?\\n\",\n",
        "\"Are shareholder rights well protected?\\n\",\n",
        "\"Is succession planning disclosed?\\n\",\n",
        "\"Has management delivered on past promises?\\n\",\n",
        "\"Is the auditor independent and credible?\\n\\n\",\n",
        "\n",
        "\"Shareholder Value\\n\",\n",
        "\"Is the company paying dividends?\\n\",\n",
        "\"Is the dividend payout sustainable?\\n\",\n",
        "\"Is the dividend policy clear?\\n\",\n",
        "\"Are share buybacks taking place?\\n\",\n",
        "\"Is return on equity (ROE) improving?\\n\",\n",
        "\"Is return on assets (ROA) stable?\\n\",\n",
        "\"Has shareholder equity grown consistently?\\n\",\n",
        "\"What is the earnings guidance for next year?\\n\\n\",\n",
        "\n",
        "\"Investor Questions – Sustainability Reports\\n\\n\",\n",
        "\n",
        "\"Environmental\\n\",\n",
        "\"What is the total Scope 1 emissions?\\n\",\n",
        "\"What is the total Scope 2 emissions?\\n\",\n",
        "\"What is the total Scope 3 emissions?\\n\",\n",
        "\"Are science-based targets disclosed?\\n\",\n",
        "\"Has the company committed to net-zero?\\n\",\n",
        "\"What percentage of energy is renewable?\\n\",\n",
        "\"Is energy efficiency improving year over year?\\n\",\n",
        "\"What is the total water withdrawal?\\n\",\n",
        "\"What is water recycled or reused?\\n\",\n",
        "\"Is the company exposed to water stress?\\n\",\n",
        "\"How much total waste is generated?\\n\",\n",
        "\"How much waste is recycled or diverted from landfill?\\n\",\n",
        "\"Are hazardous waste levels disclosed?\\n\",\n",
        "\"How sustainable are raw material sourcing practices?\\n\",\n",
        "\"Are biodiversity risks addressed?\\n\\n\",\n",
        "\n",
        "\"Social\\n\",\n",
        "\"What is the total workforce size?\\n\",\n",
        "\"What percentage of employees are women?\\n\",\n",
        "\"What percentage of leadership roles are held by women?\\n\",\n",
        "\"What is minority representation in the workforce?\\n\",\n",
        "\"What is the employee turnover rate?\\n\",\n",
        "\"How many workplace injuries occurred?\\n\",\n",
        "\"What is the lost-time injury frequency rate?\\n\",\n",
        "\"Are labor rights respected across the supply chain?\\n\",\n",
        "\"Is child labor risk disclosed in supply chains?\\n\",\n",
        "\"Are employee training hours increasing per year?\\n\",\n",
        "\"Are wages above local living wage levels?\\n\",\n",
        "\"Is there employee engagement survey data?\\n\",\n",
        "\"What community development initiatives exist?\\n\",\n",
        "\"What philanthropic contributions were made?\\n\",\n",
        "\"Is there disclosure on data privacy and cybersecurity?\\n\\n\",\n",
        "\n",
        "\"Governance (ESG-specific)\\n\",\n",
        "\"Is there a dedicated board ESG committee?\\n\",\n",
        "\"How often does the board review ESG matters?\\n\",\n",
        "\"Is ESG risk included in enterprise risk management?\\n\",\n",
        "\"Is executive compensation tied to ESG goals?\\n\",\n",
        "\"Are ESG targets linked to management incentives?\\n\",\n",
        "\"Is ESG performance externally assured?\\n\",\n",
        "\"Are ESG disclosures aligned with GRI or SASB?\\n\",\n",
        "\"Does the company report under TCFD or ISSB?\\n\",\n",
        "\"Is CDP reporting publicly available?\\n\",\n",
        "\"Are stakeholder engagement practices disclosed?\\n\\n\",\n",
        "\n",
        "\"Risk & Opportunity\\n\",\n",
        "\"What are the identified physical climate risks?\\n\",\n",
        "\"What are the identified transition risks?\\n\",\n",
        "\"Is there disclosure on carbon pricing exposure?\\n\",\n",
        "\"How dependent is revenue on carbon-intensive activities?\\n\",\n",
        "\"What sustainability-linked opportunities are identified?\\n\",\n",
        "\"Are green products or services generating revenue?\\n\",\n",
        "\"Is access to sustainable finance increasing?\\n\",\n",
        "\"Are suppliers evaluated for ESG performance?\\n\",\n",
        "\"Are ESG clauses included in supplier contracts?\\n\",\n",
        "\"Is there disclosure on product lifecycle impacts?\\n\"\n",
        "      \"Open and Read the PDF: \"\n",
        "    ),\n",
        "    connection_id => '{QUALIFIED_CLOUD_RES_CONN}',\n",
        "    endpoint => '{MODEL_ENDPOINT}',\n",
        "    output_schema => 'uri STRING, response_text STRING'\n",
        "  ).response_text AS response_text\n",
        "FROM `{QUALIFIED_RAW_TABLE_ID}`\n",
        "WHERE uri LIKE '%{company1}%' OR uri LIKE '%{company2}%' OR uri LIKE '%{company3}%';\n",
        "\"\"\"\n",
        "\n",
        "      # JSON_VALUE(\n",
        "      #   OBJ.GET_ACCESS_URL(\n",
        "      #     OBJ.MAKE_REF(uri, '{QUALIFIED_CLOUD_RES_CONN}'),\n",
        "      #     'r'\n",
        "      #   ),\n",
        "      #   '$.access_urls.read_url'\n",
        "      # )\n",
        "\n",
        "# try:\n",
        "#     print(\"⏳ Processing... This may take 2-3 minutes\")\n",
        "#     job = client.query(generate_text_sql2)\n",
        "#     job.result()\n",
        "\n",
        "#     # Check results\n",
        "#     check_sql = f\"SELECT COUNT(*) as processed_files FROM `{QUALIFIED_CURATED2_TABLE_ID}`\"\n",
        "#     result = client.query(check_sql).result()\n",
        "#     count = list(result)[0][0]\n",
        "#     print(f\"✅ Successfully processed {count} files!\")\n",
        "\n",
        "# except Exception as e:\n",
        "#     print(f\"⚠️  Processing issue: {e}\")\n"
      ],
      "metadata": {
        "id": "WpdJJYc_uVZ7",
        "colab": {
          "base_uri": "https://localhost:8080/"
        },
        "outputId": "de74b89b-6b03-4400-a0b4-62f3a97c59ea"
      },
      "id": "WpdJJYc_uVZ7",
      "execution_count": 16,
      "outputs": [
        {
          "output_type": "stream",
          "name": "stdout",
          "text": [
            "🧠 Processing PDFs with gemini_model_25pro...\n",
            "This analyzes novartis, wellsfargo, and unitedhealth reports...\n",
            "⏳ Processing... This may take 2-3 minutes\n",
            "✅ Successfully processed 32 files!\n"
          ]
        }
      ]
    },
    {
      "cell_type": "markdown",
      "source": [
        "# 🧹 Extract Clean Text Response"
      ],
      "metadata": {
        "id": "Ct2UPyXMrnbD"
      },
      "id": "Ct2UPyXMrnbD"
    },
    {
      "cell_type": "code",
      "source": [
        "\n",
        "print(\"🧹 Cleaning and extracting response text...\")\n",
        "\n",
        "curate_results_sql = f\"\"\"\n",
        "CREATE OR REPLACE TABLE `{QUALIFIED_CURATED_TABLE_ID}` AS\n",
        "SELECT *,\n",
        "  ARRAY_TO_STRING(\n",
        "    ARRAY(\n",
        "      SELECT JSON_VALUE(part, '$.text')\n",
        "      FROM UNNEST(JSON_QUERY_ARRAY(\n",
        "        JSON_QUERY(ml_generate_text_result, '$.candidates[0].content.parts')\n",
        "      )) AS part\n",
        "    ),\n",
        "    ''\n",
        "  ) AS response_text\n",
        "FROM\n",
        "  `{QUALIFIED_RAW_TABLE_ID}`;\n",
        "\"\"\"\n",
        "\n",
        "try:\n",
        "    job = client.query(curate_results_sql)\n",
        "    job.result()\n",
        "    print(\"✅ Response text extracted and cleaned!\")\n",
        "\n",
        "    # Show sample of extracted text\n",
        "    sample_sql = f\"\"\"\n",
        "    SELECT uri, LEFT(response_text, 200) as sample_text\n",
        "    FROM `{QUALIFIED_CURATED_TABLE_ID}`\n",
        "    LIMIT 3\n",
        "    \"\"\"\n",
        "    sample_df = bpd.read_gbq(sample_sql)\n",
        "    print(\"\\n📝 Sample extracted text:\")\n",
        "    for _, row in sample_df.iterrows():\n",
        "        print(f\"File: {row['uri']}\")\n",
        "        print(f\"Text: {row['sample_text']}...\\n\")\n",
        "\n",
        "except Exception as e:\n",
        "    print(f\"⚠️  Text extraction issue: {e}\")"
      ],
      "metadata": {
        "id": "_hLB42ZHW1mV",
        "colab": {
          "base_uri": "https://localhost:8080/"
        },
        "outputId": "8e05c2dd-5c2b-4a61-aa9d-3664887c6d23"
      },
      "id": "_hLB42ZHW1mV",
      "execution_count": 7,
      "outputs": [
        {
          "output_type": "stream",
          "name": "stdout",
          "text": [
            "🧹 Cleaning and extracting response text...\n",
            "✅ Response text extracted and cleaned!\n",
            "\n",
            "📝 Sample extracted text:\n",
            "File: gs://report_insights/bankofmontreal/bankofmontreal_sustainabilityreport_2020.pdf\n",
            "Text: ...\n",
            "\n",
            "File: gs://report_insights/wellsfargo/wellsfargo_annualreport_2022.pdf\n",
            "Text: ...\n",
            "\n",
            "File: gs://report_insights/wellsfargo/wellsfargo_annualreport_2023.pdf\n",
            "Text: ...\n",
            "\n"
          ]
        }
      ]
    },
    {
      "cell_type": "markdown",
      "source": [
        "# 📊 Extract Structured Metrics - Using AI.GENERATE_TABLE"
      ],
      "metadata": {
        "id": "7u1iCJairu6y"
      },
      "id": "7u1iCJairu6y"
    },
    {
      "cell_type": "code",
      "source": [
        "\n",
        "print(\"📊 Generating structured financial and ESG metrics...\")\n",
        "\n",
        "generate_table_sql = f\"\"\"\n",
        "CREATE OR REPLACE TABLE `{QUALIFIED_FINAL_TABLE_ID}` AS\n",
        "SELECT *,\n",
        "    DATE(CAST(fiscal_year AS STRING) || \"-01-01\") AS fiscal_year_date,\n",
        "    CASE\n",
        "        WHEN uri LIKE '%{company1}%' THEN '{company1}'\n",
        "        WHEN uri LIKE '%{company2}%' THEN '{company2}'\n",
        "        WHEN uri LIKE '%{company3}%' THEN '{company3}'\n",
        "    END as company_name_formatted\n",
        "FROM (\n",
        "    SELECT *\n",
        "    FROM AI.GENERATE_TABLE(\n",
        "        MODEL `{QUALIFIED_MODEL_ID}`,\n",
        "        (\n",
        "            SELECT CONCAT(\n",
        "                \"You are an expert financial analyst and ESG/Climate analyst. Extract all financial metrics and sustainability metrics and KPIs from the provided text into structured data. \",\n",
        "                \"For Annual reports, focus on getting the financial metrics. And for Sustainability reports focus on getting ESG metrics. \",\n",
        "                \"Normalize numbers by removing commas, spaces, or symbols and convert all money values to dollars. \",\n",
        "                \"TEXT: \",\n",
        "                response_text\n",
        "            ) AS prompt,\n",
        "            response_text as extracted_text,\n",
        "            uri AS uri\n",
        "        FROM `{QUALIFIED_CURATED_TABLE_ID}`\n",
        "        ),\n",
        "        STRUCT(\n",
        "            'uris STRING, report_type STRING, company_name STRING, fiscal_year INT64, revenue_millions FLOAT64, net_income_millions FLOAT64, total_assets_millions FLOAT64, total_liabilities_millions FLOAT64, equity_millions FLOAT64, eps_basic FLOAT64, eps_diluted FLOAT64, dividends_per_share FLOAT64, employee_count INT64, business_segments ARRAY<STRING>, total_ghg_emissions FLOAT64, scope_1_ghg_emissions FLOAT64, scope_2_ghg_emissions FLOAT64, scope_3_ghg_emissions FLOAT64, carbon_intensity FLOAT64, energy_consumption FLOAT64, renewable_energy_usage FLOAT64, water_consumption FLOAT64, waste_generated FLOAT64, waste_recycled FLOAT64, sustainable_financing FLOAT64, reporting_period STRING, page_references ARRAY<STRING>, contexts ARRAY<STRING>, verbatim_quotes ARRAY<STRING>'\n",
        "            AS output_schema,\n",
        "            8192 AS max_output_tokens,\n",
        "            0 AS temperature\n",
        "        )\n",
        "    ) t\n",
        ");\n",
        "\"\"\"\n",
        "\n",
        "try:\n",
        "    print(\"⏳ Structuring data... This may take 3-4 minutes\")\n",
        "    job = client.query(generate_table_sql)\n",
        "    job.result()\n",
        "    print(\"✅ Structured metrics extracted successfully!\")\n",
        "\n",
        "except Exception as e:\n",
        "    print(f\"⚠️  Table generation issue: {e}\")"
      ],
      "metadata": {
        "id": "2QOTj5J1XUW4",
        "colab": {
          "base_uri": "https://localhost:8080/"
        },
        "outputId": "3e1727dd-a4ab-4784-ed65-7d7b5f240488"
      },
      "id": "2QOTj5J1XUW4",
      "execution_count": 8,
      "outputs": [
        {
          "output_type": "stream",
          "name": "stdout",
          "text": [
            "📊 Generating structured financial and ESG metrics...\n",
            "⏳ Structuring data... This may take 3-4 minutes\n",
            "✅ Structured metrics extracted successfully!\n"
          ]
        }
      ]
    },
    {
      "cell_type": "markdown",
      "source": [
        "# Generate Metric Table\n",
        "---\n",
        "\n"
      ],
      "metadata": {
        "id": "QAwsY7BWr0l1"
      },
      "id": "QAwsY7BWr0l1"
    },
    {
      "cell_type": "code",
      "source": [
        "\n",
        "print(\"🔮 Generating metrics table\")\n",
        "\n",
        "metrics_sql = f\"\"\"\n",
        "CREATE OR REPLACE TABLE `{QUALIFIED_METRICS_TABLE_ID}` AS\n",
        "SELECT * FROM\n",
        "    ( SELECT\n",
        "        uri, fiscal_year,\n",
        "        extracted_text, company_name_formatted as company_name,\n",
        "        -- Determine report_type based on URI\n",
        "        CASE\n",
        "            WHEN LOWER(uri) LIKE '%annual%' THEN 'Annual'\n",
        "            WHEN LOWER(uri) LIKE '%sustainability%' THEN 'Sustainability'\n",
        "            ELSE 'Other'\n",
        "        END AS report_type,\n",
        "        fiscal_year_date,\n",
        "        reporting_period ,\n",
        "        -- Financial metrics: keep if Annual, else 0\n",
        "        CASE WHEN LOWER(uri) LIKE '%annual%' THEN revenue_millions ELSE 0 END AS revenue_millions,\n",
        "        CASE WHEN LOWER(uri) LIKE '%annual%' THEN net_income_millions ELSE 0 END AS net_income_millions,\n",
        "        CASE WHEN LOWER(uri) LIKE '%annual%' THEN total_assets_millions ELSE 0 END AS total_assets_millions,\n",
        "        CASE WHEN LOWER(uri) LIKE '%annual%' THEN total_liabilities_millions ELSE 0 END AS total_liabilities_millions,\n",
        "        CASE WHEN LOWER(uri) LIKE '%annual%' THEN equity_millions ELSE 0 END AS equity_millions,\n",
        "        CASE WHEN LOWER(uri) LIKE '%annual%' THEN dividends_per_share ELSE 0 END AS dividends_per_share,\n",
        "        CASE WHEN LOWER(uri) LIKE '%annual%' THEN eps_basic ELSE 0 END AS eps_basic,\n",
        "        CASE WHEN LOWER(uri) LIKE '%annual%' THEN eps_diluted ELSE 0 END AS eps_diluted,\n",
        "        CASE WHEN LOWER(uri) LIKE '%annual%' THEN employee_count ELSE 0 END AS employee_count,\n",
        "        CASE WHEN LOWER(uri) LIKE '%annual%' THEN sustainable_financing ELSE 0 END AS sustainable_financing,\n",
        "\n",
        "        -- Sustainability metrics: keep if Sustainability report, else 0\n",
        "        CASE WHEN LOWER(uri) LIKE '%sustainability%' THEN carbon_intensity ELSE 0 END AS carbon_intensity,\n",
        "        CASE WHEN LOWER(uri) LIKE '%sustainability%' THEN energy_consumption ELSE 0 END AS energy_consumption,\n",
        "        CASE WHEN LOWER(uri) LIKE '%sustainability%' THEN renewable_energy_usage ELSE 0 END AS renewable_energy_usage,\n",
        "        CASE WHEN LOWER(uri) LIKE '%sustainability%' THEN scope_1_ghg_emissions ELSE 0 END AS scope_1_ghg_emissions,\n",
        "        CASE WHEN LOWER(uri) LIKE '%sustainability%' THEN scope_2_ghg_emissions ELSE 0 END AS scope_2_ghg_emissions,\n",
        "        CASE WHEN LOWER(uri) LIKE '%sustainability%' THEN scope_3_ghg_emissions ELSE 0 END AS scope_3_ghg_emissions,\n",
        "        CASE WHEN LOWER(uri) LIKE '%sustainability%' THEN total_ghg_emissions ELSE 0 END AS total_ghg_emissions,\n",
        "        CASE WHEN LOWER(uri) LIKE '%sustainability%' THEN water_consumption ELSE 0 END AS water_consumption,\n",
        "        CASE WHEN LOWER(uri) LIKE '%sustainability%' THEN waste_generated ELSE 0 END AS waste_generated,\n",
        "        CASE WHEN LOWER(uri) LIKE '%sustainability%' THEN waste_recycled ELSE 0 END AS waste_recycled\n",
        "\n",
        "     FROM `{QUALIFIED_FINAL_TABLE_ID}`\n",
        "     ) t\n",
        "-- WHERE report_type != 'Annual';\n",
        "\n",
        "\"\"\"\n",
        "\n",
        "print(\"⏳ fetching metrics...\")\n",
        "job = client.query(metrics_sql)\n",
        "job.result()\n",
        "print(\"✅ Metrics table created successfully!\")"
      ],
      "metadata": {
        "colab": {
          "base_uri": "https://localhost:8080/"
        },
        "id": "ThCi0WF28s_6",
        "outputId": "6b9d604c-a731-44ee-c356-c531d302cdc7"
      },
      "id": "ThCi0WF28s_6",
      "execution_count": 9,
      "outputs": [
        {
          "output_type": "stream",
          "name": "stdout",
          "text": [
            "🔮 Generating metrics table\n",
            "⏳ fetching metrics...\n",
            "✅ Metrics table created successfully!\n"
          ]
        }
      ]
    },
    {
      "cell_type": "markdown",
      "source": [
        "# Output 1\n",
        "### Financial/ESG Details for pre-defined questions for selected company and fiscal_year and report type"
      ],
      "metadata": {
        "id": "m94nToNTEGmE"
      },
      "id": "m94nToNTEGmE"
    },
    {
      "cell_type": "code",
      "source": [
        "from IPython.display import display, Markdown\n",
        "\n",
        "\n",
        "# --- Load your BigQuery table ---\n",
        "#df = bpd.read_gbq(f\"{QUALIFIED_METRICS_TABLE_ID}\")\n",
        "metrics_sql1 = f\"\"\"\n",
        "SELECT *\n",
        "FROM `{QUALIFIED_METRICS_TABLE_ID}`\n",
        "\"\"\"\n",
        "df = bpd.read_gbq(metrics_sql1)\n",
        "\n",
        "# --- Choose which report to display ---\n",
        "company = \"wellsfargo\"\n",
        "year = 2023\n",
        "rtype = \"Annual\"   # \"Annual\" or \"Sustainability Report\"\n",
        "\n",
        "# --- Filter ---\n",
        "filtered = df[\n",
        "    (df[\"company_name\"] == company)\n",
        "    & (df[\"fiscal_year\"] == year)\n",
        "    & (df[\"report_type\"] == rtype)\n",
        "]\n",
        "\n",
        "# --- Display pretty ---\n",
        "if not filtered.empty:\n",
        "    text = filtered[\"extracted_text\"].iloc[0]\n",
        "    display(Markdown(text))\n",
        "else:\n",
        "    print(\"No report found for that selection.\")\n",
        "\n",
        "\n",
        "# --- Grab the first row (or loop if multiple) ---\n",
        "text = df[\"extracted_text\"].iloc[0]\n",
        "\n",
        "# --- Pretty display in Colab ---\n",
        "print(\"\\n\\n===========================================================================\\n\\n\")\n",
        "display(Markdown(text))"
      ],
      "metadata": {
        "colab": {
          "base_uri": "https://localhost:8080/",
          "height": 1000
        },
        "id": "GvZ-uUFN_ow6",
        "outputId": "ac75208a-e4d9-4775-dffd-fc5e98474446"
      },
      "id": "GvZ-uUFN_ow6",
      "execution_count": 11,
      "outputs": [
        {
          "output_type": "display_data",
          "data": {
            "text/plain": [
              "<IPython.core.display.HTML object>"
            ],
            "text/html": [
              "Load job de341f3e-9dbf-4dd1-ba6c-195252ee3b2a is DONE. <a target=\"_blank\" href=\"https://console.cloud.google.com/bigquery?project=intellitrend-project-dev&j=bq:US:de341f3e-9dbf-4dd1-ba6c-195252ee3b2a&page=queryresults\">Open Job</a>"
            ]
          },
          "metadata": {}
        },
        {
          "output_type": "display_data",
          "data": {
            "text/plain": [
              "<IPython.core.display.Markdown object>"
            ],
            "text/markdown": ""
          },
          "metadata": {}
        },
        {
          "output_type": "stream",
          "name": "stdout",
          "text": [
            "\n",
            "\n",
            "===========================================================================\n",
            "\n",
            "\n"
          ]
        },
        {
          "output_type": "display_data",
          "data": {
            "text/plain": [
              "<IPython.core.display.Markdown object>"
            ],
            "text/markdown": "Based on my analysis of the JPMorgan Chase & Co. 2020 Annual Report, here are the detailed financial and sustainability insights you requested.\n\n### **Investor Questions related to Financial Performance**\n\n#### **1. Balance Sheet & Liquidity**\n\nJPMorgan Chase emphasizes a \"fortress balance sheet\" philosophy, designed to maintain stability through economic volatility. This strategy focuses on strong capital and robust liquidity.\n\n**Key Balance Sheet & Liquidity Metrics (as of Dec 31, 2020):**\n*   **Total Assets:** $3.4 trillion\n*   **Total Deposits:** $2.1 trillion\n*   **Total Stockholders' Equity:** $279.4 billion\n*   **Common Equity Tier 1 (CET1) Capital Ratio:** 13.1%\n*   **Liquidity Coverage Ratio (LCR):** 110% (average)\n*   **Total Liquidity Sources:** Approximately $1.4 trillion, including High-Quality Liquid Assets (HQLA) and unencumbered marketable securities.\n\n**Financial Highlights Table (Page 2):**\nThis table provides a three-year overview of key financial data.\n\n| Selected balance sheet data (period-end, in millions) | 2020 | 2019 | 2018 |\n| :--- | :--- | :--- | :--- |\n| Loans | $1,012,853 | $997,620 | $1,015,760 |\n| Total assets | $3,386,071 | $2,687,379 | $2,622,532 |\n| Deposits | $2,144,257 | $1,562,431 | $1,470,666 |\n| Common stockholders' equity | $249,291 | $234,337 | $230,447 |\n| Total stockholders' equity | $279,354 | $261,330 | $256,515 |\n\n| Selected ratios | 2020 | 2019 | 2018 |\n| :--- | :--- | :--- | :--- |\n| Liquidity coverage ratio (average) | 110% | 116% | 113% |\n| Common equity Tier 1 capital ratio | 13.1% | 12.4% | 12.0% |\n| Tier 1 capital ratio | 15.0% | 14.1% | 13.7% |\n| Total capital ratio | 17.3% | 16.0% | 15.5% |\n\n**Fortress Balance Sheet Evolution (Page 11):**\nThe firm highlights the significant strengthening of its balance sheet since the 2008 financial crisis.\n\n\n\n*   **CET1 Capital:** Increased by **$118B** from $84B in 2008 to **$202B** in 2020.\n*   **Total Assets:** Grew by **$1.2T** to **$3.4T** in 2020.\n*   **Liquidity:** Increased by over **$1.1T** to **$1.437T** in 2020.\n\n---\n#### **2. Business Strategy**\n\nThe firm's strategy is centered on operating four market-leading, synergistic business segments. It aims to leverage its scale, brand, and balance sheet to drive organic growth while making significant investments in technology, products, and people. A key part of the 2020 strategy was adapting to the competitive landscape, which includes aggressive adaptation to challenges from fintech and Big Tech.\n\n**Business Segments (Page 90):**\n1.  **Consumer & Community Banking (CCB):** Serves over 63 million U.S. households and 4.3 million small businesses. Key products include deposits, investments, credit cards, home and auto loans.\n2.  **Corporate & Investment Bank (CIB):** A global leader in investment banking, market-making, prime brokerage, and treasury/securities services for corporations, investors, and governments.\n3.  **Commercial Banking (CB):** Provides financial solutions to ~18,000 commercial and industrial clients and ~33,000 real estate owners and investors.\n4.  **Asset & Wealth Management (AWM):** A global leader with $3.7 trillion in client assets, serving institutional, retail, and high-net-worth individuals.\n\n**Long-Term Franchise Growth (Page 8):**\nThe firm tracks long-term growth across its franchises. The table below shows selected metrics demonstrating this growth from 2006 to 2020.\n\n| Selected Metric | 2006 | 2020 |\n| :--- | :--- | :--- |\n| **Consumer & Community Banking** | | |\n| Active mobile customers (M) | — | 40.9 |\n| Deposits market share | 3.6% | 9.8% |\n| Credit card sales market share | 16% | 22% |\n| **Corporate & Investment Bank** | | |\n| Global investment banking fees market share | 8.7% (#2) | 9.2% (#1) |\n| Total Markets revenue market share | 6.3% (#8) | 12.9% (#1) |\n| **Commercial Banking** | | |\n| Average loans ($B) | $53.6 | $218.9 |\n| Gross investment banking revenue ($B) | $0.7 | $3.3 |\n| **Asset & Wealth Management** | | |\n| Global Funds AUM ($T) | $0.3 | $0.8 |\n| Global Private Bank client assets ($T) | $0.5 | $1.6 |\n\n**Strategic Response to COVID-19 (Page 39):**\nThe firm's strategy in 2020 was heavily influenced by the pandemic. It focused on supporting the \"real economy\" by:\n*   Raising **$2.3 trillion** in capital and credit for customers.\n*   Providing over **$40 billion** through the Paycheck Protection Program (PPP).\n*   Delaying payments and refunding fees on over **2 million** accounts.\n*   Committing **$250 million** in global business and philanthropic initiatives.\n\n---\n#### **3. Risk Factors**\n\nThe 2020 report identifies a rapidly evolving and intensely competitive landscape as a primary risk. The firm faces \"enormous competitive threats - from virtually every angle.\"\n\n**Key Risks Identified:**\n1.  **Competition from Non-Banks (Page 29-31):** The firm is playing an \"increasingly smaller role in the financial system\" relative to shadow banks, fintech companies, and Big Tech (Amazon, Apple, Facebook, Google, Walmart). These competitors often operate with different, less stringent regulatory requirements.\n    \n    **Bank vs. Nonbank Regulation (Page 31):**\n    | Bank Requirements | Fintech / Nonbank |\n    | :--- | :--- |\n    | Higher capital requirements | Lower capital requirements, set by market |\n    | Extensive liquidity requirements | No liquidity requirements |\n    | FDIC insurance | No FDIC insurance |\n    | Heavy restrictions on data use | Fewer privacy restrictions, virtually no data restrictions |\n    | Substantial social requirements (CRA) | No social requirements (CRA) |\n    | Lower debit card income (Durbin) | Higher debit card income |\n\n2.  **Technology Transformation (Page 32):** The report states, \"We cannot overemphasize the extraordinary importance of new technology.\" The need to migrate from inflexible \"legacy systems\" to the cloud and adopt AI is presented as an essential, high-stakes transformation required to remain competitive.\n\n3.  **Cyber Risk (Page 34):** This is highlighted as a significant and persistent threat, not just to the bank but to its customers and the broader economy. The firm spends over $600 million a year on cybersecurity.\n\n4.  **Regulatory and Geopolitical Risk (Page 34):**\n    *   **Brexit:** Creates uncertainty and fragmentation for financial services in Europe, likely increasing costs.\n    *   **U.S. Public Policy:** The report dedicates a significant section (pages 49-68) to the risks posed by U.S. policy failures in areas like infrastructure, education, and healthcare, which have led to slow economic growth and rising inequality, threatening American competitiveness.\n\n---\n#### **4. Governance & Leadership**\n\nThe report portrays leadership as being tested and proven by the \"extraordinary year\" of 2020. The governance philosophy is increasingly oriented towards a stakeholder model, balancing the needs of customers, employees, communities, and shareholders.\n\n**Leadership Philosophy (Jamie Dimon, Pages 4-5, 23-28):**\n*   **Crisis Management:** \"Watching events unfold throughout the year, we were keenly focused on what we, as a company, could do to serve.\"\n*   **Long-Term View:** \"While we don't run the company worrying about the stock price in the short run, in the long run our stock price is a measure of the progress we have made over the years.\"\n*   **Key Leadership Traits:** The report emphasizes discipline, data analysis, fortitude, high standards, facing facts, and openness. It advocates for leaders to act as \"coaches and conductors than players\" and to \"skip hierarchy\" to improve speed and accountability.\n\n**Board of Directors and Operating Committee (Page 356):**\nThe report lists the members of the Board of Directors and the Operating Committee, showcasing a breadth of experience from various industries.\n*   **Chairman and CEO:** James Dimon\n*   **Lead Independent Director:** Stephen B. Burke (as of Jan 1, 2021)\n*   **Board Committees:** Audit, Compensation & Management Development, Corporate Governance & Nominating, Risk, Public Responsibility.\n\n![Jamie Dimon, Chairman and CEO](httpse://i.imgur.com/jamie-dimon-photo.png)\n\n---\n#### **5. Shareholder Value**\n\nThe firm delivered strong returns over the long term, outperforming the S&P 500 and S&P Financials Index since the 2004 JPMorgan Chase/Bank One merger. The report argues that consistent investment in people, systems, and products through all economic cycles is the primary driver of this value creation.\n\n**Key Shareholder Metrics (2020):**\n*   **Net Income:** $29.1 billion\n*   **Diluted EPS:** $8.88\n*   **Return on Tangible Common Equity (ROTCE):** 14%\n*   **Book Value per Share:** $81.75\n*   **Cash Dividends Declared per Share:** $3.60\n\n**Long-Term Performance Charts (Page 6):**\nThese charts illustrate the firm's long-term financial progress and its impact on shareholder value.\n\n\n*This chart shows a general upward trend in Net Income and Diluted EPS from 2004 to 2019, with a dip in 2020 due to significant provision for credit losses related to the pandemic.*\n\n\n*This chart shows consistent growth in Tangible Book Value per share, with the average stock price generally tracking this growth over the long term.*\n\n**Stock Total Return Analysis (Page 7):**\n\n| Performance since merger (7/1/2004-12/31/2020) | JPMorgan Chase & Co. | S&P 500 Index | S&P Financials Index |\n| :--- | :--- | :--- | :--- |\n| Compounded annual gain | 10.4% | 9.7% | 3.7% |\n| Overall gain | 412.0% | 362.0% | 82.3% |\n\n### **Investor Questions related to ESG/Climate/Sustainability**\n\n#### **1. Environmental**\n\nJPMorgan Chase acknowledges climate change as a \"critical issue of our time\" and has made significant commitments to support the transition to a low-carbon economy.\n\n**Key Environmental Commitments & Strategy (Pages 3, 21-22):**\n*   **Sustainable Development Goal:** Committed to finance and facilitate **$200 billion** by 2025 to drive action on climate change and advance sustainable development.\n*   **Paris Agreement Alignment:** In 2020, the firm committed to align its financing activities with the goals of the Paris Agreement, starting with the oil and gas, electric power, and automotive manufacturing sectors. It will set 2030 emission reduction targets for these portfolios.\n*   **Carbon Neutral Operations:** The firm achieved its goal of becoming carbon neutral in its own operations in 2020. A key part of this strategy is generating its own power using solar, with plans to install 40 megawatts of solar capacity across corporate buildings and 900 retail branches.\n*   **Center for Carbon Transition:** Launched to provide clients with advisory and financing solutions to help them navigate the energy transition.\n*   **Policy Stance:** The report advocates for a price on carbon, stating \"A carbon tax (with a commensurate carbon dividend...) is an excellent way to dramatically reduce carbon.\"\n\n---\n#### **2. Social**\n\n2020 was a pivotal year for the firm's social initiatives, marked by the launch of a historic commitment to advance racial equity and a comprehensive response to the COVID-19 pandemic.\n\n**The $30 Billion Path Forward Commitment (Pages 3, 19-20):**\nAnnounced in October 2020, this is a five-year, **$30 billion** commitment to address the key drivers of the racial wealth divide and reduce systemic racism against Black and Latinx people. The key pillars are:\n1.  **Promote Affordable Housing & Homeownership:**\n    *   Originate an additional 40,000 home purchase loans for Black and Latinx families (**$8 billion**).\n    *   Help 20,000 Black and Latinx households refinance their mortgages (**$4 billion**).\n    *   Provide a **$5,000** closing cost/down payment grant in 6,700 minority communities.\n2.  **Grow Black- and Latinx-Owned Businesses:**\n    *   A **$350 million**, five-year global commitment combining low-cost loans, equity, and philanthropy.\n    *   Co-investing up to **$200 million** to create a new class of Black and Latinx entrepreneurs in middle-market businesses.\n    *   Spend an additional **$750 million** with Black- and Latinx-owned suppliers.\n3.  **Improve Financial Health in Minority Communities:**\n    *   Help 1 million people open low-cost checking or savings accounts.\n    *   Invest **$75 million** in Black- and Latinx-led Minority Depository Institutions (MDIs) and Community Development Financial Institutions (CDFIs).\n4.  **Support Employees:**\n    *   The report details extensive steps to support employees, including increasing wages for branch and customer service employees to between $16 and $20 an hour, plus an annual benefits package worth about $13,000.\n\n**COVID-19 and Community Support (Pages 3, 39, 85):**\n*   **#1 Bank for COVID-19 Response** according to JUST Capital.\n*   Provided **$2.3 trillion** in credit and capital to consumers and clients, including those in the hardest-hit industries.\n*   Extended **$226 billion** in credit to consumers for homes and vehicles.\n*   Hired approximately **2,100 people** with a criminal background in 2020 (roughly 10% of new U.S. hires), as part of a \"second chance\" initiative.\n\n**Human Rights & Diversity:**\n*   Achieved a **100% score** on the Human Rights Campaign's Corporate Equality Index for the 18th consecutive year.\n*   **63%** of Asset Management AUM is managed by female and/or diverse portfolio managers.\n\n---\n#### **3. Governance (ESG-specific)**\n\nThe firm's governance approach has formally evolved to embrace stakeholder capitalism, moving beyond a singular focus on shareholders. This is codified in its adoption of the Business Roundtable's new \"Statement on the Purpose of a Corporation,\" which Jamie Dimon championed as chair of the association.\n\n**Stakeholder Governance Philosophy (Pages 14-15):**\n*   **Purpose of a Corporation:** The report reprints the full Business Roundtable statement, which commits to delivering value to **all stakeholders**: customers, employees, suppliers, communities, and shareholders.\n*   **Reputation and Trust:** \"To a good company, its reputation is everything. That reputation is earned day in and day out with every interaction with customers and communities.\"\n*   **Ethical Conduct:** The report explicitly condemns unethical behavior, such as a hedge fund causing a default to trigger a CDS, as \"completely unethical.\" It emphasizes that \"Pricing to customers should be what's fair - not what a company can get away with.\"\n\n---\n#### **4. Risk & Opportunity**\n\nThe report frames ESG issues as both material risks to be managed and significant opportunities for long-term value creation.\n\n**Risks:**\n*   **Climate Risk:** The report acknowledges the physical and transition risks of climate change, stating \"our reliance on [fossil fuels] now threatens the very growth they have enabled.\" It also notes the geopolitical and environmental challenges associated with the rare earth minerals needed for technologies like electric vehicles.\n*   **Social & Regulatory Risk:** The report identifies growing inequality and racial injustice as profound societal risks that are \"tearing at the fabric of American society.\" Failure to address these issues is presented as a risk to long-term economic growth and social stability, which directly impacts the firm. The firm also notes the risk of uneven regulation, where non-banks are not held to the same social requirements (e.g., Community Reinvestment Act) as traditional banks.\n*   **Reputation Risk:** The firm's Risk Management framework (page 153) defines reputation risk as an action or inaction that negatively impacts the perception of the firm's integrity. ESG-related issues are a clear component of this risk.\n\n**Opportunities:**\n*   **Sustainable Finance:** The firm sees a \"huge opportunity in sustainable and low-carbon technologies and businesses\" and aims to be a leader in financing the transition. The **$200 billion** sustainable development goal is a primary example.\n*   **Inclusive Growth:** The firm views its **$30 billion** commitment to racial equity as a driver of long-term business success. The report states, \"When everyone has a fair shot at participating... the economy will be stronger, and our society will be better.\" This is positioned as both a moral imperative and a commercial opportunity.\n*   **Product Innovation:** The firm is developing new products and services to meet ESG-related client needs, such as low-cost \"Secure Banking\" accounts for the unbanked and underbanked, and launching its first **$1 billion social bond** to expand affordable housing."
          },
          "metadata": {}
        }
      ]
    },
    {
      "cell_type": "markdown",
      "source": [
        "#Output 2:\n",
        "### Plots for revenue and net income"
      ],
      "metadata": {
        "id": "Ql-GPbfJRMjK"
      },
      "id": "Ql-GPbfJRMjK"
    },
    {
      "cell_type": "code",
      "source": [
        "df_company = df[\n",
        "    (df[\"company_name\"].str.lower() == \"wellsfargo\") &\n",
        "    (df[\"report_type\"].str.lower() == \"annual\")\n",
        "]\n",
        "df_company = df_company.sort_values(\"fiscal_year\")\n",
        "\n",
        "plt.plot(df_company[\"fiscal_year\"], df_company[\"revenue_millions\"], marker=\"o\", label=\"Revenue\")\n",
        "plt.plot(df_company[\"fiscal_year\"], df_company[\"net_income_millions\"], marker=\"o\", label=\"Net Income\")\n",
        "plt.xlabel(\"Fiscal Year\")\n",
        "plt.ylabel(\"£ Millions\")\n",
        "plt.title(\"Revenue vs Net Income (Novartis)\")\n",
        "plt.legend()\n",
        "plt.show()"
      ],
      "metadata": {
        "colab": {
          "base_uri": "https://localhost:8080/",
          "height": 472
        },
        "id": "1MhVZSnNFvUB",
        "outputId": "81bcbdc5-4fee-40e0-e0ed-cd760d282bc2"
      },
      "id": "1MhVZSnNFvUB",
      "execution_count": 54,
      "outputs": [
        {
          "output_type": "display_data",
          "data": {
            "text/plain": [
              "<Figure size 640x480 with 1 Axes>"
            ],
            "image/png": "[encoded data removed]"
          },
          "metadata": {}
        }
      ]
    },
    {
      "cell_type": "markdown",
      "source": [
        "# Output 3:\n",
        "### Revenue and Income for multiple companies and comparisons"
      ],
      "metadata": {
        "id": "j35v0RLHRU06"
      },
      "id": "j35v0RLHRU06"
    },
    {
      "cell_type": "code",
      "source": [
        "\n",
        "import numpy as np\n",
        "\n",
        "# Filter only annual reports\n",
        "df_filtered = df[df[\"report_type\"].str.lower() == \"annual\"]\n",
        "\n",
        "# Group by company and year\n",
        "df_grouped = df_filtered.groupby([\"company_name\", \"fiscal_year\"])[\n",
        "    [\"revenue_millions\", \"net_income_millions\"]\n",
        "].sum().reset_index()\n",
        "\n",
        "# Get unique values\n",
        "companies = df_grouped[\"company_name\"].unique().tolist()\n",
        "years = sorted(df_grouped[\"fiscal_year\"].unique())\n",
        "\n",
        "# Set bar width\n",
        "bar_width = 0.15\n",
        "x = np.arange(len(years))  # positions for fiscal years\n",
        "\n",
        "plt.figure(figsize=(12,6))\n",
        "\n",
        "# Plot each company’s bars\n",
        "for i, company in enumerate(companies):\n",
        "    company_data = df_grouped[df_grouped[\"company_name\"] == company]\n",
        "    revenues = [company_data[company_data[\"fiscal_year\"] == y][\"revenue_millions\"].sum() for y in years]\n",
        "    plt.bar(x + i*bar_width, revenues, width=bar_width, label=f\"{company} Revenue\")\n",
        "\n",
        "plt.xticks(x + bar_width*(len(companies)-1)/2, years)  # Center ticks\n",
        "plt.xlabel(\"Fiscal Year\")\n",
        "plt.ylabel(\"£ Millions\")\n",
        "plt.title(\"Revenue Comparison Across Companies (All Years)\")\n",
        "plt.legend()\n",
        "plt.show()\n",
        "\n",
        "# Repeat for Net Income\n",
        "plt.figure(figsize=(12,6))\n",
        "for i, company in enumerate(companies):\n",
        "    company_data = df_grouped[df_grouped[\"company_name\"] == company]\n",
        "    net_incomes = [company_data[company_data[\"fiscal_year\"] == y][\"net_income_millions\"].sum() for y in years]\n",
        "    plt.bar(x + i*bar_width, net_incomes, width=bar_width, label=f\"{company} Net Income\")\n",
        "\n",
        "plt.xticks(x + bar_width*(len(companies)-1)/2, years)\n",
        "plt.xlabel(\"Fiscal Year\")\n",
        "plt.ylabel(\"£ Millions\")\n",
        "plt.title(\"Net Income Comparison Across Companies (All Years)\")\n",
        "plt.legend()\n",
        "plt.show()\n"
      ],
      "metadata": {
        "id": "v83_sfrZG6PL",
        "outputId": "52b87046-0a17-4b97-9ed0-13636ebdfe1a",
        "colab": {
          "base_uri": "https://localhost:8080/",
          "height": 1000
        }
      },
      "id": "v83_sfrZG6PL",
      "execution_count": 55,
      "outputs": [
        {
          "output_type": "display_data",
          "data": {
            "text/plain": [
              "<Figure size 1200x600 with 1 Axes>"
            ],
            "image/png": "[encoded data removed]"
          },
          "metadata": {}
        },
        {
          "output_type": "display_data",
          "data": {
            "text/plain": [
              "<Figure size 1200x600 with 1 Axes>"
            ],
            "image/png": "[encoded data removed]"
          },
          "metadata": {}
        }
      ]
    },
    {
      "cell_type": "markdown",
      "source": [],
      "metadata": {
        "id": "AKObkuHldc49"
      },
      "id": "AKObkuHldc49"
    },
    {
      "cell_type": "markdown",
      "source": [
        "# 🔮 Revenue Forecasting with AI.FORECAST & TimesFM 2.0\n"
      ],
      "metadata": {
        "id": "ysUQR9JfBTzt"
      },
      "id": "ysUQR9JfBTzt"
    },
    {
      "cell_type": "code",
      "source": [
        "print(\"🔮 Generating revenue forecasts with TimesFM 2.0...\")\n",
        "\n",
        "forecast_sql = f\"\"\"\n",
        "CREATE OR REPLACE TABLE `{QUALIFIED_FORECAST_TABLE_ID}` AS\n",
        "SELECT\n",
        "  *\n",
        "FROM\n",
        "  AI.FORECAST(\n",
        "    TABLE `{QUALIFIED_METRICS_TABLE_ID}`,\n",
        "    data_col => 'revenue_millions',\n",
        "    timestamp_col => 'fiscal_year_date',\n",
        "    model => 'TimesFM 2.0',\n",
        "    id_cols => ['company_name'],\n",
        "    horizon => 5,\n",
        "    confidence_level => .95\n",
        "  )\n",
        "\"\"\"\n",
        "\n",
        "print(\"⏳ Forecasting...\")\n",
        "job = client.query(forecast_sql)\n",
        "job.result()\n",
        "print(\"✅ Forecast table created successfully!\")"
      ],
      "metadata": {
        "id": "QjS1OIZwmIZg",
        "colab": {
          "base_uri": "https://localhost:8080/"
        },
        "outputId": "293eaa2b-3f2b-4c14-a3a3-a9d7cea79fe5"
      },
      "id": "QjS1OIZwmIZg",
      "execution_count": 56,
      "outputs": [
        {
          "output_type": "stream",
          "name": "stdout",
          "text": [
            "🔮 Generating revenue forecasts with TimesFM 2.0...\n",
            "⏳ Forecasting...\n",
            "✅ Forecast table created successfully!\n"
          ]
        }
      ]
    },
    {
      "cell_type": "code",
      "source": [
        "# import requests\n",
        "# from google.cloud import bigquery\n",
        "\n",
        "# PROJECT_ID = \"intellitrend-project-dev\"   # update if needed\n",
        "# DATASET_ID = \"db_reports_insights_annual_esg\"\n",
        "# TABLE_ID = \"all_reports_annual_esg\"\n",
        "\n",
        "# # Step 0: Fetch file list from GitHub\n",
        "# url = \"https://api.github.com/repos/intellitrend-global/google_hackathon_bq_ai/contents/annual_esg_reports\"\n",
        "# response = requests.get(url)\n",
        "# files = response.json()\n",
        "\n",
        "# pdf_files = [(f[\"name\"], f[\"download_url\"]) for f in files if f[\"name\"].endswith(\".pdf\")]\n",
        "\n",
        "# print(\"📄 Found PDF files on GitHub:\")\n",
        "# for name, link in pdf_files:\n",
        "#     print(f\"   {name} -> {link}\")\n",
        "\n",
        "# # Step 1: Initialize BigQuery client\n",
        "# client = bigquery.Client(project=PROJECT_ID)\n",
        "\n",
        "# # Step 2: Ensure dataset exists (create if not)\n",
        "# dataset_ref = bigquery.DatasetReference(PROJECT_ID, DATASET_ID)\n",
        "# try:\n",
        "#     client.get_dataset(dataset_ref)  # Check if it exists\n",
        "#     print(f\"✅ Dataset {DATASET_ID} already exists\")\n",
        "# except Exception:\n",
        "#     dataset = bigquery.Dataset(dataset_ref)\n",
        "#     dataset.location = \"US\"\n",
        "#     client.create_dataset(dataset, timeout=30)\n",
        "#     print(f\"📦 Created dataset {DATASET_ID}\")\n",
        "\n",
        "# # Step 3: Define schema\n",
        "# schema = [\n",
        "#     bigquery.SchemaField(\"filename\", \"STRING\"),\n",
        "#     bigquery.SchemaField(\"uri\", \"STRING\"),\n",
        "# ]\n",
        "\n",
        "# # Step 4: Prepare rows\n",
        "# rows = [{\"filename\": name, \"uri\": link} for name, link in pdf_files]\n",
        "\n",
        "# # Step 5: Load into BigQuery\n",
        "# job_config = bigquery.LoadJobConfig(schema=schema, write_disposition=\"WRITE_TRUNCATE\")\n",
        "# table_ref = f\"{PROJECT_ID}.{DATASET_ID}.{TABLE_ID}\"\n",
        "\n",
        "# job = client.load_table_from_json(rows, table_ref, job_config=job_config)\n",
        "# job.result()\n",
        "\n",
        "# print(f\"✅ Table {table_ref} created/updated with {len(pdf_files)} GitHub files\")\n"
      ],
      "metadata": {
        "id": "xNskNaElWO_1"
      },
      "id": "xNskNaElWO_1",
      "execution_count": null,
      "outputs": []
    }
  ],
  "metadata": {
    "language_info": {
      "name": "python"
    },
    "colab": {
      "provenance": []
    },
    "kernelspec": {
      "name": "python3",
      "display_name": "Python 3"
    }
  },
  "nbformat": 4,
  "nbformat_minor": 5
}