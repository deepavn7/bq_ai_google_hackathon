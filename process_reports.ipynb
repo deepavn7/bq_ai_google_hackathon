{
  "cells": [
    {
      "cell_type": "markdown",
      "source": [
        "# 🌍 ESG & Financial Intelligence Platform\n",
        "## AI-Powered Analysis of Corporate Reports (ESG And Annual)\n",
        "\n",
        "**🎯 What this does:**\n",
        "- Automatically processes PDF reports from Google Cloud Storage\n",
        "- Uses Gemini 2.5 Pro to extract financial & ESG metrics\n",
        "- Generates forecasts using Google's TimesFM 2.0 model\n",
        "- Analyzes companies: Amgen, Novartis, Target\n",
        "\n",
        "**📊 Features:**\n",
        "- ✅ Automated PDF processing from Cloud Storage\n",
        "- ✅ AI-powered data extraction (Financial + ESG metrics)\n",
        "- ✅ Revenue forecasting with TimesFM 2.0\n",
        "- ✅ Multi-company comparative analysis\n",
        "\n",
        "---\n",
        "**👆 Click \"Runtime\" → \"Run all\" to see the magic happen!**"
      ],
      "metadata": {
        "id": "B4mF9BKbVXq9"
      },
      "id": "B4mF9BKbVXq9"
    },
    {
      "cell_type": "markdown",
      "source": [
        "# 🚀 Setup & Authentication"
      ],
      "metadata": {
        "id": "KdGXBO2wqGdM"
      },
      "id": "KdGXBO2wqGdM"
    },
    {
      "cell_type": "code",
      "source": [
        "\n",
        "print(\"🌟 Welcome to the ESG & Financial Intelligence Platform!\")\n",
        "print(\"🔧 Setting up environment...\")\n",
        "\n",
        "# Authenticate with Google Cloud\n",
        "from google.colab import auth\n",
        "auth.authenticate_user()\n",
        "\n",
        "# Install required packages\n",
        "!pip install -q bigframes google-cloud-bigquery plotly seaborn\n",
        "\n",
        "# Import libraries\n",
        "import bigframes.pandas as bpd\n",
        "from google.cloud import bigquery\n",
        "import pandas as pd\n",
        "import plotly.express as px\n",
        "import plotly.graph_objects as go\n",
        "from plotly.subplots import make_subplots\n",
        "import seaborn as sns\n",
        "import matplotlib.pyplot as plt\n",
        "\n",
        "print(\"✅ Authentication complete!\")\n",
        "print(\"✅ Libraries installed!\")"
      ],
      "metadata": {
        "id": "MsdBozKaVcBV"
      },
      "id": "MsdBozKaVcBV",
      "execution_count": null,
      "outputs": []
    },
    {
      "cell_type": "markdown",
      "source": [
        "# Intializing Parameters"
      ],
      "metadata": {
        "id": "G8ZIpU_YqTKm"
      },
      "id": "G8ZIpU_YqTKm"
    },
    {
      "cell_type": "code",
      "source": [
        "# Replace the below with other company names from this list:\n",
        "# novartis, amgen, target, bankofmontreal, lloyd, wellsfargo\n",
        "\n",
        "company1 = \"novartis\"\n",
        "company2 =\"wellsfargo\"\n",
        "company3 = \"lloyd\"\n",
        "\n",
        "PROJECT_ID = \"intellitrend-project-dev\"   # update if needed\n",
        "PROJECT_LOCATION=\"US\" # Others are EU, ASIA\n",
        "CLOUD_RES_CONN = \"ghack_conn\" #must be all small case\n",
        "\n",
        "\n",
        "DATASET_ID = \"db_reports_insights_annual_esg\" #Name of dataset to be created in BQ\n",
        "OBJ_TABLE_ID = \"all_reports_obj_table_metadata\" #Objec table name. That holds the metadata of the source files in GCS\n",
        "RAW_TABLE_ID=\"all_reports_ai_text_raw\"   # the output text that gets extracted based on prmpt - using ML.GENERATE_TEXT\n",
        "\n",
        "CURATED_TABLE_ID=\"all_reports_ai_text_curated\" # response_text extracted from JSON output\n",
        "CURATED2_TABLE_ID=\"all_reports_ai_text_curated2\" # the output text that gets extracted based on prmpt - using AI.GENERATE (An alternate way - for comparison)\n",
        "\n",
        "FINAL_TABLE_ID=\"all_reports_ai_text_final\" # output metrics info from the curated table - using AI.GENERATE_TABLE\n",
        "\n",
        "METRICS_TABLE_ID = \"all_reports_metrics\"  # format the output final table\n",
        "FORECAST_TABLE_ID=\"all_reports_forecast\" # forecast table from the formatted-output\n",
        "\n",
        "QUALIFIED_CLOUD_RES_CONN = f\"{PROJECT_ID}.{PROJECT_LOCATION}.{CLOUD_RES_CONN}\"\n",
        "\n",
        "QUALIFIED_OBJ_TABLE_ID= f\"{PROJECT_ID}.{DATASET_ID}.{OBJ_TABLE_ID}\"\n",
        "QUALIFIED_RAW_TABLE_ID= f\"{PROJECT_ID}.{DATASET_ID}.{RAW_TABLE_ID}\"\n",
        "\n",
        "QUALIFIED_CURATED_TABLE_ID= f\"{PROJECT_ID}.{DATASET_ID}.{CURATED_TABLE_ID}\"\n",
        "QUALIFIED_CURATED2_TABLE_ID= f\"{PROJECT_ID}.{DATASET_ID}.{CURATED2_TABLE_ID}\"\n",
        "\n",
        "QUALIFIED_METRICS_TABLE_ID= f\"{PROJECT_ID}.{DATASET_ID}.{METRICS_TABLE_ID}\"\n",
        "\n",
        "QUALIFIED_FINAL_TABLE_ID= f\"{PROJECT_ID}.{DATASET_ID}.{FINAL_TABLE_ID}\"\n",
        "QUALIFIED_FORECAST_TABLE_ID= f\"{PROJECT_ID}.{DATASET_ID}.{FORECAST_TABLE_ID}\"\n",
        "\n",
        "MODEL_ENDPOINT=\"gemini-2.5-pro\"\n",
        "MODEL_NAME=\"gemini_model_25pro\"\n",
        "QUALIFIED_MODEL_ID=f\"{PROJECT_ID}.{DATASET_ID}.{MODEL_NAME}\"\n",
        "\n",
        "DATA_FILES_PATH=\"gs://report_insights\"\n",
        "\n",
        "\n",
        "# --- Bigframes setup ---\n",
        "bpd.options.bigquery.project = PROJECT_ID\n",
        "bpd.options.bigquery.location = PROJECT_LOCATION"
      ],
      "metadata": {
        "id": "j9wXa542JAad"
      },
      "id": "j9wXa542JAad",
      "execution_count": 38,
      "outputs": []
    },
    {
      "cell_type": "markdown",
      "source": [
        "# 🏗️ Project Configuration"
      ],
      "metadata": {
        "id": "xEZ9AjxmqYPW"
      },
      "id": "xEZ9AjxmqYPW"
    },
    {
      "cell_type": "code",
      "source": [
        "\n",
        "from google.colab import userdata\n",
        "\n",
        "# Configure BigFrames\n",
        "bpd.options.bigquery.project = PROJECT_ID\n",
        "bpd.options.bigquery.location = PROJECT_LOCATION\n",
        "\n",
        "# Initialize BigQuery client\n",
        "client = bigquery.Client(project=PROJECT_ID)\n",
        "\n",
        "print(f\"✅ Project configured: {PROJECT_ID}\")\n",
        "print(\"✅ BigFrames ready for action!\")"
      ],
      "metadata": {
        "id": "Jq2mXY6ZWC29"
      },
      "id": "Jq2mXY6ZWC29",
      "execution_count": null,
      "outputs": []
    },
    {
      "cell_type": "markdown",
      "source": [
        "#  Create Cloud Resource Connection"
      ],
      "metadata": {
        "id": "ibVYprE2qbYa"
      },
      "id": "ibVYprE2qbYa"
    },
    {
      "cell_type": "code",
      "source": [
        "!bq mk \\\n",
        "  --connection \\\n",
        "  --project_id={PROJECT_ID} \\\n",
        "  --connection_type=CLOUD_RESOURCE \\\n",
        "  --location={PROJECT_LOCATION} \\\n",
        "  {CLOUD_RES_CONN}"
      ],
      "metadata": {
        "id": "-5dp4Ss5BmI_"
      },
      "id": "-5dp4Ss5BmI_",
      "execution_count": null,
      "outputs": []
    },
    {
      "cell_type": "markdown",
      "source": [
        "# Fetch Service Account associated with the Cloud Res Connection"
      ],
      "metadata": {
        "id": "TJA-cM8fqkea"
      },
      "id": "TJA-cM8fqkea"
    },
    {
      "cell_type": "code",
      "source": [
        "SERVICE_ACCT = !bq show --format=prettyjson \\\n",
        "  --connection \\\n",
        "  --project_id={PROJECT_ID} \\\n",
        "  --location={PROJECT_LOCATION} \\\n",
        "  {CLOUD_RES_CONN} | grep \"serviceAccountId\" | cut -d '\"' -f 4\n",
        "\n",
        "SERVICE_ACCT_EMAIL = SERVICE_ACCT[0]  # first (and only) line\n",
        "print(SERVICE_ACCT_EMAIL)"
      ],
      "metadata": {
        "id": "Br8HeQf8COGv"
      },
      "id": "Br8HeQf8COGv",
      "execution_count": null,
      "outputs": []
    },
    {
      "cell_type": "markdown",
      "source": [
        "# Give the below roles to the Conn Service Account:\n",
        "  * objectViewer and  \n",
        "  * aiplatformUser\n",
        "\n"
      ],
      "metadata": {
        "id": "wLTg-1olqrA5"
      },
      "id": "wLTg-1olqrA5"
    },
    {
      "cell_type": "code",
      "source": [
        "import time\n",
        "\n",
        "# Use $SERVICE_ACCT_EMAIL so the Python variable expands in the shell\n",
        "!gcloud projects add-iam-policy-binding {PROJECT_ID} \\\n",
        "    --member=\"serviceAccount:$SERVICE_ACCT_EMAIL\" \\\n",
        "    --role=\"roles/storage.objectViewer\" \\\n",
        "    --format=none\n",
        "\n",
        "!gcloud projects add-iam-policy-binding {PROJECT_ID} \\\n",
        "    --member=\"serviceAccount:$SERVICE_ACCT_EMAIL\" \\\n",
        "    --role=\"roles/aiplatform.user\" \\\n",
        "    --format=none\n",
        "\n",
        "!gcloud projects add-iam-policy-binding {PROJECT_ID} \\\n",
        "    --member=\"serviceAccount:$SERVICE_ACCT_EMAIL\" \\\n",
        "    --role=\"roles/bigquery.connectionUser\" \\\n",
        "    --format=none\n",
        "\n",
        "\n",
        "!gcloud projects add-iam-policy-binding {PROJECT_ID} \\\n",
        "    --member=\"serviceAccount:$SERVICE_ACCT_EMAIL\" \\\n",
        "    --role=\"roles/run.invoker\" \\\n",
        "    --format=none\n",
        "\n",
        "\n",
        "# Wait ~60 seconds for IAM updates to propagate\n",
        "time.sleep(60)"
      ],
      "metadata": {
        "id": "TOoTQl_iDVNQ",
        "outputId": "bdc62cb3-4cd5-4be2-d0f7-b0180f9bc4f0",
        "colab": {
          "base_uri": "https://localhost:8080/"
        }
      },
      "id": "TOoTQl_iDVNQ",
      "execution_count": 34,
      "outputs": [
        {
          "output_type": "stream",
          "name": "stdout",
          "text": [
            "Updated IAM policy for project [intellitrend-project-dev].\n",
            "Updated IAM policy for project [intellitrend-project-dev].\n",
            "Updated IAM policy for project [intellitrend-project-dev].\n",
            "Updated IAM policy for project [intellitrend-project-dev].\n"
          ]
        }
      ]
    },
    {
      "cell_type": "markdown",
      "source": [
        "# Create the Gemini Model"
      ],
      "metadata": {
        "id": "zoGn5y3prEO1"
      },
      "id": "zoGn5y3prEO1"
    },
    {
      "cell_type": "code",
      "source": [
        "# 🤖 Step 0a: Create Gemini 2.5 Pro Model\n",
        "print(\"🤖 Creating Gemini 2.5 Pro model...\")\n",
        "\n",
        "create_model_sql = f\"\"\"\n",
        "CREATE OR REPLACE MODEL `{QUALIFIED_MODEL_ID}`\n",
        "REMOTE WITH CONNECTION `{QUALIFIED_CLOUD_RES_CONN}`\n",
        "OPTIONS (ENDPOINT = '{MODEL_ENDPOINT}');\n",
        "\"\"\"\n",
        "\n",
        "try:\n",
        "    job = client.query(create_model_sql)\n",
        "    job.result()\n",
        "    print(\"🎉 Gemini 2.5 Pro model created successfully!\")\n",
        "except Exception as e:\n",
        "    print(f\"⚠️  Model creation issue: {e}\")"
      ],
      "metadata": {
        "id": "8H-B2sKyNRYI"
      },
      "id": "8H-B2sKyNRYI",
      "execution_count": null,
      "outputs": []
    },
    {
      "cell_type": "markdown",
      "source": [
        "# 📁 Create Object Table for PDF Reports"
      ],
      "metadata": {
        "id": "uN-WN3hwrJQO"
      },
      "id": "uN-WN3hwrJQO"
    },
    {
      "cell_type": "code",
      "source": [
        "\n",
        "\n",
        "print(f\"📁 Creating external table(Object Table): '{OBJ_TABLE_ID}' for PDF reports...\")\n",
        "\n",
        "create_external_table_sql = f\"\"\"\n",
        "CREATE OR REPLACE EXTERNAL TABLE `{QUALIFIED_OBJ_TABLE_ID}`\n",
        "WITH CONNECTION `{QUALIFIED_CLOUD_RES_CONN}`\n",
        "OPTIONS (\n",
        "  object_metadata = 'SIMPLE',\n",
        "  uris = ['{DATA_FILES_PATH}/*']\n",
        ");\n",
        "\"\"\"\n",
        "\n",
        "try:\n",
        "    job = client.query(create_external_table_sql)\n",
        "    job.result()\n",
        "    print(\"✅ External table created successfully!\")\n",
        "\n",
        "    # Check what files we have\n",
        "    check_files_sql = f\"SELECT uri, size FROM `{QUALIFIED_OBJ_TABLE_ID}`  \"\n",
        "    files_df = bpd.read_gbq(check_files_sql)\n",
        "    print(f\"📄 Found {len(files_df)} files in storage\")\n",
        "    print(\"Sample files:\")\n",
        "    print(files_df.head())\n",
        "\n",
        "except Exception as e:\n",
        "    print(f\"⚠️  Note: {e}\")\n",
        "    print(\"   Make sure your GCS bucket and connection are set up correctly\")"
      ],
      "metadata": {
        "colab": {
          "base_uri": "https://localhost:8080/",
          "height": 260
        },
        "id": "7YQ_Q-LjIF0U",
        "outputId": "8373410f-4224-41c8-9e51-85a8a771e89c"
      },
      "id": "7YQ_Q-LjIF0U",
      "execution_count": 29,
      "outputs": [
        {
          "output_type": "stream",
          "name": "stdout",
          "text": [
            "📁 Creating external table(Object Table): 'all_reports_obj_table_metadata' for PDF reports...\n",
            "✅ External table created successfully!\n",
            "📄 Found 129 files in storage\n",
            "Sample files:\n"
          ]
        },
        {
          "output_type": "display_data",
          "data": {
            "text/plain": [
              "<IPython.core.display.HTML object>"
            ],
            "text/html": [
              "Load job e56811e6-af45-4855-b915-99b7c1052795 is DONE. <a target=\"_blank\" href=\"https://console.cloud.google.com/bigquery?project=intellitrend-project-dev&j=bq:US:e56811e6-af45-4855-b915-99b7c1052795&page=queryresults\">Open Job</a>"
            ]
          },
          "metadata": {}
        },
        {
          "output_type": "display_data",
          "data": {
            "text/plain": [
              "<IPython.core.display.HTML object>"
            ],
            "text/html": [
              "Query job 181bd490-a426-427d-8a92-abaccd969ea3 is DONE. 11.6 kB processed. <a target=\"_blank\" href=\"https://console.cloud.google.com/bigquery?project=intellitrend-project-dev&j=bq:US:181bd490-a426-427d-8a92-abaccd969ea3&page=queryresults\">Open Job</a>"
            ]
          },
          "metadata": {}
        },
        {
          "output_type": "stream",
          "name": "stdout",
          "text": [
            "                                                 uri      size\n",
            "0  gs://report_insights/amgen/amgen_annualreport_...  12663856\n",
            "1  gs://report_insights/amgen/amgen_annualreport_...   3651904\n",
            "2  gs://report_insights/amgen/amgen_annualreport_...   3777808\n",
            "3  gs://report_insights/amgen/amgen_annualreport_...  12725236\n",
            "4  gs://report_insights/amgen/amgen_annualreport_...   8154936\n",
            "\n",
            "[5 rows x 2 columns]\n"
          ]
        }
      ]
    },
    {
      "cell_type": "markdown",
      "source": [
        "#  🧠 Extract Financial & ESG Data - Using ML.GENERATE_TEXT"
      ],
      "metadata": {
        "id": "vyuEomOKrU84"
      },
      "id": "vyuEomOKrU84"
    },
    {
      "cell_type": "code",
      "source": [
        "\n",
        "print(f\"🧠 Processing PDFs with {MODEL_NAME}...\")\n",
        "print(f\"This analyzes {company1}, {company2}, and {company3} reports...\")\n",
        "\n",
        "generate_text_sql = f\"\"\"\n",
        "CREATE OR REPLACE TABLE `{QUALIFIED_RAW_TABLE_ID}` AS (\n",
        "SELECT\n",
        "  *\n",
        "FROM\n",
        "  ML.GENERATE_TEXT(\n",
        "    MODEL `{QUALIFIED_MODEL_ID}`,\n",
        "    TABLE `{QUALIFIED_OBJ_TABLE_ID}`,\n",
        "    STRUCT(\n",
        "      '''\n",
        "You are an expert ESG and Financial analyst. Use only the information provided in the document to answer.\n",
        "        Fetch Financial and Sustainability Details including tabular and image data for each PDF.\n",
        "        Read the filename. If it is a sustainability report, please get only ESG details. If it is an annual report, get just the financials as below.\n",
        "        Ensure you fetch details so it has answers for the below:\n",
        "        Financial Performance\n",
        "        What is the total revenue this year?\n",
        "        How has revenue changed compared to last year?\n",
        "        What is the net profit or loss?\n",
        "        How have the earnings per share (EPS) changed?\n",
        "        Are gross margins improving or declining?\n",
        "        Are operating margins stable or volatile?\n",
        "        How has net margin shifted year over year?\n",
        "        Is cash flow from operations positive and consistent?\n",
        "        How much free cash flow is available?\n",
        "        How are working capital levels trending?\n",
        "        Balance Sheet & Liquidity\n",
        "        What is the total debt level?\n",
        "        Is the debt-to-equity ratio rising or falling?\n",
        "        Does the company have enough liquidity to cover short-term liabilities?\n",
        "        What is the current ratio and quick ratio?\n",
        "        How much cash and equivalents are available?\n",
        "        Are interest expenses sustainable?\n",
        "        How sensitive is the company to interest rate changes?\n",
        "        What is the level of contingent liabilities?\n",
        "        Business Strategy\n",
        "        What are the company’s core growth initiatives?\n",
        "        Is management investing in new markets or products?\n",
        "        How much is spent on research and development (R&D)?\n",
        "        Are acquisitions or divestitures planned?\n",
        "        Is the company expanding geographically?\n",
        "        What is the company’s competitive advantage?\n",
        "        Is the advantage sustainable against competitors?\n",
        "        Is digital transformation a core part of the strategy?\n",
        "        Risk Factors\n",
        "        What macroeconomic risks affect the business?\n",
        "        What industry-specific risks are highlighted?\n",
        "        What operational risks are disclosed?\n",
        "        Are supply chain risks material?\n",
        "        Are legal or regulatory risks mentioned?\n",
        "        How is foreign exchange risk managed?\n",
        "        How dependent is revenue on a few customers?\n",
        "        Are raw material price risks significant?\n",
        "        Governance & Leadership\n",
        "        Is the board majority independent?\n",
        "        How many women or minorities are on the board?\n",
        "        Is executive compensation performance-linked?\n",
        "        Does management own significant equity?\n",
        "        Are shareholder rights well protected?\n",
        "        Is succession planning disclosed?\n",
        "        Has management delivered on past promises?\n",
        "        Is the auditor independent and credible?\n",
        "        Shareholder Value\n",
        "        Is the company paying dividends?\n",
        "        Is the dividend payout sustainable?\n",
        "        Is the dividend policy clear?\n",
        "        Are share buybacks taking place?\n",
        "        Is return on equity (ROE) improving?\n",
        "        Is return on assets (ROA) stable?\n",
        "        Has shareholder equity grown consistently?\n",
        "        What is the earnings guidance for next year?\n",
        "        Investor Questions – Sustainability Reports\n",
        "        Environmental\n",
        "        What is the total Scope 1 emissions?\n",
        "        What is the total Scope 2 emissions?\n",
        "        What is the total Scope 3 emissions?\n",
        "        Are science-based targets disclosed?\n",
        "        Has the company committed to net-zero?\n",
        "        What percentage of energy is renewable?\n",
        "        Is energy efficiency improving year over year?\n",
        "        What is the total water withdrawal?\n",
        "        What is water recycled or reused?\n",
        "        Is the company exposed to water stress?\n",
        "        How much total waste is generated?\n",
        "        How much waste is recycled or diverted from landfill?\n",
        "        Are hazardous waste levels disclosed?\n",
        "        How sustainable are raw material sourcing practices?\n",
        "        Are biodiversity risks addressed?\n",
        "        Social\n",
        "        What is the total workforce size?\n",
        "        What percentage of employees are women?\n",
        "        What percentage of leadership roles are held by women?\n",
        "        What is minority representation in the workforce?\n",
        "        What is the employee turnover rate?\n",
        "        How many workplace injuries occurred?\n",
        "        What is the lost-time injury frequency rate?\n",
        "        Are labor rights respected across the supply chain?\n",
        "        Is child labor risk disclosed in supply chains?\n",
        "        Are employee training hours increasing per year?\n",
        "        Are wages above local living wage levels?\n",
        "        Is there employee engagement survey data?\n",
        "        What community development initiatives exist?\n",
        "        What philanthropic contributions were made?\n",
        "        Is there disclosure on data privacy and cybersecurity?\n",
        "        Governance (ESG-specific)\n",
        "        Is there a dedicated board ESG committee?\n",
        "        How often does the board review ESG matters?\n",
        "        Is ESG risk included in enterprise risk management?\n",
        "        Is executive compensation tied to ESG goals?\n",
        "        Are ESG targets linked to management incentives?\n",
        "        Is ESG performance externally assured?\n",
        "        Are ESG disclosures aligned with GRI or SASB?\n",
        "        Does the company report under TCFD or ISSB?\n",
        "        Is CDP reporting publicly available?\n",
        "        Are stakeholder engagement practices disclosed?\n",
        "        Risk & Opportunity\n",
        "        What are the identified physical climate risks?\n",
        "        What are the identified transition risks?\n",
        "        Is there disclosure on carbon pricing exposure?\n",
        "        How dependent is revenue on carbon-intensive activities?\n",
        "        What sustainability-linked opportunities are identified?\n",
        "        Are green products or services generating revenue?\n",
        "        Is access to sustainable finance increasing?\n",
        "        Are suppliers evaluated for ESG performance?\n",
        "        Are ESG clauses included in supplier contracts?\n",
        "        Is there disclosure on product lifecycle impacts?\n",
        "      ''' AS prompt,\n",
        "\n",
        "      0 AS temperature,\n",
        "      8092 AS max_output_tokens\n",
        "    )\n",
        "  )\n",
        "WHERE uri like '%{company1}%' or uri like '%{company2}%' or  uri like '%{company3}%'\n",
        ");\n",
        "\"\"\"\n",
        "print(\"\\n\\n the SQL \\n\\n\", generate_text_sql)\n",
        "try:\n",
        "    print(\"⏳ Processing... This may take 2-3 minutes\")\n",
        "    job = client.query(generate_text_sql)\n",
        "    job.result()\n",
        "\n",
        "    # Check results\n",
        "    check_sql = f\"SELECT COUNT(*) as processed_files FROM `{QUALIFIED_RAW_TABLE_ID}`\"\n",
        "    result = client.query(check_sql).result()\n",
        "    count = list(result)[0][0]\n",
        "    print(f\"✅ Successfully processed {count} files!\")\n",
        "\n",
        "except Exception as e:\n",
        "    print(f\"⚠️  Processing issue: {e}\")"
      ],
      "metadata": {
        "id": "BHfkpWRwZ7Lw",
        "outputId": "489f6abf-8558-4a15-a0f0-f5368530b591",
        "colab": {
          "base_uri": "https://localhost:8080/"
        }
      },
      "id": "BHfkpWRwZ7Lw",
      "execution_count": 30,
      "outputs": [
        {
          "output_type": "stream",
          "name": "stdout",
          "text": [
            "🧠 Processing PDFs with gemini_model_25pro...\n",
            "This analyzes novartis, wellsfargo, and lloyd reports...\n",
            "\n",
            "\n",
            " the SQL \n",
            "\n",
            " \n",
            "CREATE OR REPLACE TABLE `intellitrend-project-dev.db_reports_insights_annual_esg.all_reports_ai_text_raw` AS (\n",
            "SELECT\n",
            "  *\n",
            "FROM\n",
            "  ML.GENERATE_TEXT(\n",
            "    MODEL `intellitrend-project-dev.db_reports_insights_annual_esg.gemini_model_25pro`,\n",
            "    TABLE `intellitrend-project-dev.db_reports_insights_annual_esg.all_reports_obj_table_metadata`,\n",
            "    STRUCT(\n",
            "      '''\n",
            "You are an expert ESG and Financial analyst. Use only the information provided in the document to answer.\n",
            "        Fetch Financial and Sustainability Details including tabular and image data for each PDF.\n",
            "        Read the filename. If it is a sustainability report, please get only ESG details. If it is an annual report, get just the financials as below.\n",
            "        Ensure you fetch details so it has answers for the below:\n",
            "        Financial Performance\n",
            "        What is the total revenue this year?\n",
            "        How has revenue changed compared to last year?\n",
            "        What is the net profit or loss?\n",
            "        How have the earnings per share (EPS) changed?\n",
            "        Are gross margins improving or declining?\n",
            "        Are operating margins stable or volatile?\n",
            "        How has net margin shifted year over year?\n",
            "        Is cash flow from operations positive and consistent?\n",
            "        How much free cash flow is available?\n",
            "        How are working capital levels trending?\n",
            "        Balance Sheet & Liquidity\n",
            "        What is the total debt level?\n",
            "        Is the debt-to-equity ratio rising or falling?\n",
            "        Does the company have enough liquidity to cover short-term liabilities?\n",
            "        What is the current ratio and quick ratio?\n",
            "        How much cash and equivalents are available?\n",
            "        Are interest expenses sustainable?\n",
            "        How sensitive is the company to interest rate changes?\n",
            "        What is the level of contingent liabilities?\n",
            "        Business Strategy\n",
            "        What are the company’s core growth initiatives?\n",
            "        Is management investing in new markets or products?\n",
            "        How much is spent on research and development (R&D)?\n",
            "        Are acquisitions or divestitures planned?\n",
            "        Is the company expanding geographically?\n",
            "        What is the company’s competitive advantage?\n",
            "        Is the advantage sustainable against competitors?\n",
            "        Is digital transformation a core part of the strategy?\n",
            "        Risk Factors\n",
            "        What macroeconomic risks affect the business?\n",
            "        What industry-specific risks are highlighted?\n",
            "        What operational risks are disclosed?\n",
            "        Are supply chain risks material?\n",
            "        Are legal or regulatory risks mentioned?\n",
            "        How is foreign exchange risk managed?\n",
            "        How dependent is revenue on a few customers?\n",
            "        Are raw material price risks significant?\n",
            "        Governance & Leadership\n",
            "        Is the board majority independent?\n",
            "        How many women or minorities are on the board?\n",
            "        Is executive compensation performance-linked?\n",
            "        Does management own significant equity?\n",
            "        Are shareholder rights well protected?\n",
            "        Is succession planning disclosed?\n",
            "        Has management delivered on past promises?\n",
            "        Is the auditor independent and credible?\n",
            "        Shareholder Value\n",
            "        Is the company paying dividends?\n",
            "        Is the dividend payout sustainable?\n",
            "        Is the dividend policy clear?\n",
            "        Are share buybacks taking place?\n",
            "        Is return on equity (ROE) improving?\n",
            "        Is return on assets (ROA) stable?\n",
            "        Has shareholder equity grown consistently?\n",
            "        What is the earnings guidance for next year?\n",
            "        Investor Questions – Sustainability Reports\n",
            "        Environmental\n",
            "        What is the total Scope 1 emissions?\n",
            "        What is the total Scope 2 emissions?\n",
            "        What is the total Scope 3 emissions?\n",
            "        Are science-based targets disclosed?\n",
            "        Has the company committed to net-zero?\n",
            "        What percentage of energy is renewable?\n",
            "        Is energy efficiency improving year over year?\n",
            "        What is the total water withdrawal?\n",
            "        What is water recycled or reused?\n",
            "        Is the company exposed to water stress?\n",
            "        How much total waste is generated?\n",
            "        How much waste is recycled or diverted from landfill?\n",
            "        Are hazardous waste levels disclosed?\n",
            "        How sustainable are raw material sourcing practices?\n",
            "        Are biodiversity risks addressed?\n",
            "        Social\n",
            "        What is the total workforce size?\n",
            "        What percentage of employees are women?\n",
            "        What percentage of leadership roles are held by women?\n",
            "        What is minority representation in the workforce?\n",
            "        What is the employee turnover rate?\n",
            "        How many workplace injuries occurred?\n",
            "        What is the lost-time injury frequency rate?\n",
            "        Are labor rights respected across the supply chain?\n",
            "        Is child labor risk disclosed in supply chains?\n",
            "        Are employee training hours increasing per year?\n",
            "        Are wages above local living wage levels?\n",
            "        Is there employee engagement survey data?\n",
            "        What community development initiatives exist?\n",
            "        What philanthropic contributions were made?\n",
            "        Is there disclosure on data privacy and cybersecurity?\n",
            "        Governance (ESG-specific)\n",
            "        Is there a dedicated board ESG committee?\n",
            "        How often does the board review ESG matters?\n",
            "        Is ESG risk included in enterprise risk management?\n",
            "        Is executive compensation tied to ESG goals?\n",
            "        Are ESG targets linked to management incentives?\n",
            "        Is ESG performance externally assured?\n",
            "        Are ESG disclosures aligned with GRI or SASB?\n",
            "        Does the company report under TCFD or ISSB?\n",
            "        Is CDP reporting publicly available?\n",
            "        Are stakeholder engagement practices disclosed?\n",
            "        Risk & Opportunity\n",
            "        What are the identified physical climate risks?\n",
            "        What are the identified transition risks?\n",
            "        Is there disclosure on carbon pricing exposure?\n",
            "        How dependent is revenue on carbon-intensive activities?\n",
            "        What sustainability-linked opportunities are identified?\n",
            "        Are green products or services generating revenue?\n",
            "        Is access to sustainable finance increasing?\n",
            "        Are suppliers evaluated for ESG performance?\n",
            "        Are ESG clauses included in supplier contracts?\n",
            "        Is there disclosure on product lifecycle impacts?\n",
            "      ''' AS prompt,\n",
            "\n",
            "      0 AS temperature,\n",
            "      8092 AS max_output_tokens\n",
            "    )\n",
            "  )\n",
            "WHERE uri like '%novartis%' or uri like '%wellsfargo%' or  uri like '%lloyd%'\n",
            ");\n",
            "\n",
            "⏳ Processing... This may take 2-3 minutes\n",
            "✅ Successfully processed 32 files!\n"
          ]
        }
      ]
    },
    {
      "cell_type": "markdown",
      "source": [
        "### Alternate Method to ML.GENERATE_TEXT:\n",
        "# Extract Financial & ESG Data - using AI.GENERATE"
      ],
      "metadata": {
        "id": "hNh4AXmOv2UI"
      },
      "id": "hNh4AXmOv2UI"
    },
    {
      "cell_type": "code",
      "source": [
        "\n",
        "print(f\"🧠 Processing PDFs with {MODEL_NAME}...\")\n",
        "print(f\"This analyzes {company1}, {company2}, and {company3} reports...\")\n",
        "\n",
        "generate_text_sql2 = f\"\"\"\n",
        "CREATE OR REPLACE TABLE `{QUALIFIED_CURATED2_TABLE_ID}` AS\n",
        "SELECT\n",
        "  uri,\n",
        "  AI.GENERATE(\n",
        "    CONCAT(\n",
        "      \"You are an expert ESG and Financial analyst. Use only the information provided in the document to answer.\\\\n\",\n",
        "      \"Fetch Financial and Sustainability Details including tabular and image data for each PDF.\\\\n\",\n",
        "      \"Open and Read the PDF: \",\n",
        "      JSON_VALUE(\n",
        "        OBJ.GET_ACCESS_URL(\n",
        "          OBJ.MAKE_REF(uri, '{QUALIFIED_CLOUD_RES_CONN}'),\n",
        "          'r'\n",
        "        ),\n",
        "        '$.access_urls.read_url'\n",
        "      )\n",
        "    ),\n",
        "    connection_id => '{QUALIFIED_CLOUD_RES_CONN}',\n",
        "    endpoint => '{MODEL_ENDPOINT}',\n",
        "    output_schema => 'uri STRING, response_text STRING'\n",
        "  ).response_text AS response_text\n",
        "FROM `{QUALIFIED_OBJ_TABLE_ID}`\n",
        "WHERE uri LIKE '%{company1}%' OR uri LIKE '%{company2}%' OR uri LIKE '%{company3}%';\n",
        "\"\"\"\n",
        "\n",
        "try:\n",
        "    print(\"⏳ Processing... This may take 2-3 minutes\")\n",
        "    job = client.query(generate_text_sql2)\n",
        "    job.result()\n",
        "\n",
        "    # Check results\n",
        "    check_sql = f\"SELECT COUNT(*) as processed_files FROM `{QUALIFIED_CURATED2_TABLE_ID}`\"\n",
        "    result = client.query(check_sql).result()\n",
        "    count = list(result)[0][0]\n",
        "    print(f\"✅ Successfully processed {count} files!\")\n",
        "\n",
        "except Exception as e:\n",
        "    print(f\"⚠️  Processing issue: {e}\")\n"
      ],
      "metadata": {
        "id": "WpdJJYc_uVZ7"
      },
      "id": "WpdJJYc_uVZ7",
      "execution_count": null,
      "outputs": []
    },
    {
      "cell_type": "markdown",
      "source": [
        "# 🧹 Extract Clean Text Response"
      ],
      "metadata": {
        "id": "Ct2UPyXMrnbD"
      },
      "id": "Ct2UPyXMrnbD"
    },
    {
      "cell_type": "code",
      "source": [
        "\n",
        "print(\"🧹 Cleaning and extracting response text...\")\n",
        "\n",
        "curate_results_sql = f\"\"\"\n",
        "CREATE OR REPLACE TABLE `{QUALIFIED_CURATED_TABLE_ID}` AS\n",
        "SELECT *,\n",
        "  ARRAY_TO_STRING(\n",
        "    ARRAY(\n",
        "      SELECT JSON_VALUE(part, '$.text')\n",
        "      FROM UNNEST(JSON_QUERY_ARRAY(\n",
        "        JSON_QUERY(ml_generate_text_result, '$.candidates[0].content.parts')\n",
        "      )) AS part\n",
        "    ),\n",
        "    ''\n",
        "  ) AS response_text\n",
        "FROM\n",
        "  `{QUALIFIED_RAW_TABLE_ID}`;\n",
        "\"\"\"\n",
        "\n",
        "try:\n",
        "    job = client.query(curate_results_sql)\n",
        "    job.result()\n",
        "    print(\"✅ Response text extracted and cleaned!\")\n",
        "\n",
        "    # Show sample of extracted text\n",
        "    sample_sql = f\"\"\"\n",
        "    SELECT uri, LEFT(response_text, 200) as sample_text\n",
        "    FROM `{QUALIFIED_CURATED_TABLE_ID}`\n",
        "    LIMIT 3\n",
        "    \"\"\"\n",
        "    sample_df = bpd.read_gbq(sample_sql)\n",
        "    print(\"\\n📝 Sample extracted text:\")\n",
        "    for _, row in sample_df.iterrows():\n",
        "        print(f\"File: {row['uri']}\")\n",
        "        print(f\"Text: {row['sample_text']}...\\n\")\n",
        "\n",
        "except Exception as e:\n",
        "    print(f\"⚠️  Text extraction issue: {e}\")"
      ],
      "metadata": {
        "id": "_hLB42ZHW1mV",
        "colab": {
          "base_uri": "https://localhost:8080/"
        },
        "outputId": "3edf5603-a6c5-4d8b-bed4-550702d682ff"
      },
      "id": "_hLB42ZHW1mV",
      "execution_count": 31,
      "outputs": [
        {
          "output_type": "stream",
          "name": "stdout",
          "text": [
            "🧹 Cleaning and extracting response text...\n",
            "✅ Response text extracted and cleaned!\n",
            "\n",
            "📝 Sample extracted text:\n",
            "File: gs://report_insights/lloyd/lloyd_annualreport_2021.pdf\n",
            "Text: ...\n",
            "\n",
            "File: gs://report_insights/lloyd/lloyd_annualreport_2023.pdf\n",
            "Text: ...\n",
            "\n",
            "File: gs://report_insights/lloyd/lloyd_sustainabilityreport_2021.pdf\n",
            "Text: Based on the \"Lloyd's Global Compact 2021 Report,\" here are the key sustainability details:\n",
            "\n",
            "### **Environmental**\n",
            "\n",
            "*   **What is the total Scope 1, 2, and 3 emissions?**\n",
            "    The report does not provi...\n",
            "\n"
          ]
        }
      ]
    },
    {
      "cell_type": "markdown",
      "source": [
        "# 📊 Extract Structured Financial & ESG Metrics"
      ],
      "metadata": {
        "id": "7u1iCJairu6y"
      },
      "id": "7u1iCJairu6y"
    },
    {
      "cell_type": "code",
      "source": [
        "\n",
        "print(\"📊 Generating structured financial and ESG metrics...\")\n",
        "\n",
        "generate_table_sql = f\"\"\"\n",
        "CREATE OR REPLACE TABLE `{QUALIFIED_FINAL_TABLE_ID}` AS\n",
        "SELECT *,\n",
        "    DATE(CAST(fiscal_year AS STRING) || \"-01-01\") AS fiscal_year_date,\n",
        "    CASE\n",
        "        WHEN uri LIKE '%{company1}%' THEN '{company1}'\n",
        "        WHEN uri LIKE '%{company2}%' THEN '{company2}'\n",
        "        WHEN uri LIKE '%{company3}%' THEN '{company3}'\n",
        "    END as company_name_formatted\n",
        "FROM (\n",
        "    SELECT *\n",
        "    FROM AI.GENERATE_TABLE(\n",
        "        MODEL `{QUALIFIED_MODEL_ID}`,\n",
        "        (\n",
        "            SELECT CONCAT(\n",
        "                \"You are an expert financial analyst and ESG/Climate analyst. Extract all financial metrics and sustainability metrics and KPIs from the provided text into structured data. \",\n",
        "                \"For Annual reports, focus on getting the financial metrics. And for Sustainability reports focus on getting ESG metrics. \",\n",
        "                \"Normalize numbers by removing commas, spaces, or symbols. \",\n",
        "                \"Only include actual numerical financial data. \",\n",
        "                \"TEXT: \",\n",
        "                response_text\n",
        "            ) AS prompt,\n",
        "            response_text as extracted_text,\n",
        "            uri AS uri\n",
        "        FROM `{QUALIFIED_CURATED_TABLE_ID}`\n",
        "        ),\n",
        "        STRUCT(\n",
        "            'uris STRING, report_type STRING, company_name STRING, fiscal_year INT64, revenue_millions FLOAT64, net_income_millions FLOAT64, total_assets_millions FLOAT64, total_liabilities_millions FLOAT64, equity_millions FLOAT64, eps_basic FLOAT64, eps_diluted FLOAT64, dividends_per_share FLOAT64, employee_count INT64, business_segments ARRAY<STRING>, total_ghg_emissions FLOAT64, scope_1_ghg_emissions FLOAT64, scope_2_ghg_emissions FLOAT64, scope_3_ghg_emissions FLOAT64, carbon_intensity FLOAT64, energy_consumption FLOAT64, renewable_energy_usage FLOAT64, water_consumption FLOAT64, waste_generated FLOAT64, waste_recycled FLOAT64, sustainable_financing FLOAT64, reporting_period STRING, page_references ARRAY<STRING>, contexts ARRAY<STRING>, verbatim_quotes ARRAY<STRING>'\n",
        "            AS output_schema,\n",
        "            8192 AS max_output_tokens,\n",
        "            0 AS temperature\n",
        "        )\n",
        "    ) t\n",
        ");\n",
        "\"\"\"\n",
        "\n",
        "try:\n",
        "    print(\"⏳ Structuring data... This may take 3-4 minutes\")\n",
        "    job = client.query(generate_table_sql)\n",
        "    job.result()\n",
        "    print(\"✅ Structured metrics extracted successfully!\")\n",
        "\n",
        "except Exception as e:\n",
        "    print(f\"⚠️  Table generation issue: {e}\")"
      ],
      "metadata": {
        "id": "2QOTj5J1XUW4",
        "colab": {
          "base_uri": "https://localhost:8080/"
        },
        "outputId": "377fb26a-8ab7-4598-df66-2690c506559d"
      },
      "id": "2QOTj5J1XUW4",
      "execution_count": 32,
      "outputs": [
        {
          "output_type": "stream",
          "name": "stdout",
          "text": [
            "📊 Generating structured financial and ESG metrics...\n",
            "⏳ Structuring data... This may take 3-4 minutes\n",
            "✅ Structured metrics extracted successfully!\n"
          ]
        }
      ]
    },
    {
      "cell_type": "markdown",
      "source": [
        "# 🔮 Revenue Forecasting with TimesFM 2.0"
      ],
      "metadata": {
        "id": "QAwsY7BWr0l1"
      },
      "id": "QAwsY7BWr0l1"
    },
    {
      "cell_type": "code",
      "source": [
        "\n",
        "print(\"🔮 Generating metrics table\")\n",
        "\n",
        "metrics_sql = f\"\"\"\n",
        "CREATE OR REPLACE TABLE `{QUALIFIED_METRICS_TABLE_ID}` AS\n",
        "SELECT * FROM\n",
        "    ( SELECT\n",
        "        uri, fiscal_year,\n",
        "        extracted_text, company_name_formatted as company_name,\n",
        "        -- Determine report_type based on URI\n",
        "        CASE\n",
        "            WHEN LOWER(uri) LIKE '%annual%' THEN 'Annual'\n",
        "            WHEN LOWER(uri) LIKE '%sustainability%' THEN 'Sustainability'\n",
        "            ELSE 'Other'\n",
        "        END AS report_type,\n",
        "        fiscal_year_date,\n",
        "        reporting_period ,\n",
        "        -- Financial metrics: keep if Annual, else 0\n",
        "        CASE WHEN LOWER(uri) LIKE '%annual%' THEN revenue_millions ELSE 0 END AS revenue_millions,\n",
        "        CASE WHEN LOWER(uri) LIKE '%annual%' THEN net_income_millions ELSE 0 END AS net_income_millions,\n",
        "        CASE WHEN LOWER(uri) LIKE '%annual%' THEN total_assets_millions ELSE 0 END AS total_assets_millions,\n",
        "        CASE WHEN LOWER(uri) LIKE '%annual%' THEN total_liabilities_millions ELSE 0 END AS total_liabilities_millions,\n",
        "        CASE WHEN LOWER(uri) LIKE '%annual%' THEN equity_millions ELSE 0 END AS equity_millions,\n",
        "        CASE WHEN LOWER(uri) LIKE '%annual%' THEN dividends_per_share ELSE 0 END AS dividends_per_share,\n",
        "        CASE WHEN LOWER(uri) LIKE '%annual%' THEN eps_basic ELSE 0 END AS eps_basic,\n",
        "        CASE WHEN LOWER(uri) LIKE '%annual%' THEN eps_diluted ELSE 0 END AS eps_diluted,\n",
        "        CASE WHEN LOWER(uri) LIKE '%annual%' THEN employee_count ELSE 0 END AS employee_count,\n",
        "        CASE WHEN LOWER(uri) LIKE '%annual%' THEN sustainable_financing ELSE 0 END AS sustainable_financing,\n",
        "\n",
        "        -- Sustainability metrics: keep if Sustainability report, else 0\n",
        "        CASE WHEN LOWER(uri) LIKE '%sustainability%' THEN carbon_intensity ELSE 0 END AS carbon_intensity,\n",
        "        CASE WHEN LOWER(uri) LIKE '%sustainability%' THEN energy_consumption ELSE 0 END AS energy_consumption,\n",
        "        CASE WHEN LOWER(uri) LIKE '%sustainability%' THEN renewable_energy_usage ELSE 0 END AS renewable_energy_usage,\n",
        "        CASE WHEN LOWER(uri) LIKE '%sustainability%' THEN scope_1_ghg_emissions ELSE 0 END AS scope_1_ghg_emissions,\n",
        "        CASE WHEN LOWER(uri) LIKE '%sustainability%' THEN scope_2_ghg_emissions ELSE 0 END AS scope_2_ghg_emissions,\n",
        "        CASE WHEN LOWER(uri) LIKE '%sustainability%' THEN scope_3_ghg_emissions ELSE 0 END AS scope_3_ghg_emissions,\n",
        "        CASE WHEN LOWER(uri) LIKE '%sustainability%' THEN total_ghg_emissions ELSE 0 END AS total_ghg_emissions,\n",
        "        CASE WHEN LOWER(uri) LIKE '%sustainability%' THEN water_consumption ELSE 0 END AS water_consumption,\n",
        "        CASE WHEN LOWER(uri) LIKE '%sustainability%' THEN waste_generated ELSE 0 END AS waste_generated,\n",
        "        CASE WHEN LOWER(uri) LIKE '%sustainability%' THEN waste_recycled ELSE 0 END AS waste_recycled\n",
        "\n",
        "     FROM `{QUALIFIED_FINAL_TABLE_ID}`\n",
        "     ) t\n",
        "-- WHERE report_type != 'Annual';\n",
        "\n",
        "\"\"\"\n",
        "\n",
        "print(\"⏳ fetching metrics...\")\n",
        "job = client.query(metrics_sql)\n",
        "job.result()\n",
        "print(\"✅ Metrics table created successfully!\")"
      ],
      "metadata": {
        "colab": {
          "base_uri": "https://localhost:8080/"
        },
        "id": "ThCi0WF28s_6",
        "outputId": "7fb4e135-e5ca-46f1-ce12-8926f47e7d05"
      },
      "id": "ThCi0WF28s_6",
      "execution_count": 46,
      "outputs": [
        {
          "output_type": "stream",
          "name": "stdout",
          "text": [
            "🔮 Generating metrics table\n",
            "⏳ fetching metrics...\n",
            "✅ Metrics table created successfully!\n"
          ]
        }
      ]
    },
    {
      "cell_type": "markdown",
      "source": [
        "# Try Financial/ESG Details for pre-defined questions for selected company and fiscal_year and report type"
      ],
      "metadata": {
        "id": "m94nToNTEGmE"
      },
      "id": "m94nToNTEGmE"
    },
    {
      "cell_type": "code",
      "source": [
        "from IPython.display import display, Markdown\n",
        "\n",
        "\n",
        "# --- Load your BigQuery table ---\n",
        "#df = bpd.read_gbq(f\"{QUALIFIED_METRICS_TABLE_ID}\")\n",
        "metrics_sql1 = f\"\"\"\n",
        "SELECT *\n",
        "FROM `{QUALIFIED_METRICS_TABLE_ID}`\n",
        "\"\"\"\n",
        "df = bpd.read_gbq(metrics_sql1)\n",
        "\n",
        "# --- Choose which report to display ---\n",
        "company = \"novartis\"\n",
        "year = 2024\n",
        "rtype = \"Sustainability\"   # \"Annual\" or \"Sustainability Report\"\n",
        "\n",
        "# --- Filter ---\n",
        "filtered = df[\n",
        "    (df[\"company_name\"] == company)\n",
        "    & (df[\"fiscal_year\"] == year)\n",
        "    & (df[\"report_type\"] == rtype)\n",
        "]\n",
        "\n",
        "# --- Display pretty ---\n",
        "if not filtered.empty:\n",
        "    text = filtered[\"extracted_text\"].iloc[0]\n",
        "    display(Markdown(text))\n",
        "else:\n",
        "    print(\"No report found for that selection.\")\n",
        "\n",
        "\n",
        "# --- Grab the first row (or loop if multiple) ---\n",
        "text = df[\"extracted_text\"].iloc[0]\n",
        "\n",
        "# --- Pretty display in Colab ---\n",
        "print(\"\\n\\n===========================================================================\\n\\n\")\n",
        "display(Markdown(text))"
      ],
      "metadata": {
        "colab": {
          "base_uri": "https://localhost:8080/",
          "height": 1000
        },
        "id": "GvZ-uUFN_ow6",
        "outputId": "8eb57e4d-ef7b-4cdf-c907-d9c68bfbca44"
      },
      "id": "GvZ-uUFN_ow6",
      "execution_count": 57,
      "outputs": [
        {
          "output_type": "display_data",
          "data": {
            "text/plain": [
              "<IPython.core.display.HTML object>"
            ],
            "text/html": [
              "Load job 4081c89c-eaa8-422d-bca6-57dc635b41b9 is DONE. <a target=\"_blank\" href=\"https://console.cloud.google.com/bigquery?project=intellitrend-project-dev&j=bq:US:4081c89c-eaa8-422d-bca6-57dc635b41b9&page=queryresults\">Open Job</a>"
            ]
          },
          "metadata": {}
        },
        {
          "output_type": "display_data",
          "data": {
            "text/plain": [
              "<IPython.core.display.Markdown object>"
            ],
            "text/markdown": "Based on the Novartis in Society Integrated Report 2024, here are the detailed financial and sustainability insights.\n\n### **Financial Performance**\n\n*   **What is the total revenue this year?**\n    Total revenue (Net sales from continuing operations) for 2024 was **USD 50.317 billion** (p. 19).\n\n*   **How has revenue changed compared to last year?**\n    Revenue increased by **11% in USD** (12% in constant currencies) from USD 45.440 billion in 2023 (p. 19).\n\n*   **What is the net profit or loss?**\n    Net income from continuing operations was **USD 11.939 billion** in 2024, an increase of 39% (45% in constant currencies) from the prior year (p. 19).\n\n*   **How have the earnings per share (EPS) changed?**\n    Core basic earnings per share (EPS) from continuing operations increased by **21% in USD** (24% in constant currencies) to USD 7.81 in 2024, up from USD 6.47 in 2023 (p. 19).\n\n*   **Are gross margins improving or declining?**\n    The report does not provide a gross margin figure.\n\n*   **Are operating margins stable or volatile?**\n    The core operating income margin is improving, increasing to **38.7%** of net sales in 2024 from 36.0% in 2023 (p. 19).\n\n*   **How has net margin shifted year over year?**\n    The net income margin (from continuing operations) improved to **23.7%** in 2024 (calculated as $11.939B / $50.317B), up from 18.9% in 2023 (calculated as $8.572B / $45.440B) (p. 19).\n\n*   **Is cash flow from operations positive and consistent?**\n    Yes. Free cash flow from continuing operations was **USD 16.253 billion** in 2024, up 24% from USD 13.160 billion in 2023 (p. 19).\n\n*   **How much free cash flow is available?**\n    **USD 16.253 billion** from continuing operations in 2024 (p. 19).\n\n*   **How are working capital levels trending?**\n    This information is not available in the provided document.\n\n### **Balance Sheet & Liquidity**\n\nInformation regarding total debt, debt-to-equity ratio, current/quick ratios, and contingent liabilities is not available in this integrated report. The document refers to the full Annual Report / Form 20-F for more detailed financial information.\n\n*   **How much cash and equivalents are available?**\n    This information is not available in the provided document.\n\n### **Business Strategy**\n\n*   **What are the company’s core growth initiatives?**\n    The company's strategy is to \"Deliver high-value medicines to accelerate growth,\" driven by momentum in its existing portfolio (including *Entresto*, *Cosentyx*, *Kisqali*) and key upcoming launches (p. 13).\n\n*   **Is management investing in new markets or products?**\n    Yes, Novartis focuses on four core therapeutic areas (cardiovascular, renal and metabolic; immunology; neuroscience; oncology) and five technology platforms (chemistry, biotherapeutics, radioligand therapy, xRNA, gene and cell therapy) (p. 13).\n\n*   **How much is spent on research and development (R&D)?**\n    In 2024, the core R&D expense from continuing operations was **USD 9.3 billion** (p. 15).\n\n*   **Are acquisitions or divestitures planned?**\n    The company has a history of strategic acquisitions and divestments to focus on its core pharmaceutical business. The Board reviewed strategic considerations around M&A in 2024, including the acquisition of Mariana Oncology and MorphoSys (p. 4, 48).\n\n*   **Is the company expanding geographically?**\n    The company focuses on priority markets: US, Germany, China, and Japan, which account for most of the expected growth in global healthcare spending. It also maintains a strong presence in other markets worldwide (p. 13).\n\n*   **What is the company’s competitive advantage?**\n    The company's advantage lies in its focus on innovation within key therapeutic areas and advanced technology platforms, a robust R&D pipeline, and a strategy to build depth and scientific expertise (p. 13).\n\n*   **Is the advantage sustainable against competitors?**\n    The company aims for sustainability by concentrating resources on priority programs, effective life-cycle management for key brands, and collaborating with external researchers and biotech companies to discover new medicines (p. 13).\n\n*   **Is digital transformation a core part of the strategy?**\n    Yes. \"Scale data science and technology\" is a foundational pillar of the strategy. The company is increasingly integrating artificial intelligence (AI) and data science in R&D to accelerate drug design and in business operations to enhance productivity (p. 5, 13, 21).\n\n### **Risk Factors**\n\n*   **What macroeconomic risks affect the business?**\n    The company is affected by geopolitical and economic volatility, aging populations, and lifestyle changes that put pressure on healthcare systems (p. 4, 12).\n\n*   **What industry-specific risks are highlighted?**\n    Key industry risks include pricing and reimbursement pressure, evolving legislation (e.g., US Inflation Reduction Act), and the need to competitively discover and develop high-value medicines (p. 12, 53, 54).\n\n*   **What operational risks are disclosed?**\n    Operational risks include cybersecurity and data protection, talent management, failure to implement strategic technology programs, legal and compliance challenges, manufacturing and product quality issues, and supply chain disruptions (p. 53, 55).\n\n*   **Are supply chain risks material?**\n    Yes, supply chain continuity is listed as a key operational risk. The company works to withstand potential disruptions and improve resilience (p. 4, 53, 55).\n\n*   **Are legal or regulatory risks mentioned?**\n    Yes, \"Legal, regulatory, ethics and compliance\" is a key operational risk, citing challenges from evolving regulations and societal expectations (p. 53, 55).\n\n*   **How is foreign exchange risk managed?**\n    The company reports financial results in both USD and constant currencies (cc) \"to remove the impact of exchange rate movements\" (p. 19).\n\n*   **How dependent is revenue on a few customers?**\n    This information is not available in the provided document.\n\n*   **Are raw material price risks significant?**\n    The risk is mentioned in the context of supply chain resilience, as many products \"require highly specialized raw materials\" (p. 15).\n\n### **Governance & Leadership**\n\n*   **Is the board majority independent?**\n    Yes, \"All Board members are independent and nonexecutive\" (p. 48).\n\n*   **How many women or minorities are on the board?**\n    Of the 13 board members pictured, **4 are women (31%)**. Minority representation is not specified (p. 51).\n\n*   **Is executive compensation performance-linked?**\n    Yes, compensation is heavily performance-linked. For the CEO in 2024, 88.5% of total realized compensation was variable. It is tied to short-term financial and strategic goals (including ESG) and long-term value creation metrics like sales growth, operating income growth, innovation, and relative total shareholder return (p. 56-58).\n\n*   **Does management own significant equity?**\n    The report mentions an Employee Share Purchase Plan (ESPP) and that a portion of executive incentive pay is in equity, but specific ownership levels are not disclosed (p. 36, 57).\n\n*   **Are shareholder rights well protected?**\n    Shareholder rights are guaranteed under Swiss law and the company's Articles of Incorporation. All shares have equal voting rights and dividend entitlement (p. 49).\n\n*   **Is succession planning disclosed?**\n    Yes, the Board discussed longer-term succession planning in 2024, including the nomination of a new Board Chair for 2025 (p. 4, 48).\n\n*   **Has management delivered on past promises?**\n    The report highlights strong 2024 performance, with double-digit growth and two guidance upgrades for net sales, indicating delivery on financial promises (p. 4, 56).\n\n*   **Is the auditor independent and credible?**\n    The external auditor's role is described on page 48. KPMG AG provided the independent assurance report on sustainability information (p. 72-73).\n\n### **Shareholder Value**\n\n*   **Is the company paying dividends?**\n    Yes. A dividend of **CHF 3.50** per share is proposed for 2024, a 6% increase from the prior year (p. 4, 19).\n\n*   **Is the dividend payout sustainable?**\n    The report highlights strong free cash flow (USD 16.3 billion), suggesting the dividend is sustainable, but a payout ratio is not provided (p. 19).\n\n*   **Is the dividend policy clear?**\n    While a formal policy is not stated, the company notes a consistent history of dividend increases (p. 4).\n\n*   **Are share buybacks taking place?**\n    This information is not available in the provided document.\n\n*   **Is return on equity (ROE) improving?**\n    This information is not available in the provided document.\n\n*   **Is return on assets (ROA) stable?**\n    This information is not available in the provided document.\n\n*   **Has shareholder equity grown consistently?**\n    This information is not available in the provided document.\n\n*   **What is the earnings guidance for next year?**\n    The company provides a longer-term outlook: \"sales growth average at least 5% annually over the five years to 2029, and reach 40% core operating income margin by 2027\" (p. 5).\n\n---\n### **Sustainability (ESG) Performance**\n\n### **Environmental**\n\n*   **What is the total Scope 1, 2, and 3 emissions?** (p. 61)\n    *   Scope 1: **207.0** thousand tCO₂e\n    *   Scope 2 (market-based): **30.0** thousand tCO₂e\n    *   Scope 3: **4,350.3** thousand tCO₂e\n\n*   **Are science-based targets disclosed?**\n    Yes, Novartis has near- and long-term ambitions approved by the Science Based Targets initiative (SBTi) (p. 25, 28).\n\n*   **Has the company committed to net-zero?**\n    Yes, the company has a target to achieve net-zero GHG emissions by **2040** (p. 25, 26).\n\n*   **What percentage of energy is renewable?**\n    In 2024, **96%** of purchased electricity consumption was renewable (p. 27).\n\n*   **Is energy efficiency improving year over year?**\n    Total energy use (on-site and purchased) decreased from 6.8 million GJ in 2022 to **5.8 million GJ** in 2024, indicating improved efficiency (p. 28, 61).\n\n*   **What is the total water withdrawal?**\n    **33.3 million m³** in 2024 (p. 33, 61).\n\n*   **What is water recycled or reused?**\n    The report mentions using more recycled water as a strategy but does not quantify the amount (p. 31).\n\n*   **Is the company exposed to water stress?**\n    Yes, the company identifies sites in water-stressed basins and plans to implement water use reduction targets for them. A physical risk analysis identified manufacturing sites in Pakistan, Belgium, Netherlands, Indonesia, and China as having high or very high risk for water stress (p. 31, 65).\n\n*   **How much total waste is generated?**\n    **31,100 tonnes** in 2024 (p. 33, 61).\n\n*   **How much waste is recycled or diverted from landfill?**\n    **15,600 tonnes** were recycled in 2024 (p. 33, 61).\n\n*   **Are hazardous waste levels disclosed?**\n    Yes. In 2024, 4,200 tonnes of hazardous waste were recycled and 10,600 tonnes were not recycled (p. 61).\n\n*   **How sustainable are raw material sourcing practices?**\n    The company is implementing a sustainable sourcing program and conducting nature assessments for raw material use (p. 33).\n\n*   **Are biodiversity risks addressed?**\n    Yes, the company conducted a nature assessment aligned with the TNFD LEAP approach to understand impacts on biodiversity, water, and waste (p. 31).\n\n### **Social**\n\n*   **What is the total workforce size?**\n    **78,310** employees (headcount) at the end of 2024 (p. 10, 36, 60).\n\n*   **What percentage of employees are women?**\n    **52%** of the overall headcount are women (p. 36, 60).\n\n*   **What percentage of leadership roles are held by women?**\n    Women hold **48%** of overall management roles and **39%** of top management roles (p. 35, 36, 60).\n\n*   **What is minority representation in the workforce?**\n    This information is not available in the provided document.\n\n*   **What is the employee turnover rate?**\n    **12%** in 2024 (down from 17% in 2023) (p. 36, 60).\n\n*   **What is the lost-time injury frequency rate?**\n    The lost-time injury and illness rate for Novartis employees was **0.13** per 200,000 hours worked in 2024 (p. 36, 60).\n\n*   **Are labor rights respected across the supply chain?**\n    Yes, this is a key part of the company's human rights and supply chain management policies. The Third Party Code includes provisions for labor rights, and suppliers are assessed against them (p. 37, 46).\n\n*   **Is child labor risk disclosed in supply chains?**\n    Yes, the company acknowledges this risk and publishes a separate report on due diligence for child labor (p. 3, 37).\n\n*   **Are employee training hours increasing per year?**\n    The annual average was **39 hours per employee** in 2024, a slight increase from 38 in 2023 (p. 36, 60).\n\n*   **Are wages above local living wage levels?**\n    Yes, the company is \"committed to paying employees a living wage that meets or exceeds the amount for basic living needs\" (p. 36).\n\n*   **Is there employee engagement survey data?**\n    Yes, the company measures employee engagement every quarter through a voluntary, anonymous survey and maintains a Wellbeing Index (p. 34).\n\n*   **What community development initiatives exist?**\n    The report focuses on access to medicines and health system strengthening as its primary societal contribution (p. 17, 40).\n\n*   **What philanthropic contributions were made?**\n    Political contributions are disclosed (**USD 1.222 million** globally), but broader philanthropic contributions are not quantified (p. 45, 62).\n\n*   **Is there disclosure on data privacy and cybersecurity?**\n    Yes, this is addressed as a key operational risk and a governance priority, with a dedicated cybersecurity risk management program (p. 44, 53, 55).\n\n### **Governance (ESG-specific)**\n\n*   **Is there a dedicated board ESG committee?**\n    Yes, the **Governance, Sustainability and Nomination Committee (GSNC)** holds primary responsibility for the oversight of the ESG strategy (p. 49).\n\n*   **How often does the board review ESG matters?**\n    The GSNC regularly advises the Board on ESG matters. At the management level, the ECN-level ESG Committee, chaired by the CEO, meets every two months (p. 49, 50).\n\n*   **Is ESG risk included in enterprise risk management?**\n    Yes. \"Environmental, social and governance matters\" is a defined strategic risk in the ERM framework (p. 53).\n\n*   **Is executive compensation tied to ESG goals?**\n    Yes. Performance against ESG-related targets is integrated into the Executive Committee's compensation as one of four strategic objectives that account for 40% of the Annual Incentive (p. 25, 57).\n\n*   **Is ESG performance externally assured?**\n    Yes, selected sustainability information is provided with limited assurance by **KPMG AG** (p. 3, 72-73).\n\n*   **Are ESG disclosures aligned with GRI or SASB?**\n    Yes, the report is prepared with reference to the **Global Reporting Initiative (GRI) standards**. A detailed GRI content index is on pages 69-71.\n\n*   **Does the company report under TCFD or ISSB?**\n    Yes, the report is prepared in accordance with the recommendations of the **Task Force on Climate-related Financial Disclosures (TCFD)**. A TCFD index is on page 64.\n\n*   **Is CDP reporting publicly available?**\n    This is not mentioned in the document.\n\n*   **Are stakeholder engagement practices disclosed?**\n    Yes, a detailed overview of stakeholder engagement, including groups, purpose, means of engagement, and issues discussed, is provided on page 17.\n\n### **Risk & Opportunity (ESG)**\n\n*   **What are the identified physical climate risks?**\n    Physical risks identified include chronic risks (water stress, heat stress) and acute risks (cyclones, flooding, drought). A detailed scenario analysis was conducted for operations and the supply chain (p. 29-30, 65-66).\n\n*   **What are the identified transition risks?**\n    Transition risks identified include carbon pricing (direct and indirect), carbon certificate pricing, and litigation risk. Opportunities include lower electricity costs from renewables (p. 27, 67).\n\n*   **Is there disclosure on carbon pricing exposure?**\n    Yes, the company quantifies its potential financial exposure to carbon pricing under different scenarios, estimating an impact of **USD 70-184 million** in operating expenditure for 2024-2030 (p. 27, 67).\n\n*   **How dependent is revenue on carbon-intensive activities?**\n    The report analyzes how climate change could alter disease patterns and thus affect demand and sales for its products, but does not quantify revenue dependency on carbon-intensive activities directly (p. 29, 68).\n\n*   **What sustainability-linked opportunities are identified?**\n    Opportunities include potential savings in electricity costs from switching to renewables (**USD 133-228 million** from 2024-2030) and potential sales increases for medicines treating climate-exacerbated diseases like renal conditions (p. 27, 29, 68).\n\n*   **Are green products or services generating revenue?**\n    This is not quantified in the report.\n\n*   **Is access to sustainable finance increasing?**\n    The report mentions performance on sustainability-linked bond targets is published on its website, but provides no further details (p. 3).\n\n*   **Are suppliers evaluated for ESG performance?**\n    Yes, Novartis has embedded environmental and social criteria into its procurement processes and supplier contracts (p. 28, 46).\n\n*   **Are ESG clauses included in supplier contracts?**\n    Yes. In 2024, **76%** of supplier emissions were covered by contracts that include environmental criteria, with a goal of 100% by 2025 (p. 28).\n\n*   **Is there disclosure on product lifecycle impacts?**\n    Yes, the company systematically integrates life-cycle assessment (LCA) methods in its R&D pipeline to improve the environmental impact of its products (p. 26)."
          },
          "metadata": {}
        },
        {
          "output_type": "stream",
          "name": "stdout",
          "text": [
            "\n",
            "\n",
            "===========================================================================\n",
            "\n",
            "\n"
          ]
        },
        {
          "output_type": "display_data",
          "data": {
            "text/plain": [
              "<IPython.core.display.Markdown object>"
            ],
            "text/markdown": ""
          },
          "metadata": {}
        }
      ]
    },
    {
      "cell_type": "code",
      "source": [
        "df_company = df[\n",
        "    (df[\"company_name\"].str.lower() == \"novartis\") &\n",
        "    (df[\"report_type\"].str.lower() == \"annual\")\n",
        "]\n",
        "df_company = df_company.sort_values(\"fiscal_year\")\n",
        "\n",
        "plt.plot(df_company[\"fiscal_year\"], df_company[\"revenue_millions\"], marker=\"o\", label=\"Revenue\")\n",
        "plt.plot(df_company[\"fiscal_year\"], df_company[\"net_income_millions\"], marker=\"o\", label=\"Net Income\")\n",
        "plt.xlabel(\"Fiscal Year\")\n",
        "plt.ylabel(\"£ Millions\")\n",
        "plt.title(\"Revenue vs Net Income (Novartis)\")\n",
        "plt.legend()\n",
        "plt.show()"
      ],
      "metadata": {
        "colab": {
          "base_uri": "https://localhost:8080/",
          "height": 472
        },
        "id": "1MhVZSnNFvUB",
        "outputId": "5233f090-40b2-4314-d0bb-4b5125cfd639"
      },
      "id": "1MhVZSnNFvUB",
      "execution_count": 60,
      "outputs": [
        {
          "output_type": "display_data",
          "data": {
            "text/plain": [
              "<Figure size 640x480 with 1 Axes>"
            ],
            "image/png": "[encoded data removed]"
          },
          "metadata": {}
        }
      ]
    },
    {
      "cell_type": "code",
      "source": [
        "\n",
        "import numpy as np\n",
        "\n",
        "# Filter only annual reports\n",
        "df_filtered = df[df[\"report_type\"].str.lower() == \"annual\"]\n",
        "\n",
        "# Group by company and year\n",
        "df_grouped = df_filtered.groupby([\"company_name\", \"fiscal_year\"])[\n",
        "    [\"revenue_millions\", \"net_income_millions\"]\n",
        "].sum().reset_index()\n",
        "\n",
        "# Get unique values\n",
        "companies = df_grouped[\"company_name\"].unique().tolist()\n",
        "years = sorted(df_grouped[\"fiscal_year\"].unique())\n",
        "\n",
        "# Set bar width\n",
        "bar_width = 0.15\n",
        "x = np.arange(len(years))  # positions for fiscal years\n",
        "\n",
        "plt.figure(figsize=(12,6))\n",
        "\n",
        "# Plot each company’s bars\n",
        "for i, company in enumerate(companies):\n",
        "    company_data = df_grouped[df_grouped[\"company_name\"] == company]\n",
        "    revenues = [company_data[company_data[\"fiscal_year\"] == y][\"revenue_millions\"].sum() for y in years]\n",
        "    plt.bar(x + i*bar_width, revenues, width=bar_width, label=f\"{company} Revenue\")\n",
        "\n",
        "plt.xticks(x + bar_width*(len(companies)-1)/2, years)  # Center ticks\n",
        "plt.xlabel(\"Fiscal Year\")\n",
        "plt.ylabel(\"£ Millions\")\n",
        "plt.title(\"Revenue Comparison Across Companies (All Years)\")\n",
        "plt.legend()\n",
        "plt.show()\n",
        "\n",
        "# Repeat for Net Income\n",
        "plt.figure(figsize=(12,6))\n",
        "for i, company in enumerate(companies):\n",
        "    company_data = df_grouped[df_grouped[\"company_name\"] == company]\n",
        "    net_incomes = [company_data[company_data[\"fiscal_year\"] == y][\"net_income_millions\"].sum() for y in years]\n",
        "    plt.bar(x + i*bar_width, net_incomes, width=bar_width, label=f\"{company} Net Income\")\n",
        "\n",
        "plt.xticks(x + bar_width*(len(companies)-1)/2, years)\n",
        "plt.xlabel(\"Fiscal Year\")\n",
        "plt.ylabel(\"£ Millions\")\n",
        "plt.title(\"Net Income Comparison Across Companies (All Years)\")\n",
        "plt.legend()\n",
        "plt.show()\n"
      ],
      "metadata": {
        "id": "v83_sfrZG6PL",
        "outputId": "c2d9f91f-755e-48af-c2de-0c216f76b6d7",
        "colab": {
          "base_uri": "https://localhost:8080/",
          "height": 1000
        }
      },
      "id": "v83_sfrZG6PL",
      "execution_count": 64,
      "outputs": [
        {
          "output_type": "display_data",
          "data": {
            "text/plain": [
              "<Figure size 1200x600 with 1 Axes>"
            ],
            "image/png": "[encoded data removed]"
          },
          "metadata": {}
        },
        {
          "output_type": "display_data",
          "data": {
            "text/plain": [
              "<Figure size 1200x600 with 1 Axes>"
            ],
            "image/png": "[encoded data removed]"
          },
          "metadata": {}
        }
      ]
    },
    {
      "cell_type": "code",
      "source": [
        "\n",
        "print(\"🔮 Generating revenue forecasts with TimesFM 2.0...\")\n",
        "\n",
        "forecast_sql = f\"\"\"\n",
        "CREATE OR REPLACE TABLE `{QUALIFIED_FORECAST_TABLE_ID}` AS\n",
        "SELECT\n",
        "  *\n",
        "FROM\n",
        "  AI.FORECAST(\n",
        "    TABLE `{QUALIFIED_METRICS_TABLE_ID}`,\n",
        "    data_col => 'revenue_millions',\n",
        "    timestamp_col => 'fiscal_year_date',\n",
        "    model => 'TimesFM 2.0',\n",
        "    id_cols => ['company_name'],\n",
        "    horizon => 5,\n",
        "    confidence_level => .95\n",
        "  )\n",
        "\"\"\"\n",
        "\n",
        "print(\"⏳ Forecasting...\")\n",
        "job = client.query(forecast_sql)\n",
        "job.result()\n",
        "print(\"✅ Forecast table created successfully!\")"
      ],
      "metadata": {
        "id": "QjS1OIZwmIZg",
        "colab": {
          "base_uri": "https://localhost:8080/"
        },
        "outputId": "78813662-0943-4d4c-8c21-8ab4655b0b60"
      },
      "id": "QjS1OIZwmIZg",
      "execution_count": 44,
      "outputs": [
        {
          "output_type": "stream",
          "name": "stdout",
          "text": [
            "🔮 Generating revenue forecasts with TimesFM 2.0...\n",
            "⏳ Forecasting...\n",
            "✅ Forecast table created successfully!\n"
          ]
        }
      ]
    },
    {
      "cell_type": "code",
      "source": [
        "# import requests\n",
        "# from google.cloud import bigquery\n",
        "\n",
        "# PROJECT_ID = \"intellitrend-project-dev\"   # update if needed\n",
        "# DATASET_ID = \"db_reports_insights_annual_esg\"\n",
        "# TABLE_ID = \"all_reports_annual_esg\"\n",
        "\n",
        "# # Step 0: Fetch file list from GitHub\n",
        "# url = \"https://api.github.com/repos/intellitrend-global/google_hackathon_bq_ai/contents/annual_esg_reports\"\n",
        "# response = requests.get(url)\n",
        "# files = response.json()\n",
        "\n",
        "# pdf_files = [(f[\"name\"], f[\"download_url\"]) for f in files if f[\"name\"].endswith(\".pdf\")]\n",
        "\n",
        "# print(\"📄 Found PDF files on GitHub:\")\n",
        "# for name, link in pdf_files:\n",
        "#     print(f\"   {name} -> {link}\")\n",
        "\n",
        "# # Step 1: Initialize BigQuery client\n",
        "# client = bigquery.Client(project=PROJECT_ID)\n",
        "\n",
        "# # Step 2: Ensure dataset exists (create if not)\n",
        "# dataset_ref = bigquery.DatasetReference(PROJECT_ID, DATASET_ID)\n",
        "# try:\n",
        "#     client.get_dataset(dataset_ref)  # Check if it exists\n",
        "#     print(f\"✅ Dataset {DATASET_ID} already exists\")\n",
        "# except Exception:\n",
        "#     dataset = bigquery.Dataset(dataset_ref)\n",
        "#     dataset.location = \"US\"\n",
        "#     client.create_dataset(dataset, timeout=30)\n",
        "#     print(f\"📦 Created dataset {DATASET_ID}\")\n",
        "\n",
        "# # Step 3: Define schema\n",
        "# schema = [\n",
        "#     bigquery.SchemaField(\"filename\", \"STRING\"),\n",
        "#     bigquery.SchemaField(\"uri\", \"STRING\"),\n",
        "# ]\n",
        "\n",
        "# # Step 4: Prepare rows\n",
        "# rows = [{\"filename\": name, \"uri\": link} for name, link in pdf_files]\n",
        "\n",
        "# # Step 5: Load into BigQuery\n",
        "# job_config = bigquery.LoadJobConfig(schema=schema, write_disposition=\"WRITE_TRUNCATE\")\n",
        "# table_ref = f\"{PROJECT_ID}.{DATASET_ID}.{TABLE_ID}\"\n",
        "\n",
        "# job = client.load_table_from_json(rows, table_ref, job_config=job_config)\n",
        "# job.result()\n",
        "\n",
        "# print(f\"✅ Table {table_ref} created/updated with {len(pdf_files)} GitHub files\")\n"
      ],
      "metadata": {
        "id": "xNskNaElWO_1"
      },
      "id": "xNskNaElWO_1",
      "execution_count": null,
      "outputs": []
    }
  ],
  "metadata": {
    "language_info": {
      "name": "python"
    },
    "colab": {
      "provenance": []
    },
    "kernelspec": {
      "name": "python3",
      "display_name": "Python 3"
    }
  },
  "nbformat": 4,
  "nbformat_minor": 5
}