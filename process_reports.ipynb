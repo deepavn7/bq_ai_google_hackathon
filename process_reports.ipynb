{
  "cells": [
    {
      "cell_type": "markdown",
      "source": [
        "# 🌍 ESG & 💲Financial Intelligence Platform\n",
        "## AI-Powered Analysis of Corporate Reports (ESG And Annual)\n",
        "\n",
        "**🎯 What this does:**\n",
        "- Automatically processes PDF reports from Google Cloud Storage\n",
        "- Uses Gemini 2.5 Pro to extract financial & ESG metrics\n",
        "- Generates forecasts using Google's TimesFM 2.0 model\n",
        "- Analyzes companies: Amgen, Novartis, Target\n",
        "\n",
        "**📊 Features:**\n",
        "- ✅ Automated PDF processing from Cloud Storage\n",
        "- ✅ AI-powered data extraction (Financial + ESG metrics)\n",
        "- ✅ Revenue forecasting with TimesFM 2.0\n",
        "- ✅ Multi-company comparative analysis\n",
        "\n"
      ],
      "metadata": {
        "id": "B4mF9BKbVXq9"
      },
      "id": "B4mF9BKbVXq9"
    },
    {
      "cell_type": "markdown",
      "source": [
        "# 🔑Setup & Authentication"
      ],
      "metadata": {
        "id": "KdGXBO2wqGdM"
      },
      "id": "KdGXBO2wqGdM"
    },
    {
      "cell_type": "code",
      "source": [
        "\n",
        "print(\"🌟 Welcome to the ESG & Financial Intelligence Platform!\")\n",
        "print(\"🔧 Setting up environment...\")\n",
        "\n",
        "# Authenticate with Google Cloud\n",
        "from google.colab import auth\n",
        "auth.authenticate_user()\n",
        "\n",
        "# Install required packages\n",
        "!pip install -q bigframes google-cloud-bigquery plotly seaborn\n",
        "\n",
        "# Import libraries\n",
        "import bigframes.pandas as bpd\n",
        "from google.cloud import bigquery\n",
        "import pandas as pd\n",
        "import plotly.express as px\n",
        "import plotly.graph_objects as go\n",
        "from plotly.subplots import make_subplots\n",
        "import seaborn as sns\n",
        "import matplotlib.pyplot as plt\n",
        "\n",
        "print(\"✅ Authentication complete!\")\n",
        "print(\"✅ Libraries installed!\")"
      ],
      "metadata": {
        "id": "MsdBozKaVcBV",
        "colab": {
          "base_uri": "https://localhost:8080/"
        },
        "outputId": "c564c97e-6d44-41e4-f5fe-916acfbf5adf"
      },
      "id": "MsdBozKaVcBV",
      "execution_count": 12,
      "outputs": [
        {
          "output_type": "stream",
          "name": "stdout",
          "text": [
            "🌟 Welcome to the ESG & Financial Intelligence Platform!\n",
            "🔧 Setting up environment...\n",
            "✅ Authentication complete!\n",
            "✅ Libraries installed!\n"
          ]
        }
      ]
    },
    {
      "cell_type": "markdown",
      "source": [
        "# 🚀 Intializing Parameters"
      ],
      "metadata": {
        "id": "G8ZIpU_YqTKm"
      },
      "id": "G8ZIpU_YqTKm"
    },
    {
      "cell_type": "code",
      "source": [
        "# Replace the below with other company names from this list:\n",
        "# novartis, amgen, target, bankofmontreal, lloyd, wellsfargo\n",
        "\n",
        "company1 = \"bankofmontreal\"\n",
        "company2 =\"wellsfargo\"\n",
        "company3 = \"jpmorganchase\"\n",
        "\n",
        "DATA_FILES_PATH=\"gs://report_insights\"\n",
        "\n",
        "PROJECT_ID = \"intellitrend-project-dev\"   # update if needed\n",
        "PROJECT_LOCATION=\"US\" # Others are EU, ASIA\n",
        "CLOUD_RES_CONN = \"ghack_conn\" #must be all small case\n",
        "\n",
        "\n",
        "DATASET_ID = \"db_reports_insights_annual_esg\" #Name of dataset to be created in BQ\n",
        "OBJ_TABLE_ID = \"all_reports_obj_table_metadata\" #Objec table name. That holds the metadata of the source files in GCS\n",
        "RAW_TABLE_ID=\"all_reports_ai_text_raw\"   # the output text that gets extracted based on prmpt - using ML.GENERATE_TEXT\n",
        "\n",
        "CURATED_TABLE_ID=\"all_reports_ai_text_curated\" # response_text extracted from JSON output\n",
        "CURATED2_TABLE_ID=\"all_reports_ai_text_curated2\" # the output text that gets extracted based on prmpt - using AI.GENERATE (An alternate way - for comparison)\n",
        "\n",
        "FINAL_TABLE_ID=\"all_reports_ai_text_final\" # output metrics info from the curated table - using AI.GENERATE_TABLE\n",
        "\n",
        "METRICS_TABLE_ID = \"all_reports_metrics\"  # format the output final table\n",
        "FORECAST_TABLE_ID=\"all_reports_forecast\" # forecast table from the formatted-output\n",
        "\n",
        "QUALIFIED_CLOUD_RES_CONN = f\"{PROJECT_ID}.{PROJECT_LOCATION}.{CLOUD_RES_CONN}\"\n",
        "\n",
        "QUALIFIED_OBJ_TABLE_ID= f\"{PROJECT_ID}.{DATASET_ID}.{OBJ_TABLE_ID}\"\n",
        "QUALIFIED_RAW_TABLE_ID= f\"{PROJECT_ID}.{DATASET_ID}.{RAW_TABLE_ID}\"\n",
        "\n",
        "QUALIFIED_CURATED_TABLE_ID= f\"{PROJECT_ID}.{DATASET_ID}.{CURATED_TABLE_ID}\"\n",
        "QUALIFIED_CURATED2_TABLE_ID= f\"{PROJECT_ID}.{DATASET_ID}.{CURATED2_TABLE_ID}\"\n",
        "\n",
        "QUALIFIED_METRICS_TABLE_ID= f\"{PROJECT_ID}.{DATASET_ID}.{METRICS_TABLE_ID}\"\n",
        "\n",
        "QUALIFIED_FINAL_TABLE_ID= f\"{PROJECT_ID}.{DATASET_ID}.{FINAL_TABLE_ID}\"\n",
        "QUALIFIED_FORECAST_TABLE_ID= f\"{PROJECT_ID}.{DATASET_ID}.{FORECAST_TABLE_ID}\"\n",
        "\n",
        "MODEL_ENDPOINT=\"gemini-2.5-pro\"\n",
        "MODEL_NAME=\"gemini_model_25pro\"\n",
        "QUALIFIED_MODEL_ID=f\"{PROJECT_ID}.{DATASET_ID}.{MODEL_NAME}\"\n",
        "\n",
        "\n",
        "\n",
        "\n",
        "# --- Bigframes setup ---\n",
        "bpd.options.bigquery.project = PROJECT_ID\n",
        "bpd.options.bigquery.location = PROJECT_LOCATION"
      ],
      "metadata": {
        "id": "j9wXa542JAad"
      },
      "id": "j9wXa542JAad",
      "execution_count": 13,
      "outputs": []
    },
    {
      "cell_type": "markdown",
      "source": [
        "# 🏗️ Project Configuration"
      ],
      "metadata": {
        "id": "xEZ9AjxmqYPW"
      },
      "id": "xEZ9AjxmqYPW"
    },
    {
      "cell_type": "code",
      "source": [
        "\n",
        "from google.colab import userdata\n",
        "\n",
        "# Configure BigFrames\n",
        "bpd.options.bigquery.project = PROJECT_ID\n",
        "bpd.options.bigquery.location = PROJECT_LOCATION\n",
        "\n",
        "# Initialize BigQuery client\n",
        "client = bigquery.Client(project=PROJECT_ID)\n",
        "\n",
        "print(f\"✅ Project configured: {PROJECT_ID}\")\n",
        "print(\"✅ BigFrames ready for action!\")"
      ],
      "metadata": {
        "id": "Jq2mXY6ZWC29",
        "colab": {
          "base_uri": "https://localhost:8080/"
        },
        "outputId": "8159799a-9639-4859-b9c9-4231a36e5709"
      },
      "id": "Jq2mXY6ZWC29",
      "execution_count": 3,
      "outputs": [
        {
          "output_type": "stream",
          "name": "stdout",
          "text": [
            "✅ Project configured: intellitrend-project-dev\n",
            "✅ BigFrames ready for action!\n"
          ]
        }
      ]
    },
    {
      "cell_type": "markdown",
      "source": [
        "# 🔗Create Cloud Resource Connection"
      ],
      "metadata": {
        "id": "ibVYprE2qbYa"
      },
      "id": "ibVYprE2qbYa"
    },
    {
      "cell_type": "code",
      "source": [
        "!bq mk \\\n",
        "  --connection \\\n",
        "  --project_id={PROJECT_ID} \\\n",
        "  --connection_type=CLOUD_RESOURCE \\\n",
        "  --location={PROJECT_LOCATION} \\\n",
        "  {CLOUD_RES_CONN}"
      ],
      "metadata": {
        "id": "-5dp4Ss5BmI_",
        "colab": {
          "base_uri": "https://localhost:8080/"
        },
        "outputId": "e9b5bfa5-2f2b-40f8-c08f-fe4384b705a6"
      },
      "id": "-5dp4Ss5BmI_",
      "execution_count": 27,
      "outputs": [
        {
          "output_type": "stream",
          "name": "stdout",
          "text": [
            "BigQuery error in mk operation: Already Exists: Connection\n",
            "projects/573553606303/locations/us/connections/ghack_conn\n"
          ]
        }
      ]
    },
    {
      "cell_type": "markdown",
      "source": [
        "# 🆔Fetch Service Account associated with the Cloud Res Connection"
      ],
      "metadata": {
        "id": "TJA-cM8fqkea"
      },
      "id": "TJA-cM8fqkea"
    },
    {
      "cell_type": "code",
      "source": [
        "SERVICE_ACCT = !bq show --format=prettyjson \\\n",
        "  --connection \\\n",
        "  --project_id={PROJECT_ID} \\\n",
        "  --location={PROJECT_LOCATION} \\\n",
        "  {CLOUD_RES_CONN} | grep \"serviceAccountId\" | cut -d '\"' -f 4\n",
        "\n",
        "SERVICE_ACCT_EMAIL = SERVICE_ACCT[0]  # first (and only) line\n",
        "print(SERVICE_ACCT_EMAIL)"
      ],
      "metadata": {
        "id": "Br8HeQf8COGv",
        "colab": {
          "base_uri": "https://localhost:8080/"
        },
        "outputId": "76ff64e6-ed61-4667-ca1c-7e2522034f1f"
      },
      "id": "Br8HeQf8COGv",
      "execution_count": 28,
      "outputs": [
        {
          "output_type": "stream",
          "name": "stdout",
          "text": [
            "bqcx-573553606303-2s0n@gcp-sa-bigquery-condel.iam.gserviceaccount.com\n"
          ]
        }
      ]
    },
    {
      "cell_type": "markdown",
      "source": [
        "# 👥Give the below roles to the Conn Service Account:\n",
        "  * objectViewer and  \n",
        "  * aiplatformUser\n",
        "\n"
      ],
      "metadata": {
        "id": "wLTg-1olqrA5"
      },
      "id": "wLTg-1olqrA5"
    },
    {
      "cell_type": "code",
      "source": [
        "import time\n",
        "\n",
        "# Use $SERVICE_ACCT_EMAIL so the Python variable expands in the shell\n",
        "!gcloud projects add-iam-policy-binding {PROJECT_ID} \\\n",
        "    --member=\"serviceAccount:$SERVICE_ACCT_EMAIL\" \\\n",
        "    --role=\"roles/storage.objectViewer\" \\\n",
        "    --format=none\n",
        "\n",
        "!gcloud projects add-iam-policy-binding {PROJECT_ID} \\\n",
        "    --member=\"serviceAccount:$SERVICE_ACCT_EMAIL\" \\\n",
        "    --role=\"roles/aiplatform.user\" \\\n",
        "    --format=none\n",
        "\n",
        "!gcloud projects add-iam-policy-binding {PROJECT_ID} \\\n",
        "    --member=\"serviceAccount:$SERVICE_ACCT_EMAIL\" \\\n",
        "    --role=\"roles/bigquery.connectionUser\" \\\n",
        "    --format=none\n",
        "\n",
        "\n",
        "!gcloud projects add-iam-policy-binding {PROJECT_ID} \\\n",
        "    --member=\"serviceAccount:$SERVICE_ACCT_EMAIL\" \\\n",
        "    --role=\"roles/run.invoker\" \\\n",
        "    --format=none\n",
        "\n",
        "\n",
        "# Wait ~60 seconds for IAM updates to propagate\n",
        "# time.sleep(60)"
      ],
      "metadata": {
        "id": "TOoTQl_iDVNQ",
        "outputId": "eebe9cbd-7e47-46d4-917d-22a5b18010a5",
        "colab": {
          "base_uri": "https://localhost:8080/"
        }
      },
      "id": "TOoTQl_iDVNQ",
      "execution_count": 29,
      "outputs": [
        {
          "output_type": "stream",
          "name": "stdout",
          "text": [
            "Updated IAM policy for project [intellitrend-project-dev].\n",
            "Updated IAM policy for project [intellitrend-project-dev].\n",
            "Updated IAM policy for project [intellitrend-project-dev].\n",
            "Updated IAM policy for project [intellitrend-project-dev].\n"
          ]
        }
      ]
    },
    {
      "cell_type": "markdown",
      "source": [
        "#✦ Create the Gemini Model"
      ],
      "metadata": {
        "id": "zoGn5y3prEO1"
      },
      "id": "zoGn5y3prEO1"
    },
    {
      "cell_type": "code",
      "source": [
        "# 🤖 Step 0a: Create Gemini 2.5 Pro Model\n",
        "print(\"🤖 Creating Gemini 2.5 Pro model...\")\n",
        "\n",
        "create_model_sql = f\"\"\"\n",
        "CREATE OR REPLACE MODEL `{QUALIFIED_MODEL_ID}`\n",
        "REMOTE WITH CONNECTION `{QUALIFIED_CLOUD_RES_CONN}`\n",
        "OPTIONS (ENDPOINT = '{MODEL_ENDPOINT}');\n",
        "\"\"\"\n",
        "\n",
        "try:\n",
        "    job = client.query(create_model_sql)\n",
        "    job.result()\n",
        "    print(\"🎉 Gemini 2.5 Pro model created successfully!\")\n",
        "except Exception as e:\n",
        "    print(f\"⚠️  Model creation issue: {e}\")"
      ],
      "metadata": {
        "id": "8H-B2sKyNRYI",
        "colab": {
          "base_uri": "https://localhost:8080/"
        },
        "outputId": "feaef927-e64e-498f-92e2-7f4a5082a954"
      },
      "id": "8H-B2sKyNRYI",
      "execution_count": 30,
      "outputs": [
        {
          "output_type": "stream",
          "name": "stdout",
          "text": [
            "🤖 Creating Gemini 2.5 Pro model...\n",
            "🎉 Gemini 2.5 Pro model created successfully!\n"
          ]
        }
      ]
    },
    {
      "cell_type": "markdown",
      "source": [
        "# 𝄜 Create **Object Table** for PDF Reports"
      ],
      "metadata": {
        "id": "uN-WN3hwrJQO"
      },
      "id": "uN-WN3hwrJQO"
    },
    {
      "cell_type": "code",
      "source": [
        "print(f\"📁 Creating external table(Object Table): '{OBJ_TABLE_ID}' for PDF reports...\")\n",
        "\n",
        "create_external_table_sql = f\"\"\"\n",
        "CREATE OR REPLACE EXTERNAL TABLE `{QUALIFIED_OBJ_TABLE_ID}`\n",
        "WITH CONNECTION `{QUALIFIED_CLOUD_RES_CONN}`\n",
        "OPTIONS (\n",
        "  object_metadata = 'SIMPLE',\n",
        "  uris = ['{DATA_FILES_PATH}/*']\n",
        ");\n",
        "\"\"\"\n",
        "\n",
        "try:\n",
        "    job = client.query(create_external_table_sql)\n",
        "    job.result()\n",
        "    print(\"✅ External table created successfully!\")\n",
        "\n",
        "    # Check what files we have\n",
        "    check_files_sql = f\"SELECT uri, size FROM `{QUALIFIED_OBJ_TABLE_ID}`  \"\n",
        "    files_df = bpd.read_gbq(check_files_sql)\n",
        "    print(f\"📄 Found {len(files_df)} files in storage\")\n",
        "    print(\"Sample files:\")\n",
        "    print(files_df.head())\n",
        "\n",
        "\n",
        "except Exception as e:\n",
        "    print(f\"⚠️  Note: {e}\")\n",
        "    print(\"   Make sure your GCS bucket and connection are set up correctly\")\n",
        "\n"
      ],
      "metadata": {
        "colab": {
          "base_uri": "https://localhost:8080/",
          "height": 243
        },
        "id": "7YQ_Q-LjIF0U",
        "outputId": "87a78778-f5cf-48c6-b314-4e8320537a03"
      },
      "id": "7YQ_Q-LjIF0U",
      "execution_count": 14,
      "outputs": [
        {
          "output_type": "stream",
          "name": "stdout",
          "text": [
            "📁 Creating external table(Object Table): 'all_reports_obj_table_metadata' for PDF reports...\n",
            "✅ External table created successfully!\n",
            "📄 Found 10 files in storage\n",
            "Sample files:\n"
          ]
        },
        {
          "output_type": "display_data",
          "data": {
            "text/plain": [
              "<IPython.core.display.HTML object>"
            ],
            "text/html": [
              "Query job 383f6a59-1b06-49ee-b79d-c43872828876 is DONE. 0 Bytes processed. <a target=\"_blank\" href=\"https://console.cloud.google.com/bigquery?project=intellitrend-project-dev&j=bq:US:383f6a59-1b06-49ee-b79d-c43872828876&page=queryresults\">Open Job</a>"
            ]
          },
          "metadata": {}
        },
        {
          "output_type": "stream",
          "name": "stdout",
          "text": [
            "                                                 uri      size\n",
            "0  gs://report_insights/bankofmontreal/bankofmont...  14976908\n",
            "1  gs://report_insights/bankofmontreal/bankofmont...   4240519\n",
            "2  gs://report_insights/bankofmontreal/bankofmont...   4537673\n",
            "3  gs://report_insights/bankofmontreal/bankofmont...   4552302\n",
            "4  gs://report_insights/bankofmontreal/bankofmont...   3451258\n",
            "\n",
            "[5 rows x 2 columns]\n"
          ]
        }
      ]
    },
    {
      "cell_type": "code",
      "source": [
        "\n",
        "# print(f\"֎ Processing PDFs with {MODEL_NAME}...\")\n",
        "# print(f\"This analyzes {company1}, {company2}, and {company3} reports...\")\n",
        "\n",
        "# generate_text_sql = f\"\"\"\n",
        "# CREATE OR REPLACE TABLE `{QUALIFIED_RAW_TABLE_ID}` AS (\n",
        "# SELECT\n",
        "#   *\n",
        "# FROM\n",
        "#   ML.GENERATE_TEXT(\n",
        "#     MODEL `{QUALIFIED_MODEL_ID}`,\n",
        "#     TABLE `{QUALIFIED_OBJ_TABLE_ID}`,\n",
        "#     STRUCT(\n",
        "#       '''\n",
        "# You are an expert ESG and Financial analyst.\n",
        "\n",
        "# Task:\n",
        "# - Carefully analyze the provided PDF content.\n",
        "# - Extract **only factual information present in the document**.\n",
        "# - Prioritize **tables, charts, KPIs, financial metrics, ESG disclosures, and governance details**.\n",
        "# - For multi-column pages or repeated headers/footers, ignore duplicates and focus on clean content.\n",
        "# - If the document is very large, process it section by section and summarize clearly.\n",
        "# - For tables and images, represent the data in structured text form whenever possible.\n",
        "\n",
        "# Output:\n",
        "# - Use clear, structured prose with labeled sections (Financial Metrics, ESG Metrics, Risk Disclosures, Governance, etc.).\n",
        "# - Provide tabular data as markdown-style tables.\n",
        "# - Do not invent or assume information not present in the PDF.\n",
        "# - Ignore what data you cannot fetch and move next.\n",
        "#       ''' AS prompt,\n",
        "\n",
        "#       0 AS temperature,\n",
        "#       8092 AS max_output_tokens\n",
        "#     )\n",
        "#   )\n",
        "# WHERE uri like '%{company1}%' or uri like '%{company2}%' or  uri like '%{company3}%'\n",
        "# );\n",
        "# \"\"\"\n",
        "# #print(\"\\n\\n the SQL \\n\\n\", generate_text_sql)\n",
        "# try:\n",
        "#     print(\"⏳ Processing... This may take 5-6 minutes\")\n",
        "#     job = client.query(generate_text_sql)\n",
        "#     job.result()\n",
        "\n",
        "#     # Check results\n",
        "#     check_sql = f\"SELECT COUNT(*) as processed_files FROM `{QUALIFIED_RAW_TABLE_ID}`\"\n",
        "#     result = client.query(check_sql).result()\n",
        "#     count = list(result)[0][0]\n",
        "#     print(f\"✅ Successfully processed {count} files!\")\n",
        "\n",
        "# except Exception as e:\n",
        "#     print(f\"⚠️  Processing issue: {e}\")"
      ],
      "metadata": {
        "colab": {
          "base_uri": "https://localhost:8080/"
        },
        "id": "GEgAVAEueQF5",
        "outputId": "11ae3a42-f3d0-4122-de76-f0f42eec1f61"
      },
      "id": "GEgAVAEueQF5",
      "execution_count": 53,
      "outputs": [
        {
          "output_type": "stream",
          "name": "stdout",
          "text": [
            "֎ Processing PDFs with gemini_model_25pro...\n",
            "This analyzes bankofmontreal, none, and none reports...\n",
            "⏳ Processing... This may take 5-6 minutes\n",
            "✅ Successfully processed 10 files!\n"
          ]
        }
      ]
    },
    {
      "cell_type": "markdown",
      "source": [
        "#  ֎ Extract Financial & ESG Data - Using ML.GENERATE_TEXT"
      ],
      "metadata": {
        "id": "vyuEomOKrU84"
      },
      "id": "vyuEomOKrU84"
    },
    {
      "cell_type": "code",
      "source": [
        "\n",
        "print(f\"֎ Processing PDFs with {MODEL_NAME}...\")\n",
        "print(f\"This analyzes {company1}, {company2}, and {company3} reports...\")\n",
        "\n",
        "generate_text_sql = f\"\"\"\n",
        "CREATE OR REPLACE TABLE `{QUALIFIED_RAW_TABLE_ID}` AS (\n",
        "SELECT\n",
        "  *\n",
        "FROM\n",
        "  ML.GENERATE_TEXT(\n",
        "    MODEL `{QUALIFIED_MODEL_ID}`,\n",
        "    TABLE `{QUALIFIED_OBJ_TABLE_ID}`,\n",
        "    STRUCT(\n",
        "      '''\n",
        "        You are an expert ESG and Financial analyst. Use only the information provided in the document to answer.\n",
        "        Fetch Financial and Sustainability Details including tabular and image data for each PDF.\n",
        "        Read the filename. If it is a sustainability report, please get only ESG details. If it is an annual report, get just the financials as below.\n",
        "        Ensure you fetch details so it has answers for:\n",
        "        Financial Performance\n",
        "        What is the total revenue this year?\n",
        "        How has revenue changed compared to last year?\n",
        "        What is the net profit or loss?\n",
        "        How have the earnings per share (EPS) changed?\n",
        "        Are gross margins improving or declining?\n",
        "        Are operating margins stable or volatile?\n",
        "        How has net margin shifted year over year?\n",
        "        Is cash flow from operations positive and consistent?\n",
        "        How much free cash flow is available?\n",
        "        How are working capital levels trending?\n",
        "        Balance Sheet & Liquidity\n",
        "        What is the total debt level?\n",
        "        Is the debt-to-equity ratio rising or falling?\n",
        "        Does the company have enough liquidity to cover short-term liabilities?\n",
        "        What is the current ratio and quick ratio?\n",
        "        How much cash and equivalents are available?\n",
        "        Are interest expenses sustainable?\n",
        "        How sensitive is the company to interest rate changes?\n",
        "        What is the level of contingent liabilities?\n",
        "        Business Strategy\n",
        "        What are the company’s core growth initiatives?\n",
        "        Is management investing in new markets or products?\n",
        "        How much is spent on research and development (R&D)?\n",
        "        Are acquisitions or divestitures planned?\n",
        "        Is the company expanding geographically?\n",
        "        What is the company’s competitive advantage?\n",
        "        Is the advantage sustainable against competitors?\n",
        "        Is digital transformation a core part of the strategy?\n",
        "        Risk Factors\n",
        "        What macroeconomic risks affect the business?\n",
        "        What industry-specific risks are highlighted?\n",
        "        What operational risks are disclosed?\n",
        "        Are supply chain risks material?\n",
        "        Are legal or regulatory risks mentioned?\n",
        "        How is foreign exchange risk managed?\n",
        "        How dependent is revenue on a few customers?\n",
        "        Are raw material price risks significant?\n",
        "        Governance & Leadership\n",
        "        Is the board majority independent?\n",
        "        How many women or minorities are on the board?\n",
        "        Is executive compensation performance-linked?\n",
        "        Does management own significant equity?\n",
        "        Are shareholder rights well protected?\n",
        "        Is succession planning disclosed?\n",
        "        Has management delivered on past promises?\n",
        "        Is the auditor independent and credible?\n",
        "        Shareholder Value\n",
        "        Is the company paying dividends?\n",
        "        Is the dividend payout sustainable?\n",
        "        Is the dividend policy clear?\n",
        "        Are share buybacks taking place?\n",
        "        Is return on equity (ROE) improving?\n",
        "        Is return on assets (ROA) stable?\n",
        "        Has shareholder equity grown consistently?\n",
        "        What is the earnings guidance for next year?\n",
        "        Investor Questions – Sustainability Reports\n",
        "        Environmental\n",
        "        What is the total Scope 1 emissions?\n",
        "        What is the total Scope 2 emissions?\n",
        "        What is the total Scope 3 emissions?\n",
        "        Are science-based targets disclosed?\n",
        "        Has the company committed to net-zero?\n",
        "        What percentage of energy is renewable?\n",
        "        Is energy efficiency improving year over year?\n",
        "        What is the total water withdrawal?\n",
        "        What is water recycled or reused?\n",
        "        Is the company exposed to water stress?\n",
        "        How much total waste is generated?\n",
        "        How much waste is recycled or diverted from landfill?\n",
        "        Are hazardous waste levels disclosed?\n",
        "        How sustainable are raw material sourcing practices?\n",
        "        Are biodiversity risks addressed?\n",
        "        Social\n",
        "        What is the total workforce size?\n",
        "        What percentage of employees are women?\n",
        "        What percentage of leadership roles are held by women?\n",
        "        What is minority representation in the workforce?\n",
        "        What is the employee turnover rate?\n",
        "        How many workplace injuries occurred?\n",
        "        What is the lost-time injury frequency rate?\n",
        "        Are labor rights respected across the supply chain?\n",
        "        Is child labor risk disclosed in supply chains?\n",
        "        Are employee training hours increasing per year?\n",
        "        Are wages above local living wage levels?\n",
        "        Is there employee engagement survey data?\n",
        "        What community development initiatives exist?\n",
        "        What philanthropic contributions were made?\n",
        "        Is there disclosure on data privacy and cybersecurity?\n",
        "        Governance (ESG-specific)\n",
        "        Is there a dedicated board ESG committee?\n",
        "        How often does the board review ESG matters?\n",
        "        Is ESG risk included in enterprise risk management?\n",
        "        Is executive compensation tied to ESG goals?\n",
        "        Are ESG targets linked to management incentives?\n",
        "        Is ESG performance externally assured?\n",
        "        Are ESG disclosures aligned with GRI or SASB?\n",
        "        Does the company report under TCFD or ISSB?\n",
        "        Is CDP reporting publicly available?\n",
        "        Are stakeholder engagement practices disclosed?\n",
        "        Risk & Opportunity\n",
        "        What are the identified physical climate risks?\n",
        "        What are the identified transition risks?\n",
        "        Is there disclosure on carbon pricing exposure?\n",
        "        How dependent is revenue on carbon-intensive activities?\n",
        "        What sustainability-linked opportunities are identified?\n",
        "        Are green products or services generating revenue?\n",
        "        Is access to sustainable finance increasing?\n",
        "        Are suppliers evaluated for ESG performance?\n",
        "        Are ESG clauses included in supplier contracts?\n",
        "        Is there disclosure on product lifecycle impacts?\n",
        "      ''' AS prompt,\n",
        "\n",
        "      0 AS temperature,\n",
        "      8092 AS max_output_tokens\n",
        "    )\n",
        "  )\n",
        "WHERE uri like '%{company1}%' or uri like '%{company2}%' or  uri like '%{company3}%'\n",
        ");\n",
        "\"\"\"\n",
        "#print(\"\\n\\n the SQL \\n\\n\", generate_text_sql)\n",
        "try:\n",
        "    print(\"⏳ Processing... This may take 2-3 minutes\")\n",
        "    job = client.query(generate_text_sql)\n",
        "    job.result()\n",
        "\n",
        "    # Check results\n",
        "    check_sql = f\"SELECT COUNT(*) as processed_files FROM `{QUALIFIED_RAW_TABLE_ID}`\"\n",
        "    result = client.query(check_sql).result()\n",
        "    count = list(result)[0][0]\n",
        "    print(f\"✅ Successfully processed {count} files!\")\n",
        "\n",
        "except Exception as e:\n",
        "    print(f\"⚠️  Processing issue: {e}\")"
      ],
      "metadata": {
        "id": "BHfkpWRwZ7Lw",
        "outputId": "c4fe5946-74f7-4855-a7ab-0da44f9cf153",
        "colab": {
          "base_uri": "https://localhost:8080/"
        }
      },
      "id": "BHfkpWRwZ7Lw",
      "execution_count": 55,
      "outputs": [
        {
          "output_type": "stream",
          "name": "stdout",
          "text": [
            "֎ Processing PDFs with gemini_model_25pro...\n",
            "This analyzes bankofmontreal, none, and none reports...\n",
            "⏳ Processing... This may take 2-3 minutes\n",
            "✅ Successfully processed 10 files!\n"
          ]
        }
      ]
    },
    {
      "cell_type": "markdown",
      "source": [
        "### *Alternate Method to ML.GENERATE_TEXT:*\n",
        "# ֎Extract Financial & ESG Data - using AI.GENERATE"
      ],
      "metadata": {
        "id": "hNh4AXmOv2UI"
      },
      "id": "hNh4AXmOv2UI"
    },
    {
      "cell_type": "code",
      "source": [
        "\n",
        "print(f\"🧠 Processing PDFs with {MODEL_NAME}...\")\n",
        "print(f\"This analyzes {company1}, {company2}, and {company3} reports...\")\n",
        "\n",
        "generate_text_sql2 = f\"\"\"\n",
        "CREATE OR REPLACE TABLE `{QUALIFIED_CURATED2_TABLE_ID}` AS\n",
        "SELECT\n",
        "  uri,\n",
        "  AI.GENERATE(\n",
        "    CONCAT(\n",
        " \"You are an expert ESG and Financial analyst. Use only the information provided in the document to answer.\\n\",\n",
        "\"Fetch Financial and Sustainability Details including tabular and image data for each PDF.\\n\",\n",
        "\"Ensure you fetch details so it has answers for the below: fetch as-it-is. Donot format\",\n",
        "\"Read the filename. If its a sustainability report, please get only ESG details. And if its an annual report, get just the financials as below:\",\n",
        "\"Financial Performance\\n\",\n",
        "\"What is the total revenue this year?\\n\",\n",
        "\"How has revenue changed compared to last year?\\n\",\n",
        "\"What is the net profit or loss?\\n\",\n",
        "\"How have the earnings per share (EPS) changed?\\n\",\n",
        "\"Are gross margins improving or declining?\\n\",\n",
        "\"Are operating margins stable or volatile?\\n\",\n",
        "\"How has net margin shifted year over year?\\n\",\n",
        "\"Is cash flow from operations positive and consistent?\\n\",\n",
        "\"How much free cash flow is available?\\n\",\n",
        "\"How are working capital levels trending?\\n\\n\",\n",
        "\n",
        "\"Balance Sheet & Liquidity\\n\",\n",
        "\"What is the total debt level?\\n\",\n",
        "\"Is the debt-to-equity ratio rising or falling?\\n\",\n",
        "\"Does the company have enough liquidity to cover short-term liabilities?\\n\",\n",
        "\"What is the current ratio and quick ratio?\\n\",\n",
        "\"How much cash and equivalents are available?\\n\",\n",
        "\"Are interest expenses sustainable?\\n\",\n",
        "\"How sensitive is the company to interest rate changes?\\n\",\n",
        "\"What is the level of contingent liabilities?\\n\\n\",\n",
        "\n",
        "\"Business Strategy\\n\",\n",
        "\"What are the company’s core growth initiatives?\\n\",\n",
        "\"Is management investing in new markets or products?\\n\",\n",
        "\"How much is spent on research and development (R&D)?\\n\",\n",
        "\"Are acquisitions or divestitures planned?\\n\",\n",
        "\"Is the company expanding geographically?\\n\",\n",
        "\"What is the company’s competitive advantage?\\n\",\n",
        "\"Is the advantage sustainable against competitors?\\n\",\n",
        "\"Is digital transformation a core part of the strategy?\\n\\n\",\n",
        "\n",
        "\"Risk Factors\\n\",\n",
        "\"What macroeconomic risks affect the business?\\n\",\n",
        "\"What industry-specific risks are highlighted?\\n\",\n",
        "\"What operational risks are disclosed?\\n\",\n",
        "\"Are supply chain risks material?\\n\",\n",
        "\"Are legal or regulatory risks mentioned?\\n\",\n",
        "\"How is foreign exchange risk managed?\\n\",\n",
        "\"How dependent is revenue on a few customers?\\n\",\n",
        "\"Are raw material price risks significant?\\n\\n\",\n",
        "\n",
        "\"Governance & Leadership\\n\",\n",
        "\"Is the board majority independent?\\n\",\n",
        "\"How many women or minorities are on the board?\\n\",\n",
        "\"Is executive compensation performance-linked?\\n\",\n",
        "\"Does management own significant equity?\\n\",\n",
        "\"Are shareholder rights well protected?\\n\",\n",
        "\"Is succession planning disclosed?\\n\",\n",
        "\"Has management delivered on past promises?\\n\",\n",
        "\"Is the auditor independent and credible?\\n\\n\",\n",
        "\n",
        "\"Shareholder Value\\n\",\n",
        "\"Is the company paying dividends?\\n\",\n",
        "\"Is the dividend payout sustainable?\\n\",\n",
        "\"Is the dividend policy clear?\\n\",\n",
        "\"Are share buybacks taking place?\\n\",\n",
        "\"Is return on equity (ROE) improving?\\n\",\n",
        "\"Is return on assets (ROA) stable?\\n\",\n",
        "\"Has shareholder equity grown consistently?\\n\",\n",
        "\"What is the earnings guidance for next year?\\n\\n\",\n",
        "\n",
        "\"Investor Questions – Sustainability Reports\\n\\n\",\n",
        "\n",
        "\"Environmental\\n\",\n",
        "\"What is the total Scope 1 emissions?\\n\",\n",
        "\"What is the total Scope 2 emissions?\\n\",\n",
        "\"What is the total Scope 3 emissions?\\n\",\n",
        "\"Are science-based targets disclosed?\\n\",\n",
        "\"Has the company committed to net-zero?\\n\",\n",
        "\"What percentage of energy is renewable?\\n\",\n",
        "\"Is energy efficiency improving year over year?\\n\",\n",
        "\"What is the total water withdrawal?\\n\",\n",
        "\"What is water recycled or reused?\\n\",\n",
        "\"Is the company exposed to water stress?\\n\",\n",
        "\"How much total waste is generated?\\n\",\n",
        "\"How much waste is recycled or diverted from landfill?\\n\",\n",
        "\"Are hazardous waste levels disclosed?\\n\",\n",
        "\"How sustainable are raw material sourcing practices?\\n\",\n",
        "\"Are biodiversity risks addressed?\\n\\n\",\n",
        "\n",
        "\"Social\\n\",\n",
        "\"What is the total workforce size?\\n\",\n",
        "\"What percentage of employees are women?\\n\",\n",
        "\"What percentage of leadership roles are held by women?\\n\",\n",
        "\"What is minority representation in the workforce?\\n\",\n",
        "\"What is the employee turnover rate?\\n\",\n",
        "\"How many workplace injuries occurred?\\n\",\n",
        "\"What is the lost-time injury frequency rate?\\n\",\n",
        "\"Are labor rights respected across the supply chain?\\n\",\n",
        "\"Is child labor risk disclosed in supply chains?\\n\",\n",
        "\"Are employee training hours increasing per year?\\n\",\n",
        "\"Are wages above local living wage levels?\\n\",\n",
        "\"Is there employee engagement survey data?\\n\",\n",
        "\"What community development initiatives exist?\\n\",\n",
        "\"What philanthropic contributions were made?\\n\",\n",
        "\"Is there disclosure on data privacy and cybersecurity?\\n\\n\",\n",
        "\n",
        "\"Governance (ESG-specific)\\n\",\n",
        "\"Is there a dedicated board ESG committee?\\n\",\n",
        "\"How often does the board review ESG matters?\\n\",\n",
        "\"Is ESG risk included in enterprise risk management?\\n\",\n",
        "\"Is executive compensation tied to ESG goals?\\n\",\n",
        "\"Are ESG targets linked to management incentives?\\n\",\n",
        "\"Is ESG performance externally assured?\\n\",\n",
        "\"Are ESG disclosures aligned with GRI or SASB?\\n\",\n",
        "\"Does the company report under TCFD or ISSB?\\n\",\n",
        "\"Is CDP reporting publicly available?\\n\",\n",
        "\"Are stakeholder engagement practices disclosed?\\n\\n\",\n",
        "\n",
        "\"Risk & Opportunity\\n\",\n",
        "\"What are the identified physical climate risks?\\n\",\n",
        "\"What are the identified transition risks?\\n\",\n",
        "\"Is there disclosure on carbon pricing exposure?\\n\",\n",
        "\"How dependent is revenue on carbon-intensive activities?\\n\",\n",
        "\"What sustainability-linked opportunities are identified?\\n\",\n",
        "\"Are green products or services generating revenue?\\n\",\n",
        "\"Is access to sustainable finance increasing?\\n\",\n",
        "\"Are suppliers evaluated for ESG performance?\\n\",\n",
        "\"Are ESG clauses included in supplier contracts?\\n\",\n",
        "\"Is there disclosure on product lifecycle impacts?\\n\"\n",
        "      \"Open and Read the PDF: \"\n",
        "    ),\n",
        "    connection_id => '{QUALIFIED_CLOUD_RES_CONN}',\n",
        "    endpoint => '{MODEL_ENDPOINT}',\n",
        "    output_schema => 'uri STRING, response_text STRING'\n",
        "  ).response_text AS response_text\n",
        "FROM `{QUALIFIED_RAW_TABLE_ID}`\n",
        "WHERE uri LIKE '%{company1}%' OR uri LIKE '%{company2}%' OR uri LIKE '%{company3}%';\n",
        "\"\"\"\n",
        "\n",
        "      # JSON_VALUE(\n",
        "      #   OBJ.GET_ACCESS_URL(\n",
        "      #     OBJ.MAKE_REF(uri, '{QUALIFIED_CLOUD_RES_CONN}'),\n",
        "      #     'r'\n",
        "      #   ),\n",
        "      #   '$.access_urls.read_url'\n",
        "      # )\n",
        "\n",
        "# try:\n",
        "#     print(\"⏳ Processing... This may take 2-3 minutes\")\n",
        "#     job = client.query(generate_text_sql2)\n",
        "#     job.result()\n",
        "\n",
        "#     # Check results\n",
        "#     check_sql = f\"SELECT COUNT(*) as processed_files FROM `{QUALIFIED_CURATED2_TABLE_ID}`\"\n",
        "#     result = client.query(check_sql).result()\n",
        "#     count = list(result)[0][0]\n",
        "#     print(f\"✅ Successfully processed {count} files!\")\n",
        "\n",
        "# except Exception as e:\n",
        "#     print(f\"⚠️  Processing issue: {e}\")\n"
      ],
      "metadata": {
        "id": "WpdJJYc_uVZ7",
        "colab": {
          "base_uri": "https://localhost:8080/"
        },
        "outputId": "de74b89b-6b03-4400-a0b4-62f3a97c59ea"
      },
      "id": "WpdJJYc_uVZ7",
      "execution_count": 16,
      "outputs": [
        {
          "output_type": "stream",
          "name": "stdout",
          "text": [
            "🧠 Processing PDFs with gemini_model_25pro...\n",
            "This analyzes novartis, wellsfargo, and unitedhealth reports...\n",
            "⏳ Processing... This may take 2-3 minutes\n",
            "✅ Successfully processed 32 files!\n"
          ]
        }
      ]
    },
    {
      "cell_type": "markdown",
      "source": [
        "# 🧹 Extract Clean Text Response"
      ],
      "metadata": {
        "id": "Ct2UPyXMrnbD"
      },
      "id": "Ct2UPyXMrnbD"
    },
    {
      "cell_type": "code",
      "source": [
        "\n",
        "print(\"🧹 Cleaning and extracting response text...\")\n",
        "\n",
        "curate_results_sql = f\"\"\"\n",
        "CREATE OR REPLACE TABLE `{QUALIFIED_CURATED_TABLE_ID}` AS\n",
        "SELECT *,\n",
        "  ARRAY_TO_STRING(\n",
        "    ARRAY(\n",
        "      SELECT JSON_VALUE(part, '$.text')\n",
        "      FROM UNNEST(JSON_QUERY_ARRAY(\n",
        "        JSON_QUERY(ml_generate_text_result, '$.candidates[0].content.parts')\n",
        "      )) AS part\n",
        "    ),\n",
        "    ''\n",
        "  ) AS response_text\n",
        "FROM\n",
        "  `{QUALIFIED_RAW_TABLE_ID}`;\n",
        "\"\"\"\n",
        "\n",
        "try:\n",
        "    job = client.query(curate_results_sql)\n",
        "    job.result()\n",
        "    print(\"✅ Response text extracted and cleaned!\")\n",
        "\n",
        "    # Show sample of extracted text\n",
        "    sample_sql = f\"\"\"\n",
        "    SELECT uri, LEFT(response_text, 200) as sample_text\n",
        "    FROM `{QUALIFIED_CURATED_TABLE_ID}`\n",
        "    LIMIT 3\n",
        "    \"\"\"\n",
        "    sample_df = bpd.read_gbq(sample_sql)\n",
        "    print(\"\\n📝 Sample extracted text:\")\n",
        "    for _, row in sample_df.iterrows():\n",
        "        print(f\"File: {row['uri']}\")\n",
        "        print(f\"Text: {row['sample_text']}...\\n\")\n",
        "\n",
        "except Exception as e:\n",
        "    print(f\"⚠️  Text extraction issue: {e}\")"
      ],
      "metadata": {
        "id": "_hLB42ZHW1mV",
        "colab": {
          "base_uri": "https://localhost:8080/"
        },
        "outputId": "a5e36c69-6648-4dcb-8396-db2718e7ea96"
      },
      "id": "_hLB42ZHW1mV",
      "execution_count": 56,
      "outputs": [
        {
          "output_type": "stream",
          "name": "stdout",
          "text": [
            "🧹 Cleaning and extracting response text...\n",
            "✅ Response text extracted and cleaned!\n",
            "\n",
            "📝 Sample extracted text:\n",
            "File: gs://report_insights/bankofmontreal/bankofmontreal_sustainabilityreport_2022.pdf\n",
            "Text: Based on the BMO 2022 Sustainability Report, here are the financial and ESG details:\n",
            "\n",
            "### **Financial Performance**\n",
            "\n",
            "The report provides a high-level summary of financial performance in the context of...\n",
            "\n",
            "File: gs://report_insights/bankofmontreal/bankofmontreal_annualreport_2021.pdf\n",
            "Text: Here are the financial and sustainability details from BMO Financial Group's 2021 Annual Report.\n",
            "\n",
            "### **Financial Performance**\n",
            "\n",
            "| Metric | 2021 | 2020 | Change | Analysis |\n",
            "| --- | --- | --- | --- | ...\n",
            "\n",
            "File: gs://report_insights/bankofmontreal/bankofmontreal_sustainabilityreport_2021.pdf\n",
            "Text: Here is a detailed analysis of BMO Financial Group's 2021 Sustainability Report, based on the provided document.\n",
            "\n",
            "### **Financial Performance**\n",
            "\n",
            "**Revenue and Profitability:**\n",
            "*   **Total Revenue (202...\n",
            "\n"
          ]
        }
      ]
    },
    {
      "cell_type": "markdown",
      "source": [
        "# 📊 Extract Structured Metrics - Using AI.GENERATE_TABLE"
      ],
      "metadata": {
        "id": "7u1iCJairu6y"
      },
      "id": "7u1iCJairu6y"
    },
    {
      "cell_type": "code",
      "source": [
        "\n",
        "print(\"📊 Generating structured financial and ESG metrics...\")\n",
        "\n",
        "generate_table_sql = f\"\"\"\n",
        "CREATE OR REPLACE TABLE `{QUALIFIED_FINAL_TABLE_ID}` AS\n",
        "SELECT *,\n",
        "    DATE(CAST(fiscal_year AS STRING) || \"-01-01\") AS fiscal_year_date,\n",
        "    CASE\n",
        "        WHEN uri LIKE '%{company1}%' THEN '{company1}'\n",
        "        WHEN uri LIKE '%{company2}%' THEN '{company2}'\n",
        "        WHEN uri LIKE '%{company3}%' THEN '{company3}'\n",
        "    END as company_name_formatted\n",
        "FROM (\n",
        "    SELECT *\n",
        "    FROM AI.GENERATE_TABLE(\n",
        "        MODEL `{QUALIFIED_MODEL_ID}`,\n",
        "        (\n",
        "            SELECT CONCAT(\n",
        "                \"You are an expert financial analyst and ESG/Climate analyst. Extract all financial metrics and sustainability metrics and KPIs from the provided text into structured data. \",\n",
        "                \"For Annual reports, focus on getting the financial metrics. And for Sustainability reports focus on getting ESG metrics. \",\n",
        "                \"Normalize numbers by removing commas, spaces, or symbols and convert all money values to dollars. \",\n",
        "                \"TEXT: \",\n",
        "                response_text\n",
        "            ) AS prompt,\n",
        "            response_text as extracted_text,\n",
        "            uri AS uri\n",
        "        FROM `{QUALIFIED_CURATED_TABLE_ID}`\n",
        "        ),\n",
        "        STRUCT(\n",
        "            'uris STRING, report_type STRING, company_name STRING, fiscal_year INT64, revenue_millions FLOAT64, net_income_millions FLOAT64, total_assets_millions FLOAT64, total_liabilities_millions FLOAT64, equity_millions FLOAT64, eps_basic FLOAT64, eps_diluted FLOAT64, dividends_per_share FLOAT64, employee_count INT64, business_segments ARRAY<STRING>, total_ghg_emissions FLOAT64, scope_1_ghg_emissions FLOAT64, scope_2_ghg_emissions FLOAT64, scope_3_ghg_emissions FLOAT64, carbon_intensity FLOAT64, energy_consumption FLOAT64, renewable_energy_usage FLOAT64, water_consumption FLOAT64, waste_generated FLOAT64, waste_recycled FLOAT64, sustainable_financing FLOAT64, reporting_period STRING, page_references ARRAY<STRING>, contexts ARRAY<STRING>, verbatim_quotes ARRAY<STRING>'\n",
        "            AS output_schema,\n",
        "            8192 AS max_output_tokens,\n",
        "            0 AS temperature\n",
        "        )\n",
        "    ) t\n",
        ");\n",
        "\"\"\"\n",
        "\n",
        "try:\n",
        "    print(\"⏳ Structuring data... This may take 3-4 minutes\")\n",
        "    job = client.query(generate_table_sql)\n",
        "    job.result()\n",
        "    print(\"✅ Structured metrics extracted successfully!\")\n",
        "\n",
        "except Exception as e:\n",
        "    print(f\"⚠️  Table generation issue: {e}\")"
      ],
      "metadata": {
        "id": "2QOTj5J1XUW4",
        "colab": {
          "base_uri": "https://localhost:8080/"
        },
        "outputId": "f3e8b0b8-9d10-4875-e304-6042434d223c"
      },
      "id": "2QOTj5J1XUW4",
      "execution_count": 57,
      "outputs": [
        {
          "output_type": "stream",
          "name": "stdout",
          "text": [
            "📊 Generating structured financial and ESG metrics...\n",
            "⏳ Structuring data... This may take 3-4 minutes\n",
            "✅ Structured metrics extracted successfully!\n"
          ]
        }
      ]
    },
    {
      "cell_type": "markdown",
      "source": [
        "# Generate Metric Table\n",
        "---\n",
        "\n"
      ],
      "metadata": {
        "id": "QAwsY7BWr0l1"
      },
      "id": "QAwsY7BWr0l1"
    },
    {
      "cell_type": "code",
      "source": [
        "\n",
        "print(\"🔮 Generating metrics table\")\n",
        "\n",
        "metrics_sql = f\"\"\"\n",
        "CREATE OR REPLACE TABLE `{QUALIFIED_METRICS_TABLE_ID}` AS\n",
        "SELECT * FROM\n",
        "    ( SELECT\n",
        "        uri, fiscal_year,\n",
        "        extracted_text, company_name_formatted as company_name,\n",
        "        -- Determine report_type based on URI\n",
        "        CASE\n",
        "            WHEN LOWER(uri) LIKE '%annual%' THEN 'Annual'\n",
        "            WHEN LOWER(uri) LIKE '%sustainability%' THEN 'Sustainability'\n",
        "            ELSE 'Other'\n",
        "        END AS report_type,\n",
        "        fiscal_year_date,\n",
        "        reporting_period ,\n",
        "        -- Financial metrics: keep if Annual, else 0\n",
        "        CASE WHEN LOWER(uri) LIKE '%annual%' THEN revenue_millions ELSE 0 END AS revenue_millions,\n",
        "        CASE WHEN LOWER(uri) LIKE '%annual%' THEN net_income_millions ELSE 0 END AS net_income_millions,\n",
        "        CASE WHEN LOWER(uri) LIKE '%annual%' THEN total_assets_millions ELSE 0 END AS total_assets_millions,\n",
        "        CASE WHEN LOWER(uri) LIKE '%annual%' THEN total_liabilities_millions ELSE 0 END AS total_liabilities_millions,\n",
        "        CASE WHEN LOWER(uri) LIKE '%annual%' THEN equity_millions ELSE 0 END AS equity_millions,\n",
        "        CASE WHEN LOWER(uri) LIKE '%annual%' THEN dividends_per_share ELSE 0 END AS dividends_per_share,\n",
        "        CASE WHEN LOWER(uri) LIKE '%annual%' THEN eps_basic ELSE 0 END AS eps_basic,\n",
        "        CASE WHEN LOWER(uri) LIKE '%annual%' THEN eps_diluted ELSE 0 END AS eps_diluted,\n",
        "        CASE WHEN LOWER(uri) LIKE '%annual%' THEN employee_count ELSE 0 END AS employee_count,\n",
        "        CASE WHEN LOWER(uri) LIKE '%annual%' THEN sustainable_financing ELSE 0 END AS sustainable_financing,\n",
        "\n",
        "        -- Sustainability metrics: keep if Sustainability report, else 0\n",
        "        CASE WHEN LOWER(uri) LIKE '%sustainability%' THEN carbon_intensity ELSE 0 END AS carbon_intensity,\n",
        "        CASE WHEN LOWER(uri) LIKE '%sustainability%' THEN energy_consumption ELSE 0 END AS energy_consumption,\n",
        "        CASE WHEN LOWER(uri) LIKE '%sustainability%' THEN renewable_energy_usage ELSE 0 END AS renewable_energy_usage,\n",
        "        CASE WHEN LOWER(uri) LIKE '%sustainability%' THEN scope_1_ghg_emissions ELSE 0 END AS scope_1_ghg_emissions,\n",
        "        CASE WHEN LOWER(uri) LIKE '%sustainability%' THEN scope_2_ghg_emissions ELSE 0 END AS scope_2_ghg_emissions,\n",
        "        CASE WHEN LOWER(uri) LIKE '%sustainability%' THEN scope_3_ghg_emissions ELSE 0 END AS scope_3_ghg_emissions,\n",
        "        CASE WHEN LOWER(uri) LIKE '%sustainability%' THEN total_ghg_emissions ELSE 0 END AS total_ghg_emissions,\n",
        "        CASE WHEN LOWER(uri) LIKE '%sustainability%' THEN water_consumption ELSE 0 END AS water_consumption,\n",
        "        CASE WHEN LOWER(uri) LIKE '%sustainability%' THEN waste_generated ELSE 0 END AS waste_generated,\n",
        "        CASE WHEN LOWER(uri) LIKE '%sustainability%' THEN waste_recycled ELSE 0 END AS waste_recycled\n",
        "\n",
        "     FROM `{QUALIFIED_FINAL_TABLE_ID}`\n",
        "     ) t\n",
        "-- WHERE report_type != 'Annual';\n",
        "\n",
        "\"\"\"\n",
        "\n",
        "print(\"⏳ fetching metrics...\")\n",
        "job = client.query(metrics_sql)\n",
        "job.result()\n",
        "print(\"✅ Metrics table created successfully!\")"
      ],
      "metadata": {
        "colab": {
          "base_uri": "https://localhost:8080/"
        },
        "id": "ThCi0WF28s_6",
        "outputId": "286c8805-6cf7-48e0-95cf-cfbf86def101"
      },
      "id": "ThCi0WF28s_6",
      "execution_count": 58,
      "outputs": [
        {
          "output_type": "stream",
          "name": "stdout",
          "text": [
            "🔮 Generating metrics table\n",
            "⏳ fetching metrics...\n",
            "✅ Metrics table created successfully!\n"
          ]
        }
      ]
    },
    {
      "cell_type": "markdown",
      "source": [
        "# Output 1\n",
        "### Financial/ESG Details for pre-defined questions for selected company and fiscal_year and report type"
      ],
      "metadata": {
        "id": "m94nToNTEGmE"
      },
      "id": "m94nToNTEGmE"
    },
    {
      "cell_type": "code",
      "source": [
        "from IPython.display import display, Markdown\n",
        "\n",
        "\n",
        "# --- Load your BigQuery table ---\n",
        "#df = bpd.read_gbq(f\"{QUALIFIED_METRICS_TABLE_ID}\")\n",
        "metrics_sql1 = f\"\"\"\n",
        "SELECT *\n",
        "FROM `{QUALIFIED_METRICS_TABLE_ID}`\n",
        "\"\"\"\n",
        "df = bpd.read_gbq(metrics_sql1)\n",
        "\n",
        "# --- Choose which report to display ---\n",
        "company = \"bankofmontreal\"\n",
        "year = 2021\n",
        "rtype = \"Annual\"   # \"Annual\" or \"Sustainability Report\"\n",
        "\n",
        "# --- Filter ---\n",
        "filtered = df[\n",
        "    (df[\"company_name\"] == company)\n",
        "    & (df[\"fiscal_year\"] == year)\n",
        "    & (df[\"report_type\"] == rtype)\n",
        "]\n",
        "\n",
        "# --- Display pretty ---\n",
        "if not filtered.empty:\n",
        "    text = filtered[\"extracted_text\"].iloc[0]\n",
        "    display(Markdown(text))\n",
        "else:\n",
        "    print(\"No report found for that selection.\")\n",
        "\n",
        "\n",
        "# --- Grab the first row (or loop if multiple) ---\n",
        "text = df[\"extracted_text\"].iloc[0]\n",
        "\n",
        "# --- Pretty display in Colab ---\n",
        "print(\"\\n\\n===========================================================================\\n\\n\")\n",
        "display(Markdown(text))"
      ],
      "metadata": {
        "colab": {
          "base_uri": "https://localhost:8080/",
          "height": 1000
        },
        "id": "GvZ-uUFN_ow6",
        "outputId": "7f123ea4-2a41-4590-ff59-b0d8fa64bb91"
      },
      "id": "GvZ-uUFN_ow6",
      "execution_count": 60,
      "outputs": [
        {
          "output_type": "display_data",
          "data": {
            "text/plain": [
              "<IPython.core.display.HTML object>"
            ],
            "text/html": [
              "Load job 629deb89-fb03-42ba-8606-149b9f19e000 is DONE. <a target=\"_blank\" href=\"https://console.cloud.google.com/bigquery?project=intellitrend-project-dev&j=bq:US:629deb89-fb03-42ba-8606-149b9f19e000&page=queryresults\">Open Job</a>"
            ]
          },
          "metadata": {}
        },
        {
          "output_type": "display_data",
          "data": {
            "text/plain": [
              "<IPython.core.display.Markdown object>"
            ],
            "text/markdown": "Here are the financial and sustainability details from BMO Financial Group's 2021 Annual Report.\n\n### **Financial Performance**\n\n| Metric | 2021 | 2020 | Change | Analysis |\n| --- | --- | --- | --- | --- |\n| **Total Revenue** | C$27,186 million | C$25,186 million | +7.9% | Revenue grew by C$2.0 billion, reflecting a recovery from the pandemic's impacts and growth across operating groups. |\n| **Net Income** | C$7,754 million | C$5,097 million | +52.1% | Net income increased significantly, driven by lower provisions for credit losses and strong revenue growth. |\n| **Diluted Earnings Per Share (EPS)** | $11.58 | $7.55 | +53.4% | EPS saw substantial growth, increasing by $4.03, primarily due to higher earnings. |\n| **Net Interest Margin (NIM)** | 1.59% | 1.64% | -5 bps | The overall net interest margin decreased by 5 basis points, driven by higher liquidity levels and lower trading-related income, partially offset by higher margins in P&C businesses (Page 34). |\n| **Efficiency Ratio (net of CCPB)** | 60.1% | 60.4% | -30 bps | The efficiency ratio, a measure of productivity, showed a slight improvement (a lower ratio is better), indicating effective expense management relative to revenue. |\n| **Net Margin (Calculated)** | 28.5% | 20.2% | +8.3 p.p. | The net profit margin improved considerably year-over-year, reflecting the strong growth in net income. |\n| **Cash Flow from Operations** | C$44,049 million | C$50,836 million | -13.3% | Cash flow from operations was positive and substantial but decreased from the prior year. The change was influenced by movements in deposits, loans, and trading securities. |\n| **Free Cash Flow (Calculated)** | C$43,565 million | C$50,352 million | -13.5% | The company generated significant free cash flow (Operating Cash Flow less net purchases of premises and equipment), though less than the prior year. |\n\n---\n### **Balance Sheet & Liquidity**\n\n| Metric | 2021 | 2020 | Analysis |\n| --- | --- | --- | --- |\n| **Total Debt (Subordinated)** | C$6,893 million | C$8,416 million | Subordinated debt decreased due to redemptions, net of a new issuance. Total liabilities stood at C$930.7 billion. |\n| **Debt-to-Equity Ratio (Calculated)** | 16.18 | 15.77 | The ratio of total liabilities to total equity increased slightly, indicating a modest rise in leverage. |\n| **Liquidity Coverage Ratio (LCR)** | 125% | 131% | The LCR remains well above the 100% regulatory minimum, indicating a strong liquidity position to cover short-term obligations, despite a decrease from 2020. |\n| **Net Stable Funding Ratio (NSFR)** | 118% | N/A | The NSFR of 118% exceeds the 100% regulatory minimum, demonstrating a stable medium- and long-term funding profile. |\n| **Cash and Equivalents** | C$93,261 million | C$57,408 million | Cash and cash equivalents increased significantly, driven by customer deposit growth in excess of loan growth. |\n| **Interest Rate Sensitivity** | N/A | N/A | The company is sensitive to interest rate changes. A 100 basis point increase in rates would increase pre-tax net income by C$331.8 million over 12 months. A 25 basis point decrease would lower it by C$82.4 million (Page 97). |\n| **Contingent Liabilities** | C$228,005 million | C$221,609 million | The maximum amount payable for commitments, including guarantees, letters of credit, and commitments to extend credit, was C$228.0 billion. |\n\n---\n### **Business Strategy**\n\n*   **Core Growth Initiatives:** BMO's strategy is anchored in its purpose to \"Boldly Grow the Good in business and life\". Key strategic priorities include (Page 10):\n    *   Achieving world-class client loyalty and growth.\n    *   Fostering a winning culture driven by alignment and empowerment.\n    *   Being \"Digital First\" for speed, efficiency, and scale.\n    *   Simplifying work and eliminating complexity.\n    *   Superior management of risk and capital performance.\n*   **New Markets & Products:** The company is expanding its U.S. commercial banking presence nationally, opening new offices in cities like Atlanta, Fort Worth, and Los Angeles. It also launched new products such as the BMO eclipse Visa credit cards and the BMO Family Bundle™ to attract new customers (Pages 9, 42).\n*   **Acquisitions & Divestitures:** In 2021, BMO completed the sale of its Private Banking business in Hong Kong and Singapore and its EMEA asset management business. It also entered an agreement to sell Taplin, Canida & Habacht, LLC. These moves are part of a strategy to reposition and grow operations in the core North American footprint (Page 183).\n*   **Geographic Expansion:** The company is focused on growing its presence across the United States, with its U.S. operations being the fastest-growing segment. The U.S. footprint is now described as \"the U.S.\", moving beyond its historical Midwest focus (Page 10).\n*   **Competitive Advantage:** BMO's key advantage is its integrated North American platform, being \"the only bank that runs all of its operating groups on an integrated basis on both sides of the border, driving efficiencies, scale and speed to market\" (Page 8). Its 204-year history and purpose-driven, \"future-ready\" bank model are also highlighted as differentiators.\n*   **Digital Transformation:** \"Digital First\" is a core strategic pillar. The strategy is built for speed, efficiency, and scale, enabling personalized digital experiences for customers and driving loyalty and growth. The bank has made significant investments in its digital agenda to drive efficiency, increase speed to market, and enhance the customer experience (Pages 10, 14).\n\n---\n### **Risk Factors**\n\n*   **Macroeconomic Risks:** The report highlights risks from the ongoing COVID-19 pandemic, disruptions to global supply chains, price and wage inflation, labor market challenges, and geopolitical tensions. It also notes risks related to the Canadian housing market, high household debt, and inflation (Pages 76, 78).\n*   **Industry-Specific Risks:** The global transition away from Interbank Offered Rates (IBORs) to Alternative Reference Rates (ARRs) is a complex, industry-wide risk. The company has an enterprise IBOR Transition Office to manage this (Page 77).\n*   **Operational Risks:** The company is exposed to risks from potential failures of internal processes, technology, and human error. Key operational risks highlighted include Cyber Security, Technology Disruption and Resiliency, and Third-Party Risk, which are elevated due to remote work and increased reliance on digital technologies (Page 109).\n*   **Legal & Regulatory Risks:** The financial services industry is highly regulated. BMO faces risks from changes in laws and regulations, including consumer protection, privacy laws (e.g., CCPA), anti-money laundering (AML), and climate-related disclosure requirements. A specific tax dispute with Canadian authorities regarding \"dividend rental arrangements\" is also disclosed (Pages 111, 205).\n*   **Foreign Exchange Risk:** BMO is exposed to translation risk from its net investment in U.S. operations and transaction risk from U.S. dollar-denominated income. The company may use hedging to manage these risks (Page 98).\n\n---\n### **Governance & Leadership**\n\n*   **Board Independence:** The Audit and Conduct Review Committee is comprised entirely of independent directors. The 13-member board includes one executive director (the CEO), implying a strong majority of independent directors (Page 122).\n*   **Board Diversity:** The board is gender-balanced, comprising six women and seven men (46% women). The company has also set a target to increase the representation of People of Color in U.S. senior leadership roles to 30% (Pages 5, 7).\n*   **Executive Compensation:** Compensation is performance-linked. The report notes that \"performance-based compensation increased... reflecting improved business performance\" (Page 38).\n*   **Management Equity Ownership:** Directors have a significant equity ownership requirement, needing to hold shares/units valued at eight times their annual retainer, aligning their interests with shareholders (Page 213).\n*   **Shareholder Rights:** The company offers a Dividend Reinvestment and Share Purchase Plan (DRIP) and provides clear channels for shareholders to communicate with the board (Page 215).\n*   **Succession Planning:** The Board of Directors and its committees are responsible for succession planning for senior management, including the CEO and CRO (Page 82).\n*   **Auditor Independence:** The Audit and Conduct Review Committee oversees auditor independence, with a policy for lead partner rotation every five years. The auditor is KPMG LLP (Page 122).\n\n---\n### **Shareholder Value**\n\n*   **Dividends:** BMO has the longest-running dividend payout record of any company in Canada, at 193 years. The dividend declared in 2021 was $4.24 per common share. A 25% dividend increase to $1.33 per share was announced for Q1 2022 (Pages 5, 74).\n*   **Dividend Policy & Sustainability:** The target dividend payout ratio is 40% to 50% of net income. The 2021 adjusted payout ratio was 32.6%, indicating the dividend is sustainable with room for growth (Pages 26, 74).\n*   **Share Buybacks:** The company announced a new Normal Course Issuer Bid (NCIB) to purchase up to 22.5 million common shares, starting in fiscal 2022. No shares were repurchased in 2021 due to regulatory restrictions that have since been lifted (Page 73).\n*   **Return on Equity (ROE):** ROE is improving. Adjusted ROE was 16.7% in 2021, up from 10.3% in 2020, and exceeding the medium-term target of 15% or more (Page 26).\n*   **Return on Assets (ROA):** ROA is stable and improving. Adjusted ROA was 0.88% in 2021, up from 0.55% in 2020 (Page 124).\n*   **Shareholder Equity Growth:** Total equity grew from C$56.6 billion in 2020 to C$57.5 billion in 2021. Retained earnings grew by C$4.8 billion (Page 151).\n\n---\n### **Sustainability (ESG) Highlights**\n\n*   **Net-Zero Commitment:** BMO has committed to achieving net-zero financed emissions by 2050 and aims to be its clients' lead partner in the transition. It has joined the Net-Zero Banking Alliance (Page 12).\n*   **GHG Emissions & Targets:** The company has a target to reduce its operational GHG emissions by 30% by 2030 from a 2019 baseline. It has also matched 100% of its global electricity use with renewable electricity purchases since 2020 (Page 13).\n*   **Sustainable Finance:** BMO has a 2025 goal of mobilizing C$300 billion in capital for clients pursuing sustainable outcomes. It has also launched a C$250 million Impact Investment Fund to back technologies that drive sustainable outcomes (Page 17).\n*   **Social Commitments:**\n    *   **BMO EMpower:** A US$5 billion, five-year commitment to address systemic barriers faced by minority businesses, communities, and families in the U.S. (Page 5).\n    *   **Affordable Housing:** A C$12 billion commitment over 10 years to finance affordable housing in Canada (Page 5).\n    *   **Indigenous Banking:** Committed to doubling its book of Indigenous business to C$8 billion by 2025, having already reached 80% of this goal (Page 17).\n*   **Diversity & Inclusion:**\n    *   **Women in Leadership:** For the last six years, more than 40% of senior leaders have been women (Page 17).\n    *   **Racial Equity:** Set a target to increase the representation of People of Color in U.S. senior roles to 30% and has doubled its hiring of Indigenous staff in the past year (Pages 5, 17).\n*   **ESG Governance & Reporting:** ESG is overseen at the board level by the Risk Review Committee and the Audit and Conduct Review Committee. The company's Sustainability Report is prepared in accordance with GRI, SASB, and TCFD frameworks (Pages 113, 115)."
          },
          "metadata": {}
        },
        {
          "output_type": "stream",
          "name": "stdout",
          "text": [
            "\n",
            "\n",
            "===========================================================================\n",
            "\n",
            "\n"
          ]
        },
        {
          "output_type": "display_data",
          "data": {
            "text/plain": [
              "<IPython.core.display.Markdown object>"
            ],
            "text/markdown": "Here are the financial and sustainability details for BMO Financial Group, based on its 2022 Annual Report.\n\n### **Financial Performance**\n\n**What is the total revenue this year?**\nThe total revenue for 2022 was **$33,710 million**. On a basis that nets insurance claims, commissions, and changes in policy benefit liabilities (net of CCPB), the revenue was **$34,393 million** (Page 26, 144).\n\n**How has revenue changed compared to last year?**\nReported revenue increased by 24% from $27,186 million in 2021. Revenue net of CCPB increased by 33% from $25,787 million in 2021 (Page 26, 29).\n\n**What is the net profit or loss?**\nThe net income for 2022 was **$13,537 million**, a 75% increase from $7,754 million in 2021. Adjusted net income was $9,039 million, a 4% increase from $8,651 million in 2021 (Page 26, 34).\n\n**How have the earnings per share (EPS) changed?**\nReported diluted EPS increased by 72.7% to **$19.99** in 2022 from $11.58 in 2021. Adjusted diluted EPS increased by 2.1% to **$13.23** from $12.96 in 2021 (Page 5, 26).\n\n![EPS Growth Chart](https://i.imgur.com/2022/05/16/19/53/53/72.7/68.0/53.3/2.1/(12.8)/(18.2)/2020/2021/2022/image.png)\n\n**Are gross margins improving or declining?**\nAs a bank, gross margin is not a standard metric. The equivalent is the **Net Interest Margin (NIM)**. The NIM on average earning assets was **1.62%** in 2022, up from 1.59% in 2021 (Page 26).\n\n**Are operating margins stable or volatile?**\nThe bank's **Adjusted Efficiency Ratio (net of CCPB)**, a measure of productivity, slightly worsened to **55.8%** in 2022 from 56.5% in 2021, indicating relatively stable operating margins. The reported efficiency ratio improved significantly due to specific adjusting items (Page 24, 26).\n\n**How has net margin shifted year over year?**\nNet margin is not a standard metric for banks. However, Return on Equity (ROE) is a key profitability measure. Reported ROE increased to **22.9%** in 2022 from 14.9% in 2021. Adjusted ROE decreased to **15.2%** from 16.7% in 2021 (Page 5, 26).\n\n**Is cash flow from operations positive and consistent?**\nYes, cash flow from operations was positive. Net cash provided by operating activities was **$4,957 million** in 2022, compared to $44,049 million in 2021. The significant variance is due to large changes in operating assets and liabilities, including trading securities and deposits (Page 148).\n\n**How much free cash flow is available?**\nBanks do not report free cash flow in the same way as industrial companies. After accounting for net cash used in investing activities (-$29,471 million) and net cash provided by financing activities ($15,980 million), the net decrease in cash and cash equivalents was $5,795 million (Page 148).\n\n**How are working capital levels trending?**\nWorking capital is not a standard metric for banks. Liquidity is measured by the Liquidity Coverage Ratio (LCR) and Net Stable Funding Ratio (NSFR). The LCR improved to **135%** in 2022 from 125% in 2021. The NSFR decreased to **114%** from 118% in 2021, with both remaining above the 100% regulatory minimum (Page 26).\n\n---\n### **Balance Sheet & Liquidity**\n\n**What is the total debt level?**\nAs a bank, its liabilities primarily consist of deposits and other debt instruments.\n*   **Deposits:** $769,478 million\n*   **Subordinated Debt:** $8,150 million\n(Page 146)\n\n**Is the debt-to-equity ratio rising or falling?**\nThe ratio of total liabilities to total equity was **15.04** in 2022 ($1,068,161M / $71,038M), down from 16.18 in 2021 ($930,652M / $57,523M), indicating a decrease in leverage (Page 146).\n\n**Does the company have enough liquidity to cover short-term liabilities?**\nYes. The Liquidity Coverage Ratio (LCR) was **135%** for the quarter ended October 31, 2022, which is well above the regulatory minimum of 100%. This indicates the bank holds sufficient high-quality liquid assets to cover its total net stressed cash outflows over 30 days (Page 26, 103).\n\n**What is the current ratio and quick ratio?**\nThese ratios are not standard for financial institutions. The LCR (135%) and Net Stable Funding Ratio (114%) are the relevant liquidity measures, and both are above regulatory requirements (Page 26).\n\n**How much cash and equivalents are available?**\nAs of October 31, 2022, BMO had **$87,466 million** in cash and cash equivalents (Page 146).\n\n**Are interest expenses sustainable?**\nYes. For 2022, Net Interest Income (the profit from lending and borrowing) was **$15,885 million** after accounting for $11,012 million in interest expenses, indicating that interest expenses are sustainably managed (Page 144).\n\n**How sensitive is the company to interest rate changes?**\nThe company is sensitive to interest rate changes. As of October 31, 2022:\n*   A 100 basis point parallel increase in interest rates would result in a **$498.9 million increase** in projected 12-month pre-tax net income.\n*   A 100 basis point parallel decrease would result in a **$595.2 million decrease** in projected 12-month pre-tax net income.\n(Page 96)\n\n**What is the level of contingent liabilities?**\nThe maximum amount payable for off-balance sheet commitments, including commitments to extend credit, letters of credit, and financial guarantees, was **$263,688 million** as of October 31, 2022. The report notes that the total contractual amount is not representative of the actual funding likely to be required (Page 207).\n\n---\n### **Business Strategy**\n\n**What are the company’s core growth initiatives?**\nBMO's strategy is to build a \"digitally enabled, future-ready bank with leading efficiency, profitability and loyalty.\" Core initiatives include driving growth through its strong North American franchise, enhancing the digital experience to drive customer acquisition and share of wallet, and simplifying operations to improve efficiency (Page 4, 43).\n\n**Is management investing in new markets or products?**\nYes. The most significant investment is the planned acquisition of **Bank of the West**, which will substantially expand BMO's U.S. footprint, particularly in California. The company also launched new digital tools like BMO Global Money Transfer™ and enhanced its BMO NewStart® program for newcomers (Page 8, 12, 43).\n\n**How much is spent on research and development (R&D)?**\nBanks do not report R&D as a separate line item. Investment in technology and digital capabilities is the equivalent. The report highlights consistent recognition for its digital leadership, including being named the overall leader in The Forrester Digital Experience Review™ for Canadian Mobile Banking Apps (Page 6).\n\n**Are acquisitions or divestitures planned?**\n*   **Acquisition:** BMO announced the definitive agreement to acquire **Bank of the West** from BNP Paribas for a cash purchase price of US$16.3 billion. The acquisition is expected to close in the first calendar quarter of 2023 (Page 8, 31).\n*   **Divestiture:** In 2022, BMO completed the sale of its EMEA Asset Management business to Ameriprise Financial (Page 31, 180).\n\n**Is the company expanding geographically?**\nYes, significantly. The acquisition of Bank of the West will add nearly 1.8 million customers and over 500 branches, expanding BMO's presence into 32 U.S. states, including a major entry into the California market (Page 8, 31).\n\n**What is the company’s competitive advantage?**\nBMO's competitive advantages include its \"diversified and advantaged business mix,\" its integrated North American presence across Canada and the U.S., a strong digital platform, and a long-standing history (205 years) and brand reputation (Page 2, 8).\n\n**Is the advantage sustainable against competitors?**\nManagement believes its strategy is sustainable. The report states, \"Our diversified business mix enables us to deliver resilient revenue performance through economic cycles.\" The acquisition of Bank of the West is intended to \"deepen BMO's position as a leading North American bank\" and solidify its U.S. franchise for long-term growth (Page 8).\n\n**Is digital transformation a core part of the strategy?**\nYes, it is a central pillar. The strategy is to build a \"digitally enabled, future-ready bank\" and put \"digital first.\" The company has received numerous awards for its mobile and online banking platforms and is focused on using technology to simplify banking and drive efficiency (Page 4, 6, 9).\n\n---\n### **Risk Factors**\n\n**What macroeconomic risks affect the business?**\nThe primary macroeconomic risks include:\n*   **General Economic Conditions:** Slowing GDP growth in Canada and the U.S.\n*   **Inflation:** High inflation rates putting pressure on customers and operating costs.\n*   **Interest Rates:** Aggressive monetary tightening by central banks increasing borrowing costs and the risk of recession.\n*   **Geopolitical Risk:** The conflict in Ukraine and tensions between the U.S. and China.\n(Page 32, 76)\n\n**What industry-specific risks are highlighted?**\nIndustry-specific risks include intense competition from traditional and non-traditional players, evolving regulatory requirements, and the need to adapt to technological innovation and changing customer preferences (Page 46, 78-79).\n\n**What operational risks are disclosed?**\nKey operational risks include **cybersecurity and cloud security risk**, technology resiliency, data and analytics risks, third-party risk, and potential for fraud or process failures (Page 76, 107-108).\n\n**Are supply chain risks material?**\nGlobal supply-chain disruptions are mentioned as a headwind for the North American economy and a factor contributing to inflation, which indirectly affects the bank's operating environment and its customers (Page 8, 76).\n\n**Are legal or regulatory risks mentioned?**\nYes. The company is subject to extensive regulation, and failure to comply can result in legal proceedings, sanctions, and reputational damage. Specific risks mentioned include changes to capital and liquidity requirements, consumer protection laws, privacy laws, and anti-money laundering (AML) regulations. A specific legal provision of $1,142 million (pre-tax) was recorded in 2022 related to a lawsuit involving a predecessor bank (Page 28, 78, 110).\n\n**How is foreign exchange risk managed?**\nThe bank manages foreign exchange risk arising from its net investment in U.S. operations through hedging. For the pending Bank of the West acquisition, BMO entered into forward contracts to mitigate the effects of changes in the Canadian dollar equivalent of the purchase price (Page 31, 97).\n\n**How dependent is revenue on a few customers?**\nRevenue is not dependent on a few customers. The bank serves **12 million customers** globally and has a well-diversified portfolio across personal, commercial, and institutional clients, which mitigates concentration risk (Page 3, 90).\n\n**Are raw material price risks significant?**\nNot directly. As a financial institution, BMO is not exposed to raw material price risk in its own operations. However, it is exposed to commodity price volatility through its trading activities and its lending to clients in commodity-sensitive sectors (Page 93).\n\n---\n### **Governance & Leadership**\n\n**Is the board majority independent?**\nThe report does not explicitly state the number of independent vs. non-independent directors. However, it notes that the Audit and Conduct Review Committee is \"comprised entirely of independent directors\" (Page 137). The Board of Directors list shows 13 members, with only the CEO, Darryl White, being an internal executive (Page 17).\n\n**How many women or minorities are on the board?**\nThe 13-member board is gender-balanced, comprising **six women and seven men**. Three of the board committee chairs are women. The board also has balanced representation from Canada (seven directors) and the United States (six directors) (Page 7).\n\n**Is executive compensation performance-linked?**\nYes. The report mentions that executive compensation is aligned with performance, including in relation to BMO's environmental and social objectives (Page 113).\n\n**Does management own significant equity?**\nThe report does not specify the exact equity ownership of management. It does detail the existence of share-based compensation plans, including stock options and deferred share units, to align management's interests with shareholders (Page 198).\n\n**Are shareholder rights well protected?**\nThe bank has a long history of respecting shareholder rights, evidenced by its 194-year unbroken dividend record. It also offers a Shareholder Dividend Reinvestment and Share Purchase Plan (DRIP) (Page 5, 74).\n\n**Is succession planning disclosed?**\nYes. The Chair's message notes that the board's adherence to age and term limits \"ensures ongoing renewal, allowing us to plan chair selection, committee representation and board composition thoughtfully and strategically\" (Page 7).\n\n**Has management delivered on past promises?**\nYes. The Chair's message notes, \"This past year marked the completion of Darryl's fifth year as CEO. As a board, as we look back over Darryl's tenure, we continue to be impressed by how well the leadership team is performing... The bank's performance over the past five years, both in absolute terms and relative to its peers, has been strong\" (Page 7).\n\n**Is the auditor independent and credible?**\nYes. The auditor is KPMG LLP. The Audit and Conduct Review Committee is responsible for overseeing the auditor's independence and performance, which includes a robust review process and mandatory rotation of the lead audit partner every five years (Page 122, 214).\n\n---\n### **Shareholder Value**\n\n**Is the company paying dividends?**\nYes. BMO has the longest-running dividend payout record of any company in Canada, at **194 years**. The annual dividend yield was 4.3% as of October 31, 2022 (Page 5).\n\n**Is the dividend payout sustainable?**\nYes. The 2022 adjusted dividend payout ratio was **41.0%**, which is within the company's target range of 40% to 50% of net income available to common shareholders (Page 26, 74).\n\n**Is the dividend policy clear?**\nYes. The company's target dividend payout range is **40% to 50%** of net income available to common shareholders (Page 74).\n\n**Are share buybacks taking place?**\nThe company announced a Normal Course Issuer Bid (NCIB) in December 2021 but stated it would not proceed with it prior to the closing of the Bank of the West acquisition (Page 188).\n\n**Is return on equity (ROE) improving?**\nReported ROE improved significantly to **22.9%** in 2022 from 14.9% in 2021, largely due to gains related to the Bank of the West acquisition hedging. Adjusted ROE, which management uses to assess ongoing performance, was **15.2%**, slightly down from 16.7% in 2021 but still meeting the corporate objective of 15% or more (Page 5).\n\n![ROE Chart](https://i.imgur_com/2022/05/16/22/9/16.7/14.9/15.2/10.1/10.3/2020/2021/2022/image.png)\n\n**Is return on assets (ROA) stable?**\nReturn on average assets was **1.26%** in 2022, up from 0.79% in 2021, showing an improvement (Page 125).\n\n**Has shareholder equity grown consistently?**\nYes. Total equity grew to **$71,038 million** in 2022 from $57,523 million in 2021 and $56,593 million in 2020, demonstrating consistent growth (Page 124, 146).\n\n**What is the earnings guidance for next year?**\nThe report does not provide specific earnings guidance for 2023. However, the \"Economic Developments and Outlook\" section forecasts a challenging environment with no GDP growth expected in Canada and the U.S. for the year, which will likely dampen demand and moderate growth (Page 32)."
          },
          "metadata": {}
        }
      ]
    },
    {
      "cell_type": "markdown",
      "source": [
        "#Output 2:\n",
        "### Plots for revenue and net income"
      ],
      "metadata": {
        "id": "Ql-GPbfJRMjK"
      },
      "id": "Ql-GPbfJRMjK"
    },
    {
      "cell_type": "code",
      "source": [
        "df_company = df[\n",
        "    (df[\"company_name\"].str.lower() == \"bankofmontreal\") &\n",
        "    (df[\"report_type\"].str.lower() == \"annual\")\n",
        "]\n",
        "df_company = df_company.sort_values(\"fiscal_year\")\n",
        "\n",
        "plt.plot(df_company[\"fiscal_year\"], df_company[\"revenue_millions\"], marker=\"o\", label=\"Revenue\")\n",
        "plt.plot(df_company[\"fiscal_year\"], df_company[\"net_income_millions\"], marker=\"o\", label=\"Net Income\")\n",
        "plt.xlabel(\"Fiscal Year\")\n",
        "plt.ylabel(\"£ Millions\")\n",
        "plt.title(\"Revenue vs Net Income (Novartis)\")\n",
        "plt.legend()\n",
        "plt.show()"
      ],
      "metadata": {
        "colab": {
          "base_uri": "https://localhost:8080/",
          "height": 472
        },
        "id": "1MhVZSnNFvUB",
        "outputId": "2064b7a5-c5da-49cc-f780-cf383141fb9b"
      },
      "id": "1MhVZSnNFvUB",
      "execution_count": 61,
      "outputs": [
        {
          "output_type": "display_data",
          "data": {
            "text/plain": [
              "<Figure size 640x480 with 1 Axes>"
            ],
            "image/png": "[encoded data removed]"
          },
          "metadata": {}
        }
      ]
    },
    {
      "cell_type": "markdown",
      "source": [
        "# Output 3:\n",
        "### Revenue and Income for multiple companies and comparisons"
      ],
      "metadata": {
        "id": "j35v0RLHRU06"
      },
      "id": "j35v0RLHRU06"
    },
    {
      "cell_type": "code",
      "source": [
        "\n",
        "import numpy as np\n",
        "\n",
        "# Filter only annual reports\n",
        "df_filtered = df[df[\"report_type\"].str.lower() == \"annual\"]\n",
        "\n",
        "# Group by company and year\n",
        "df_grouped = df_filtered.groupby([\"company_name\", \"fiscal_year\"])[\n",
        "    [\"revenue_millions\", \"net_income_millions\"]\n",
        "].sum().reset_index()\n",
        "\n",
        "# Get unique values\n",
        "companies = df_grouped[\"company_name\"].unique().tolist()\n",
        "years = sorted(df_grouped[\"fiscal_year\"].unique())\n",
        "\n",
        "# Set bar width\n",
        "bar_width = 0.15\n",
        "x = np.arange(len(years))  # positions for fiscal years\n",
        "\n",
        "plt.figure(figsize=(12,6))\n",
        "\n",
        "# Plot each company’s bars\n",
        "for i, company in enumerate(companies):\n",
        "    company_data = df_grouped[df_grouped[\"company_name\"] == company]\n",
        "    revenues = [company_data[company_data[\"fiscal_year\"] == y][\"revenue_millions\"].sum() for y in years]\n",
        "    plt.bar(x + i*bar_width, revenues, width=bar_width, label=f\"{company} Revenue\")\n",
        "\n",
        "plt.xticks(x + bar_width*(len(companies)-1)/2, years)  # Center ticks\n",
        "plt.xlabel(\"Fiscal Year\")\n",
        "plt.ylabel(\"£ Millions\")\n",
        "plt.title(\"Revenue Comparison Across Companies (All Years)\")\n",
        "plt.legend()\n",
        "plt.show()\n",
        "\n",
        "# Repeat for Net Income\n",
        "plt.figure(figsize=(12,6))\n",
        "for i, company in enumerate(companies):\n",
        "    company_data = df_grouped[df_grouped[\"company_name\"] == company]\n",
        "    net_incomes = [company_data[company_data[\"fiscal_year\"] == y][\"net_income_millions\"].sum() for y in years]\n",
        "    plt.bar(x + i*bar_width, net_incomes, width=bar_width, label=f\"{company} Net Income\")\n",
        "\n",
        "plt.xticks(x + bar_width*(len(companies)-1)/2, years)\n",
        "plt.xlabel(\"Fiscal Year\")\n",
        "plt.ylabel(\"£ Millions\")\n",
        "plt.title(\"Net Income Comparison Across Companies (All Years)\")\n",
        "plt.legend()\n",
        "plt.show()\n"
      ],
      "metadata": {
        "id": "v83_sfrZG6PL",
        "outputId": "52b87046-0a17-4b97-9ed0-13636ebdfe1a",
        "colab": {
          "base_uri": "https://localhost:8080/",
          "height": 1000
        }
      },
      "id": "v83_sfrZG6PL",
      "execution_count": 55,
      "outputs": [
        {
          "output_type": "display_data",
          "data": {
            "text/plain": [
              "<Figure size 1200x600 with 1 Axes>"
            ],
            "image/png": "[encoded data removed]"
          },
          "metadata": {}
        },
        {
          "output_type": "display_data",
          "data": {
            "text/plain": [
              "<Figure size 1200x600 with 1 Axes>"
            ],
            "image/png": "[encoded data removed]"
          },
          "metadata": {}
        }
      ]
    },
    {
      "cell_type": "markdown",
      "source": [],
      "metadata": {
        "id": "AKObkuHldc49"
      },
      "id": "AKObkuHldc49"
    },
    {
      "cell_type": "markdown",
      "source": [
        "# 🔮 Revenue Forecasting with AI.FORECAST & TimesFM 2.0\n"
      ],
      "metadata": {
        "id": "ysUQR9JfBTzt"
      },
      "id": "ysUQR9JfBTzt"
    },
    {
      "cell_type": "code",
      "source": [
        "print(\"🔮 Generating revenue forecasts with TimesFM 2.0...\")\n",
        "\n",
        "forecast_sql = f\"\"\"\n",
        "CREATE OR REPLACE TABLE `{QUALIFIED_FORECAST_TABLE_ID}` AS\n",
        "SELECT\n",
        "  *\n",
        "FROM\n",
        "  AI.FORECAST(\n",
        "    TABLE `{QUALIFIED_METRICS_TABLE_ID}`,\n",
        "    data_col => 'revenue_millions',\n",
        "    timestamp_col => 'fiscal_year_date',\n",
        "    model => 'TimesFM 2.0',\n",
        "    id_cols => ['company_name'],\n",
        "    horizon => 5,\n",
        "    confidence_level => .95\n",
        "  )\n",
        "\"\"\"\n",
        "\n",
        "print(\"⏳ Forecasting...\")\n",
        "job = client.query(forecast_sql)\n",
        "job.result()\n",
        "print(\"✅ Forecast table created successfully!\")"
      ],
      "metadata": {
        "id": "QjS1OIZwmIZg",
        "colab": {
          "base_uri": "https://localhost:8080/"
        },
        "outputId": "293eaa2b-3f2b-4c14-a3a3-a9d7cea79fe5"
      },
      "id": "QjS1OIZwmIZg",
      "execution_count": 56,
      "outputs": [
        {
          "output_type": "stream",
          "name": "stdout",
          "text": [
            "🔮 Generating revenue forecasts with TimesFM 2.0...\n",
            "⏳ Forecasting...\n",
            "✅ Forecast table created successfully!\n"
          ]
        }
      ]
    },
    {
      "cell_type": "code",
      "source": [
        "# import requests\n",
        "# from google.cloud import bigquery\n",
        "\n",
        "# PROJECT_ID = \"intellitrend-project-dev\"   # update if needed\n",
        "# DATASET_ID = \"db_reports_insights_annual_esg\"\n",
        "# TABLE_ID = \"all_reports_annual_esg\"\n",
        "\n",
        "# # Step 0: Fetch file list from GitHub\n",
        "# url = \"https://api.github.com/repos/intellitrend-global/google_hackathon_bq_ai/contents/annual_esg_reports\"\n",
        "# response = requests.get(url)\n",
        "# files = response.json()\n",
        "\n",
        "# pdf_files = [(f[\"name\"], f[\"download_url\"]) for f in files if f[\"name\"].endswith(\".pdf\")]\n",
        "\n",
        "# print(\"📄 Found PDF files on GitHub:\")\n",
        "# for name, link in pdf_files:\n",
        "#     print(f\"   {name} -> {link}\")\n",
        "\n",
        "# # Step 1: Initialize BigQuery client\n",
        "# client = bigquery.Client(project=PROJECT_ID)\n",
        "\n",
        "# # Step 2: Ensure dataset exists (create if not)\n",
        "# dataset_ref = bigquery.DatasetReference(PROJECT_ID, DATASET_ID)\n",
        "# try:\n",
        "#     client.get_dataset(dataset_ref)  # Check if it exists\n",
        "#     print(f\"✅ Dataset {DATASET_ID} already exists\")\n",
        "# except Exception:\n",
        "#     dataset = bigquery.Dataset(dataset_ref)\n",
        "#     dataset.location = \"US\"\n",
        "#     client.create_dataset(dataset, timeout=30)\n",
        "#     print(f\"📦 Created dataset {DATASET_ID}\")\n",
        "\n",
        "# # Step 3: Define schema\n",
        "# schema = [\n",
        "#     bigquery.SchemaField(\"filename\", \"STRING\"),\n",
        "#     bigquery.SchemaField(\"uri\", \"STRING\"),\n",
        "# ]\n",
        "\n",
        "# # Step 4: Prepare rows\n",
        "# rows = [{\"filename\": name, \"uri\": link} for name, link in pdf_files]\n",
        "\n",
        "# # Step 5: Load into BigQuery\n",
        "# job_config = bigquery.LoadJobConfig(schema=schema, write_disposition=\"WRITE_TRUNCATE\")\n",
        "# table_ref = f\"{PROJECT_ID}.{DATASET_ID}.{TABLE_ID}\"\n",
        "\n",
        "# job = client.load_table_from_json(rows, table_ref, job_config=job_config)\n",
        "# job.result()\n",
        "\n",
        "# print(f\"✅ Table {table_ref} created/updated with {len(pdf_files)} GitHub files\")\n"
      ],
      "metadata": {
        "id": "xNskNaElWO_1"
      },
      "id": "xNskNaElWO_1",
      "execution_count": null,
      "outputs": []
    }
  ],
  "metadata": {
    "language_info": {
      "name": "python"
    },
    "colab": {
      "provenance": []
    },
    "kernelspec": {
      "name": "python3",
      "display_name": "Python 3"
    }
  },
  "nbformat": 4,
  "nbformat_minor": 5
}