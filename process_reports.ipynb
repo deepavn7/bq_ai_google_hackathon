{
  "cells": [
    {
      "cell_type": "markdown",
      "source": [
        "# 🌍 ESG & 💲Financial Intelligence Platform\n",
        "## AI-Powered Analysis of Corporate Reports (ESG And Annual)\n",
        "\n",
        "**🎯 What this does:**\n",
        "- Automatically processes PDF reports from Google Cloud Storage\n",
        "- Uses Gemini 2.5 Pro to extract financial & ESG metrics\n",
        "- Generates forecasts using Google's TimesFM 2.0 model\n",
        "- Analyzes companies: Amgen, Novartis, Target\n",
        "\n",
        "**📊 Features:**\n",
        "- ✅ Automated PDF processing from Cloud Storage\n",
        "- ✅ AI-powered data extraction (Financial + ESG metrics)\n",
        "- ✅ Revenue forecasting with TimesFM 2.0\n",
        "- ✅ Multi-company comparative analysis\n",
        "\n"
      ],
      "metadata": {
        "id": "B4mF9BKbVXq9"
      },
      "id": "B4mF9BKbVXq9"
    },
    {
      "cell_type": "markdown",
      "source": [
        "# 🔑Setup & Authentication"
      ],
      "metadata": {
        "id": "KdGXBO2wqGdM"
      },
      "id": "KdGXBO2wqGdM"
    },
    {
      "cell_type": "code",
      "source": [
        "\n",
        "print(\"🌟 Welcome to the ESG & Financial Intelligence Platform!\")\n",
        "print(\"🔧 Setting up environment...\")\n",
        "\n",
        "# Authenticate with Google Cloud\n",
        "from google.colab import auth\n",
        "auth.authenticate_user()\n",
        "\n",
        "# Install required packages\n",
        "!pip install -q bigframes google-cloud-bigquery plotly seaborn\n",
        "\n",
        "# Import libraries\n",
        "import bigframes.pandas as bpd\n",
        "from google.cloud import bigquery\n",
        "import pandas as pd\n",
        "import plotly.express as px\n",
        "import plotly.graph_objects as go\n",
        "from plotly.subplots import make_subplots\n",
        "import seaborn as sns\n",
        "import matplotlib.pyplot as plt\n",
        "\n",
        "print(\"✅ Authentication complete!\")\n",
        "print(\"✅ Libraries installed!\")"
      ],
      "metadata": {
        "id": "MsdBozKaVcBV",
        "colab": {
          "base_uri": "https://localhost:8080/"
        },
        "outputId": "c6f03ec8-f9ee-4d61-a8b7-302897efc743"
      },
      "id": "MsdBozKaVcBV",
      "execution_count": 24,
      "outputs": [
        {
          "output_type": "stream",
          "name": "stdout",
          "text": [
            "🌟 Welcome to the ESG & Financial Intelligence Platform!\n",
            "🔧 Setting up environment...\n",
            "✅ Authentication complete!\n",
            "✅ Libraries installed!\n"
          ]
        }
      ]
    },
    {
      "cell_type": "markdown",
      "source": [
        "# 🚀 Intializing Parameters"
      ],
      "metadata": {
        "id": "G8ZIpU_YqTKm"
      },
      "id": "G8ZIpU_YqTKm"
    },
    {
      "cell_type": "code",
      "source": [
        "# Replace the below with other company names from this list:\n",
        "# novartis, amgen, target, bankofmontreal, lloyd, wellsfargo\n",
        "\n",
        "company1 = \"novartis\"\n",
        "company2 =\"wellsfargo\"\n",
        "company3 = \"unitedhealth\"\n",
        "\n",
        "PROJECT_ID = \"intellitrend-project-dev\"   # update if needed\n",
        "PROJECT_LOCATION=\"US\" # Others are EU, ASIA\n",
        "CLOUD_RES_CONN = \"ghack_conn\" #must be all small case\n",
        "\n",
        "\n",
        "DATASET_ID = \"db_reports_insights_annual_esg\" #Name of dataset to be created in BQ\n",
        "OBJ_TABLE_ID = \"all_reports_obj_table_metadata\" #Objec table name. That holds the metadata of the source files in GCS\n",
        "RAW_TABLE_ID=\"all_reports_ai_text_raw\"   # the output text that gets extracted based on prmpt - using ML.GENERATE_TEXT\n",
        "\n",
        "CURATED_TABLE_ID=\"all_reports_ai_text_curated\" # response_text extracted from JSON output\n",
        "CURATED2_TABLE_ID=\"all_reports_ai_text_curated2\" # the output text that gets extracted based on prmpt - using AI.GENERATE (An alternate way - for comparison)\n",
        "\n",
        "FINAL_TABLE_ID=\"all_reports_ai_text_final\" # output metrics info from the curated table - using AI.GENERATE_TABLE\n",
        "\n",
        "METRICS_TABLE_ID = \"all_reports_metrics\"  # format the output final table\n",
        "FORECAST_TABLE_ID=\"all_reports_forecast\" # forecast table from the formatted-output\n",
        "\n",
        "QUALIFIED_CLOUD_RES_CONN = f\"{PROJECT_ID}.{PROJECT_LOCATION}.{CLOUD_RES_CONN}\"\n",
        "\n",
        "QUALIFIED_OBJ_TABLE_ID= f\"{PROJECT_ID}.{DATASET_ID}.{OBJ_TABLE_ID}\"\n",
        "QUALIFIED_RAW_TABLE_ID= f\"{PROJECT_ID}.{DATASET_ID}.{RAW_TABLE_ID}\"\n",
        "\n",
        "QUALIFIED_CURATED_TABLE_ID= f\"{PROJECT_ID}.{DATASET_ID}.{CURATED_TABLE_ID}\"\n",
        "QUALIFIED_CURATED2_TABLE_ID= f\"{PROJECT_ID}.{DATASET_ID}.{CURATED2_TABLE_ID}\"\n",
        "\n",
        "QUALIFIED_METRICS_TABLE_ID= f\"{PROJECT_ID}.{DATASET_ID}.{METRICS_TABLE_ID}\"\n",
        "\n",
        "QUALIFIED_FINAL_TABLE_ID= f\"{PROJECT_ID}.{DATASET_ID}.{FINAL_TABLE_ID}\"\n",
        "QUALIFIED_FORECAST_TABLE_ID= f\"{PROJECT_ID}.{DATASET_ID}.{FORECAST_TABLE_ID}\"\n",
        "temp_table = f\"{PROJECT_ID}.{DATASET_ID}.all_reports_obj_table_metadata_temp\"\n",
        "\n",
        "MODEL_ENDPOINT=\"gemini-2.5-pro\"\n",
        "MODEL_NAME=\"gemini_model_25pro\"\n",
        "QUALIFIED_MODEL_ID=f\"{PROJECT_ID}.{DATASET_ID}.{MODEL_NAME}\"\n",
        "\n",
        "DATA_FILES_PATH=\"gs://report_insights\"\n",
        "\n",
        "\n",
        "# --- Bigframes setup ---\n",
        "bpd.options.bigquery.project = PROJECT_ID\n",
        "bpd.options.bigquery.location = PROJECT_LOCATION"
      ],
      "metadata": {
        "id": "j9wXa542JAad"
      },
      "id": "j9wXa542JAad",
      "execution_count": 33,
      "outputs": []
    },
    {
      "cell_type": "markdown",
      "source": [
        "# 🏗️ Project Configuration"
      ],
      "metadata": {
        "id": "xEZ9AjxmqYPW"
      },
      "id": "xEZ9AjxmqYPW"
    },
    {
      "cell_type": "code",
      "source": [
        "\n",
        "from google.colab import userdata\n",
        "\n",
        "# Configure BigFrames\n",
        "bpd.options.bigquery.project = PROJECT_ID\n",
        "bpd.options.bigquery.location = PROJECT_LOCATION\n",
        "\n",
        "# Initialize BigQuery client\n",
        "client = bigquery.Client(project=PROJECT_ID)\n",
        "\n",
        "print(f\"✅ Project configured: {PROJECT_ID}\")\n",
        "print(\"✅ BigFrames ready for action!\")"
      ],
      "metadata": {
        "id": "Jq2mXY6ZWC29",
        "colab": {
          "base_uri": "https://localhost:8080/"
        },
        "outputId": "1c77877c-3a19-4e36-804d-55a19a5d25a5"
      },
      "id": "Jq2mXY6ZWC29",
      "execution_count": 26,
      "outputs": [
        {
          "output_type": "stream",
          "name": "stdout",
          "text": [
            "✅ Project configured: intellitrend-project-dev\n",
            "✅ BigFrames ready for action!\n"
          ]
        }
      ]
    },
    {
      "cell_type": "markdown",
      "source": [
        "# 🔗Create Cloud Resource Connection"
      ],
      "metadata": {
        "id": "ibVYprE2qbYa"
      },
      "id": "ibVYprE2qbYa"
    },
    {
      "cell_type": "code",
      "source": [
        "!bq mk \\\n",
        "  --connection \\\n",
        "  --project_id={PROJECT_ID} \\\n",
        "  --connection_type=CLOUD_RESOURCE \\\n",
        "  --location={PROJECT_LOCATION} \\\n",
        "  {CLOUD_RES_CONN}"
      ],
      "metadata": {
        "id": "-5dp4Ss5BmI_",
        "colab": {
          "base_uri": "https://localhost:8080/"
        },
        "outputId": "e9b5bfa5-2f2b-40f8-c08f-fe4384b705a6"
      },
      "id": "-5dp4Ss5BmI_",
      "execution_count": 27,
      "outputs": [
        {
          "output_type": "stream",
          "name": "stdout",
          "text": [
            "BigQuery error in mk operation: Already Exists: Connection\n",
            "projects/573553606303/locations/us/connections/ghack_conn\n"
          ]
        }
      ]
    },
    {
      "cell_type": "markdown",
      "source": [
        "# 🆔Fetch Service Account associated with the Cloud Res Connection"
      ],
      "metadata": {
        "id": "TJA-cM8fqkea"
      },
      "id": "TJA-cM8fqkea"
    },
    {
      "cell_type": "code",
      "source": [
        "SERVICE_ACCT = !bq show --format=prettyjson \\\n",
        "  --connection \\\n",
        "  --project_id={PROJECT_ID} \\\n",
        "  --location={PROJECT_LOCATION} \\\n",
        "  {CLOUD_RES_CONN} | grep \"serviceAccountId\" | cut -d '\"' -f 4\n",
        "\n",
        "SERVICE_ACCT_EMAIL = SERVICE_ACCT[0]  # first (and only) line\n",
        "print(SERVICE_ACCT_EMAIL)"
      ],
      "metadata": {
        "id": "Br8HeQf8COGv",
        "colab": {
          "base_uri": "https://localhost:8080/"
        },
        "outputId": "76ff64e6-ed61-4667-ca1c-7e2522034f1f"
      },
      "id": "Br8HeQf8COGv",
      "execution_count": 28,
      "outputs": [
        {
          "output_type": "stream",
          "name": "stdout",
          "text": [
            "bqcx-573553606303-2s0n@gcp-sa-bigquery-condel.iam.gserviceaccount.com\n"
          ]
        }
      ]
    },
    {
      "cell_type": "markdown",
      "source": [
        "# 👥Give the below roles to the Conn Service Account:\n",
        "  * objectViewer and  \n",
        "  * aiplatformUser\n",
        "\n"
      ],
      "metadata": {
        "id": "wLTg-1olqrA5"
      },
      "id": "wLTg-1olqrA5"
    },
    {
      "cell_type": "code",
      "source": [
        "import time\n",
        "\n",
        "# Use $SERVICE_ACCT_EMAIL so the Python variable expands in the shell\n",
        "!gcloud projects add-iam-policy-binding {PROJECT_ID} \\\n",
        "    --member=\"serviceAccount:$SERVICE_ACCT_EMAIL\" \\\n",
        "    --role=\"roles/storage.objectViewer\" \\\n",
        "    --format=none\n",
        "\n",
        "!gcloud projects add-iam-policy-binding {PROJECT_ID} \\\n",
        "    --member=\"serviceAccount:$SERVICE_ACCT_EMAIL\" \\\n",
        "    --role=\"roles/aiplatform.user\" \\\n",
        "    --format=none\n",
        "\n",
        "!gcloud projects add-iam-policy-binding {PROJECT_ID} \\\n",
        "    --member=\"serviceAccount:$SERVICE_ACCT_EMAIL\" \\\n",
        "    --role=\"roles/bigquery.connectionUser\" \\\n",
        "    --format=none\n",
        "\n",
        "\n",
        "!gcloud projects add-iam-policy-binding {PROJECT_ID} \\\n",
        "    --member=\"serviceAccount:$SERVICE_ACCT_EMAIL\" \\\n",
        "    --role=\"roles/run.invoker\" \\\n",
        "    --format=none\n",
        "\n",
        "\n",
        "# Wait ~60 seconds for IAM updates to propagate\n",
        "# time.sleep(60)"
      ],
      "metadata": {
        "id": "TOoTQl_iDVNQ",
        "outputId": "eebe9cbd-7e47-46d4-917d-22a5b18010a5",
        "colab": {
          "base_uri": "https://localhost:8080/"
        }
      },
      "id": "TOoTQl_iDVNQ",
      "execution_count": 29,
      "outputs": [
        {
          "output_type": "stream",
          "name": "stdout",
          "text": [
            "Updated IAM policy for project [intellitrend-project-dev].\n",
            "Updated IAM policy for project [intellitrend-project-dev].\n",
            "Updated IAM policy for project [intellitrend-project-dev].\n",
            "Updated IAM policy for project [intellitrend-project-dev].\n"
          ]
        }
      ]
    },
    {
      "cell_type": "markdown",
      "source": [
        "#✦ Create the Gemini Model"
      ],
      "metadata": {
        "id": "zoGn5y3prEO1"
      },
      "id": "zoGn5y3prEO1"
    },
    {
      "cell_type": "code",
      "source": [
        "# 🤖 Step 0a: Create Gemini 2.5 Pro Model\n",
        "print(\"🤖 Creating Gemini 2.5 Pro model...\")\n",
        "\n",
        "create_model_sql = f\"\"\"\n",
        "CREATE OR REPLACE MODEL `{QUALIFIED_MODEL_ID}`\n",
        "REMOTE WITH CONNECTION `{QUALIFIED_CLOUD_RES_CONN}`\n",
        "OPTIONS (ENDPOINT = '{MODEL_ENDPOINT}');\n",
        "\"\"\"\n",
        "\n",
        "try:\n",
        "    job = client.query(create_model_sql)\n",
        "    job.result()\n",
        "    print(\"🎉 Gemini 2.5 Pro model created successfully!\")\n",
        "except Exception as e:\n",
        "    print(f\"⚠️  Model creation issue: {e}\")"
      ],
      "metadata": {
        "id": "8H-B2sKyNRYI",
        "colab": {
          "base_uri": "https://localhost:8080/"
        },
        "outputId": "feaef927-e64e-498f-92e2-7f4a5082a954"
      },
      "id": "8H-B2sKyNRYI",
      "execution_count": 30,
      "outputs": [
        {
          "output_type": "stream",
          "name": "stdout",
          "text": [
            "🤖 Creating Gemini 2.5 Pro model...\n",
            "🎉 Gemini 2.5 Pro model created successfully!\n"
          ]
        }
      ]
    },
    {
      "cell_type": "markdown",
      "source": [
        "# 𝄜 Create **Object Table** for PDF Reports"
      ],
      "metadata": {
        "id": "uN-WN3hwrJQO"
      },
      "id": "uN-WN3hwrJQO"
    },
    {
      "cell_type": "code",
      "source": [
        "print(f\"📁 Creating external table(Object Table): '{OBJ_TABLE_ID}' for PDF reports...\")\n",
        "\n",
        "create_external_table_sql = f\"\"\"\n",
        "CREATE OR REPLACE EXTERNAL TABLE `{QUALIFIED_OBJ_TABLE_ID}`\n",
        "WITH CONNECTION `{QUALIFIED_CLOUD_RES_CONN}`\n",
        "OPTIONS (\n",
        "  object_metadata = 'SIMPLE',\n",
        "  uris = ['{DATA_FILES_PATH}/*']\n",
        ");\n",
        "\"\"\"\n",
        "\n",
        "try:\n",
        "    job = client.query(create_external_table_sql)\n",
        "    job.result()\n",
        "    print(\"✅ External table created successfully!\")\n",
        "\n",
        "    # Check what files we have\n",
        "    check_files_sql = f\"SELECT uri, size FROM `{QUALIFIED_OBJ_TABLE_ID}`  \"\n",
        "    files_df = bpd.read_gbq(check_files_sql)\n",
        "    print(f\"📄 Found {len(files_df)} files in storage\")\n",
        "    print(\"Sample files:\")\n",
        "    print(files_df.head())\n",
        "\n",
        "\n",
        "    temp_sql = f\"create or replace table {temp_table} AS Select * from {QUALIFIED_OBJ_TABLE_ID} Where uri like '%{company1}%' or uri like '%{company2}%' or uri like '%{company3}%'\"\n",
        "\n",
        "    job1 = client.query(temp_sql)\n",
        "    job1.result()\n",
        "    print(\"created temp table\")\n",
        "\n",
        "except Exception as e:\n",
        "    print(f\"⚠️  Note: {e}\")\n",
        "    print(\"   Make sure your GCS bucket and connection are set up correctly\")\n",
        "\n"
      ],
      "metadata": {
        "colab": {
          "base_uri": "https://localhost:8080/",
          "height": 260
        },
        "id": "7YQ_Q-LjIF0U",
        "outputId": "7698441e-2c19-40f6-8824-e6a0ba618382"
      },
      "id": "7YQ_Q-LjIF0U",
      "execution_count": 31,
      "outputs": [
        {
          "output_type": "stream",
          "name": "stdout",
          "text": [
            "📁 Creating external table(Object Table): 'all_reports_obj_table_metadata' for PDF reports...\n",
            "✅ External table created successfully!\n",
            "📄 Found 129 files in storage\n",
            "Sample files:\n"
          ]
        },
        {
          "output_type": "display_data",
          "data": {
            "text/plain": [
              "<IPython.core.display.HTML object>"
            ],
            "text/html": [
              "Load job 2117f405-ecd6-4c34-a035-a256f648e0c9 is DONE. <a target=\"_blank\" href=\"https://console.cloud.google.com/bigquery?project=intellitrend-project-dev&j=bq:US:2117f405-ecd6-4c34-a035-a256f648e0c9&page=queryresults\">Open Job</a>"
            ]
          },
          "metadata": {}
        },
        {
          "output_type": "display_data",
          "data": {
            "text/plain": [
              "<IPython.core.display.HTML object>"
            ],
            "text/html": [
              "Query job c3f8daf5-0d7a-4f4d-8bad-8e70ef7fc07b is DONE. 11.6 kB processed. <a target=\"_blank\" href=\"https://console.cloud.google.com/bigquery?project=intellitrend-project-dev&j=bq:US:c3f8daf5-0d7a-4f4d-8bad-8e70ef7fc07b&page=queryresults\">Open Job</a>"
            ]
          },
          "metadata": {}
        },
        {
          "output_type": "stream",
          "name": "stdout",
          "text": [
            "                                                 uri      size\n",
            "0  gs://report_insights/amgen/amgen_annualreport_...  12663856\n",
            "1  gs://report_insights/amgen/amgen_annualreport_...   3651904\n",
            "2  gs://report_insights/amgen/amgen_annualreport_...   3777808\n",
            "3  gs://report_insights/amgen/amgen_annualreport_...  12725236\n",
            "4  gs://report_insights/amgen/amgen_annualreport_...   8154936\n",
            "\n",
            "[5 rows x 2 columns]\n"
          ]
        }
      ]
    },
    {
      "cell_type": "markdown",
      "source": [
        "#  ֎ Extract Financial & ESG Data - Using ML.GENERATE_TEXT"
      ],
      "metadata": {
        "id": "vyuEomOKrU84"
      },
      "id": "vyuEomOKrU84"
    },
    {
      "cell_type": "code",
      "source": [
        "\n",
        "print(f\"֎ Processing PDFs with {MODEL_NAME}...\")\n",
        "print(f\"This analyzes {company1}, {company2}, and {company3} reports...\")\n",
        "\n",
        "generate_text_sql = f\"\"\"\n",
        "CREATE OR REPLACE TABLE `{QUALIFIED_RAW_TABLE_ID}` AS (\n",
        "SELECT\n",
        "  *\n",
        "FROM\n",
        "  ML.GENERATE_TEXT(\n",
        "    MODEL `{QUALIFIED_MODEL_ID}`,\n",
        "    TABLE `{QUALIFIED_OBJ_TABLE_ID}`,\n",
        "    STRUCT(\n",
        "      '''\n",
        "You are an expert ESG and Financial analyst. Use only the information provided in the document to answer.\n",
        "        Fetch Financial and Sustainability Details including tabular and image data for each PDF.\n",
        "        Read the filename. If it is a sustainability report, please get only ESG details. If it is an annual report, get just the financials as below.\n",
        "        Ensure you fetch details so it has answers for the below:\n",
        "        Financial Performance\n",
        "        What is the total revenue this year?\n",
        "        How has revenue changed compared to last year?\n",
        "        What is the net profit or loss?\n",
        "        How have the earnings per share (EPS) changed?\n",
        "        Are gross margins improving or declining?\n",
        "        Are operating margins stable or volatile?\n",
        "        How has net margin shifted year over year?\n",
        "        Is cash flow from operations positive and consistent?\n",
        "        How much free cash flow is available?\n",
        "        How are working capital levels trending?\n",
        "        Balance Sheet & Liquidity\n",
        "        What is the total debt level?\n",
        "        Is the debt-to-equity ratio rising or falling?\n",
        "        Does the company have enough liquidity to cover short-term liabilities?\n",
        "        What is the current ratio and quick ratio?\n",
        "        How much cash and equivalents are available?\n",
        "        Are interest expenses sustainable?\n",
        "        How sensitive is the company to interest rate changes?\n",
        "        What is the level of contingent liabilities?\n",
        "        Business Strategy\n",
        "        What are the company’s core growth initiatives?\n",
        "        Is management investing in new markets or products?\n",
        "        How much is spent on research and development (R&D)?\n",
        "        Are acquisitions or divestitures planned?\n",
        "        Is the company expanding geographically?\n",
        "        What is the company’s competitive advantage?\n",
        "        Is the advantage sustainable against competitors?\n",
        "        Is digital transformation a core part of the strategy?\n",
        "        Risk Factors\n",
        "        What macroeconomic risks affect the business?\n",
        "        What industry-specific risks are highlighted?\n",
        "        What operational risks are disclosed?\n",
        "        Are supply chain risks material?\n",
        "        Are legal or regulatory risks mentioned?\n",
        "        How is foreign exchange risk managed?\n",
        "        How dependent is revenue on a few customers?\n",
        "        Are raw material price risks significant?\n",
        "        Governance & Leadership\n",
        "        Is the board majority independent?\n",
        "        How many women or minorities are on the board?\n",
        "        Is executive compensation performance-linked?\n",
        "        Does management own significant equity?\n",
        "        Are shareholder rights well protected?\n",
        "        Is succession planning disclosed?\n",
        "        Has management delivered on past promises?\n",
        "        Is the auditor independent and credible?\n",
        "        Shareholder Value\n",
        "        Is the company paying dividends?\n",
        "        Is the dividend payout sustainable?\n",
        "        Is the dividend policy clear?\n",
        "        Are share buybacks taking place?\n",
        "        Is return on equity (ROE) improving?\n",
        "        Is return on assets (ROA) stable?\n",
        "        Has shareholder equity grown consistently?\n",
        "        What is the earnings guidance for next year?\n",
        "        Investor Questions – Sustainability Reports\n",
        "        Environmental\n",
        "        What is the total Scope 1 emissions?\n",
        "        What is the total Scope 2 emissions?\n",
        "        What is the total Scope 3 emissions?\n",
        "        Are science-based targets disclosed?\n",
        "        Has the company committed to net-zero?\n",
        "        What percentage of energy is renewable?\n",
        "        Is energy efficiency improving year over year?\n",
        "        What is the total water withdrawal?\n",
        "        What is water recycled or reused?\n",
        "        Is the company exposed to water stress?\n",
        "        How much total waste is generated?\n",
        "        How much waste is recycled or diverted from landfill?\n",
        "        Are hazardous waste levels disclosed?\n",
        "        How sustainable are raw material sourcing practices?\n",
        "        Are biodiversity risks addressed?\n",
        "        Social\n",
        "        What is the total workforce size?\n",
        "        What percentage of employees are women?\n",
        "        What percentage of leadership roles are held by women?\n",
        "        What is minority representation in the workforce?\n",
        "        What is the employee turnover rate?\n",
        "        How many workplace injuries occurred?\n",
        "        What is the lost-time injury frequency rate?\n",
        "        Are labor rights respected across the supply chain?\n",
        "        Is child labor risk disclosed in supply chains?\n",
        "        Are employee training hours increasing per year?\n",
        "        Are wages above local living wage levels?\n",
        "        Is there employee engagement survey data?\n",
        "        What community development initiatives exist?\n",
        "        What philanthropic contributions were made?\n",
        "        Is there disclosure on data privacy and cybersecurity?\n",
        "        Governance (ESG-specific)\n",
        "        Is there a dedicated board ESG committee?\n",
        "        How often does the board review ESG matters?\n",
        "        Is ESG risk included in enterprise risk management?\n",
        "        Is executive compensation tied to ESG goals?\n",
        "        Are ESG targets linked to management incentives?\n",
        "        Is ESG performance externally assured?\n",
        "        Are ESG disclosures aligned with GRI or SASB?\n",
        "        Does the company report under TCFD or ISSB?\n",
        "        Is CDP reporting publicly available?\n",
        "        Are stakeholder engagement practices disclosed?\n",
        "        Risk & Opportunity\n",
        "        What are the identified physical climate risks?\n",
        "        What are the identified transition risks?\n",
        "        Is there disclosure on carbon pricing exposure?\n",
        "        How dependent is revenue on carbon-intensive activities?\n",
        "        What sustainability-linked opportunities are identified?\n",
        "        Are green products or services generating revenue?\n",
        "        Is access to sustainable finance increasing?\n",
        "        Are suppliers evaluated for ESG performance?\n",
        "        Are ESG clauses included in supplier contracts?\n",
        "        Is there disclosure on product lifecycle impacts?\n",
        "      ''' AS prompt,\n",
        "\n",
        "      0 AS temperature,\n",
        "      8092 AS max_output_tokens\n",
        "    )\n",
        "  )\n",
        "WHERE uri like '%{company1}%' or uri like '%{company2}%' or  uri like '%{company3}%'\n",
        ");\n",
        "\"\"\"\n",
        "#print(\"\\n\\n the SQL \\n\\n\", generate_text_sql)\n",
        "try:\n",
        "    print(\"⏳ Processing... This may take 2-3 minutes\")\n",
        "    job = client.query(generate_text_sql)\n",
        "    job.result()\n",
        "\n",
        "    # Check results\n",
        "    check_sql = f\"SELECT COUNT(*) as processed_files FROM `{QUALIFIED_RAW_TABLE_ID}`\"\n",
        "    result = client.query(check_sql).result()\n",
        "    count = list(result)[0][0]\n",
        "    print(f\"✅ Successfully processed {count} files!\")\n",
        "\n",
        "except Exception as e:\n",
        "    print(f\"⚠️  Processing issue: {e}\")"
      ],
      "metadata": {
        "id": "BHfkpWRwZ7Lw",
        "outputId": "164d1b47-1658-445c-917b-d1a37b8d3249",
        "colab": {
          "base_uri": "https://localhost:8080/",
          "height": 1000
        }
      },
      "id": "BHfkpWRwZ7Lw",
      "execution_count": 32,
      "outputs": [
        {
          "output_type": "stream",
          "name": "stdout",
          "text": [
            "֎ Processing PDFs with gemini_model_25pro...\n",
            "This analyzes novartis, wellsfargo, and unitedhealth reports...\n",
            "\n",
            "\n",
            " the SQL \n",
            "\n",
            " \n",
            "CREATE OR REPLACE TABLE `intellitrend-project-dev.db_reports_insights_annual_esg.all_reports_ai_text_raw` AS (\n",
            "SELECT\n",
            "  *\n",
            "FROM\n",
            "  ML.GENERATE_TEXT(\n",
            "    MODEL `intellitrend-project-dev.db_reports_insights_annual_esg.gemini_model_25pro`,\n",
            "    TABLE `intellitrend-project-dev.db_reports_insights_annual_esg.all_reports_obj_table_metadata`,\n",
            "    STRUCT(\n",
            "      '''\n",
            "You are an expert ESG and Financial analyst. Use only the information provided in the document to answer.\n",
            "        Fetch Financial and Sustainability Details including tabular and image data for each PDF.\n",
            "        Read the filename. If it is a sustainability report, please get only ESG details. If it is an annual report, get just the financials as below.\n",
            "        Ensure you fetch details so it has answers for the below:\n",
            "        Financial Performance\n",
            "        What is the total revenue this year?\n",
            "        How has revenue changed compared to last year?\n",
            "        What is the net profit or loss?\n",
            "        How have the earnings per share (EPS) changed?\n",
            "        Are gross margins improving or declining?\n",
            "        Are operating margins stable or volatile?\n",
            "        How has net margin shifted year over year?\n",
            "        Is cash flow from operations positive and consistent?\n",
            "        How much free cash flow is available?\n",
            "        How are working capital levels trending?\n",
            "        Balance Sheet & Liquidity\n",
            "        What is the total debt level?\n",
            "        Is the debt-to-equity ratio rising or falling?\n",
            "        Does the company have enough liquidity to cover short-term liabilities?\n",
            "        What is the current ratio and quick ratio?\n",
            "        How much cash and equivalents are available?\n",
            "        Are interest expenses sustainable?\n",
            "        How sensitive is the company to interest rate changes?\n",
            "        What is the level of contingent liabilities?\n",
            "        Business Strategy\n",
            "        What are the company’s core growth initiatives?\n",
            "        Is management investing in new markets or products?\n",
            "        How much is spent on research and development (R&D)?\n",
            "        Are acquisitions or divestitures planned?\n",
            "        Is the company expanding geographically?\n",
            "        What is the company’s competitive advantage?\n",
            "        Is the advantage sustainable against competitors?\n",
            "        Is digital transformation a core part of the strategy?\n",
            "        Risk Factors\n",
            "        What macroeconomic risks affect the business?\n",
            "        What industry-specific risks are highlighted?\n",
            "        What operational risks are disclosed?\n",
            "        Are supply chain risks material?\n",
            "        Are legal or regulatory risks mentioned?\n",
            "        How is foreign exchange risk managed?\n",
            "        How dependent is revenue on a few customers?\n",
            "        Are raw material price risks significant?\n",
            "        Governance & Leadership\n",
            "        Is the board majority independent?\n",
            "        How many women or minorities are on the board?\n",
            "        Is executive compensation performance-linked?\n",
            "        Does management own significant equity?\n",
            "        Are shareholder rights well protected?\n",
            "        Is succession planning disclosed?\n",
            "        Has management delivered on past promises?\n",
            "        Is the auditor independent and credible?\n",
            "        Shareholder Value\n",
            "        Is the company paying dividends?\n",
            "        Is the dividend payout sustainable?\n",
            "        Is the dividend policy clear?\n",
            "        Are share buybacks taking place?\n",
            "        Is return on equity (ROE) improving?\n",
            "        Is return on assets (ROA) stable?\n",
            "        Has shareholder equity grown consistently?\n",
            "        What is the earnings guidance for next year?\n",
            "        Investor Questions – Sustainability Reports\n",
            "        Environmental\n",
            "        What is the total Scope 1 emissions?\n",
            "        What is the total Scope 2 emissions?\n",
            "        What is the total Scope 3 emissions?\n",
            "        Are science-based targets disclosed?\n",
            "        Has the company committed to net-zero?\n",
            "        What percentage of energy is renewable?\n",
            "        Is energy efficiency improving year over year?\n",
            "        What is the total water withdrawal?\n",
            "        What is water recycled or reused?\n",
            "        Is the company exposed to water stress?\n",
            "        How much total waste is generated?\n",
            "        How much waste is recycled or diverted from landfill?\n",
            "        Are hazardous waste levels disclosed?\n",
            "        How sustainable are raw material sourcing practices?\n",
            "        Are biodiversity risks addressed?\n",
            "        Social\n",
            "        What is the total workforce size?\n",
            "        What percentage of employees are women?\n",
            "        What percentage of leadership roles are held by women?\n",
            "        What is minority representation in the workforce?\n",
            "        What is the employee turnover rate?\n",
            "        How many workplace injuries occurred?\n",
            "        What is the lost-time injury frequency rate?\n",
            "        Are labor rights respected across the supply chain?\n",
            "        Is child labor risk disclosed in supply chains?\n",
            "        Are employee training hours increasing per year?\n",
            "        Are wages above local living wage levels?\n",
            "        Is there employee engagement survey data?\n",
            "        What community development initiatives exist?\n",
            "        What philanthropic contributions were made?\n",
            "        Is there disclosure on data privacy and cybersecurity?\n",
            "        Governance (ESG-specific)\n",
            "        Is there a dedicated board ESG committee?\n",
            "        How often does the board review ESG matters?\n",
            "        Is ESG risk included in enterprise risk management?\n",
            "        Is executive compensation tied to ESG goals?\n",
            "        Are ESG targets linked to management incentives?\n",
            "        Is ESG performance externally assured?\n",
            "        Are ESG disclosures aligned with GRI or SASB?\n",
            "        Does the company report under TCFD or ISSB?\n",
            "        Is CDP reporting publicly available?\n",
            "        Are stakeholder engagement practices disclosed?\n",
            "        Risk & Opportunity\n",
            "        What are the identified physical climate risks?\n",
            "        What are the identified transition risks?\n",
            "        Is there disclosure on carbon pricing exposure?\n",
            "        How dependent is revenue on carbon-intensive activities?\n",
            "        What sustainability-linked opportunities are identified?\n",
            "        Are green products or services generating revenue?\n",
            "        Is access to sustainable finance increasing?\n",
            "        Are suppliers evaluated for ESG performance?\n",
            "        Are ESG clauses included in supplier contracts?\n",
            "        Is there disclosure on product lifecycle impacts?\n",
            "      ''' AS prompt,\n",
            "\n",
            "      0 AS temperature,\n",
            "      8092 AS max_output_tokens\n",
            "    )\n",
            "  )\n",
            "WHERE uri like '%novartis%' or uri like '%wellsfargo%' or  uri like '%unitedhealth%'\n",
            ");\n",
            "\n",
            "⏳ Processing... This may take 2-3 minutes\n"
          ]
        },
        {
          "output_type": "error",
          "ename": "KeyboardInterrupt",
          "evalue": "",
          "traceback": [
            "\u001b[0;31m---------------------------------------------------------------------------\u001b[0m",
            "\u001b[0;31mKeyboardInterrupt\u001b[0m                         Traceback (most recent call last)",
            "\u001b[0;32m/tmp/ipython-input-442589800.py\u001b[0m in \u001b[0;36m<cell line: 0>\u001b[0;34m()\u001b[0m\n\u001b[1;32m    140\u001b[0m     \u001b[0mprint\u001b[0m\u001b[0;34m(\u001b[0m\u001b[0;34m\"⏳ Processing... This may take 2-3 minutes\"\u001b[0m\u001b[0;34m)\u001b[0m\u001b[0;34m\u001b[0m\u001b[0;34m\u001b[0m\u001b[0m\n\u001b[1;32m    141\u001b[0m     \u001b[0mjob\u001b[0m \u001b[0;34m=\u001b[0m \u001b[0mclient\u001b[0m\u001b[0;34m.\u001b[0m\u001b[0mquery\u001b[0m\u001b[0;34m(\u001b[0m\u001b[0mgenerate_text_sql\u001b[0m\u001b[0;34m)\u001b[0m\u001b[0;34m\u001b[0m\u001b[0;34m\u001b[0m\u001b[0m\n\u001b[0;32m--> 142\u001b[0;31m     \u001b[0mjob\u001b[0m\u001b[0;34m.\u001b[0m\u001b[0mresult\u001b[0m\u001b[0;34m(\u001b[0m\u001b[0;34m)\u001b[0m\u001b[0;34m\u001b[0m\u001b[0;34m\u001b[0m\u001b[0m\n\u001b[0m\u001b[1;32m    143\u001b[0m \u001b[0;34m\u001b[0m\u001b[0m\n\u001b[1;32m    144\u001b[0m     \u001b[0;31m# Check results\u001b[0m\u001b[0;34m\u001b[0m\u001b[0;34m\u001b[0m\u001b[0m\n",
            "\u001b[0;32m/usr/local/lib/python3.12/dist-packages/google/cloud/bigquery/job/query.py\u001b[0m in \u001b[0;36mresult\u001b[0;34m(self, page_size, max_results, retry, timeout, start_index, job_retry)\u001b[0m\n\u001b[1;32m   1704\u001b[0m                 \u001b[0;31m# Since is_job_done() calls jobs.getQueryResults, which is a\u001b[0m\u001b[0;34m\u001b[0m\u001b[0;34m\u001b[0m\u001b[0m\n\u001b[1;32m   1705\u001b[0m                 \u001b[0;31m# long-running API, don't delay the next request at all.\u001b[0m\u001b[0;34m\u001b[0m\u001b[0;34m\u001b[0m\u001b[0m\n\u001b[0;32m-> 1706\u001b[0;31m                 \u001b[0;32mwhile\u001b[0m \u001b[0;32mnot\u001b[0m \u001b[0mis_job_done\u001b[0m\u001b[0;34m(\u001b[0m\u001b[0;34m)\u001b[0m\u001b[0;34m:\u001b[0m\u001b[0;34m\u001b[0m\u001b[0;34m\u001b[0m\u001b[0m\n\u001b[0m\u001b[1;32m   1707\u001b[0m                     \u001b[0;32mpass\u001b[0m\u001b[0;34m\u001b[0m\u001b[0;34m\u001b[0m\u001b[0m\n\u001b[1;32m   1708\u001b[0m             \u001b[0;32melse\u001b[0m\u001b[0;34m:\u001b[0m\u001b[0;34m\u001b[0m\u001b[0;34m\u001b[0m\u001b[0m\n",
            "\u001b[0;32m/usr/local/lib/python3.12/dist-packages/google/api_core/retry/retry_unary.py\u001b[0m in \u001b[0;36mretry_wrapped_func\u001b[0;34m(*args, **kwargs)\u001b[0m\n\u001b[1;32m    292\u001b[0m                 \u001b[0mself\u001b[0m\u001b[0;34m.\u001b[0m\u001b[0m_initial\u001b[0m\u001b[0;34m,\u001b[0m \u001b[0mself\u001b[0m\u001b[0;34m.\u001b[0m\u001b[0m_maximum\u001b[0m\u001b[0;34m,\u001b[0m \u001b[0mmultiplier\u001b[0m\u001b[0;34m=\u001b[0m\u001b[0mself\u001b[0m\u001b[0;34m.\u001b[0m\u001b[0m_multiplier\u001b[0m\u001b[0;34m\u001b[0m\u001b[0;34m\u001b[0m\u001b[0m\n\u001b[1;32m    293\u001b[0m             )\n\u001b[0;32m--> 294\u001b[0;31m             return retry_target(\n\u001b[0m\u001b[1;32m    295\u001b[0m                 \u001b[0mtarget\u001b[0m\u001b[0;34m,\u001b[0m\u001b[0;34m\u001b[0m\u001b[0;34m\u001b[0m\u001b[0m\n\u001b[1;32m    296\u001b[0m                 \u001b[0mself\u001b[0m\u001b[0;34m.\u001b[0m\u001b[0m_predicate\u001b[0m\u001b[0;34m,\u001b[0m\u001b[0;34m\u001b[0m\u001b[0;34m\u001b[0m\u001b[0m\n",
            "\u001b[0;32m/usr/local/lib/python3.12/dist-packages/google/api_core/retry/retry_unary.py\u001b[0m in \u001b[0;36mretry_target\u001b[0;34m(target, predicate, sleep_generator, timeout, on_error, exception_factory, **kwargs)\u001b[0m\n\u001b[1;32m    145\u001b[0m     \u001b[0;32mwhile\u001b[0m \u001b[0;32mTrue\u001b[0m\u001b[0;34m:\u001b[0m\u001b[0;34m\u001b[0m\u001b[0;34m\u001b[0m\u001b[0m\n\u001b[1;32m    146\u001b[0m         \u001b[0;32mtry\u001b[0m\u001b[0;34m:\u001b[0m\u001b[0;34m\u001b[0m\u001b[0;34m\u001b[0m\u001b[0m\n\u001b[0;32m--> 147\u001b[0;31m             \u001b[0mresult\u001b[0m \u001b[0;34m=\u001b[0m \u001b[0mtarget\u001b[0m\u001b[0;34m(\u001b[0m\u001b[0;34m)\u001b[0m\u001b[0;34m\u001b[0m\u001b[0;34m\u001b[0m\u001b[0m\n\u001b[0m\u001b[1;32m    148\u001b[0m             \u001b[0;32mif\u001b[0m \u001b[0minspect\u001b[0m\u001b[0;34m.\u001b[0m\u001b[0misawaitable\u001b[0m\u001b[0;34m(\u001b[0m\u001b[0mresult\u001b[0m\u001b[0;34m)\u001b[0m\u001b[0;34m:\u001b[0m\u001b[0;34m\u001b[0m\u001b[0;34m\u001b[0m\u001b[0m\n\u001b[1;32m    149\u001b[0m                 \u001b[0mwarnings\u001b[0m\u001b[0;34m.\u001b[0m\u001b[0mwarn\u001b[0m\u001b[0;34m(\u001b[0m\u001b[0m_ASYNC_RETRY_WARNING\u001b[0m\u001b[0;34m)\u001b[0m\u001b[0;34m\u001b[0m\u001b[0;34m\u001b[0m\u001b[0m\n",
            "\u001b[0;32m/usr/local/lib/python3.12/dist-packages/google/cloud/bigquery/job/query.py\u001b[0m in \u001b[0;36mis_job_done\u001b[0;34m()\u001b[0m\n\u001b[1;32m   1673\u001b[0m                 \u001b[0;31m# jobs.getQueryResults hangs as long as it can to ensure we\u001b[0m\u001b[0;34m\u001b[0m\u001b[0;34m\u001b[0m\u001b[0m\n\u001b[1;32m   1674\u001b[0m                 \u001b[0;31m# know when the query has finished as soon as possible.\u001b[0m\u001b[0;34m\u001b[0m\u001b[0;34m\u001b[0m\u001b[0m\n\u001b[0;32m-> 1675\u001b[0;31m                 \u001b[0mself\u001b[0m\u001b[0;34m.\u001b[0m\u001b[0m_reload_query_results\u001b[0m\u001b[0;34m(\u001b[0m\u001b[0mretry\u001b[0m\u001b[0;34m=\u001b[0m\u001b[0mretry\u001b[0m\u001b[0;34m,\u001b[0m \u001b[0;34m**\u001b[0m\u001b[0mreload_query_results_kwargs\u001b[0m\u001b[0;34m)\u001b[0m\u001b[0;34m\u001b[0m\u001b[0;34m\u001b[0m\u001b[0m\n\u001b[0m\u001b[1;32m   1676\u001b[0m \u001b[0;34m\u001b[0m\u001b[0m\n\u001b[1;32m   1677\u001b[0m                 \u001b[0;31m# Even if the query is finished now according to\u001b[0m\u001b[0;34m\u001b[0m\u001b[0;34m\u001b[0m\u001b[0m\n",
            "\u001b[0;32m/usr/local/lib/python3.12/dist-packages/google/cloud/bigquery/job/query.py\u001b[0m in \u001b[0;36m_reload_query_results\u001b[0;34m(self, retry, timeout, page_size, start_index)\u001b[0m\n\u001b[1;32m   1465\u001b[0m                 \u001b[0mtransport_timeout\u001b[0m \u001b[0;34m=\u001b[0m \u001b[0;32mNone\u001b[0m\u001b[0;34m\u001b[0m\u001b[0;34m\u001b[0m\u001b[0m\n\u001b[1;32m   1466\u001b[0m \u001b[0;34m\u001b[0m\u001b[0m\n\u001b[0;32m-> 1467\u001b[0;31m         self._query_results = self._client._get_query_results(\n\u001b[0m\u001b[1;32m   1468\u001b[0m             \u001b[0mself\u001b[0m\u001b[0;34m.\u001b[0m\u001b[0mjob_id\u001b[0m\u001b[0;34m,\u001b[0m\u001b[0;34m\u001b[0m\u001b[0;34m\u001b[0m\u001b[0m\n\u001b[1;32m   1469\u001b[0m             \u001b[0mretry\u001b[0m\u001b[0;34m,\u001b[0m\u001b[0;34m\u001b[0m\u001b[0;34m\u001b[0m\u001b[0m\n",
            "\u001b[0;32m/usr/local/lib/python3.12/dist-packages/google/cloud/bigquery/client.py\u001b[0m in \u001b[0;36m_get_query_results\u001b[0;34m(self, job_id, retry, project, timeout_ms, location, timeout, page_size, start_index)\u001b[0m\n\u001b[1;32m   2111\u001b[0m         \u001b[0;31m# QueryJob.result()). So we don't need to poll here.\u001b[0m\u001b[0;34m\u001b[0m\u001b[0;34m\u001b[0m\u001b[0m\n\u001b[1;32m   2112\u001b[0m         \u001b[0mspan_attributes\u001b[0m \u001b[0;34m=\u001b[0m \u001b[0;34m{\u001b[0m\u001b[0;34m\"path\"\u001b[0m\u001b[0;34m:\u001b[0m \u001b[0mpath\u001b[0m\u001b[0;34m}\u001b[0m\u001b[0;34m\u001b[0m\u001b[0;34m\u001b[0m\u001b[0m\n\u001b[0;32m-> 2113\u001b[0;31m         resource = self._call_api(\n\u001b[0m\u001b[1;32m   2114\u001b[0m             \u001b[0mretry\u001b[0m\u001b[0;34m,\u001b[0m\u001b[0;34m\u001b[0m\u001b[0;34m\u001b[0m\u001b[0m\n\u001b[1;32m   2115\u001b[0m             \u001b[0mspan_name\u001b[0m\u001b[0;34m=\u001b[0m\u001b[0;34m\"BigQuery.getQueryResults\"\u001b[0m\u001b[0;34m,\u001b[0m\u001b[0;34m\u001b[0m\u001b[0;34m\u001b[0m\u001b[0m\n",
            "\u001b[0;32m/usr/local/lib/python3.12/dist-packages/google/cloud/bigquery/client.py\u001b[0m in \u001b[0;36m_call_api\u001b[0;34m(self, retry, span_name, span_attributes, job_ref, headers, **kwargs)\u001b[0m\n\u001b[1;32m    859\u001b[0m                 \u001b[0mname\u001b[0m\u001b[0;34m=\u001b[0m\u001b[0mspan_name\u001b[0m\u001b[0;34m,\u001b[0m \u001b[0mattributes\u001b[0m\u001b[0;34m=\u001b[0m\u001b[0mspan_attributes\u001b[0m\u001b[0;34m,\u001b[0m \u001b[0mclient\u001b[0m\u001b[0;34m=\u001b[0m\u001b[0mself\u001b[0m\u001b[0;34m,\u001b[0m \u001b[0mjob_ref\u001b[0m\u001b[0;34m=\u001b[0m\u001b[0mjob_ref\u001b[0m\u001b[0;34m\u001b[0m\u001b[0;34m\u001b[0m\u001b[0m\n\u001b[1;32m    860\u001b[0m             ):\n\u001b[0;32m--> 861\u001b[0;31m                 \u001b[0;32mreturn\u001b[0m \u001b[0mcall\u001b[0m\u001b[0;34m(\u001b[0m\u001b[0;34m)\u001b[0m\u001b[0;34m\u001b[0m\u001b[0;34m\u001b[0m\u001b[0m\n\u001b[0m\u001b[1;32m    862\u001b[0m \u001b[0;34m\u001b[0m\u001b[0m\n\u001b[1;32m    863\u001b[0m         \u001b[0;32mreturn\u001b[0m \u001b[0mcall\u001b[0m\u001b[0;34m(\u001b[0m\u001b[0;34m)\u001b[0m\u001b[0;34m\u001b[0m\u001b[0;34m\u001b[0m\u001b[0m\n",
            "\u001b[0;32m/usr/local/lib/python3.12/dist-packages/google/api_core/retry/retry_unary.py\u001b[0m in \u001b[0;36mretry_wrapped_func\u001b[0;34m(*args, **kwargs)\u001b[0m\n\u001b[1;32m    292\u001b[0m                 \u001b[0mself\u001b[0m\u001b[0;34m.\u001b[0m\u001b[0m_initial\u001b[0m\u001b[0;34m,\u001b[0m \u001b[0mself\u001b[0m\u001b[0;34m.\u001b[0m\u001b[0m_maximum\u001b[0m\u001b[0;34m,\u001b[0m \u001b[0mmultiplier\u001b[0m\u001b[0;34m=\u001b[0m\u001b[0mself\u001b[0m\u001b[0;34m.\u001b[0m\u001b[0m_multiplier\u001b[0m\u001b[0;34m\u001b[0m\u001b[0;34m\u001b[0m\u001b[0m\n\u001b[1;32m    293\u001b[0m             )\n\u001b[0;32m--> 294\u001b[0;31m             return retry_target(\n\u001b[0m\u001b[1;32m    295\u001b[0m                 \u001b[0mtarget\u001b[0m\u001b[0;34m,\u001b[0m\u001b[0;34m\u001b[0m\u001b[0;34m\u001b[0m\u001b[0m\n\u001b[1;32m    296\u001b[0m                 \u001b[0mself\u001b[0m\u001b[0;34m.\u001b[0m\u001b[0m_predicate\u001b[0m\u001b[0;34m,\u001b[0m\u001b[0;34m\u001b[0m\u001b[0;34m\u001b[0m\u001b[0m\n",
            "\u001b[0;32m/usr/local/lib/python3.12/dist-packages/google/api_core/retry/retry_unary.py\u001b[0m in \u001b[0;36mretry_target\u001b[0;34m(target, predicate, sleep_generator, timeout, on_error, exception_factory, **kwargs)\u001b[0m\n\u001b[1;32m    145\u001b[0m     \u001b[0;32mwhile\u001b[0m \u001b[0;32mTrue\u001b[0m\u001b[0;34m:\u001b[0m\u001b[0;34m\u001b[0m\u001b[0;34m\u001b[0m\u001b[0m\n\u001b[1;32m    146\u001b[0m         \u001b[0;32mtry\u001b[0m\u001b[0;34m:\u001b[0m\u001b[0;34m\u001b[0m\u001b[0;34m\u001b[0m\u001b[0m\n\u001b[0;32m--> 147\u001b[0;31m             \u001b[0mresult\u001b[0m \u001b[0;34m=\u001b[0m \u001b[0mtarget\u001b[0m\u001b[0;34m(\u001b[0m\u001b[0;34m)\u001b[0m\u001b[0;34m\u001b[0m\u001b[0;34m\u001b[0m\u001b[0m\n\u001b[0m\u001b[1;32m    148\u001b[0m             \u001b[0;32mif\u001b[0m \u001b[0minspect\u001b[0m\u001b[0;34m.\u001b[0m\u001b[0misawaitable\u001b[0m\u001b[0;34m(\u001b[0m\u001b[0mresult\u001b[0m\u001b[0;34m)\u001b[0m\u001b[0;34m:\u001b[0m\u001b[0;34m\u001b[0m\u001b[0;34m\u001b[0m\u001b[0m\n\u001b[1;32m    149\u001b[0m                 \u001b[0mwarnings\u001b[0m\u001b[0;34m.\u001b[0m\u001b[0mwarn\u001b[0m\u001b[0;34m(\u001b[0m\u001b[0m_ASYNC_RETRY_WARNING\u001b[0m\u001b[0;34m)\u001b[0m\u001b[0;34m\u001b[0m\u001b[0;34m\u001b[0m\u001b[0m\n",
            "\u001b[0;32m/usr/local/lib/python3.12/dist-packages/google/cloud/_http/__init__.py\u001b[0m in \u001b[0;36mapi_request\u001b[0;34m(self, method, path, query_params, data, content_type, headers, api_base_url, api_version, expect_json, _target_object, timeout, extra_api_info)\u001b[0m\n\u001b[1;32m    480\u001b[0m             \u001b[0mcontent_type\u001b[0m \u001b[0;34m=\u001b[0m \u001b[0;34m\"application/json\"\u001b[0m\u001b[0;34m\u001b[0m\u001b[0;34m\u001b[0m\u001b[0m\n\u001b[1;32m    481\u001b[0m \u001b[0;34m\u001b[0m\u001b[0m\n\u001b[0;32m--> 482\u001b[0;31m         response = self._make_request(\n\u001b[0m\u001b[1;32m    483\u001b[0m             \u001b[0mmethod\u001b[0m\u001b[0;34m=\u001b[0m\u001b[0mmethod\u001b[0m\u001b[0;34m,\u001b[0m\u001b[0;34m\u001b[0m\u001b[0;34m\u001b[0m\u001b[0m\n\u001b[1;32m    484\u001b[0m             \u001b[0murl\u001b[0m\u001b[0;34m=\u001b[0m\u001b[0murl\u001b[0m\u001b[0;34m,\u001b[0m\u001b[0;34m\u001b[0m\u001b[0;34m\u001b[0m\u001b[0m\n",
            "\u001b[0;32m/usr/local/lib/python3.12/dist-packages/google/cloud/_http/__init__.py\u001b[0m in \u001b[0;36m_make_request\u001b[0;34m(self, method, url, data, content_type, headers, target_object, timeout, extra_api_info)\u001b[0m\n\u001b[1;32m    339\u001b[0m         \u001b[0mheaders\u001b[0m\u001b[0;34m[\u001b[0m\u001b[0;34m\"User-Agent\"\u001b[0m\u001b[0;34m]\u001b[0m \u001b[0;34m=\u001b[0m \u001b[0mself\u001b[0m\u001b[0;34m.\u001b[0m\u001b[0muser_agent\u001b[0m\u001b[0;34m\u001b[0m\u001b[0;34m\u001b[0m\u001b[0m\n\u001b[1;32m    340\u001b[0m \u001b[0;34m\u001b[0m\u001b[0m\n\u001b[0;32m--> 341\u001b[0;31m         return self._do_request(\n\u001b[0m\u001b[1;32m    342\u001b[0m             \u001b[0mmethod\u001b[0m\u001b[0;34m,\u001b[0m \u001b[0murl\u001b[0m\u001b[0;34m,\u001b[0m \u001b[0mheaders\u001b[0m\u001b[0;34m,\u001b[0m \u001b[0mdata\u001b[0m\u001b[0;34m,\u001b[0m \u001b[0mtarget_object\u001b[0m\u001b[0;34m,\u001b[0m \u001b[0mtimeout\u001b[0m\u001b[0;34m=\u001b[0m\u001b[0mtimeout\u001b[0m\u001b[0;34m\u001b[0m\u001b[0;34m\u001b[0m\u001b[0m\n\u001b[1;32m    343\u001b[0m         )\n",
            "\u001b[0;32m/usr/local/lib/python3.12/dist-packages/google/cloud/_http/__init__.py\u001b[0m in \u001b[0;36m_do_request\u001b[0;34m(self, method, url, headers, data, target_object, timeout)\u001b[0m\n\u001b[1;32m    377\u001b[0m         \u001b[0;34m:\u001b[0m\u001b[0mreturns\u001b[0m\u001b[0;34m:\u001b[0m \u001b[0mThe\u001b[0m \u001b[0mHTTP\u001b[0m \u001b[0mresponse\u001b[0m\u001b[0;34m.\u001b[0m\u001b[0;34m\u001b[0m\u001b[0;34m\u001b[0m\u001b[0m\n\u001b[1;32m    378\u001b[0m         \"\"\"\n\u001b[0;32m--> 379\u001b[0;31m         return self.http.request(\n\u001b[0m\u001b[1;32m    380\u001b[0m             \u001b[0murl\u001b[0m\u001b[0;34m=\u001b[0m\u001b[0murl\u001b[0m\u001b[0;34m,\u001b[0m \u001b[0mmethod\u001b[0m\u001b[0;34m=\u001b[0m\u001b[0mmethod\u001b[0m\u001b[0;34m,\u001b[0m \u001b[0mheaders\u001b[0m\u001b[0;34m=\u001b[0m\u001b[0mheaders\u001b[0m\u001b[0;34m,\u001b[0m \u001b[0mdata\u001b[0m\u001b[0;34m=\u001b[0m\u001b[0mdata\u001b[0m\u001b[0;34m,\u001b[0m \u001b[0mtimeout\u001b[0m\u001b[0;34m=\u001b[0m\u001b[0mtimeout\u001b[0m\u001b[0;34m\u001b[0m\u001b[0;34m\u001b[0m\u001b[0m\n\u001b[1;32m    381\u001b[0m         )\n",
            "\u001b[0;32m/usr/local/lib/python3.12/dist-packages/google/auth/transport/requests.py\u001b[0m in \u001b[0;36mrequest\u001b[0;34m(self, method, url, data, headers, max_allowed_time, timeout, **kwargs)\u001b[0m\n\u001b[1;32m    535\u001b[0m \u001b[0;34m\u001b[0m\u001b[0m\n\u001b[1;32m    536\u001b[0m         \u001b[0;32mwith\u001b[0m \u001b[0mTimeoutGuard\u001b[0m\u001b[0;34m(\u001b[0m\u001b[0mremaining_time\u001b[0m\u001b[0;34m)\u001b[0m \u001b[0;32mas\u001b[0m \u001b[0mguard\u001b[0m\u001b[0;34m:\u001b[0m\u001b[0;34m\u001b[0m\u001b[0;34m\u001b[0m\u001b[0m\n\u001b[0;32m--> 537\u001b[0;31m             response = super(AuthorizedSession, self).request(\n\u001b[0m\u001b[1;32m    538\u001b[0m                 \u001b[0mmethod\u001b[0m\u001b[0;34m,\u001b[0m\u001b[0;34m\u001b[0m\u001b[0;34m\u001b[0m\u001b[0m\n\u001b[1;32m    539\u001b[0m                 \u001b[0murl\u001b[0m\u001b[0;34m,\u001b[0m\u001b[0;34m\u001b[0m\u001b[0;34m\u001b[0m\u001b[0m\n",
            "\u001b[0;32m/usr/local/lib/python3.12/dist-packages/requests/sessions.py\u001b[0m in \u001b[0;36mrequest\u001b[0;34m(self, method, url, params, data, headers, cookies, files, auth, timeout, allow_redirects, proxies, hooks, stream, verify, cert, json)\u001b[0m\n\u001b[1;32m    587\u001b[0m         }\n\u001b[1;32m    588\u001b[0m         \u001b[0msend_kwargs\u001b[0m\u001b[0;34m.\u001b[0m\u001b[0mupdate\u001b[0m\u001b[0;34m(\u001b[0m\u001b[0msettings\u001b[0m\u001b[0;34m)\u001b[0m\u001b[0;34m\u001b[0m\u001b[0;34m\u001b[0m\u001b[0m\n\u001b[0;32m--> 589\u001b[0;31m         \u001b[0mresp\u001b[0m \u001b[0;34m=\u001b[0m \u001b[0mself\u001b[0m\u001b[0;34m.\u001b[0m\u001b[0msend\u001b[0m\u001b[0;34m(\u001b[0m\u001b[0mprep\u001b[0m\u001b[0;34m,\u001b[0m \u001b[0;34m**\u001b[0m\u001b[0msend_kwargs\u001b[0m\u001b[0;34m)\u001b[0m\u001b[0;34m\u001b[0m\u001b[0;34m\u001b[0m\u001b[0m\n\u001b[0m\u001b[1;32m    590\u001b[0m \u001b[0;34m\u001b[0m\u001b[0m\n\u001b[1;32m    591\u001b[0m         \u001b[0;32mreturn\u001b[0m \u001b[0mresp\u001b[0m\u001b[0;34m\u001b[0m\u001b[0;34m\u001b[0m\u001b[0m\n",
            "\u001b[0;32m/usr/local/lib/python3.12/dist-packages/requests/sessions.py\u001b[0m in \u001b[0;36msend\u001b[0;34m(self, request, **kwargs)\u001b[0m\n\u001b[1;32m    701\u001b[0m \u001b[0;34m\u001b[0m\u001b[0m\n\u001b[1;32m    702\u001b[0m         \u001b[0;31m# Send the request\u001b[0m\u001b[0;34m\u001b[0m\u001b[0;34m\u001b[0m\u001b[0m\n\u001b[0;32m--> 703\u001b[0;31m         \u001b[0mr\u001b[0m \u001b[0;34m=\u001b[0m \u001b[0madapter\u001b[0m\u001b[0;34m.\u001b[0m\u001b[0msend\u001b[0m\u001b[0;34m(\u001b[0m\u001b[0mrequest\u001b[0m\u001b[0;34m,\u001b[0m \u001b[0;34m**\u001b[0m\u001b[0mkwargs\u001b[0m\u001b[0;34m)\u001b[0m\u001b[0;34m\u001b[0m\u001b[0;34m\u001b[0m\u001b[0m\n\u001b[0m\u001b[1;32m    704\u001b[0m \u001b[0;34m\u001b[0m\u001b[0m\n\u001b[1;32m    705\u001b[0m         \u001b[0;31m# Total elapsed time of the request (approximately)\u001b[0m\u001b[0;34m\u001b[0m\u001b[0;34m\u001b[0m\u001b[0m\n",
            "\u001b[0;32m/usr/local/lib/python3.12/dist-packages/requests/adapters.py\u001b[0m in \u001b[0;36msend\u001b[0;34m(self, request, stream, timeout, verify, cert, proxies)\u001b[0m\n\u001b[1;32m    665\u001b[0m \u001b[0;34m\u001b[0m\u001b[0m\n\u001b[1;32m    666\u001b[0m         \u001b[0;32mtry\u001b[0m\u001b[0;34m:\u001b[0m\u001b[0;34m\u001b[0m\u001b[0;34m\u001b[0m\u001b[0m\n\u001b[0;32m--> 667\u001b[0;31m             resp = conn.urlopen(\n\u001b[0m\u001b[1;32m    668\u001b[0m                 \u001b[0mmethod\u001b[0m\u001b[0;34m=\u001b[0m\u001b[0mrequest\u001b[0m\u001b[0;34m.\u001b[0m\u001b[0mmethod\u001b[0m\u001b[0;34m,\u001b[0m\u001b[0;34m\u001b[0m\u001b[0;34m\u001b[0m\u001b[0m\n\u001b[1;32m    669\u001b[0m                 \u001b[0murl\u001b[0m\u001b[0;34m=\u001b[0m\u001b[0murl\u001b[0m\u001b[0;34m,\u001b[0m\u001b[0;34m\u001b[0m\u001b[0;34m\u001b[0m\u001b[0m\n",
            "\u001b[0;32m/usr/local/lib/python3.12/dist-packages/urllib3/connectionpool.py\u001b[0m in \u001b[0;36murlopen\u001b[0;34m(self, method, url, body, headers, retries, redirect, assert_same_host, timeout, pool_timeout, release_conn, chunked, body_pos, preload_content, decode_content, **response_kw)\u001b[0m\n\u001b[1;32m    785\u001b[0m \u001b[0;34m\u001b[0m\u001b[0m\n\u001b[1;32m    786\u001b[0m             \u001b[0;31m# Make the request on the HTTPConnection object\u001b[0m\u001b[0;34m\u001b[0m\u001b[0;34m\u001b[0m\u001b[0m\n\u001b[0;32m--> 787\u001b[0;31m             response = self._make_request(\n\u001b[0m\u001b[1;32m    788\u001b[0m                 \u001b[0mconn\u001b[0m\u001b[0;34m,\u001b[0m\u001b[0;34m\u001b[0m\u001b[0;34m\u001b[0m\u001b[0m\n\u001b[1;32m    789\u001b[0m                 \u001b[0mmethod\u001b[0m\u001b[0;34m,\u001b[0m\u001b[0;34m\u001b[0m\u001b[0;34m\u001b[0m\u001b[0m\n",
            "\u001b[0;32m/usr/local/lib/python3.12/dist-packages/urllib3/connectionpool.py\u001b[0m in \u001b[0;36m_make_request\u001b[0;34m(self, conn, method, url, body, headers, retries, timeout, chunked, response_conn, preload_content, decode_content, enforce_content_length)\u001b[0m\n\u001b[1;32m    532\u001b[0m         \u001b[0;31m# Receive the response from the server\u001b[0m\u001b[0;34m\u001b[0m\u001b[0;34m\u001b[0m\u001b[0m\n\u001b[1;32m    533\u001b[0m         \u001b[0;32mtry\u001b[0m\u001b[0;34m:\u001b[0m\u001b[0;34m\u001b[0m\u001b[0;34m\u001b[0m\u001b[0m\n\u001b[0;32m--> 534\u001b[0;31m             \u001b[0mresponse\u001b[0m \u001b[0;34m=\u001b[0m \u001b[0mconn\u001b[0m\u001b[0;34m.\u001b[0m\u001b[0mgetresponse\u001b[0m\u001b[0;34m(\u001b[0m\u001b[0;34m)\u001b[0m\u001b[0;34m\u001b[0m\u001b[0;34m\u001b[0m\u001b[0m\n\u001b[0m\u001b[1;32m    535\u001b[0m         \u001b[0;32mexcept\u001b[0m \u001b[0;34m(\u001b[0m\u001b[0mBaseSSLError\u001b[0m\u001b[0;34m,\u001b[0m \u001b[0mOSError\u001b[0m\u001b[0;34m)\u001b[0m \u001b[0;32mas\u001b[0m \u001b[0me\u001b[0m\u001b[0;34m:\u001b[0m\u001b[0;34m\u001b[0m\u001b[0;34m\u001b[0m\u001b[0m\n\u001b[1;32m    536\u001b[0m             \u001b[0mself\u001b[0m\u001b[0;34m.\u001b[0m\u001b[0m_raise_timeout\u001b[0m\u001b[0;34m(\u001b[0m\u001b[0merr\u001b[0m\u001b[0;34m=\u001b[0m\u001b[0me\u001b[0m\u001b[0;34m,\u001b[0m \u001b[0murl\u001b[0m\u001b[0;34m=\u001b[0m\u001b[0murl\u001b[0m\u001b[0;34m,\u001b[0m \u001b[0mtimeout_value\u001b[0m\u001b[0;34m=\u001b[0m\u001b[0mread_timeout\u001b[0m\u001b[0;34m)\u001b[0m\u001b[0;34m\u001b[0m\u001b[0;34m\u001b[0m\u001b[0m\n",
            "\u001b[0;32m/usr/local/lib/python3.12/dist-packages/urllib3/connection.py\u001b[0m in \u001b[0;36mgetresponse\u001b[0;34m(self)\u001b[0m\n\u001b[1;32m    563\u001b[0m \u001b[0;34m\u001b[0m\u001b[0m\n\u001b[1;32m    564\u001b[0m         \u001b[0;31m# Get the response from http.client.HTTPConnection\u001b[0m\u001b[0;34m\u001b[0m\u001b[0;34m\u001b[0m\u001b[0m\n\u001b[0;32m--> 565\u001b[0;31m         \u001b[0mhttplib_response\u001b[0m \u001b[0;34m=\u001b[0m \u001b[0msuper\u001b[0m\u001b[0;34m(\u001b[0m\u001b[0;34m)\u001b[0m\u001b[0;34m.\u001b[0m\u001b[0mgetresponse\u001b[0m\u001b[0;34m(\u001b[0m\u001b[0;34m)\u001b[0m\u001b[0;34m\u001b[0m\u001b[0;34m\u001b[0m\u001b[0m\n\u001b[0m\u001b[1;32m    566\u001b[0m \u001b[0;34m\u001b[0m\u001b[0m\n\u001b[1;32m    567\u001b[0m         \u001b[0;32mtry\u001b[0m\u001b[0;34m:\u001b[0m\u001b[0;34m\u001b[0m\u001b[0;34m\u001b[0m\u001b[0m\n",
            "\u001b[0;32m/usr/lib/python3.12/http/client.py\u001b[0m in \u001b[0;36mgetresponse\u001b[0;34m(self)\u001b[0m\n\u001b[1;32m   1428\u001b[0m         \u001b[0;32mtry\u001b[0m\u001b[0;34m:\u001b[0m\u001b[0;34m\u001b[0m\u001b[0;34m\u001b[0m\u001b[0m\n\u001b[1;32m   1429\u001b[0m             \u001b[0;32mtry\u001b[0m\u001b[0;34m:\u001b[0m\u001b[0;34m\u001b[0m\u001b[0;34m\u001b[0m\u001b[0m\n\u001b[0;32m-> 1430\u001b[0;31m                 \u001b[0mresponse\u001b[0m\u001b[0;34m.\u001b[0m\u001b[0mbegin\u001b[0m\u001b[0;34m(\u001b[0m\u001b[0;34m)\u001b[0m\u001b[0;34m\u001b[0m\u001b[0;34m\u001b[0m\u001b[0m\n\u001b[0m\u001b[1;32m   1431\u001b[0m             \u001b[0;32mexcept\u001b[0m \u001b[0mConnectionError\u001b[0m\u001b[0;34m:\u001b[0m\u001b[0;34m\u001b[0m\u001b[0;34m\u001b[0m\u001b[0m\n\u001b[1;32m   1432\u001b[0m                 \u001b[0mself\u001b[0m\u001b[0;34m.\u001b[0m\u001b[0mclose\u001b[0m\u001b[0;34m(\u001b[0m\u001b[0;34m)\u001b[0m\u001b[0;34m\u001b[0m\u001b[0;34m\u001b[0m\u001b[0m\n",
            "\u001b[0;32m/usr/lib/python3.12/http/client.py\u001b[0m in \u001b[0;36mbegin\u001b[0;34m(self)\u001b[0m\n\u001b[1;32m    329\u001b[0m         \u001b[0;31m# read until we get a non-100 response\u001b[0m\u001b[0;34m\u001b[0m\u001b[0;34m\u001b[0m\u001b[0m\n\u001b[1;32m    330\u001b[0m         \u001b[0;32mwhile\u001b[0m \u001b[0;32mTrue\u001b[0m\u001b[0;34m:\u001b[0m\u001b[0;34m\u001b[0m\u001b[0;34m\u001b[0m\u001b[0m\n\u001b[0;32m--> 331\u001b[0;31m             \u001b[0mversion\u001b[0m\u001b[0;34m,\u001b[0m \u001b[0mstatus\u001b[0m\u001b[0;34m,\u001b[0m \u001b[0mreason\u001b[0m \u001b[0;34m=\u001b[0m \u001b[0mself\u001b[0m\u001b[0;34m.\u001b[0m\u001b[0m_read_status\u001b[0m\u001b[0;34m(\u001b[0m\u001b[0;34m)\u001b[0m\u001b[0;34m\u001b[0m\u001b[0;34m\u001b[0m\u001b[0m\n\u001b[0m\u001b[1;32m    332\u001b[0m             \u001b[0;32mif\u001b[0m \u001b[0mstatus\u001b[0m \u001b[0;34m!=\u001b[0m \u001b[0mCONTINUE\u001b[0m\u001b[0;34m:\u001b[0m\u001b[0;34m\u001b[0m\u001b[0;34m\u001b[0m\u001b[0m\n\u001b[1;32m    333\u001b[0m                 \u001b[0;32mbreak\u001b[0m\u001b[0;34m\u001b[0m\u001b[0;34m\u001b[0m\u001b[0m\n",
            "\u001b[0;32m/usr/lib/python3.12/http/client.py\u001b[0m in \u001b[0;36m_read_status\u001b[0;34m(self)\u001b[0m\n\u001b[1;32m    290\u001b[0m \u001b[0;34m\u001b[0m\u001b[0m\n\u001b[1;32m    291\u001b[0m     \u001b[0;32mdef\u001b[0m \u001b[0m_read_status\u001b[0m\u001b[0;34m(\u001b[0m\u001b[0mself\u001b[0m\u001b[0;34m)\u001b[0m\u001b[0;34m:\u001b[0m\u001b[0;34m\u001b[0m\u001b[0;34m\u001b[0m\u001b[0m\n\u001b[0;32m--> 292\u001b[0;31m         \u001b[0mline\u001b[0m \u001b[0;34m=\u001b[0m \u001b[0mstr\u001b[0m\u001b[0;34m(\u001b[0m\u001b[0mself\u001b[0m\u001b[0;34m.\u001b[0m\u001b[0mfp\u001b[0m\u001b[0;34m.\u001b[0m\u001b[0mreadline\u001b[0m\u001b[0;34m(\u001b[0m\u001b[0m_MAXLINE\u001b[0m \u001b[0;34m+\u001b[0m \u001b[0;36m1\u001b[0m\u001b[0;34m)\u001b[0m\u001b[0;34m,\u001b[0m \u001b[0;34m\"iso-8859-1\"\u001b[0m\u001b[0;34m)\u001b[0m\u001b[0;34m\u001b[0m\u001b[0;34m\u001b[0m\u001b[0m\n\u001b[0m\u001b[1;32m    293\u001b[0m         \u001b[0;32mif\u001b[0m \u001b[0mlen\u001b[0m\u001b[0;34m(\u001b[0m\u001b[0mline\u001b[0m\u001b[0;34m)\u001b[0m \u001b[0;34m>\u001b[0m \u001b[0m_MAXLINE\u001b[0m\u001b[0;34m:\u001b[0m\u001b[0;34m\u001b[0m\u001b[0;34m\u001b[0m\u001b[0m\n\u001b[1;32m    294\u001b[0m             \u001b[0;32mraise\u001b[0m \u001b[0mLineTooLong\u001b[0m\u001b[0;34m(\u001b[0m\u001b[0;34m\"status line\"\u001b[0m\u001b[0;34m)\u001b[0m\u001b[0;34m\u001b[0m\u001b[0;34m\u001b[0m\u001b[0m\n",
            "\u001b[0;32m/usr/lib/python3.12/socket.py\u001b[0m in \u001b[0;36mreadinto\u001b[0;34m(self, b)\u001b[0m\n\u001b[1;32m    718\u001b[0m         \u001b[0;32mwhile\u001b[0m \u001b[0;32mTrue\u001b[0m\u001b[0;34m:\u001b[0m\u001b[0;34m\u001b[0m\u001b[0;34m\u001b[0m\u001b[0m\n\u001b[1;32m    719\u001b[0m             \u001b[0;32mtry\u001b[0m\u001b[0;34m:\u001b[0m\u001b[0;34m\u001b[0m\u001b[0;34m\u001b[0m\u001b[0m\n\u001b[0;32m--> 720\u001b[0;31m                 \u001b[0;32mreturn\u001b[0m \u001b[0mself\u001b[0m\u001b[0;34m.\u001b[0m\u001b[0m_sock\u001b[0m\u001b[0;34m.\u001b[0m\u001b[0mrecv_into\u001b[0m\u001b[0;34m(\u001b[0m\u001b[0mb\u001b[0m\u001b[0;34m)\u001b[0m\u001b[0;34m\u001b[0m\u001b[0;34m\u001b[0m\u001b[0m\n\u001b[0m\u001b[1;32m    721\u001b[0m             \u001b[0;32mexcept\u001b[0m \u001b[0mtimeout\u001b[0m\u001b[0;34m:\u001b[0m\u001b[0;34m\u001b[0m\u001b[0;34m\u001b[0m\u001b[0m\n\u001b[1;32m    722\u001b[0m                 \u001b[0mself\u001b[0m\u001b[0;34m.\u001b[0m\u001b[0m_timeout_occurred\u001b[0m \u001b[0;34m=\u001b[0m \u001b[0;32mTrue\u001b[0m\u001b[0;34m\u001b[0m\u001b[0;34m\u001b[0m\u001b[0m\n",
            "\u001b[0;32m/usr/lib/python3.12/ssl.py\u001b[0m in \u001b[0;36mrecv_into\u001b[0;34m(self, buffer, nbytes, flags)\u001b[0m\n\u001b[1;32m   1249\u001b[0m                   \u001b[0;34m\"non-zero flags not allowed in calls to recv_into() on %s\"\u001b[0m \u001b[0;34m%\u001b[0m\u001b[0;34m\u001b[0m\u001b[0;34m\u001b[0m\u001b[0m\n\u001b[1;32m   1250\u001b[0m                   self.__class__)\n\u001b[0;32m-> 1251\u001b[0;31m             \u001b[0;32mreturn\u001b[0m \u001b[0mself\u001b[0m\u001b[0;34m.\u001b[0m\u001b[0mread\u001b[0m\u001b[0;34m(\u001b[0m\u001b[0mnbytes\u001b[0m\u001b[0;34m,\u001b[0m \u001b[0mbuffer\u001b[0m\u001b[0;34m)\u001b[0m\u001b[0;34m\u001b[0m\u001b[0;34m\u001b[0m\u001b[0m\n\u001b[0m\u001b[1;32m   1252\u001b[0m         \u001b[0;32melse\u001b[0m\u001b[0;34m:\u001b[0m\u001b[0;34m\u001b[0m\u001b[0;34m\u001b[0m\u001b[0m\n\u001b[1;32m   1253\u001b[0m             \u001b[0;32mreturn\u001b[0m \u001b[0msuper\u001b[0m\u001b[0;34m(\u001b[0m\u001b[0;34m)\u001b[0m\u001b[0;34m.\u001b[0m\u001b[0mrecv_into\u001b[0m\u001b[0;34m(\u001b[0m\u001b[0mbuffer\u001b[0m\u001b[0;34m,\u001b[0m \u001b[0mnbytes\u001b[0m\u001b[0;34m,\u001b[0m \u001b[0mflags\u001b[0m\u001b[0;34m)\u001b[0m\u001b[0;34m\u001b[0m\u001b[0;34m\u001b[0m\u001b[0m\n",
            "\u001b[0;32m/usr/lib/python3.12/ssl.py\u001b[0m in \u001b[0;36mread\u001b[0;34m(self, len, buffer)\u001b[0m\n\u001b[1;32m   1101\u001b[0m         \u001b[0;32mtry\u001b[0m\u001b[0;34m:\u001b[0m\u001b[0;34m\u001b[0m\u001b[0;34m\u001b[0m\u001b[0m\n\u001b[1;32m   1102\u001b[0m             \u001b[0;32mif\u001b[0m \u001b[0mbuffer\u001b[0m \u001b[0;32mis\u001b[0m \u001b[0;32mnot\u001b[0m \u001b[0;32mNone\u001b[0m\u001b[0;34m:\u001b[0m\u001b[0;34m\u001b[0m\u001b[0;34m\u001b[0m\u001b[0m\n\u001b[0;32m-> 1103\u001b[0;31m                 \u001b[0;32mreturn\u001b[0m \u001b[0mself\u001b[0m\u001b[0;34m.\u001b[0m\u001b[0m_sslobj\u001b[0m\u001b[0;34m.\u001b[0m\u001b[0mread\u001b[0m\u001b[0;34m(\u001b[0m\u001b[0mlen\u001b[0m\u001b[0;34m,\u001b[0m \u001b[0mbuffer\u001b[0m\u001b[0;34m)\u001b[0m\u001b[0;34m\u001b[0m\u001b[0;34m\u001b[0m\u001b[0m\n\u001b[0m\u001b[1;32m   1104\u001b[0m             \u001b[0;32melse\u001b[0m\u001b[0;34m:\u001b[0m\u001b[0;34m\u001b[0m\u001b[0;34m\u001b[0m\u001b[0m\n\u001b[1;32m   1105\u001b[0m                 \u001b[0;32mreturn\u001b[0m \u001b[0mself\u001b[0m\u001b[0;34m.\u001b[0m\u001b[0m_sslobj\u001b[0m\u001b[0;34m.\u001b[0m\u001b[0mread\u001b[0m\u001b[0;34m(\u001b[0m\u001b[0mlen\u001b[0m\u001b[0;34m)\u001b[0m\u001b[0;34m\u001b[0m\u001b[0;34m\u001b[0m\u001b[0m\n",
            "\u001b[0;31mKeyboardInterrupt\u001b[0m: "
          ]
        }
      ]
    },
    {
      "cell_type": "markdown",
      "source": [
        "### *Alternate Method to ML.GENERATE_TEXT:*\n",
        "# ֎Extract Financial & ESG Data - using AI.GENERATE"
      ],
      "metadata": {
        "id": "hNh4AXmOv2UI"
      },
      "id": "hNh4AXmOv2UI"
    },
    {
      "cell_type": "code",
      "source": [
        "\n",
        "print(f\"🧠 Processing PDFs with {MODEL_NAME}...\")\n",
        "print(f\"This analyzes {company1}, {company2}, and {company3} reports...\")\n",
        "\n",
        "generate_text_sql2 = f\"\"\"\n",
        "CREATE OR REPLACE TABLE `{QUALIFIED_CURATED2_TABLE_ID}` AS\n",
        "SELECT\n",
        "  uri,\n",
        "  AI.GENERATE(\n",
        "    CONCAT(\n",
        "      \"You are an expert ESG and Financial analyst. Use only the information provided in the document to answer.\\\\n\",\n",
        "      \"Fetch Financial and Sustainability Details including tabular and image data for each PDF.\\\\n\",\n",
        "      \"Open and Read the PDF: \",\n",
        "      JSON_VALUE(\n",
        "        OBJ.GET_ACCESS_URL(\n",
        "          OBJ.MAKE_REF(uri, '{QUALIFIED_CLOUD_RES_CONN}'),\n",
        "          'r'\n",
        "        ),\n",
        "        '$.access_urls.read_url'\n",
        "      )\n",
        "    ),\n",
        "    connection_id => '{QUALIFIED_CLOUD_RES_CONN}',\n",
        "    endpoint => '{MODEL_ENDPOINT}',\n",
        "    output_schema => 'uri STRING, response_text STRING'\n",
        "  ).response_text AS response_text\n",
        "FROM `{QUALIFIED_OBJ_TABLE_ID}`\n",
        "WHERE uri LIKE '%{company1}%' OR uri LIKE '%{company2}%' OR uri LIKE '%{company3}%';\n",
        "\"\"\"\n",
        "\n",
        "# try:\n",
        "#     print(\"⏳ Processing... This may take 2-3 minutes\")\n",
        "#     job = client.query(generate_text_sql2)\n",
        "#     job.result()\n",
        "\n",
        "#     # Check results\n",
        "#     check_sql = f\"SELECT COUNT(*) as processed_files FROM `{QUALIFIED_CURATED2_TABLE_ID}`\"\n",
        "#     result = client.query(check_sql).result()\n",
        "#     count = list(result)[0][0]\n",
        "#     print(f\"✅ Successfully processed {count} files!\")\n",
        "\n",
        "# except Exception as e:\n",
        "#     print(f\"⚠️  Processing issue: {e}\")\n"
      ],
      "metadata": {
        "id": "WpdJJYc_uVZ7",
        "colab": {
          "base_uri": "https://localhost:8080/"
        },
        "outputId": "de74b89b-6b03-4400-a0b4-62f3a97c59ea"
      },
      "id": "WpdJJYc_uVZ7",
      "execution_count": 16,
      "outputs": [
        {
          "output_type": "stream",
          "name": "stdout",
          "text": [
            "🧠 Processing PDFs with gemini_model_25pro...\n",
            "This analyzes novartis, wellsfargo, and unitedhealth reports...\n",
            "⏳ Processing... This may take 2-3 minutes\n",
            "✅ Successfully processed 32 files!\n"
          ]
        }
      ]
    },
    {
      "cell_type": "markdown",
      "source": [
        "# 🧹 Extract Clean Text Response"
      ],
      "metadata": {
        "id": "Ct2UPyXMrnbD"
      },
      "id": "Ct2UPyXMrnbD"
    },
    {
      "cell_type": "code",
      "source": [
        "\n",
        "print(\"🧹 Cleaning and extracting response text...\")\n",
        "\n",
        "curate_results_sql = f\"\"\"\n",
        "CREATE OR REPLACE TABLE `{QUALIFIED_CURATED_TABLE_ID}` AS\n",
        "SELECT *,\n",
        "  ARRAY_TO_STRING(\n",
        "    ARRAY(\n",
        "      SELECT JSON_VALUE(part, '$.text')\n",
        "      FROM UNNEST(JSON_QUERY_ARRAY(\n",
        "        JSON_QUERY(ml_generate_text_result, '$.candidates[0].content.parts')\n",
        "      )) AS part\n",
        "    ),\n",
        "    ''\n",
        "  ) AS response_text\n",
        "FROM\n",
        "  `{QUALIFIED_RAW_TABLE_ID}`;\n",
        "\"\"\"\n",
        "\n",
        "try:\n",
        "    job = client.query(curate_results_sql)\n",
        "    job.result()\n",
        "    print(\"✅ Response text extracted and cleaned!\")\n",
        "\n",
        "    # Show sample of extracted text\n",
        "    sample_sql = f\"\"\"\n",
        "    SELECT uri, LEFT(response_text, 200) as sample_text\n",
        "    FROM `{QUALIFIED_CURATED_TABLE_ID}`\n",
        "    LIMIT 3\n",
        "    \"\"\"\n",
        "    sample_df = bpd.read_gbq(sample_sql)\n",
        "    print(\"\\n📝 Sample extracted text:\")\n",
        "    for _, row in sample_df.iterrows():\n",
        "        print(f\"File: {row['uri']}\")\n",
        "        print(f\"Text: {row['sample_text']}...\\n\")\n",
        "\n",
        "except Exception as e:\n",
        "    print(f\"⚠️  Text extraction issue: {e}\")"
      ],
      "metadata": {
        "id": "_hLB42ZHW1mV",
        "colab": {
          "base_uri": "https://localhost:8080/"
        },
        "outputId": "4a6e9663-a6e2-40da-b0af-be3ac3a3f145"
      },
      "id": "_hLB42ZHW1mV",
      "execution_count": 17,
      "outputs": [
        {
          "output_type": "stream",
          "name": "stdout",
          "text": [
            "🧹 Cleaning and extracting response text...\n",
            "✅ Response text extracted and cleaned!\n",
            "\n",
            "📝 Sample extracted text:\n",
            "File: gs://report_insights/lloyd/lloyd_annualreport_2023.pdf\n",
            "Text: ...\n",
            "\n",
            "File: gs://report_insights/lloyd/lloyd_annualreport_2021.pdf\n",
            "Text: ...\n",
            "\n",
            "File: gs://report_insights/lloyd/lloyd_sustainabilityreport_2021.pdf\n",
            "Text: Based on the \"Lloyd's Global Compact 2021 Report,\" here are the key sustainability details:\n",
            "\n",
            "### **Environmental**\n",
            "\n",
            "*   **What is the total Scope 1, 2, and 3 emissions?**\n",
            "    The report does not provi...\n",
            "\n"
          ]
        }
      ]
    },
    {
      "cell_type": "markdown",
      "source": [
        "# 📊 Extract Structured Metrics - Using AI.GENERATE_TABLE"
      ],
      "metadata": {
        "id": "7u1iCJairu6y"
      },
      "id": "7u1iCJairu6y"
    },
    {
      "cell_type": "code",
      "source": [
        "\n",
        "print(\"📊 Generating structured financial and ESG metrics...\")\n",
        "\n",
        "generate_table_sql = f\"\"\"\n",
        "CREATE OR REPLACE TABLE `{QUALIFIED_FINAL_TABLE_ID}` AS\n",
        "SELECT *,\n",
        "    DATE(CAST(fiscal_year AS STRING) || \"-01-01\") AS fiscal_year_date,\n",
        "    CASE\n",
        "        WHEN uri LIKE '%{company1}%' THEN '{company1}'\n",
        "        WHEN uri LIKE '%{company2}%' THEN '{company2}'\n",
        "        WHEN uri LIKE '%{company3}%' THEN '{company3}'\n",
        "    END as company_name_formatted\n",
        "FROM (\n",
        "    SELECT *\n",
        "    FROM AI.GENERATE_TABLE(\n",
        "        MODEL `{QUALIFIED_MODEL_ID}`,\n",
        "        (\n",
        "            SELECT CONCAT(\n",
        "                \"You are an expert financial analyst and ESG/Climate analyst. Extract all financial metrics and sustainability metrics and KPIs from the provided text into structured data. \",\n",
        "                \"For Annual reports, focus on getting the financial metrics. And for Sustainability reports focus on getting ESG metrics. \",\n",
        "                \"Normalize numbers by removing commas, spaces, or symbols. \",\n",
        "                \"Only include actual numerical financial data. \",\n",
        "                \"TEXT: \",\n",
        "                response_text\n",
        "            ) AS prompt,\n",
        "            response_text as extracted_text,\n",
        "            uri AS uri\n",
        "        FROM `{QUALIFIED_CURATED_TABLE_ID}`\n",
        "        ),\n",
        "        STRUCT(\n",
        "            'uris STRING, report_type STRING, company_name STRING, fiscal_year INT64, revenue_millions FLOAT64, net_income_millions FLOAT64, total_assets_millions FLOAT64, total_liabilities_millions FLOAT64, equity_millions FLOAT64, eps_basic FLOAT64, eps_diluted FLOAT64, dividends_per_share FLOAT64, employee_count INT64, business_segments ARRAY<STRING>, total_ghg_emissions FLOAT64, scope_1_ghg_emissions FLOAT64, scope_2_ghg_emissions FLOAT64, scope_3_ghg_emissions FLOAT64, carbon_intensity FLOAT64, energy_consumption FLOAT64, renewable_energy_usage FLOAT64, water_consumption FLOAT64, waste_generated FLOAT64, waste_recycled FLOAT64, sustainable_financing FLOAT64, reporting_period STRING, page_references ARRAY<STRING>, contexts ARRAY<STRING>, verbatim_quotes ARRAY<STRING>'\n",
        "            AS output_schema,\n",
        "            8192 AS max_output_tokens,\n",
        "            0 AS temperature\n",
        "        )\n",
        "    ) t\n",
        ");\n",
        "\"\"\"\n",
        "\n",
        "try:\n",
        "    print(\"⏳ Structuring data... This may take 3-4 minutes\")\n",
        "    job = client.query(generate_table_sql)\n",
        "    job.result()\n",
        "    print(\"✅ Structured metrics extracted successfully!\")\n",
        "\n",
        "except Exception as e:\n",
        "    print(f\"⚠️  Table generation issue: {e}\")"
      ],
      "metadata": {
        "id": "2QOTj5J1XUW4",
        "colab": {
          "base_uri": "https://localhost:8080/"
        },
        "outputId": "16f2c3fb-48f3-4faa-c204-652d555fac4a"
      },
      "id": "2QOTj5J1XUW4",
      "execution_count": 18,
      "outputs": [
        {
          "output_type": "stream",
          "name": "stdout",
          "text": [
            "📊 Generating structured financial and ESG metrics...\n",
            "⏳ Structuring data... This may take 3-4 minutes\n",
            "✅ Structured metrics extracted successfully!\n"
          ]
        }
      ]
    },
    {
      "cell_type": "markdown",
      "source": [
        "# 🔮 Revenue Forecasting with AI.FORECAST & TimesFM 2.0"
      ],
      "metadata": {
        "id": "QAwsY7BWr0l1"
      },
      "id": "QAwsY7BWr0l1"
    },
    {
      "cell_type": "code",
      "source": [
        "\n",
        "print(\"🔮 Generating metrics table\")\n",
        "\n",
        "metrics_sql = f\"\"\"\n",
        "CREATE OR REPLACE TABLE `{QUALIFIED_METRICS_TABLE_ID}` AS\n",
        "SELECT * FROM\n",
        "    ( SELECT\n",
        "        uri, fiscal_year,\n",
        "        extracted_text, company_name_formatted as company_name,\n",
        "        -- Determine report_type based on URI\n",
        "        CASE\n",
        "            WHEN LOWER(uri) LIKE '%annual%' THEN 'Annual'\n",
        "            WHEN LOWER(uri) LIKE '%sustainability%' THEN 'Sustainability'\n",
        "            ELSE 'Other'\n",
        "        END AS report_type,\n",
        "        fiscal_year_date,\n",
        "        reporting_period ,\n",
        "        -- Financial metrics: keep if Annual, else 0\n",
        "        CASE WHEN LOWER(uri) LIKE '%annual%' THEN revenue_millions ELSE 0 END AS revenue_millions,\n",
        "        CASE WHEN LOWER(uri) LIKE '%annual%' THEN net_income_millions ELSE 0 END AS net_income_millions,\n",
        "        CASE WHEN LOWER(uri) LIKE '%annual%' THEN total_assets_millions ELSE 0 END AS total_assets_millions,\n",
        "        CASE WHEN LOWER(uri) LIKE '%annual%' THEN total_liabilities_millions ELSE 0 END AS total_liabilities_millions,\n",
        "        CASE WHEN LOWER(uri) LIKE '%annual%' THEN equity_millions ELSE 0 END AS equity_millions,\n",
        "        CASE WHEN LOWER(uri) LIKE '%annual%' THEN dividends_per_share ELSE 0 END AS dividends_per_share,\n",
        "        CASE WHEN LOWER(uri) LIKE '%annual%' THEN eps_basic ELSE 0 END AS eps_basic,\n",
        "        CASE WHEN LOWER(uri) LIKE '%annual%' THEN eps_diluted ELSE 0 END AS eps_diluted,\n",
        "        CASE WHEN LOWER(uri) LIKE '%annual%' THEN employee_count ELSE 0 END AS employee_count,\n",
        "        CASE WHEN LOWER(uri) LIKE '%annual%' THEN sustainable_financing ELSE 0 END AS sustainable_financing,\n",
        "\n",
        "        -- Sustainability metrics: keep if Sustainability report, else 0\n",
        "        CASE WHEN LOWER(uri) LIKE '%sustainability%' THEN carbon_intensity ELSE 0 END AS carbon_intensity,\n",
        "        CASE WHEN LOWER(uri) LIKE '%sustainability%' THEN energy_consumption ELSE 0 END AS energy_consumption,\n",
        "        CASE WHEN LOWER(uri) LIKE '%sustainability%' THEN renewable_energy_usage ELSE 0 END AS renewable_energy_usage,\n",
        "        CASE WHEN LOWER(uri) LIKE '%sustainability%' THEN scope_1_ghg_emissions ELSE 0 END AS scope_1_ghg_emissions,\n",
        "        CASE WHEN LOWER(uri) LIKE '%sustainability%' THEN scope_2_ghg_emissions ELSE 0 END AS scope_2_ghg_emissions,\n",
        "        CASE WHEN LOWER(uri) LIKE '%sustainability%' THEN scope_3_ghg_emissions ELSE 0 END AS scope_3_ghg_emissions,\n",
        "        CASE WHEN LOWER(uri) LIKE '%sustainability%' THEN total_ghg_emissions ELSE 0 END AS total_ghg_emissions,\n",
        "        CASE WHEN LOWER(uri) LIKE '%sustainability%' THEN water_consumption ELSE 0 END AS water_consumption,\n",
        "        CASE WHEN LOWER(uri) LIKE '%sustainability%' THEN waste_generated ELSE 0 END AS waste_generated,\n",
        "        CASE WHEN LOWER(uri) LIKE '%sustainability%' THEN waste_recycled ELSE 0 END AS waste_recycled\n",
        "\n",
        "     FROM `{QUALIFIED_FINAL_TABLE_ID}`\n",
        "     ) t\n",
        "-- WHERE report_type != 'Annual';\n",
        "\n",
        "\"\"\"\n",
        "\n",
        "print(\"⏳ fetching metrics...\")\n",
        "job = client.query(metrics_sql)\n",
        "job.result()\n",
        "print(\"✅ Metrics table created successfully!\")"
      ],
      "metadata": {
        "colab": {
          "base_uri": "https://localhost:8080/"
        },
        "id": "ThCi0WF28s_6",
        "outputId": "f06107e0-c9f4-498b-c863-1f208d2096b1"
      },
      "id": "ThCi0WF28s_6",
      "execution_count": 19,
      "outputs": [
        {
          "output_type": "stream",
          "name": "stdout",
          "text": [
            "🔮 Generating metrics table\n",
            "⏳ fetching metrics...\n",
            "✅ Metrics table created successfully!\n"
          ]
        }
      ]
    },
    {
      "cell_type": "markdown",
      "source": [
        "# Output 1\n",
        "### Financial/ESG Details for pre-defined questions for selected company and fiscal_year and report type"
      ],
      "metadata": {
        "id": "m94nToNTEGmE"
      },
      "id": "m94nToNTEGmE"
    },
    {
      "cell_type": "code",
      "source": [
        "from IPython.display import display, Markdown\n",
        "\n",
        "\n",
        "# --- Load your BigQuery table ---\n",
        "#df = bpd.read_gbq(f\"{QUALIFIED_METRICS_TABLE_ID}\")\n",
        "metrics_sql1 = f\"\"\"\n",
        "SELECT *\n",
        "FROM `{QUALIFIED_METRICS_TABLE_ID}`\n",
        "\"\"\"\n",
        "df = bpd.read_gbq(metrics_sql1)\n",
        "\n",
        "# --- Choose which report to display ---\n",
        "company = \"novartis\"\n",
        "year = 2024\n",
        "rtype = \"Sustainability\"   # \"Annual\" or \"Sustainability Report\"\n",
        "\n",
        "# --- Filter ---\n",
        "filtered = df[\n",
        "    (df[\"company_name\"] == company)\n",
        "    & (df[\"fiscal_year\"] == year)\n",
        "    & (df[\"report_type\"] == rtype)\n",
        "]\n",
        "\n",
        "# --- Display pretty ---\n",
        "if not filtered.empty:\n",
        "    text = filtered[\"extracted_text\"].iloc[0]\n",
        "    display(Markdown(text))\n",
        "else:\n",
        "    print(\"No report found for that selection.\")\n",
        "\n",
        "\n",
        "# --- Grab the first row (or loop if multiple) ---\n",
        "text = df[\"extracted_text\"].iloc[0]\n",
        "\n",
        "# --- Pretty display in Colab ---\n",
        "print(\"\\n\\n===========================================================================\\n\\n\")\n",
        "display(Markdown(text))"
      ],
      "metadata": {
        "colab": {
          "base_uri": "https://localhost:8080/",
          "height": 1000
        },
        "id": "GvZ-uUFN_ow6",
        "outputId": "ee0602c3-3363-46cf-e616-884929c7cfb1"
      },
      "id": "GvZ-uUFN_ow6",
      "execution_count": 20,
      "outputs": [
        {
          "output_type": "display_data",
          "data": {
            "text/plain": [
              "<IPython.core.display.HTML object>"
            ],
            "text/html": [
              "Load job b91568b8-aa44-4015-807c-e2a5c4399ddf is DONE. <a target=\"_blank\" href=\"https://console.cloud.google.com/bigquery?project=intellitrend-project-dev&j=bq:US:b91568b8-aa44-4015-807c-e2a5c4399ddf&page=queryresults\">Open Job</a>"
            ]
          },
          "metadata": {}
        },
        {
          "output_type": "display_data",
          "data": {
            "text/plain": [
              "<IPython.core.display.Markdown object>"
            ],
            "text/markdown": "Based on the Novartis in Society Integrated Report 2024, here are the detailed financial and sustainability insights.\n\n### **Financial Performance**\n\n*   **What is the total revenue this year?**\n    Total revenue (Net sales from continuing operations) for 2024 was **USD 50.317 billion** (p. 19).\n\n*   **How has revenue changed compared to last year?**\n    Revenue increased by **11% in USD** (12% in constant currencies) from USD 45.440 billion in 2023 (p. 19).\n\n*   **What is the net profit or loss?**\n    Net income from continuing operations was **USD 11.939 billion** in 2024, an increase of 39% (45% in constant currencies) from the prior year (p. 19).\n\n*   **How have the earnings per share (EPS) changed?**\n    Core basic earnings per share (EPS) from continuing operations increased by **21% in USD** (24% in constant currencies) to USD 7.81 in 2024, up from USD 6.47 in 2023 (p. 19).\n\n*   **Are gross margins improving or declining?**\n    The report does not provide a gross margin figure.\n\n*   **Are operating margins stable or volatile?**\n    The core operating income margin is improving, increasing to **38.7%** of net sales in 2024 from 36.0% in 2023 (p. 19).\n\n*   **How has net margin shifted year over year?**\n    The net income margin (from continuing operations) improved to **23.7%** in 2024 (calculated as $11.939B / $50.317B), up from 18.9% in 2023 (calculated as $8.572B / $45.440B) (p. 19).\n\n*   **Is cash flow from operations positive and consistent?**\n    Yes. Free cash flow from continuing operations was **USD 16.253 billion** in 2024, up 24% from USD 13.160 billion in 2023 (p. 19).\n\n*   **How much free cash flow is available?**\n    **USD 16.253 billion** from continuing operations in 2024 (p. 19).\n\n*   **How are working capital levels trending?**\n    This information is not available in the provided document.\n\n### **Balance Sheet & Liquidity**\n\nInformation regarding total debt, debt-to-equity ratio, current/quick ratios, and contingent liabilities is not available in this integrated report. The document refers to the full Annual Report / Form 20-F for more detailed financial information.\n\n*   **How much cash and equivalents are available?**\n    This information is not available in the provided document.\n\n### **Business Strategy**\n\n*   **What are the company’s core growth initiatives?**\n    The company's strategy is to \"Deliver high-value medicines to accelerate growth,\" driven by momentum in its existing portfolio (including *Entresto*, *Cosentyx*, *Kisqali*) and key upcoming launches (p. 13).\n\n*   **Is management investing in new markets or products?**\n    Yes, Novartis focuses on four core therapeutic areas (cardiovascular, renal and metabolic; immunology; neuroscience; oncology) and five technology platforms (chemistry, biotherapeutics, radioligand therapy, xRNA, gene and cell therapy) (p. 13).\n\n*   **How much is spent on research and development (R&D)?**\n    In 2024, the core R&D expense from continuing operations was **USD 9.3 billion** (p. 15).\n\n*   **Are acquisitions or divestitures planned?**\n    The company has a history of strategic acquisitions and divestments to focus on its core pharmaceutical business. The Board reviewed strategic considerations around M&A in 2024, including the acquisition of Mariana Oncology and MorphoSys (p. 4, 48).\n\n*   **Is the company expanding geographically?**\n    The company focuses on priority markets: US, Germany, China, and Japan, which account for most of the expected growth in global healthcare spending. It also maintains a strong presence in other markets worldwide (p. 13).\n\n*   **What is the company’s competitive advantage?**\n    The company's advantage lies in its focus on innovation within key therapeutic areas and advanced technology platforms, a robust R&D pipeline, and a strategy to build depth and scientific expertise (p. 13).\n\n*   **Is the advantage sustainable against competitors?**\n    The company aims for sustainability by concentrating resources on priority programs, effective life-cycle management for key brands, and collaborating with external researchers and biotech companies to discover new medicines (p. 13).\n\n*   **Is digital transformation a core part of the strategy?**\n    Yes. \"Scale data science and technology\" is a foundational pillar of the strategy. The company is increasingly integrating artificial intelligence (AI) and data science in R&D to accelerate drug design and in business operations to enhance productivity (p. 5, 13, 21).\n\n### **Risk Factors**\n\n*   **What macroeconomic risks affect the business?**\n    The company is affected by geopolitical and economic volatility, aging populations, and lifestyle changes that put pressure on healthcare systems (p. 4, 12).\n\n*   **What industry-specific risks are highlighted?**\n    Key industry risks include pricing and reimbursement pressure, evolving legislation (e.g., US Inflation Reduction Act), and the need to competitively discover and develop high-value medicines (p. 12, 53, 54).\n\n*   **What operational risks are disclosed?**\n    Operational risks include cybersecurity and data protection, talent management, failure to implement strategic technology programs, legal and compliance challenges, manufacturing and product quality issues, and supply chain disruptions (p. 53, 55).\n\n*   **Are supply chain risks material?**\n    Yes, supply chain continuity is listed as a key operational risk. The company works to withstand potential disruptions and improve resilience (p. 4, 53, 55).\n\n*   **Are legal or regulatory risks mentioned?**\n    Yes, \"Legal, regulatory, ethics and compliance\" is a key operational risk, citing challenges from evolving regulations and societal expectations (p. 53, 55).\n\n*   **How is foreign exchange risk managed?**\n    The company reports financial results in both USD and constant currencies (cc) \"to remove the impact of exchange rate movements\" (p. 19).\n\n*   **How dependent is revenue on a few customers?**\n    This information is not available in the provided document.\n\n*   **Are raw material price risks significant?**\n    The risk is mentioned in the context of supply chain resilience, as many products \"require highly specialized raw materials\" (p. 15).\n\n### **Governance & Leadership**\n\n*   **Is the board majority independent?**\n    Yes, \"All Board members are independent and nonexecutive\" (p. 48).\n\n*   **How many women or minorities are on the board?**\n    Of the 13 board members pictured, **4 are women (31%)**. Minority representation is not specified (p. 51).\n\n*   **Is executive compensation performance-linked?**\n    Yes, compensation is heavily performance-linked. For the CEO in 2024, 88.5% of total realized compensation was variable. It is tied to short-term financial and strategic goals (including ESG) and long-term value creation metrics like sales growth, operating income growth, innovation, and relative total shareholder return (p. 56-58).\n\n*   **Does management own significant equity?**\n    The report mentions an Employee Share Purchase Plan (ESPP) and that a portion of executive incentive pay is in equity, but specific ownership levels are not disclosed (p. 36, 57).\n\n*   **Are shareholder rights well protected?**\n    Shareholder rights are guaranteed under Swiss law and the company's Articles of Incorporation. All shares have equal voting rights and dividend entitlement (p. 49).\n\n*   **Is succession planning disclosed?**\n    Yes, the Board discussed longer-term succession planning in 2024, including the nomination of a new Board Chair for 2025 (p. 4, 48).\n\n*   **Has management delivered on past promises?**\n    The report highlights strong 2024 performance, with double-digit growth and two guidance upgrades for net sales, indicating delivery on financial promises (p. 4, 56).\n\n*   **Is the auditor independent and credible?**\n    The external auditor's role is described on page 48. KPMG AG provided the independent assurance report on sustainability information (p. 72-73).\n\n### **Shareholder Value**\n\n*   **Is the company paying dividends?**\n    Yes. A dividend of **CHF 3.50** per share is proposed for 2024, a 6% increase from the prior year (p. 4, 19).\n\n*   **Is the dividend payout sustainable?**\n    The report highlights strong free cash flow (USD 16.3 billion), suggesting the dividend is sustainable, but a payout ratio is not provided (p. 19).\n\n*   **Is the dividend policy clear?**\n    While a formal policy is not stated, the company notes a consistent history of dividend increases (p. 4).\n\n*   **Are share buybacks taking place?**\n    This information is not available in the provided document.\n\n*   **Is return on equity (ROE) improving?**\n    This information is not available in the provided document.\n\n*   **Is return on assets (ROA) stable?**\n    This information is not available in the provided document.\n\n*   **Has shareholder equity grown consistently?**\n    This information is not available in the provided document.\n\n*   **What is the earnings guidance for next year?**\n    The company provides a longer-term outlook: \"sales growth average at least 5% annually over the five years to 2029, and reach 40% core operating income margin by 2027\" (p. 5).\n\n---\n### **Sustainability (ESG) Performance**\n\n### **Environmental**\n\n*   **What is the total Scope 1, 2, and 3 emissions?** (p. 61)\n    *   Scope 1: **207.0** thousand tCO₂e\n    *   Scope 2 (market-based): **30.0** thousand tCO₂e\n    *   Scope 3: **4,350.3** thousand tCO₂e\n\n*   **Are science-based targets disclosed?**\n    Yes, Novartis has near- and long-term ambitions approved by the Science Based Targets initiative (SBTi) (p. 25, 28).\n\n*   **Has the company committed to net-zero?**\n    Yes, the company has a target to achieve net-zero GHG emissions by **2040** (p. 25, 26).\n\n*   **What percentage of energy is renewable?**\n    In 2024, **96%** of purchased electricity consumption was renewable (p. 27).\n\n*   **Is energy efficiency improving year over year?**\n    Total energy use (on-site and purchased) decreased from 6.8 million GJ in 2022 to **5.8 million GJ** in 2024, indicating improved efficiency (p. 28, 61).\n\n*   **What is the total water withdrawal?**\n    **33.3 million m³** in 2024 (p. 33, 61).\n\n*   **What is water recycled or reused?**\n    The report mentions using more recycled water as a strategy but does not quantify the amount (p. 31).\n\n*   **Is the company exposed to water stress?**\n    Yes, the company identifies sites in water-stressed basins and plans to implement water use reduction targets for them. A physical risk analysis identified manufacturing sites in Pakistan, Belgium, Netherlands, Indonesia, and China as having high or very high risk for water stress (p. 31, 65).\n\n*   **How much total waste is generated?**\n    **31,100 tonnes** in 2024 (p. 33, 61).\n\n*   **How much waste is recycled or diverted from landfill?**\n    **15,600 tonnes** were recycled in 2024 (p. 33, 61).\n\n*   **Are hazardous waste levels disclosed?**\n    Yes. In 2024, 4,200 tonnes of hazardous waste were recycled and 10,600 tonnes were not recycled (p. 61).\n\n*   **How sustainable are raw material sourcing practices?**\n    The company is implementing a sustainable sourcing program and conducting nature assessments for raw material use (p. 33).\n\n*   **Are biodiversity risks addressed?**\n    Yes, the company conducted a nature assessment aligned with the TNFD LEAP approach to understand impacts on biodiversity, water, and waste (p. 31).\n\n### **Social**\n\n*   **What is the total workforce size?**\n    **78,310** employees (headcount) at the end of 2024 (p. 10, 36, 60).\n\n*   **What percentage of employees are women?**\n    **52%** of the overall headcount are women (p. 36, 60).\n\n*   **What percentage of leadership roles are held by women?**\n    Women hold **48%** of overall management roles and **39%** of top management roles (p. 35, 36, 60).\n\n*   **What is minority representation in the workforce?**\n    This information is not available in the provided document.\n\n*   **What is the employee turnover rate?**\n    **12%** in 2024 (down from 17% in 2023) (p. 36, 60).\n\n*   **What is the lost-time injury frequency rate?**\n    The lost-time injury and illness rate for Novartis employees was **0.13** per 200,000 hours worked in 2024 (p. 36, 60).\n\n*   **Are labor rights respected across the supply chain?**\n    Yes, this is a key part of the company's human rights and supply chain management policies. The Third Party Code includes provisions for labor rights, and suppliers are assessed against them (p. 37, 46).\n\n*   **Is child labor risk disclosed in supply chains?**\n    Yes, the company acknowledges this risk and publishes a separate report on due diligence for child labor (p. 3, 37).\n\n*   **Are employee training hours increasing per year?**\n    The annual average was **39 hours per employee** in 2024, a slight increase from 38 in 2023 (p. 36, 60).\n\n*   **Are wages above local living wage levels?**\n    Yes, the company is \"committed to paying employees a living wage that meets or exceeds the amount for basic living needs\" (p. 36).\n\n*   **Is there employee engagement survey data?**\n    Yes, the company measures employee engagement every quarter through a voluntary, anonymous survey and maintains a Wellbeing Index (p. 34).\n\n*   **What community development initiatives exist?**\n    The report focuses on access to medicines and health system strengthening as its primary societal contribution (p. 17, 40).\n\n*   **What philanthropic contributions were made?**\n    Political contributions are disclosed (**USD 1.222 million** globally), but broader philanthropic contributions are not quantified (p. 45, 62).\n\n*   **Is there disclosure on data privacy and cybersecurity?**\n    Yes, this is addressed as a key operational risk and a governance priority, with a dedicated cybersecurity risk management program (p. 44, 53, 55).\n\n### **Governance (ESG-specific)**\n\n*   **Is there a dedicated board ESG committee?**\n    Yes, the **Governance, Sustainability and Nomination Committee (GSNC)** holds primary responsibility for the oversight of the ESG strategy (p. 49).\n\n*   **How often does the board review ESG matters?**\n    The GSNC regularly advises the Board on ESG matters. At the management level, the ECN-level ESG Committee, chaired by the CEO, meets every two months (p. 49, 50).\n\n*   **Is ESG risk included in enterprise risk management?**\n    Yes. \"Environmental, social and governance matters\" is a defined strategic risk in the ERM framework (p. 53).\n\n*   **Is executive compensation tied to ESG goals?**\n    Yes. Performance against ESG-related targets is integrated into the Executive Committee's compensation as one of four strategic objectives that account for 40% of the Annual Incentive (p. 25, 57).\n\n*   **Is ESG performance externally assured?**\n    Yes, selected sustainability information is provided with limited assurance by **KPMG AG** (p. 3, 72-73).\n\n*   **Are ESG disclosures aligned with GRI or SASB?**\n    Yes, the report is prepared with reference to the **Global Reporting Initiative (GRI) standards**. A detailed GRI content index is on pages 69-71.\n\n*   **Does the company report under TCFD or ISSB?**\n    Yes, the report is prepared in accordance with the recommendations of the **Task Force on Climate-related Financial Disclosures (TCFD)**. A TCFD index is on page 64.\n\n*   **Is CDP reporting publicly available?**\n    This is not mentioned in the document.\n\n*   **Are stakeholder engagement practices disclosed?**\n    Yes, a detailed overview of stakeholder engagement, including groups, purpose, means of engagement, and issues discussed, is provided on page 17.\n\n### **Risk & Opportunity (ESG)**\n\n*   **What are the identified physical climate risks?**\n    Physical risks identified include chronic risks (water stress, heat stress) and acute risks (cyclones, flooding, drought). A detailed scenario analysis was conducted for operations and the supply chain (p. 29-30, 65-66).\n\n*   **What are the identified transition risks?**\n    Transition risks identified include carbon pricing (direct and indirect), carbon certificate pricing, and litigation risk. Opportunities include lower electricity costs from renewables (p. 27, 67).\n\n*   **Is there disclosure on carbon pricing exposure?**\n    Yes, the company quantifies its potential financial exposure to carbon pricing under different scenarios, estimating an impact of **USD 70-184 million** in operating expenditure for 2024-2030 (p. 27, 67).\n\n*   **How dependent is revenue on carbon-intensive activities?**\n    The report analyzes how climate change could alter disease patterns and thus affect demand and sales for its products, but does not quantify revenue dependency on carbon-intensive activities directly (p. 29, 68).\n\n*   **What sustainability-linked opportunities are identified?**\n    Opportunities include potential savings in electricity costs from switching to renewables (**USD 133-228 million** from 2024-2030) and potential sales increases for medicines treating climate-exacerbated diseases like renal conditions (p. 27, 29, 68).\n\n*   **Are green products or services generating revenue?**\n    This is not quantified in the report.\n\n*   **Is access to sustainable finance increasing?**\n    The report mentions performance on sustainability-linked bond targets is published on its website, but provides no further details (p. 3).\n\n*   **Are suppliers evaluated for ESG performance?**\n    Yes, Novartis has embedded environmental and social criteria into its procurement processes and supplier contracts (p. 28, 46).\n\n*   **Are ESG clauses included in supplier contracts?**\n    Yes. In 2024, **76%** of supplier emissions were covered by contracts that include environmental criteria, with a goal of 100% by 2025 (p. 28).\n\n*   **Is there disclosure on product lifecycle impacts?**\n    Yes, the company systematically integrates life-cycle assessment (LCA) methods in its R&D pipeline to improve the environmental impact of its products (p. 26)."
          },
          "metadata": {}
        },
        {
          "output_type": "stream",
          "name": "stdout",
          "text": [
            "\n",
            "\n",
            "===========================================================================\n",
            "\n",
            "\n"
          ]
        },
        {
          "output_type": "display_data",
          "data": {
            "text/plain": [
              "<IPython.core.display.Markdown object>"
            ],
            "text/markdown": "Based on the \"Wells Fargo Sustainability & Governance Report\" published in August 2024, here are the key ESG details for investors.\n\n### **Environmental**\n\n*   **What is the total Scope 1 emissions?**\n    *   In 2023, total Scope 1 emissions were **82,410 MTCO2e** (metric tons of carbon dioxide equivalent) (p. 13).\n\n*   **What is the total Scope 2 emissions?**\n    *   In 2023, total market-based Scope 2 emissions were **3,633 MTCO2e** (p. 13).\n\n*   **What is the total Scope 3 emissions?**\n    *   The report discloses several categories of Scope 3 emissions for 2023, totaling **2,405,365 MTCO2e**. This includes:\n        *   Category 1 (Purchased goods and services): 1,415,876 MTCO2e\n        *   Category 2 (Capital goods): 455,831 MTCO2e\n        *   Category 3 (Fuel and energy-related activities): 228,465 MTCO2e\n        *   Category 5 (Waste generated in operations): 13,026 MTCO2e\n        *   Category 6 (Employee business travel): 38,354 MTCO2e\n        *   Category 7 (Employee commuting): 253,813 MTCO2e (p. 13).\n\n*   **Are science-based targets disclosed?**\n    *   The company has a 2030 goal to reduce Scope 1 and 2 emissions by 70% from 2019 levels (p. 9). Additionally, it reports that 94 of its responding suppliers have self-reported science-based targets (p. 14).\n\n*   **Has the company committed to net-zero?**\n    *   Yes, the report mentions aligning its financing activities with a net-zero goal and supporting a transition to a lower-carbon economy (p. 6, 53).\n\n*   **What percentage of energy is renewable?**\n    *   Since 2017, the company has matched **100%** of its global electricity consumption with renewable energy. In 2023, 6% of these purchases were sourced from new long-term renewable energy projects (p. 10).\n\n*   **Is energy efficiency improving year over year?**\n    *   Yes. As of 2023, the company has achieved an **18% reduction** in total energy consumption from its 2019 baseline, against a 2030 goal of 50% (p. 11).\n\n*   **What is the total water withdrawal?**\n    *   Total water consumption in 2023 was **6,066,842 cubic meters** (p. 12).\n\n*   **What is water recycled or reused?**\n    *   Not specified in the provided document.\n\n*   **Is the company exposed to water stress?**\n    *   The report does not explicitly mention exposure to water stress but notes a goal to reduce water usage by 45% by 2030 from 2019 levels, with a 22% reduction achieved by 2023 (p. 9, 12).\n\n*   **How much total waste is generated?**\n    *   The total waste stream in 2023 was **51,370 short tons** (p. 12).\n\n*   **How much waste is recycled or diverted from landfill?**\n    *   In 2023, **28,312 short tons** were recycled. This represents approximately **55%** of the total waste stream being diverted from landfill (p. 12).\n\n*   **Are hazardous waste levels disclosed?**\n    *   Not specified in the provided document.\n\n*   **How sustainable are raw material sourcing practices?**\n    *   The report mentions engaging with suppliers on their environmental data through the CDP climate questionnaire and outlines expectations in its Supplier Code of Conduct (p. 14).\n\n*   **Are biodiversity risks addressed?**\n    *   Yes. The company conducted a \"nature landscape assessment\" in 2023 to better understand nature-related considerations and biodiversity impacts. It also supports clients in achieving their biodiversity objectives (p. 20). Employee volunteering efforts also support biodiversity, such as with the Billion Oyster Project (p. 30).\n\n### **Social**\n\n*   **What is the total workforce size?**\n    *   Not specified in the provided document.\n\n*   **What percentage of employees are women? / What percentage of leadership roles are held by women? / What is minority representation in the workforce?**\n    *   The report refers to a separate \"Diversity, Equity, and Inclusion Report\" for detailed workforce representation data (p. 39, 62).\n\n*   **What is the employee turnover rate?**\n    *   The report refers to a separate \"Diversity, Equity, and Inclusion Report\" where this information can be found (p. 67).\n\n*   **How many workplace injuries occurred? / What is the lost-time injury frequency rate?**\n    *   The report mentions a Safety & Health Program and a Workplace Safety Advocates initiative to reduce work-related injuries but does not provide specific injury rate metrics (p. 39).\n\n*   **Are labor rights respected across the supply chain?**\n    *   Yes, the company expects suppliers to adhere to its Supplier Code of Conduct and references its UK Modern Slavery Act Statement, which addresses these risks (p. 14, 51).\n\n*   **Is child labor risk disclosed in supply chains?**\n    *   Yes, the report references the UK Modern Slavery Act Statement and the company's Human Rights Statement, which address risks of child labor in operations and supply chains (p. 67).\n\n*   **Are employee training hours increasing per year?**\n    *   The company invested approximately **$200 million** in employee Learning and Development programs in 2023. It also reports that Connect to More℠ participants received approximately **17,000 hours** of mentorship support (p. 23, 33). Year-over-year trends are not specified.\n\n*   **Are wages above local living wage levels?**\n    *   The report states a commitment to fair and equitable compensation and notes that its 2023 pay equity review showed that women and racially/ethnically diverse employees earn more than 99 cents for every $1 earned by their respective peers (p. 39). It does not explicitly compare wages to local living wage levels.\n\n*   **Is there employee engagement survey data?**\n    *   Yes, the company conducts a Global Employee Survey and quarterly pulse surveys to gather feedback and improve the employee experience (p. 38).\n\n*   **What community development initiatives exist?**\n    *   The company has numerous initiatives focused on housing affordability, small business growth, financial health, and sustainability. This includes the Open for Business Fund, which has served ~337K businesses, and partnerships with organizations like Habitat for Humanity and the Credit Builders Alliance (p. 21-25).\n\n*   **What philanthropic contributions were made?**\n    *   In 2023, the company's philanthropic giving totaled **$300 million**. Additionally, employees donated **$14 million** through the company's portal (p. 21, 29).\n\n*   **Is there disclosure on data privacy and cybersecurity?**\n    *   Yes, there is extensive disclosure. The company has an information security program aligned with NIST and ISO standards, overseen by the Board's Risk Committee. It also has a dedicated Privacy Compliance function and a web-based privacy center for customers (p. 48-49).\n\n### **Governance (ESG-specific)**\n\n*   **Is there a dedicated board ESG committee?**\n    *   Yes, the **Corporate Responsibility Committee** of the Board oversees significant strategies, policies, and programs on social and public responsibility matters, including environmental sustainability, climate change, and human rights (p. 42).\n\n*   **How often does the board review ESG matters?**\n    *   The report indicates regular oversight (e.g., the Risk Committee receives regular reports on information security), but a specific frequency for all ESG matters is not stated (p. 48).\n\n*   **Is ESG risk included in enterprise risk management?**\n    *   Yes. The company's Environmental and Social Impact Management (ESIM) Framework is part of its dedication to a strong risk culture. It recognizes that environmental and social issues can impact reputation risk, credit risk, and strategic risk (p. 45).\n\n*   **Is executive compensation tied to ESG goals?**\n    *   The Human Resources Committee aligns executive compensation with the company's strategic plan, risk appetite, and risk and control framework (p. 43). While not explicitly stated that compensation is tied to specific ESG targets, the framework for doing so is in place.\n\n*   **Are ESG targets linked to management incentives?**\n    *   Not explicitly specified in the provided document.\n\n*   **Is ESG performance externally assured?**\n    *   Yes. The assertion regarding **~$178 billion in sustainable finance activities** received limited assurance from KPMG (p. 76-77). The company's **Statement of Greenhouse Gas Emissions** was also reviewed by an independent accountant (p. 13, 62).\n\n*   **Are ESG disclosures aligned with GRI or SASB?**\n    *   Yes, the report includes detailed content indexes for both the **Global Reporting Initiative (GRI)** and the **Sustainability Accounting Standards Board (SASB)** (p. 57-68).\n\n*   **Does the company report under TCFD or ISSB?**\n    *   The company's approach is informed by the **Task Force on Climate-Related Financial Disclosures (TCFD)** (p. 45). ISSB is not explicitly mentioned.\n\n*   **Is CDP reporting publicly available?**\n    *   The report mentions inviting suppliers to report through CDP, implying the company itself likely reports to CDP, which is typically public (p. 14).\n\n*   **Are stakeholder engagement practices disclosed?**\n    *   Yes, the company discloses engagement with suppliers, customers, employees (through surveys), and other stakeholders. It also details its public policy advocacy and memberships in trade associations (p. 14, 38, 50).\n\n### **Risk & Opportunity**\n\n*   **What are the identified physical climate risks? / What are the identified transition risks?**\n    *   The report acknowledges these risks and notes that its ESIM framework is designed to identify, assess, and manage them, but it does not detail specific identified risks (p. 45). It refers readers to its Climate Report for more details.\n\n*   **Is there disclosure on carbon pricing exposure?**\n    *   Not specified in the provided document.\n\n*   **How dependent is revenue on carbon-intensive activities?**\n    *   Not specified in the provided document.\n\n*   **What sustainability-linked opportunities are identified?**\n    *   The company has a major strategic focus on sustainable finance, with a goal to deploy **$500 billion by 2030**. It identifies opportunities in clean energy, green buildings, clean transportation, housing affordability, and socioeconomic advancement (p. 15-16).\n\n*   **Are green products or services generating revenue?**\n    *   Yes. From 2021-2023, the company originated, committed, advised, or facilitated approximately **$178 billion** in sustainable finance activities, including green loans, sustainability bonds, and financing for energy generation and efficiency (p. 15-16).\n\n*   **Is access to sustainable finance increasing?**\n    *   Yes, this is a core part of the company's strategy. It acts as a bookrunner for sustainability-linked loans, provides tax equity for renewable projects, and finances a wide range of environmental and social projects (p. 15-19).\n\n*   **Are suppliers evaluated for ESG performance?**\n    *   Yes. In 2023, the company invited 372 suppliers to report their environmental data through the CDP climate questionnaire to better understand their emissions and climate resiliency (p. 14).\n\n*   **Are ESG clauses included in supplier contracts?**\n    *   The report states that suppliers are expected to operate in a way that is consistent with the Supplier Code of Conduct and contract terms, which include environmental and social considerations (p. 14).\n\n*   **Is there disclosure on product lifecycle impacts?**\n    *   Not specified in the provided document."
          },
          "metadata": {}
        }
      ]
    },
    {
      "cell_type": "markdown",
      "source": [
        "#Output 2:\n",
        "### Plots for revenue and net income"
      ],
      "metadata": {
        "id": "Ql-GPbfJRMjK"
      },
      "id": "Ql-GPbfJRMjK"
    },
    {
      "cell_type": "code",
      "source": [
        "df_company = df[\n",
        "    (df[\"company_name\"].str.lower() == \"novartis\") &\n",
        "    (df[\"report_type\"].str.lower() == \"annual\")\n",
        "]\n",
        "df_company = df_company.sort_values(\"fiscal_year\")\n",
        "\n",
        "plt.plot(df_company[\"fiscal_year\"], df_company[\"revenue_millions\"], marker=\"o\", label=\"Revenue\")\n",
        "plt.plot(df_company[\"fiscal_year\"], df_company[\"net_income_millions\"], marker=\"o\", label=\"Net Income\")\n",
        "plt.xlabel(\"Fiscal Year\")\n",
        "plt.ylabel(\"£ Millions\")\n",
        "plt.title(\"Revenue vs Net Income (Novartis)\")\n",
        "plt.legend()\n",
        "plt.show()"
      ],
      "metadata": {
        "colab": {
          "base_uri": "https://localhost:8080/",
          "height": 472
        },
        "id": "1MhVZSnNFvUB",
        "outputId": "b4e4cdab-375c-4b48-92d3-0b93daf5a629"
      },
      "id": "1MhVZSnNFvUB",
      "execution_count": 21,
      "outputs": [
        {
          "output_type": "display_data",
          "data": {
            "text/plain": [
              "<Figure size 640x480 with 1 Axes>"
            ],
            "image/png": "[encoded data removed]"
          },
          "metadata": {}
        }
      ]
    },
    {
      "cell_type": "markdown",
      "source": [
        "# Output 3:\n",
        "### Revenue and Income for multiple companies and comparisons"
      ],
      "metadata": {
        "id": "j35v0RLHRU06"
      },
      "id": "j35v0RLHRU06"
    },
    {
      "cell_type": "code",
      "source": [
        "\n",
        "import numpy as np\n",
        "\n",
        "# Filter only annual reports\n",
        "df_filtered = df[df[\"report_type\"].str.lower() == \"annual\"]\n",
        "\n",
        "# Group by company and year\n",
        "df_grouped = df_filtered.groupby([\"company_name\", \"fiscal_year\"])[\n",
        "    [\"revenue_millions\", \"net_income_millions\"]\n",
        "].sum().reset_index()\n",
        "\n",
        "# Get unique values\n",
        "companies = df_grouped[\"company_name\"].unique().tolist()\n",
        "years = sorted(df_grouped[\"fiscal_year\"].unique())\n",
        "\n",
        "# Set bar width\n",
        "bar_width = 0.15\n",
        "x = np.arange(len(years))  # positions for fiscal years\n",
        "\n",
        "plt.figure(figsize=(12,6))\n",
        "\n",
        "# Plot each company’s bars\n",
        "for i, company in enumerate(companies):\n",
        "    company_data = df_grouped[df_grouped[\"company_name\"] == company]\n",
        "    revenues = [company_data[company_data[\"fiscal_year\"] == y][\"revenue_millions\"].sum() for y in years]\n",
        "    plt.bar(x + i*bar_width, revenues, width=bar_width, label=f\"{company} Revenue\")\n",
        "\n",
        "plt.xticks(x + bar_width*(len(companies)-1)/2, years)  # Center ticks\n",
        "plt.xlabel(\"Fiscal Year\")\n",
        "plt.ylabel(\"£ Millions\")\n",
        "plt.title(\"Revenue Comparison Across Companies (All Years)\")\n",
        "plt.legend()\n",
        "plt.show()\n",
        "\n",
        "# Repeat for Net Income\n",
        "plt.figure(figsize=(12,6))\n",
        "for i, company in enumerate(companies):\n",
        "    company_data = df_grouped[df_grouped[\"company_name\"] == company]\n",
        "    net_incomes = [company_data[company_data[\"fiscal_year\"] == y][\"net_income_millions\"].sum() for y in years]\n",
        "    plt.bar(x + i*bar_width, net_incomes, width=bar_width, label=f\"{company} Net Income\")\n",
        "\n",
        "plt.xticks(x + bar_width*(len(companies)-1)/2, years)\n",
        "plt.xlabel(\"Fiscal Year\")\n",
        "plt.ylabel(\"£ Millions\")\n",
        "plt.title(\"Net Income Comparison Across Companies (All Years)\")\n",
        "plt.legend()\n",
        "plt.show()\n"
      ],
      "metadata": {
        "id": "v83_sfrZG6PL",
        "outputId": "3e8dc539-ba10-4874-9a46-35fdff50cace",
        "colab": {
          "base_uri": "https://localhost:8080/",
          "height": 1000
        }
      },
      "id": "v83_sfrZG6PL",
      "execution_count": 22,
      "outputs": [
        {
          "output_type": "display_data",
          "data": {
            "text/plain": [
              "<Figure size 1200x600 with 1 Axes>"
            ],
            "image/png": "[encoded data removed]"
          },
          "metadata": {}
        },
        {
          "output_type": "display_data",
          "data": {
            "text/plain": [
              "<Figure size 1200x600 with 1 Axes>"
            ],
            "image/png": "[encoded data removed]"
          },
          "metadata": {}
        }
      ]
    },
    {
      "cell_type": "code",
      "source": [
        "\n",
        "print(\"🔮 Generating revenue forecasts with TimesFM 2.0...\")\n",
        "\n",
        "forecast_sql = f\"\"\"\n",
        "CREATE OR REPLACE TABLE `{QUALIFIED_FORECAST_TABLE_ID}` AS\n",
        "SELECT\n",
        "  *\n",
        "FROM\n",
        "  AI.FORECAST(\n",
        "    TABLE `{QUALIFIED_METRICS_TABLE_ID}`,\n",
        "    data_col => 'revenue_millions',\n",
        "    timestamp_col => 'fiscal_year_date',\n",
        "    model => 'TimesFM 2.0',\n",
        "    id_cols => ['company_name'],\n",
        "    horizon => 5,\n",
        "    confidence_level => .95\n",
        "  )\n",
        "\"\"\"\n",
        "\n",
        "print(\"⏳ Forecasting...\")\n",
        "job = client.query(forecast_sql)\n",
        "job.result()\n",
        "print(\"✅ Forecast table created successfully!\")"
      ],
      "metadata": {
        "id": "QjS1OIZwmIZg",
        "colab": {
          "base_uri": "https://localhost:8080/",
          "height": 460
        },
        "outputId": "0ee5f0dc-2a48-47b5-876f-b7b24418bd58"
      },
      "id": "QjS1OIZwmIZg",
      "execution_count": 23,
      "outputs": [
        {
          "output_type": "stream",
          "name": "stdout",
          "text": [
            "🔮 Generating revenue forecasts with TimesFM 2.0...\n",
            "⏳ Forecasting...\n"
          ]
        },
        {
          "output_type": "error",
          "ename": "BadRequest",
          "evalue": "400 GET https://bigquery.googleapis.com/bigquery/v2/projects/intellitrend-project-dev/queries/3c129120-c27e-43d5-a524-9967bd564ac1?maxResults=0&location=US&prettyPrint=false: The size of time series data (6) and time series timestamp (5) are not equal.\n\nLocation: US\nJob ID: 3c129120-c27e-43d5-a524-9967bd564ac1\n",
          "traceback": [
            "\u001b[0;31m---------------------------------------------------------------------------\u001b[0m",
            "\u001b[0;31mBadRequest\u001b[0m                                Traceback (most recent call last)",
            "\u001b[0;32m/tmp/ipython-input-3450294657.py\u001b[0m in \u001b[0;36m<cell line: 0>\u001b[0;34m()\u001b[0m\n\u001b[1;32m     19\u001b[0m \u001b[0mprint\u001b[0m\u001b[0;34m(\u001b[0m\u001b[0;34m\"⏳ Forecasting...\"\u001b[0m\u001b[0;34m)\u001b[0m\u001b[0;34m\u001b[0m\u001b[0;34m\u001b[0m\u001b[0m\n\u001b[1;32m     20\u001b[0m \u001b[0mjob\u001b[0m \u001b[0;34m=\u001b[0m \u001b[0mclient\u001b[0m\u001b[0;34m.\u001b[0m\u001b[0mquery\u001b[0m\u001b[0;34m(\u001b[0m\u001b[0mforecast_sql\u001b[0m\u001b[0;34m)\u001b[0m\u001b[0;34m\u001b[0m\u001b[0;34m\u001b[0m\u001b[0m\n\u001b[0;32m---> 21\u001b[0;31m \u001b[0mjob\u001b[0m\u001b[0;34m.\u001b[0m\u001b[0mresult\u001b[0m\u001b[0;34m(\u001b[0m\u001b[0;34m)\u001b[0m\u001b[0;34m\u001b[0m\u001b[0;34m\u001b[0m\u001b[0m\n\u001b[0m\u001b[1;32m     22\u001b[0m \u001b[0mprint\u001b[0m\u001b[0;34m(\u001b[0m\u001b[0;34m\"✅ Forecast table created successfully!\"\u001b[0m\u001b[0;34m)\u001b[0m\u001b[0;34m\u001b[0m\u001b[0;34m\u001b[0m\u001b[0m\n",
            "\u001b[0;32m/usr/local/lib/python3.12/dist-packages/google/cloud/bigquery/job/query.py\u001b[0m in \u001b[0;36mresult\u001b[0;34m(self, page_size, max_results, retry, timeout, start_index, job_retry)\u001b[0m\n\u001b[1;32m   1704\u001b[0m                 \u001b[0;31m# Since is_job_done() calls jobs.getQueryResults, which is a\u001b[0m\u001b[0;34m\u001b[0m\u001b[0;34m\u001b[0m\u001b[0m\n\u001b[1;32m   1705\u001b[0m                 \u001b[0;31m# long-running API, don't delay the next request at all.\u001b[0m\u001b[0;34m\u001b[0m\u001b[0;34m\u001b[0m\u001b[0m\n\u001b[0;32m-> 1706\u001b[0;31m                 \u001b[0;32mwhile\u001b[0m \u001b[0;32mnot\u001b[0m \u001b[0mis_job_done\u001b[0m\u001b[0;34m(\u001b[0m\u001b[0;34m)\u001b[0m\u001b[0;34m:\u001b[0m\u001b[0;34m\u001b[0m\u001b[0;34m\u001b[0m\u001b[0m\n\u001b[0m\u001b[1;32m   1707\u001b[0m                     \u001b[0;32mpass\u001b[0m\u001b[0;34m\u001b[0m\u001b[0;34m\u001b[0m\u001b[0m\n\u001b[1;32m   1708\u001b[0m             \u001b[0;32melse\u001b[0m\u001b[0;34m:\u001b[0m\u001b[0;34m\u001b[0m\u001b[0;34m\u001b[0m\u001b[0m\n",
            "\u001b[0;32m/usr/local/lib/python3.12/dist-packages/google/api_core/retry/retry_unary.py\u001b[0m in \u001b[0;36mretry_wrapped_func\u001b[0;34m(*args, **kwargs)\u001b[0m\n\u001b[1;32m    292\u001b[0m                 \u001b[0mself\u001b[0m\u001b[0;34m.\u001b[0m\u001b[0m_initial\u001b[0m\u001b[0;34m,\u001b[0m \u001b[0mself\u001b[0m\u001b[0;34m.\u001b[0m\u001b[0m_maximum\u001b[0m\u001b[0;34m,\u001b[0m \u001b[0mmultiplier\u001b[0m\u001b[0;34m=\u001b[0m\u001b[0mself\u001b[0m\u001b[0;34m.\u001b[0m\u001b[0m_multiplier\u001b[0m\u001b[0;34m\u001b[0m\u001b[0;34m\u001b[0m\u001b[0m\n\u001b[1;32m    293\u001b[0m             )\n\u001b[0;32m--> 294\u001b[0;31m             return retry_target(\n\u001b[0m\u001b[1;32m    295\u001b[0m                 \u001b[0mtarget\u001b[0m\u001b[0;34m,\u001b[0m\u001b[0;34m\u001b[0m\u001b[0;34m\u001b[0m\u001b[0m\n\u001b[1;32m    296\u001b[0m                 \u001b[0mself\u001b[0m\u001b[0;34m.\u001b[0m\u001b[0m_predicate\u001b[0m\u001b[0;34m,\u001b[0m\u001b[0;34m\u001b[0m\u001b[0;34m\u001b[0m\u001b[0m\n",
            "\u001b[0;32m/usr/local/lib/python3.12/dist-packages/google/api_core/retry/retry_unary.py\u001b[0m in \u001b[0;36mretry_target\u001b[0;34m(target, predicate, sleep_generator, timeout, on_error, exception_factory, **kwargs)\u001b[0m\n\u001b[1;32m    154\u001b[0m         \u001b[0;32mexcept\u001b[0m \u001b[0mException\u001b[0m \u001b[0;32mas\u001b[0m \u001b[0mexc\u001b[0m\u001b[0;34m:\u001b[0m\u001b[0;34m\u001b[0m\u001b[0;34m\u001b[0m\u001b[0m\n\u001b[1;32m    155\u001b[0m             \u001b[0;31m# defer to shared logic for handling errors\u001b[0m\u001b[0;34m\u001b[0m\u001b[0;34m\u001b[0m\u001b[0m\n\u001b[0;32m--> 156\u001b[0;31m             next_sleep = _retry_error_helper(\n\u001b[0m\u001b[1;32m    157\u001b[0m                 \u001b[0mexc\u001b[0m\u001b[0;34m,\u001b[0m\u001b[0;34m\u001b[0m\u001b[0;34m\u001b[0m\u001b[0m\n\u001b[1;32m    158\u001b[0m                 \u001b[0mdeadline\u001b[0m\u001b[0;34m,\u001b[0m\u001b[0;34m\u001b[0m\u001b[0;34m\u001b[0m\u001b[0m\n",
            "\u001b[0;32m/usr/local/lib/python3.12/dist-packages/google/api_core/retry/retry_base.py\u001b[0m in \u001b[0;36m_retry_error_helper\u001b[0;34m(exc, deadline, sleep_iterator, error_list, predicate_fn, on_error_fn, exc_factory_fn, original_timeout)\u001b[0m\n\u001b[1;32m    212\u001b[0m             \u001b[0moriginal_timeout\u001b[0m\u001b[0;34m,\u001b[0m\u001b[0;34m\u001b[0m\u001b[0;34m\u001b[0m\u001b[0m\n\u001b[1;32m    213\u001b[0m         )\n\u001b[0;32m--> 214\u001b[0;31m         \u001b[0;32mraise\u001b[0m \u001b[0mfinal_exc\u001b[0m \u001b[0;32mfrom\u001b[0m \u001b[0msource_exc\u001b[0m\u001b[0;34m\u001b[0m\u001b[0;34m\u001b[0m\u001b[0m\n\u001b[0m\u001b[1;32m    215\u001b[0m     \u001b[0;32mif\u001b[0m \u001b[0mon_error_fn\u001b[0m \u001b[0;32mis\u001b[0m \u001b[0;32mnot\u001b[0m \u001b[0;32mNone\u001b[0m\u001b[0;34m:\u001b[0m\u001b[0;34m\u001b[0m\u001b[0;34m\u001b[0m\u001b[0m\n\u001b[1;32m    216\u001b[0m         \u001b[0mon_error_fn\u001b[0m\u001b[0;34m(\u001b[0m\u001b[0mexc\u001b[0m\u001b[0;34m)\u001b[0m\u001b[0;34m\u001b[0m\u001b[0;34m\u001b[0m\u001b[0m\n",
            "\u001b[0;32m/usr/local/lib/python3.12/dist-packages/google/api_core/retry/retry_unary.py\u001b[0m in \u001b[0;36mretry_target\u001b[0;34m(target, predicate, sleep_generator, timeout, on_error, exception_factory, **kwargs)\u001b[0m\n\u001b[1;32m    145\u001b[0m     \u001b[0;32mwhile\u001b[0m \u001b[0;32mTrue\u001b[0m\u001b[0;34m:\u001b[0m\u001b[0;34m\u001b[0m\u001b[0;34m\u001b[0m\u001b[0m\n\u001b[1;32m    146\u001b[0m         \u001b[0;32mtry\u001b[0m\u001b[0;34m:\u001b[0m\u001b[0;34m\u001b[0m\u001b[0;34m\u001b[0m\u001b[0m\n\u001b[0;32m--> 147\u001b[0;31m             \u001b[0mresult\u001b[0m \u001b[0;34m=\u001b[0m \u001b[0mtarget\u001b[0m\u001b[0;34m(\u001b[0m\u001b[0;34m)\u001b[0m\u001b[0;34m\u001b[0m\u001b[0;34m\u001b[0m\u001b[0m\n\u001b[0m\u001b[1;32m    148\u001b[0m             \u001b[0;32mif\u001b[0m \u001b[0minspect\u001b[0m\u001b[0;34m.\u001b[0m\u001b[0misawaitable\u001b[0m\u001b[0;34m(\u001b[0m\u001b[0mresult\u001b[0m\u001b[0;34m)\u001b[0m\u001b[0;34m:\u001b[0m\u001b[0;34m\u001b[0m\u001b[0;34m\u001b[0m\u001b[0m\n\u001b[1;32m    149\u001b[0m                 \u001b[0mwarnings\u001b[0m\u001b[0;34m.\u001b[0m\u001b[0mwarn\u001b[0m\u001b[0;34m(\u001b[0m\u001b[0m_ASYNC_RETRY_WARNING\u001b[0m\u001b[0;34m)\u001b[0m\u001b[0;34m\u001b[0m\u001b[0;34m\u001b[0m\u001b[0m\n",
            "\u001b[0;32m/usr/local/lib/python3.12/dist-packages/google/cloud/bigquery/job/query.py\u001b[0m in \u001b[0;36mis_job_done\u001b[0;34m()\u001b[0m\n\u001b[1;32m   1673\u001b[0m                 \u001b[0;31m# jobs.getQueryResults hangs as long as it can to ensure we\u001b[0m\u001b[0;34m\u001b[0m\u001b[0;34m\u001b[0m\u001b[0m\n\u001b[1;32m   1674\u001b[0m                 \u001b[0;31m# know when the query has finished as soon as possible.\u001b[0m\u001b[0;34m\u001b[0m\u001b[0;34m\u001b[0m\u001b[0m\n\u001b[0;32m-> 1675\u001b[0;31m                 \u001b[0mself\u001b[0m\u001b[0;34m.\u001b[0m\u001b[0m_reload_query_results\u001b[0m\u001b[0;34m(\u001b[0m\u001b[0mretry\u001b[0m\u001b[0;34m=\u001b[0m\u001b[0mretry\u001b[0m\u001b[0;34m,\u001b[0m \u001b[0;34m**\u001b[0m\u001b[0mreload_query_results_kwargs\u001b[0m\u001b[0;34m)\u001b[0m\u001b[0;34m\u001b[0m\u001b[0;34m\u001b[0m\u001b[0m\n\u001b[0m\u001b[1;32m   1676\u001b[0m \u001b[0;34m\u001b[0m\u001b[0m\n\u001b[1;32m   1677\u001b[0m                 \u001b[0;31m# Even if the query is finished now according to\u001b[0m\u001b[0;34m\u001b[0m\u001b[0;34m\u001b[0m\u001b[0m\n",
            "\u001b[0;32m/usr/local/lib/python3.12/dist-packages/google/cloud/bigquery/job/query.py\u001b[0m in \u001b[0;36m_reload_query_results\u001b[0;34m(self, retry, timeout, page_size, start_index)\u001b[0m\n\u001b[1;32m   1465\u001b[0m                 \u001b[0mtransport_timeout\u001b[0m \u001b[0;34m=\u001b[0m \u001b[0;32mNone\u001b[0m\u001b[0;34m\u001b[0m\u001b[0;34m\u001b[0m\u001b[0m\n\u001b[1;32m   1466\u001b[0m \u001b[0;34m\u001b[0m\u001b[0m\n\u001b[0;32m-> 1467\u001b[0;31m         self._query_results = self._client._get_query_results(\n\u001b[0m\u001b[1;32m   1468\u001b[0m             \u001b[0mself\u001b[0m\u001b[0;34m.\u001b[0m\u001b[0mjob_id\u001b[0m\u001b[0;34m,\u001b[0m\u001b[0;34m\u001b[0m\u001b[0;34m\u001b[0m\u001b[0m\n\u001b[1;32m   1469\u001b[0m             \u001b[0mretry\u001b[0m\u001b[0;34m,\u001b[0m\u001b[0;34m\u001b[0m\u001b[0;34m\u001b[0m\u001b[0m\n",
            "\u001b[0;32m/usr/local/lib/python3.12/dist-packages/google/cloud/bigquery/client.py\u001b[0m in \u001b[0;36m_get_query_results\u001b[0;34m(self, job_id, retry, project, timeout_ms, location, timeout, page_size, start_index)\u001b[0m\n\u001b[1;32m   2111\u001b[0m         \u001b[0;31m# QueryJob.result()). So we don't need to poll here.\u001b[0m\u001b[0;34m\u001b[0m\u001b[0;34m\u001b[0m\u001b[0m\n\u001b[1;32m   2112\u001b[0m         \u001b[0mspan_attributes\u001b[0m \u001b[0;34m=\u001b[0m \u001b[0;34m{\u001b[0m\u001b[0;34m\"path\"\u001b[0m\u001b[0;34m:\u001b[0m \u001b[0mpath\u001b[0m\u001b[0;34m}\u001b[0m\u001b[0;34m\u001b[0m\u001b[0;34m\u001b[0m\u001b[0m\n\u001b[0;32m-> 2113\u001b[0;31m         resource = self._call_api(\n\u001b[0m\u001b[1;32m   2114\u001b[0m             \u001b[0mretry\u001b[0m\u001b[0;34m,\u001b[0m\u001b[0;34m\u001b[0m\u001b[0;34m\u001b[0m\u001b[0m\n\u001b[1;32m   2115\u001b[0m             \u001b[0mspan_name\u001b[0m\u001b[0;34m=\u001b[0m\u001b[0;34m\"BigQuery.getQueryResults\"\u001b[0m\u001b[0;34m,\u001b[0m\u001b[0;34m\u001b[0m\u001b[0;34m\u001b[0m\u001b[0m\n",
            "\u001b[0;32m/usr/local/lib/python3.12/dist-packages/google/cloud/bigquery/client.py\u001b[0m in \u001b[0;36m_call_api\u001b[0;34m(self, retry, span_name, span_attributes, job_ref, headers, **kwargs)\u001b[0m\n\u001b[1;32m    859\u001b[0m                 \u001b[0mname\u001b[0m\u001b[0;34m=\u001b[0m\u001b[0mspan_name\u001b[0m\u001b[0;34m,\u001b[0m \u001b[0mattributes\u001b[0m\u001b[0;34m=\u001b[0m\u001b[0mspan_attributes\u001b[0m\u001b[0;34m,\u001b[0m \u001b[0mclient\u001b[0m\u001b[0;34m=\u001b[0m\u001b[0mself\u001b[0m\u001b[0;34m,\u001b[0m \u001b[0mjob_ref\u001b[0m\u001b[0;34m=\u001b[0m\u001b[0mjob_ref\u001b[0m\u001b[0;34m\u001b[0m\u001b[0;34m\u001b[0m\u001b[0m\n\u001b[1;32m    860\u001b[0m             ):\n\u001b[0;32m--> 861\u001b[0;31m                 \u001b[0;32mreturn\u001b[0m \u001b[0mcall\u001b[0m\u001b[0;34m(\u001b[0m\u001b[0;34m)\u001b[0m\u001b[0;34m\u001b[0m\u001b[0;34m\u001b[0m\u001b[0m\n\u001b[0m\u001b[1;32m    862\u001b[0m \u001b[0;34m\u001b[0m\u001b[0m\n\u001b[1;32m    863\u001b[0m         \u001b[0;32mreturn\u001b[0m \u001b[0mcall\u001b[0m\u001b[0;34m(\u001b[0m\u001b[0;34m)\u001b[0m\u001b[0;34m\u001b[0m\u001b[0;34m\u001b[0m\u001b[0m\n",
            "\u001b[0;32m/usr/local/lib/python3.12/dist-packages/google/api_core/retry/retry_unary.py\u001b[0m in \u001b[0;36mretry_wrapped_func\u001b[0;34m(*args, **kwargs)\u001b[0m\n\u001b[1;32m    292\u001b[0m                 \u001b[0mself\u001b[0m\u001b[0;34m.\u001b[0m\u001b[0m_initial\u001b[0m\u001b[0;34m,\u001b[0m \u001b[0mself\u001b[0m\u001b[0;34m.\u001b[0m\u001b[0m_maximum\u001b[0m\u001b[0;34m,\u001b[0m \u001b[0mmultiplier\u001b[0m\u001b[0;34m=\u001b[0m\u001b[0mself\u001b[0m\u001b[0;34m.\u001b[0m\u001b[0m_multiplier\u001b[0m\u001b[0;34m\u001b[0m\u001b[0;34m\u001b[0m\u001b[0m\n\u001b[1;32m    293\u001b[0m             )\n\u001b[0;32m--> 294\u001b[0;31m             return retry_target(\n\u001b[0m\u001b[1;32m    295\u001b[0m                 \u001b[0mtarget\u001b[0m\u001b[0;34m,\u001b[0m\u001b[0;34m\u001b[0m\u001b[0;34m\u001b[0m\u001b[0m\n\u001b[1;32m    296\u001b[0m                 \u001b[0mself\u001b[0m\u001b[0;34m.\u001b[0m\u001b[0m_predicate\u001b[0m\u001b[0;34m,\u001b[0m\u001b[0;34m\u001b[0m\u001b[0;34m\u001b[0m\u001b[0m\n",
            "\u001b[0;32m/usr/local/lib/python3.12/dist-packages/google/api_core/retry/retry_unary.py\u001b[0m in \u001b[0;36mretry_target\u001b[0;34m(target, predicate, sleep_generator, timeout, on_error, exception_factory, **kwargs)\u001b[0m\n\u001b[1;32m    154\u001b[0m         \u001b[0;32mexcept\u001b[0m \u001b[0mException\u001b[0m \u001b[0;32mas\u001b[0m \u001b[0mexc\u001b[0m\u001b[0;34m:\u001b[0m\u001b[0;34m\u001b[0m\u001b[0;34m\u001b[0m\u001b[0m\n\u001b[1;32m    155\u001b[0m             \u001b[0;31m# defer to shared logic for handling errors\u001b[0m\u001b[0;34m\u001b[0m\u001b[0;34m\u001b[0m\u001b[0m\n\u001b[0;32m--> 156\u001b[0;31m             next_sleep = _retry_error_helper(\n\u001b[0m\u001b[1;32m    157\u001b[0m                 \u001b[0mexc\u001b[0m\u001b[0;34m,\u001b[0m\u001b[0;34m\u001b[0m\u001b[0;34m\u001b[0m\u001b[0m\n\u001b[1;32m    158\u001b[0m                 \u001b[0mdeadline\u001b[0m\u001b[0;34m,\u001b[0m\u001b[0;34m\u001b[0m\u001b[0;34m\u001b[0m\u001b[0m\n",
            "\u001b[0;32m/usr/local/lib/python3.12/dist-packages/google/api_core/retry/retry_base.py\u001b[0m in \u001b[0;36m_retry_error_helper\u001b[0;34m(exc, deadline, sleep_iterator, error_list, predicate_fn, on_error_fn, exc_factory_fn, original_timeout)\u001b[0m\n\u001b[1;32m    212\u001b[0m             \u001b[0moriginal_timeout\u001b[0m\u001b[0;34m,\u001b[0m\u001b[0;34m\u001b[0m\u001b[0;34m\u001b[0m\u001b[0m\n\u001b[1;32m    213\u001b[0m         )\n\u001b[0;32m--> 214\u001b[0;31m         \u001b[0;32mraise\u001b[0m \u001b[0mfinal_exc\u001b[0m \u001b[0;32mfrom\u001b[0m \u001b[0msource_exc\u001b[0m\u001b[0;34m\u001b[0m\u001b[0;34m\u001b[0m\u001b[0m\n\u001b[0m\u001b[1;32m    215\u001b[0m     \u001b[0;32mif\u001b[0m \u001b[0mon_error_fn\u001b[0m \u001b[0;32mis\u001b[0m \u001b[0;32mnot\u001b[0m \u001b[0;32mNone\u001b[0m\u001b[0;34m:\u001b[0m\u001b[0;34m\u001b[0m\u001b[0;34m\u001b[0m\u001b[0m\n\u001b[1;32m    216\u001b[0m         \u001b[0mon_error_fn\u001b[0m\u001b[0;34m(\u001b[0m\u001b[0mexc\u001b[0m\u001b[0;34m)\u001b[0m\u001b[0;34m\u001b[0m\u001b[0;34m\u001b[0m\u001b[0m\n",
            "\u001b[0;32m/usr/local/lib/python3.12/dist-packages/google/api_core/retry/retry_unary.py\u001b[0m in \u001b[0;36mretry_target\u001b[0;34m(target, predicate, sleep_generator, timeout, on_error, exception_factory, **kwargs)\u001b[0m\n\u001b[1;32m    145\u001b[0m     \u001b[0;32mwhile\u001b[0m \u001b[0;32mTrue\u001b[0m\u001b[0;34m:\u001b[0m\u001b[0;34m\u001b[0m\u001b[0;34m\u001b[0m\u001b[0m\n\u001b[1;32m    146\u001b[0m         \u001b[0;32mtry\u001b[0m\u001b[0;34m:\u001b[0m\u001b[0;34m\u001b[0m\u001b[0;34m\u001b[0m\u001b[0m\n\u001b[0;32m--> 147\u001b[0;31m             \u001b[0mresult\u001b[0m \u001b[0;34m=\u001b[0m \u001b[0mtarget\u001b[0m\u001b[0;34m(\u001b[0m\u001b[0;34m)\u001b[0m\u001b[0;34m\u001b[0m\u001b[0;34m\u001b[0m\u001b[0m\n\u001b[0m\u001b[1;32m    148\u001b[0m             \u001b[0;32mif\u001b[0m \u001b[0minspect\u001b[0m\u001b[0;34m.\u001b[0m\u001b[0misawaitable\u001b[0m\u001b[0;34m(\u001b[0m\u001b[0mresult\u001b[0m\u001b[0;34m)\u001b[0m\u001b[0;34m:\u001b[0m\u001b[0;34m\u001b[0m\u001b[0;34m\u001b[0m\u001b[0m\n\u001b[1;32m    149\u001b[0m                 \u001b[0mwarnings\u001b[0m\u001b[0;34m.\u001b[0m\u001b[0mwarn\u001b[0m\u001b[0;34m(\u001b[0m\u001b[0m_ASYNC_RETRY_WARNING\u001b[0m\u001b[0;34m)\u001b[0m\u001b[0;34m\u001b[0m\u001b[0;34m\u001b[0m\u001b[0m\n",
            "\u001b[0;32m/usr/local/lib/python3.12/dist-packages/google/cloud/_http/__init__.py\u001b[0m in \u001b[0;36mapi_request\u001b[0;34m(self, method, path, query_params, data, content_type, headers, api_base_url, api_version, expect_json, _target_object, timeout, extra_api_info)\u001b[0m\n\u001b[1;32m    492\u001b[0m \u001b[0;34m\u001b[0m\u001b[0m\n\u001b[1;32m    493\u001b[0m         \u001b[0;32mif\u001b[0m \u001b[0;32mnot\u001b[0m \u001b[0;36m200\u001b[0m \u001b[0;34m<=\u001b[0m \u001b[0mresponse\u001b[0m\u001b[0;34m.\u001b[0m\u001b[0mstatus_code\u001b[0m \u001b[0;34m<\u001b[0m \u001b[0;36m300\u001b[0m\u001b[0;34m:\u001b[0m\u001b[0;34m\u001b[0m\u001b[0;34m\u001b[0m\u001b[0m\n\u001b[0;32m--> 494\u001b[0;31m             \u001b[0;32mraise\u001b[0m \u001b[0mexceptions\u001b[0m\u001b[0;34m.\u001b[0m\u001b[0mfrom_http_response\u001b[0m\u001b[0;34m(\u001b[0m\u001b[0mresponse\u001b[0m\u001b[0;34m)\u001b[0m\u001b[0;34m\u001b[0m\u001b[0;34m\u001b[0m\u001b[0m\n\u001b[0m\u001b[1;32m    495\u001b[0m \u001b[0;34m\u001b[0m\u001b[0m\n\u001b[1;32m    496\u001b[0m         \u001b[0;32mif\u001b[0m \u001b[0mexpect_json\u001b[0m \u001b[0;32mand\u001b[0m \u001b[0mresponse\u001b[0m\u001b[0;34m.\u001b[0m\u001b[0mcontent\u001b[0m\u001b[0;34m:\u001b[0m\u001b[0;34m\u001b[0m\u001b[0;34m\u001b[0m\u001b[0m\n",
            "\u001b[0;31mBadRequest\u001b[0m: 400 GET https://bigquery.googleapis.com/bigquery/v2/projects/intellitrend-project-dev/queries/3c129120-c27e-43d5-a524-9967bd564ac1?maxResults=0&location=US&prettyPrint=false: The size of time series data (6) and time series timestamp (5) are not equal.\n\nLocation: US\nJob ID: 3c129120-c27e-43d5-a524-9967bd564ac1\n"
          ]
        }
      ]
    },
    {
      "cell_type": "code",
      "source": [
        "# import requests\n",
        "# from google.cloud import bigquery\n",
        "\n",
        "# PROJECT_ID = \"intellitrend-project-dev\"   # update if needed\n",
        "# DATASET_ID = \"db_reports_insights_annual_esg\"\n",
        "# TABLE_ID = \"all_reports_annual_esg\"\n",
        "\n",
        "# # Step 0: Fetch file list from GitHub\n",
        "# url = \"https://api.github.com/repos/intellitrend-global/google_hackathon_bq_ai/contents/annual_esg_reports\"\n",
        "# response = requests.get(url)\n",
        "# files = response.json()\n",
        "\n",
        "# pdf_files = [(f[\"name\"], f[\"download_url\"]) for f in files if f[\"name\"].endswith(\".pdf\")]\n",
        "\n",
        "# print(\"📄 Found PDF files on GitHub:\")\n",
        "# for name, link in pdf_files:\n",
        "#     print(f\"   {name} -> {link}\")\n",
        "\n",
        "# # Step 1: Initialize BigQuery client\n",
        "# client = bigquery.Client(project=PROJECT_ID)\n",
        "\n",
        "# # Step 2: Ensure dataset exists (create if not)\n",
        "# dataset_ref = bigquery.DatasetReference(PROJECT_ID, DATASET_ID)\n",
        "# try:\n",
        "#     client.get_dataset(dataset_ref)  # Check if it exists\n",
        "#     print(f\"✅ Dataset {DATASET_ID} already exists\")\n",
        "# except Exception:\n",
        "#     dataset = bigquery.Dataset(dataset_ref)\n",
        "#     dataset.location = \"US\"\n",
        "#     client.create_dataset(dataset, timeout=30)\n",
        "#     print(f\"📦 Created dataset {DATASET_ID}\")\n",
        "\n",
        "# # Step 3: Define schema\n",
        "# schema = [\n",
        "#     bigquery.SchemaField(\"filename\", \"STRING\"),\n",
        "#     bigquery.SchemaField(\"uri\", \"STRING\"),\n",
        "# ]\n",
        "\n",
        "# # Step 4: Prepare rows\n",
        "# rows = [{\"filename\": name, \"uri\": link} for name, link in pdf_files]\n",
        "\n",
        "# # Step 5: Load into BigQuery\n",
        "# job_config = bigquery.LoadJobConfig(schema=schema, write_disposition=\"WRITE_TRUNCATE\")\n",
        "# table_ref = f\"{PROJECT_ID}.{DATASET_ID}.{TABLE_ID}\"\n",
        "\n",
        "# job = client.load_table_from_json(rows, table_ref, job_config=job_config)\n",
        "# job.result()\n",
        "\n",
        "# print(f\"✅ Table {table_ref} created/updated with {len(pdf_files)} GitHub files\")\n"
      ],
      "metadata": {
        "id": "xNskNaElWO_1"
      },
      "id": "xNskNaElWO_1",
      "execution_count": null,
      "outputs": []
    }
  ],
  "metadata": {
    "language_info": {
      "name": "python"
    },
    "colab": {
      "provenance": []
    },
    "kernelspec": {
      "name": "python3",
      "display_name": "Python 3"
    }
  },
  "nbformat": 4,
  "nbformat_minor": 5
}